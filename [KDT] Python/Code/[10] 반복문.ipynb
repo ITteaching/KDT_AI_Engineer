{
 "cells": [
  {
   "cell_type": "markdown",
   "metadata": {},
   "source": [
    "# [실습 1 : 5 ~ 6p]\n",
    "\n",
    "## 01. while 문\n",
    "\n",
    "### 1) while 기본구문\n",
    "\n",
    "* while 반복문 : 기본 구문 (1에서 5까지 출력)"
   ]
  },
  {
   "cell_type": "code",
   "execution_count": null,
   "metadata": {},
   "outputs": [],
   "source": [
    "value = 1\n",
    "\n",
    "while value <= 5:\n",
    "    print(value)\n",
    "    value += 1"
   ]
  },
  {
   "cell_type": "markdown",
   "metadata": {},
   "source": [
    "* while 반복문 : 기본 구문 (1에서 10까지의 숫자 중에서 홀수만 출력)"
   ]
  },
  {
   "cell_type": "code",
   "execution_count": null,
   "metadata": {},
   "outputs": [],
   "source": [
    "a = 0\n",
    "\n",
    "while a < 10:\n",
    "    a = a + 1\n",
    "    if a % 2 == 1:\n",
    "        print(a)"
   ]
  },
  {
   "cell_type": "markdown",
   "metadata": {},
   "source": [
    "* while 반복문 : 1에서 100까지 더하기, 10의 배수인 경우 value와 sum값 출력하기"
   ]
  },
  {
   "cell_type": "code",
   "execution_count": null,
   "metadata": {},
   "outputs": [],
   "source": [
    "# 1에서 100까지 더하기\n",
    "# 변수 선언 : value = 1, sum = 0\n",
    "# value가 10의 배수인 경우 그때까지의 sum 출력\n",
    "# 100까지 더한 sum 출력\n",
    "\n",
    "value = 1\n",
    "sum = 0\n",
    "\n",
    "while value <= 100:\n",
    "    \n",
    "    sum = sum + value    \n",
    "    \n",
    "    if value % 10 == 0:\n",
    "        print(value, \":\", sum)\n",
    "        \n",
    "    value += 1\n",
    "    \n",
    "print(sum)    "
   ]
  },
  {
   "cell_type": "markdown",
   "metadata": {},
   "source": [
    "* 여러 선택지에서 해당 선택지가 나오기 전까지 구동하는 무한 루프 예제"
   ]
  },
  {
   "cell_type": "code",
   "execution_count": null,
   "metadata": {},
   "outputs": [],
   "source": [
    "# 사용자로부터 1~4까지를 입력받기\n",
    "# 입력 메세지 \n",
    "\"\"\" 1. Add\n",
    " 2. Del\n",
    " 3. List\n",
    " 4. Quit\n",
    " Enter number : \n",
    "\"\"\"\n",
    "# 조건 : 4가 입력될때까지 계속 반복, 4 입력되면 종료 (종료시 \"종료\" 출력)\n",
    "\n",
    "prompt = \"\"\" 1. Add\n",
    " 2. Del\n",
    " 3. List\n",
    " 4. Quit\n",
    " Enter number : \"\"\"\n",
    "\n",
    "num = 0\n",
    "\n",
    "while num != 4:\n",
    "    num = int(input(prompt))\n",
    "    \n",
    "print(\"종료\")"
   ]
  },
  {
   "cell_type": "markdown",
   "metadata": {},
   "source": [
    "# [실습 2 : 7 ~ 8p]\n",
    "\n",
    "## 02. for 문\n",
    "\n",
    "### 1) for 기본구문\n",
    "\n",
    "* for 반복문 기본 예제 : list"
   ]
  },
  {
   "cell_type": "code",
   "execution_count": null,
   "metadata": {},
   "outputs": [],
   "source": [
    "# 설명문) 1) list_a 안에 a,b,c 저장 \n",
    "#         2) 제어변수에 i로 설정\n",
    "#         3) 명령문에 i 출력\n",
    "\n",
    "list_a = ['a', 'b', 'c']\n",
    "for i in list_a:\n",
    "    print(i)\n",
    "\n",
    "# i 제어변수는 사전에 선언하지 않아도 for 문 구동시 자동으로 선언됨\n",
    "# i 변수는 마지막 값을 가지고 있음"
   ]
  },
  {
   "cell_type": "markdown",
   "metadata": {},
   "source": [
    "* for 반복문 기본 예제 : set"
   ]
  },
  {
   "cell_type": "code",
   "execution_count": null,
   "metadata": {},
   "outputs": [],
   "source": [
    "# 설명문) 위 예제의 set_a를 set로 선언하여 동일하게 수행\n",
    "\n",
    "set_a = {'a', 'b', 'c'}\n",
    "for i in set_a:\n",
    "    print(i)\n",
    "\n",
    "# 집합은 순서가 없기 때문에 무작위 출력됨"
   ]
  },
  {
   "cell_type": "markdown",
   "metadata": {},
   "source": [
    "* for 반복문 기본 예제 : 반복 수행만 하는 경우"
   ]
  },
  {
   "cell_type": "code",
   "execution_count": null,
   "metadata": {},
   "outputs": [],
   "source": [
    "# 설명문) 1) list_a 안에 a,b,c 저장 \n",
    "#         2) for문 생성 : 제어변수를 i로 설정, 컬렉션 list_a 사용\n",
    "#         3) 첫번째 수행문장 \"hi\" 출력\n",
    "#         4) 두번째 수행문장 \"helloi\" 출력\n",
    "\n",
    "\n",
    "list_a = ['a', 'b', 'c']\n",
    "for i in list_a:\n",
    "    print(\"hi\")\n",
    "    print(\"hello\")\n",
    "\n",
    "# 리스트의 요소 갯수만큼 반복해서 수행됨"
   ]
  },
  {
   "cell_type": "markdown",
   "metadata": {},
   "source": [
    "* for 반복문 기본 예제 : 튜플을 요소로 갖는 리스트"
   ]
  },
  {
   "cell_type": "code",
   "execution_count": null,
   "metadata": {},
   "outputs": [],
   "source": [
    "# 예제) for 반복문 기본 예제 (튜플을 요소로 갖는 리스트 예제)\n",
    "# 설명문) 1) list_a 안에 (1,2),(3,4,),(5,6) 저장 \n",
    "#         2) for문 생성 : 제어변수를 a,b로, 컬렉션 list_a 사용\n",
    "#         3) 수행할 문장에는 더한 값 출력\n",
    "\n",
    "list_a = [(1, 2), (3, 4), (5, 6)]\n",
    "\n",
    "for (a, b) in list_a:\n",
    "    print(a + b)"
   ]
  },
  {
   "cell_type": "markdown",
   "metadata": {},
   "source": [
    "* for 반복문 기본 예제 : for + if 문"
   ]
  },
  {
   "cell_type": "code",
   "execution_count": null,
   "metadata": {},
   "outputs": [],
   "source": [
    "# 설명문) 1) 5명의 학생 시험 점수를 list_point 리스트에 저장 : 45, 65, 75, 55, 85\n",
    "#         2) 시험 점수가 60점 이상이면 합격, 미만이면 불합격 출력하기\n",
    "\n",
    "list_point = [45, 65, 75, 55, 85]\n",
    "number = 0\n",
    "\n",
    "for point in list_point:\n",
    "    number += 1\n",
    "    if point >= 60:\n",
    "        print(\"%d번 학생 %d점 합격\" % (number,point))\n",
    "    else:\n",
    "        print(\"%d번 학생 %d점 불합격\" % (number,point))"
   ]
  },
  {
   "cell_type": "markdown",
   "metadata": {},
   "source": [
    "* for 반복문 기본 예제 : 딕셔너리 key, value 출력"
   ]
  },
  {
   "cell_type": "code",
   "execution_count": null,
   "metadata": {},
   "outputs": [],
   "source": [
    "dict_a = {'fruit':'apple', 'int_num':10, 'float_num':3.5, 'gubun':True}\n",
    "\n",
    "for key, value in dict_a.items():\n",
    "    print(key, value)"
   ]
  },
  {
   "cell_type": "markdown",
   "metadata": {},
   "source": [
    "# [실습 3 : 9 ~ 12]\n",
    "\n",
    "## 03. continue\n",
    "\n",
    "* continue 기본 예제 : 5명 시험점수 활용"
   ]
  },
  {
   "cell_type": "code",
   "execution_count": null,
   "metadata": {},
   "outputs": [],
   "source": [
    "# 설명문)\n",
    "# points에 45, 65, 75, 55, 85 요소를 갖는 리스트 생성\n",
    "# num : 학생번호\n",
    "# 반복문으로 for문 사용, 제어변수는 point 사용\n",
    "# 60점 이상인 학생에게는 \"00번 학생 00점으로 합격입니다.\" 메세지 출력\n",
    "# 합격이 아닌 학생에게는 어떤 메세지도 없도록 하기 위해 continue 사용\n",
    "\n",
    "points = [45, 65, 75, 55, 85]\n",
    "number = 0\n",
    "\n",
    "for point in points:\n",
    "    number += 1\n",
    "    \n",
    "    if point < 60:\n",
    "        continue\n",
    "    \n",
    "    print(\"%d번 학생 %d점 합격\" % (number,point))"
   ]
  },
  {
   "cell_type": "markdown",
   "metadata": {},
   "source": [
    "* 0~10의 숫자 중 홀수인 경우에 합산, 짝수인 경우 continue"
   ]
  },
  {
   "cell_type": "code",
   "execution_count": null,
   "metadata": {},
   "outputs": [],
   "source": [
    "# 설명문) 1에서 10까지의 숫자 중에 짝수(2로 나누어서 0이 되면) pass하고,\n",
    "#        홀수(0이 아니면) 합산 수행\n",
    "\n",
    "sum = 0    \n",
    "\n",
    "for value in [1,2,3,4,5,6,7,8,9,10]:\n",
    "    \n",
    "    if value % 2 == 0:\n",
    "        continue\n",
    "        \n",
    "    sum += value     \n",
    "    \n",
    "print(value, sum)        "
   ]
  },
  {
   "cell_type": "markdown",
   "metadata": {},
   "source": [
    "## 04. break\n",
    "\n",
    "*  while문 강제로 빠져나가기(break) : 1에서 100까지 합산의 경우 sum한 값이 100보다 큰 경우 break"
   ]
  },
  {
   "cell_type": "code",
   "execution_count": null,
   "metadata": {},
   "outputs": [],
   "source": [
    "number = 1\n",
    "sum = 0\n",
    "\n",
    "while number <= 100:\n",
    "    \n",
    "    sum += number\n",
    "    \n",
    "    if sum >= 100:\n",
    "        break\n",
    "        \n",
    "    number += 1\n",
    "\n",
    "print(number, sum) "
   ]
  },
  {
   "cell_type": "markdown",
   "metadata": {},
   "source": [
    "* while문 강제로 빠져나가기(break) : 커피 자판기"
   ]
  },
  {
   "cell_type": "code",
   "execution_count": null,
   "metadata": {},
   "outputs": [],
   "source": [
    "# 커피 자판기\n",
    "# 커피 재료가 10잔이 있고 돈은 300원이 있음\n",
    "# 커피 한잔당 10원 : 1잔 뽑을때 300원에서 10원을 빼줌\n",
    "\n",
    "# 남은 돈은 290원입니다. 출력\n",
    "# 커피를 제공합니다. 출력\n",
    "# 남은 커피는 9잔 입니다. 출력\n",
    "\n",
    "# 커피가 모두 소진되면 \"커피가 다 떨어졌습니다. 판매를 중지합니다.\" 출력하고 break\n",
    "# 돈이 다 떨어지면 \"돈이 다 떨어졌습니다. 판매를 중지합니다.\" 출력하고 break\n",
    "\n",
    "coffee = 10\n",
    "money = 300\n",
    "\n",
    "while True:\n",
    "    money = money - 10\n",
    "    coffee = coffee -1\n",
    "    if coffee < 0:\n",
    "        print(\"커피가 다 떨어졌습니다. 판매를 중지합니다.\")\n",
    "        break\n",
    "    if money < 0:\n",
    "        print(\"돈이 다 떨어졌습니다. 판매를 중지합니다.\")\n",
    "        break  \n",
    "    print(\"남은 돈은 %d 입니다.\" % money)\n",
    "    print(\"커피를 제공합니다.\")\n",
    "    print(\"남은 커피는 %d 입니다.\" % coffee)\n",
    "        "
   ]
  },
  {
   "cell_type": "markdown",
   "metadata": {},
   "source": [
    "* while문과 for문을 활용한 1에서 9까지 출력하기"
   ]
  },
  {
   "cell_type": "code",
   "execution_count": null,
   "metadata": {},
   "outputs": [],
   "source": [
    "num = 0\n",
    "while num < 9:\n",
    "    num = num + 1\n",
    "    print(\"%d\" % num)\n",
    "    \n",
    "for num in [1,2,3,4,5,6,7,8,9]:    \n",
    "    print(\"%d\" % num)   \n",
    "    \n",
    "for num in range(1,10):\n",
    "    print(\"%d\" % num)   "
   ]
  },
  {
   "cell_type": "markdown",
   "metadata": {},
   "source": [
    "# [실습 4 : 13 ~ 14]\n",
    "\n",
    "## 05. range 함수\n",
    "\n",
    "* end 값만 존재"
   ]
  },
  {
   "cell_type": "code",
   "execution_count": null,
   "metadata": {},
   "outputs": [],
   "source": [
    "# 설명문) a 변수에 range 함수를 사용하여 0 ~ 9 까지 저장\n",
    "#         a 변수 출력\n",
    "#         a 변수를 리스트화하여 출력\n",
    "\n",
    "a = range(10)\n",
    "print(a)\n",
    "print(list(a))"
   ]
  },
  {
   "cell_type": "markdown",
   "metadata": {},
   "source": [
    "* start, end 값 존재"
   ]
  },
  {
   "cell_type": "code",
   "execution_count": null,
   "metadata": {},
   "outputs": [],
   "source": [
    "# 설명문) a 변수에 range 함수를 사용하여 1 ~ 10 까지 저장\n",
    "#         a 변수 출력\n",
    "#         a 변수를 리스트화하여 출력\n",
    "\n",
    "a = range(1,11)\n",
    "print(a)\n",
    "print(list(a))"
   ]
  },
  {
   "cell_type": "markdown",
   "metadata": {},
   "source": [
    "* start, end, step 값 존재"
   ]
  },
  {
   "cell_type": "code",
   "execution_count": null,
   "metadata": {},
   "outputs": [],
   "source": [
    "a = range(3,10,2)\n",
    "print(a)\n",
    "print(list(a))"
   ]
  },
  {
   "cell_type": "markdown",
   "metadata": {},
   "source": [
    "* start, end, step 값 존재 (step이 -값)"
   ]
  },
  {
   "cell_type": "code",
   "execution_count": null,
   "metadata": {},
   "outputs": [],
   "source": [
    "a = range(10,0,-1)\n",
    "print(a)\n",
    "print(list(a))"
   ]
  },
  {
   "cell_type": "markdown",
   "metadata": {},
   "source": [
    "* list 요소 갯수만큼 생성"
   ]
  },
  {
   "cell_type": "code",
   "execution_count": null,
   "metadata": {},
   "outputs": [],
   "source": [
    "# 설명문) for ... in <컬렉션> : 컬렉션에 range 함수 활용 (0~4 -> 1~5)\n",
    "#         1) 5명의 학생 시험 점수를 리스트에 저장 : 45, 65, 75, 55, 85\n",
    "#         2) 시험 점수가 60점 이상이면 합격, 미만이면 불합격 출력하기\n",
    "\n",
    "points = [45, 65, 75, 55, 85]\n",
    "\n",
    "for number in range(len(points)):\n",
    "    if points[number] >= 60:\n",
    "        print(\"%d번 학생 %d점 합격\" % (number+1,point))\n",
    "        "
   ]
  },
  {
   "cell_type": "markdown",
   "metadata": {},
   "source": [
    "* range 함수를 이용한 for 반복문"
   ]
  },
  {
   "cell_type": "code",
   "execution_count": 1,
   "metadata": {},
   "outputs": [
    {
     "name": "stdout",
     "output_type": "stream",
     "text": [
      "2500 2550 5050\n"
     ]
    }
   ],
   "source": [
    "# range함수 이용한 for문 생성 : 1에서 100까지\n",
    "# 홀수 합계 : num1, 짝수 합계 출력 : num2, 전체 합계 출력 : num\n",
    "\n",
    "sum = 0\n",
    "num1 = 0\n",
    "num2 = 0\n",
    "for i in range(1,101):\n",
    "    if i%2 == 0:\n",
    "        num2 += i\n",
    "    else:\n",
    "        num1 += i\n",
    "    sum += i\n",
    "\n",
    "print(num1, num2, sum)"
   ]
  },
  {
   "cell_type": "markdown",
   "metadata": {},
   "source": [
    "* for, range 함수를 이용한 삼각형 모양 그리기"
   ]
  },
  {
   "cell_type": "code",
   "execution_count": null,
   "metadata": {},
   "outputs": [],
   "source": [
    "# 삼각형 모양 그리기 : 10개까지\n",
    "# *\n",
    "# **\n",
    "# ***\n",
    "# **********\n",
    "\n",
    "for i in range(1, 11):\n",
    "    print(\"*\" * i)"
   ]
  },
  {
   "cell_type": "markdown",
   "metadata": {},
   "source": [
    "* for, range 함수를 이용한 역삼각형 모양 그리기"
   ]
  },
  {
   "cell_type": "code",
   "execution_count": 2,
   "metadata": {},
   "outputs": [
    {
     "name": "stdout",
     "output_type": "stream",
     "text": [
      "           \n",
      "          +\n",
      "         ++\n",
      "        +++\n",
      "       ++++\n",
      "      +++++\n",
      "     ++++++\n",
      "    +++++++\n",
      "   ++++++++\n",
      "  +++++++++\n"
     ]
    }
   ],
   "source": [
    "# 역삼각형 모양 그리기 : 10개까지\n",
    "#          *\n",
    "#         **\n",
    "#        ***\n",
    "# **********\n",
    "\n",
    "for i in range(1, 11):\n",
    "    print(\" \" * (10-i), \"*\"*i)"
   ]
  },
  {
   "cell_type": "markdown",
   "metadata": {},
   "source": [
    "# [실습 5 : 15p]\n",
    "\n",
    "## 06. 이중 루프\n",
    "\n",
    "* 구구단"
   ]
  },
  {
   "cell_type": "code",
   "execution_count": null,
   "metadata": {},
   "outputs": [],
   "source": [
    "# 2단 각각 출력하기\n",
    "# 2 * 1 = 2\n",
    "# 2 * 2 = 4\n",
    "# 2 * 9 = 18\n",
    "\n",
    "print(\"2 * 1 = 2\")\n",
    "print(\"2 * 2 = 4\")\n",
    "print(\"2 * 9 = 18\")\n",
    "\n",
    "print(\"2 * %d = %d\" %(1, 2*1))\n",
    "print(\"2 * %d = %d\" %(2, 2*2))\n",
    "print(\"2 * %d = %d\" %(3, 2*3))\n",
    "print(\"2 * %d = %d\" %(4, 2*4))\n",
    "print(\"2 * %d = %d\" %(5, 2*5))\n",
    "print(\"2 * %d = %d\" %(6, 2*6))\n",
    "print(\"2 * %d = %d\" %(7, 2*7))\n",
    "print(\"2 * %d = %d\" %(8, 2*8))\n",
    "print(\"2 * %d = %d\" %(9, 2*9))"
   ]
  },
  {
   "cell_type": "code",
   "execution_count": null,
   "metadata": {},
   "outputs": [],
   "source": [
    "# 2단\n",
    "\n",
    "for j in range(1,10):\n",
    "    print(\"2 * %d = %d\" %(j, 2*j))"
   ]
  },
  {
   "cell_type": "code",
   "execution_count": null,
   "metadata": {},
   "outputs": [],
   "source": [
    "# 3단\n",
    "\n",
    "for j in range(1,10):\n",
    "    print(\"3 * %d = %d\" %(j, 3*j))"
   ]
  },
  {
   "cell_type": "code",
   "execution_count": null,
   "metadata": {},
   "outputs": [],
   "source": [
    "# 9단\n",
    "\n",
    "for j in range(1,10):\n",
    "    print(\"9 * %d = %d\" %(j, 9*j))"
   ]
  },
  {
   "cell_type": "code",
   "execution_count": null,
   "metadata": {},
   "outputs": [],
   "source": [
    "for i in range(2, 10):\n",
    "    for j in range(1, 10):\n",
    "        print(\"%d * %d = %d\" %(i, j, i*j))"
   ]
  },
  {
   "cell_type": "code",
   "execution_count": null,
   "metadata": {},
   "outputs": [],
   "source": [
    "# 참고) 역삼각형 모양 그리기 : 이중루프 활용\n",
    "\n",
    "for i in range(10):\n",
    "    for j in range(9-i):\n",
    "        print(' ',end='')\n",
    "    print(\"+\" * i)   "
   ]
  },
  {
   "cell_type": "markdown",
   "metadata": {},
   "source": [
    "# [실습 6 : 16 ~ 17p]\n",
    "\n",
    "## 07. 리스트 컴프리헨션\n",
    "\n",
    "* for문으로 리스트에 3을 곱해 새로운 리스트 생성하기"
   ]
  },
  {
   "cell_type": "code",
   "execution_count": null,
   "metadata": {},
   "outputs": [],
   "source": [
    "# 설명문) a 변수에 리스트 [1, 2, 3, 4, 5] 저장\n",
    "#         result 빈 리스트 생성\n",
    "#         for 문으로 a 리스트의 요소에 5를 곱한 결과를 result에 추가\n",
    "#         result 출력\n",
    "\n",
    "list_a = [1, 2, 3, 4, 5]\n",
    "list_b = list()\n",
    "\n",
    "for num in list_a:\n",
    "    num *= 3\n",
    "    list_b.append(num)\n",
    "    \n",
    "print(list_b)"
   ]
  },
  {
   "cell_type": "markdown",
   "metadata": {},
   "source": [
    "* 리스트 컴프리헨션으로 리스트에 3을 곱해 새로운 리스트 생성하기"
   ]
  },
  {
   "cell_type": "code",
   "execution_count": null,
   "metadata": {},
   "outputs": [],
   "source": [
    "list_a = [1, 2, 3, 4, 5]\n",
    "list_b = [num * 3 for num in list_a]\n",
    "\n",
    "print(list_b)"
   ]
  },
  {
   "cell_type": "markdown",
   "metadata": {},
   "source": [
    "* 리스트 컴프리헨션에 if문 포함"
   ]
  },
  {
   "cell_type": "code",
   "execution_count": null,
   "metadata": {},
   "outputs": [],
   "source": [
    "# 리스트 요소 값이 짝수인 경우 3을 곱해서 출력\n",
    "\n",
    "list_a = [1, 2, 3, 4, 5]\n",
    "list_b = [num * 3 for num in list_a if num % 2 == 0]\n",
    "print(list_b)\n",
    "\n",
    "# if 문이 for 문 뒤에 위치"
   ]
  },
  {
   "cell_type": "markdown",
   "metadata": {},
   "source": [
    "* 리스트 컴프리헨션에 if문과 else 포함"
   ]
  },
  {
   "cell_type": "code",
   "execution_count": null,
   "metadata": {},
   "outputs": [],
   "source": [
    "# 리스트 요소 값이 2보다 크면 요소 값에 3을 곱하고, 아니면 0을 대입하여 출력\n",
    "\n",
    "list_a = [1, 2, 3, 4, 5]\n",
    "list_b = [num * 3 if num > 2 else 0 for num in list_a]\n",
    "print(list_b)\n",
    "\n",
    "# if ~ else 문이 for 문 앞에 위치"
   ]
  }
 ],
 "metadata": {
  "kernelspec": {
   "display_name": "Python 3 (ipykernel)",
   "language": "python",
   "name": "python3"
  },
  "language_info": {
   "codemirror_mode": {
    "name": "ipython",
    "version": 3
   },
   "file_extension": ".py",
   "mimetype": "text/x-python",
   "name": "python",
   "nbconvert_exporter": "python",
   "pygments_lexer": "ipython3",
   "version": "3.9.10"
  }
 },
 "nbformat": 4,
 "nbformat_minor": 2
}
