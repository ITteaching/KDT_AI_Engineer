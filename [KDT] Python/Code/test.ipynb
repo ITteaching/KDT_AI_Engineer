{
 "cells": [
  {
   "cell_type": "markdown",
   "id": "4349b493",
   "metadata": {},
   "source": [
    "# 1. 예외 처리"
   ]
  },
  {
   "cell_type": "code",
   "execution_count": null,
   "id": "6570edd9",
   "metadata": {},
   "outputs": [],
   "source": [
    "# 예외처리 미적용\n",
    "\n",
    "a = 10\n",
    "b = 0\n",
    "\n",
    "c = a / b\n"
   ]
  },
  {
   "cell_type": "code",
   "execution_count": null,
   "id": "cdd73cb4",
   "metadata": {},
   "outputs": [],
   "source": [
    "# 예외처리 적용\n",
    "\n",
    "try:\n",
    "    a = 10\n",
    "    b = int(input(\"나눌 숫자를 입력하세요.\"))\n",
    "\n",
    "    c = a / b\n",
    "except:\n",
    "    print(\"오류 발생하였으니 다시 입력하세요\")\n",
    "    "
   ]
  },
  {
   "cell_type": "markdown",
   "id": "8dbe92a7",
   "metadata": {},
   "source": [
    "### 2) 예외 종류별 예외처리"
   ]
  },
  {
   "cell_type": "code",
   "execution_count": null,
   "id": "921cd399",
   "metadata": {},
   "outputs": [],
   "source": [
    "# ZeroDivision Error\n",
    "try:\n",
    "    a = 10\n",
    "    b = int(input(\"나눌 숫자를 입력하세요.\"))\n",
    "    c = a / b\n",
    "except ZeroDivisionError:\n",
    "    print(\"0 이외의 숫자를 입력하세요\")"
   ]
  },
  {
   "cell_type": "code",
   "execution_count": null,
   "id": "002b9a03",
   "metadata": {},
   "outputs": [],
   "source": [
    "# NameError\n",
    "try:\n",
    "    a = 10\n",
    "    print(aa)\n",
    "except NameError:    \n",
    "    print(\"변수를 초기화해주세요\")"
   ]
  },
  {
   "cell_type": "code",
   "execution_count": null,
   "id": "0d60e419",
   "metadata": {},
   "outputs": [],
   "source": [
    "# ValueError\n",
    "try:\n",
    "    b = int(\"a\")\n",
    "except ValueError:\n",
    "    print(\"값의 형식이 맞지 않습니다.\")"
   ]
  },
  {
   "cell_type": "code",
   "execution_count": null,
   "id": "53b59829",
   "metadata": {},
   "outputs": [],
   "source": [
    "# IndexError\n",
    "a = \"abc\"\n",
    "\n",
    "try:\n",
    "    print(a[3])\n",
    "except IndexError:\n",
    "    print(\"인덱스 범위를 벗어났습니다.\")\n"
   ]
  },
  {
   "cell_type": "code",
   "execution_count": null,
   "id": "d28d9e4e",
   "metadata": {},
   "outputs": [],
   "source": [
    "# TypeError\n",
    "\n",
    "a = 1\n",
    "b = \"abc\"\n",
    "\n",
    "try:\n",
    "    c = a + b\n",
    "except TypeError:\n",
    "    print(\"타입을 맞춰주세요\")"
   ]
  },
  {
   "cell_type": "code",
   "execution_count": null,
   "id": "4bc0d570",
   "metadata": {},
   "outputs": [],
   "source": [
    "dir(Exception)"
   ]
  },
  {
   "cell_type": "markdown",
   "id": "6dd1388c",
   "metadata": {},
   "source": [
    "### 3) 발생 오류 메세지 변수 포함"
   ]
  },
  {
   "cell_type": "code",
   "execution_count": 4,
   "id": "73473181",
   "metadata": {},
   "outputs": [
    {
     "name": "stdout",
     "output_type": "stream",
     "text": [
      "오류발생 :  division by zero\n",
      "파일 close\n"
     ]
    }
   ],
   "source": [
    "try:\n",
    "    f = open(\"abc.txt\", \"w\")\n",
    "    c = 10 / 0\n",
    "    f.write(str(c))\n",
    "except ZeroDivisionError as e:\n",
    "    print(\"오류발생 : \", e)\n",
    "finally:    \n",
    "    f.close()\n",
    "    print(\"파일 close\")"
   ]
  },
  {
   "cell_type": "markdown",
   "id": "168c0bb2",
   "metadata": {},
   "source": [
    "### 4) 여러 개 오류 처리"
   ]
  },
  {
   "cell_type": "code",
   "execution_count": 7,
   "id": "2b772861",
   "metadata": {},
   "outputs": [
    {
     "name": "stdout",
     "output_type": "stream",
     "text": [
      "오류발생 :  name 'z' is not defined\n",
      "1\n"
     ]
    }
   ],
   "source": [
    "try:\n",
    "    c = [1, 2]\n",
    "    print(z)\n",
    "    print(c[2])\n",
    "except IndexError as e1:\n",
    "    print(\"오류발생 : \", e1)\n",
    "except NameError as e2:   \n",
    "    print(\"오류발생 : \", e2)\n",
    "    \n",
    "print(1)    "
   ]
  },
  {
   "cell_type": "code",
   "execution_count": 9,
   "id": "e2841ac4",
   "metadata": {},
   "outputs": [
    {
     "name": "stdout",
     "output_type": "stream",
     "text": [
      "오류발생 :  list index out of range\n"
     ]
    }
   ],
   "source": [
    "try:\n",
    "    c = [1, 2]\n",
    "    print(c[2])\n",
    "    print(z)    \n",
    "except (IndexError, NameError) as e1:\n",
    "    print(\"오류발생 : \", e1)"
   ]
  },
  {
   "cell_type": "markdown",
   "id": "f7020908",
   "metadata": {},
   "source": [
    "# 2. 예외 회피 / 발생"
   ]
  },
  {
   "cell_type": "markdown",
   "id": "c272c50d",
   "metadata": {},
   "source": [
    "### 1) 예외 회피"
   ]
  },
  {
   "cell_type": "code",
   "execution_count": 10,
   "id": "52a1ae65",
   "metadata": {},
   "outputs": [
    {
     "name": "stdout",
     "output_type": "stream",
     "text": [
      "a\n"
     ]
    }
   ],
   "source": [
    "try:\n",
    "    f = open(\"abc2222.txt\", \"r\")\n",
    "    content = f.read()\n",
    "    print(content)\n",
    "except FileNotFoundError:\n",
    "    pass\n",
    "\n",
    "print(\"a\")"
   ]
  },
  {
   "cell_type": "markdown",
   "id": "e6856006",
   "metadata": {},
   "source": [
    "### 2) 예외 발생"
   ]
  },
  {
   "cell_type": "code",
   "execution_count": 14,
   "id": "2381be74",
   "metadata": {},
   "outputs": [
    {
     "ename": "NotImplementedError",
     "evalue": "",
     "output_type": "error",
     "traceback": [
      "\u001b[1;31m----------------------------------------------------------------\u001b[0m",
      "\u001b[1;31mNotImplementedError\u001b[0m            Traceback (most recent call last)",
      "Input \u001b[1;32mIn [14]\u001b[0m, in \u001b[0;36m<cell line: 9>\u001b[1;34m()\u001b[0m\n\u001b[0;32m      6\u001b[0m     \u001b[38;5;28;01mpass\u001b[39;00m\n\u001b[0;32m      8\u001b[0m clubmember \u001b[38;5;241m=\u001b[39m ClubMember()\n\u001b[1;32m----> 9\u001b[0m \u001b[43mclubmember\u001b[49m\u001b[38;5;241;43m.\u001b[39;49m\u001b[43mset_data\u001b[49m\u001b[43m(\u001b[49m\u001b[43m)\u001b[49m\n",
      "Input \u001b[1;32mIn [14]\u001b[0m, in \u001b[0;36mPerson.set_data\u001b[1;34m(self)\u001b[0m\n\u001b[0;32m      2\u001b[0m \u001b[38;5;28;01mdef\u001b[39;00m \u001b[38;5;21mset_data\u001b[39m(\u001b[38;5;28mself\u001b[39m):\n\u001b[1;32m----> 3\u001b[0m     \u001b[38;5;28;01mraise\u001b[39;00m \u001b[38;5;167;01mNotImplementedError\u001b[39;00m\n",
      "\u001b[1;31mNotImplementedError\u001b[0m: "
     ]
    }
   ],
   "source": [
    "class Person:\n",
    "    def set_data(self):\n",
    "        raise NotImplementedError\n",
    "        \n",
    "class ClubMember(Person):\n",
    "    pass\n",
    "\n",
    "clubmember = ClubMember()\n",
    "clubmember.set_data()"
   ]
  },
  {
   "cell_type": "markdown",
   "id": "f4f14abf",
   "metadata": {},
   "source": [
    "### 3) 예외 만들기"
   ]
  },
  {
   "cell_type": "code",
   "execution_count": 16,
   "id": "f99c30e9",
   "metadata": {},
   "outputs": [
    {
     "name": "stdout",
     "output_type": "stream",
     "text": [
      "0을 제외한 숫자를 입력하세요 : 0\n"
     ]
    },
    {
     "ename": "CustomError",
     "evalue": "",
     "output_type": "error",
     "traceback": [
      "\u001b[1;31m----------------------------------------------------------------\u001b[0m",
      "\u001b[1;31mCustomError\u001b[0m                    Traceback (most recent call last)",
      "Input \u001b[1;32mIn [16]\u001b[0m, in \u001b[0;36m<cell line: 15>\u001b[1;34m()\u001b[0m\n\u001b[0;32m     12\u001b[0m     \u001b[38;5;28mprint\u001b[39m(a)\n\u001b[0;32m     14\u001b[0m a \u001b[38;5;241m=\u001b[39m \u001b[38;5;28mfloat\u001b[39m(\u001b[38;5;28minput\u001b[39m(\u001b[38;5;124m\"\u001b[39m\u001b[38;5;124m0을 제외한 숫자를 입력하세요 : \u001b[39m\u001b[38;5;124m\"\u001b[39m))    \n\u001b[1;32m---> 15\u001b[0m \u001b[43minput_data\u001b[49m\u001b[43m(\u001b[49m\u001b[43ma\u001b[49m\u001b[43m)\u001b[49m\n",
      "Input \u001b[1;32mIn [16]\u001b[0m, in \u001b[0;36minput_data\u001b[1;34m(a)\u001b[0m\n\u001b[0;32m      8\u001b[0m \u001b[38;5;28;01mdef\u001b[39;00m \u001b[38;5;21minput_data\u001b[39m(a):\n\u001b[0;32m      9\u001b[0m     \u001b[38;5;28;01mif\u001b[39;00m a \u001b[38;5;241m==\u001b[39m \u001b[38;5;241m0\u001b[39m :\n\u001b[1;32m---> 10\u001b[0m         \u001b[38;5;28;01mraise\u001b[39;00m CustomError\n\u001b[0;32m     12\u001b[0m     \u001b[38;5;28mprint\u001b[39m(a)\n",
      "\u001b[1;31mCustomError\u001b[0m: "
     ]
    }
   ],
   "source": [
    "# 예외 클래스 생성 : Exception 예외클래스 상속\n",
    "\n",
    "class CustomError(Exception):\n",
    "    pass\n",
    "\n",
    "# raise로 CustomError 발생\n",
    "\n",
    "def input_data(a):\n",
    "    if a == 0 :\n",
    "        raise CustomError\n",
    "        \n",
    "    print(a)\n",
    "    \n",
    "a = float(input(\"0을 제외한 숫자를 입력하세요 : \"))    \n",
    "input_data(a)    "
   ]
  },
  {
   "cell_type": "code",
   "execution_count": 19,
   "id": "b94dc976",
   "metadata": {},
   "outputs": [
    {
     "name": "stdout",
     "output_type": "stream",
     "text": [
      "0을 제외한 숫자를 입력하세요 : a\n",
      "알 수 없는 오류 발생\n"
     ]
    }
   ],
   "source": [
    "# 예외 클래스 생성 : Exception 예외클래스 상속\n",
    "\n",
    "class CustomError(Exception):\n",
    "    pass\n",
    "\n",
    "# raise로 CustomError 발생\n",
    "# 예외 처리\n",
    "\n",
    "def input_data(a):\n",
    "    if a == 0 :\n",
    "        raise CustomError\n",
    "        \n",
    "    print(a)\n",
    "\n",
    "try:  \n",
    "    a = float(input(\"0을 제외한 숫자를 입력하세요 : \"))    \n",
    "    input_data(a)   \n",
    "except CustomError:\n",
    "    print(\"0을 입력하였습니다.\")\n",
    "except:\n",
    "    print(\"알 수 없는 오류 발생\")"
   ]
  },
  {
   "cell_type": "markdown",
   "id": "a5a1bf3b",
   "metadata": {},
   "source": [
    "# 1. 파이썬 내장함수"
   ]
  },
  {
   "cell_type": "markdown",
   "id": "4086fdfe",
   "metadata": {},
   "source": [
    "* abs(x) : 입력받은 수의 절대값을 반환하는 함수"
   ]
  },
  {
   "cell_type": "code",
   "execution_count": 20,
   "id": "436f36b5",
   "metadata": {},
   "outputs": [
    {
     "name": "stdout",
     "output_type": "stream",
     "text": [
      "1\n",
      "3.5\n"
     ]
    }
   ],
   "source": [
    "# 1의 절대값과 -3.5의 절대값을 출력해보세요\n",
    "\n",
    "print(abs(1))\n",
    "\n",
    "print(abs(-3.5))"
   ]
  },
  {
   "cell_type": "markdown",
   "id": "1a6ce3e2",
   "metadata": {},
   "source": [
    "* all(iterable)\n",
    "    * iterable : list, tuple, set 등 순회가능한 객체 받음\n",
    "    * 모든 자료형의 요소가 참 : True\n",
    "    * 자료형의 하나라도 거짓이면 : False"
   ]
  },
  {
   "cell_type": "code",
   "execution_count": 22,
   "id": "2b47302a",
   "metadata": {},
   "outputs": [
    {
     "name": "stdout",
     "output_type": "stream",
     "text": [
      "False\n",
      "False\n"
     ]
    }
   ],
   "source": [
    "# [1,2,3], [True, True, False]를 all함수의 인자값으로 전달\n",
    "\n",
    "print(all([0,1,2,3]))\n",
    "print(all([True, True, False]))"
   ]
  },
  {
   "cell_type": "code",
   "execution_count": 25,
   "id": "1ad6edd6",
   "metadata": {},
   "outputs": [
    {
     "name": "stdout",
     "output_type": "stream",
     "text": [
      "True\n",
      "True\n"
     ]
    }
   ],
   "source": [
    "# [1,2,3], [True, True, False]를 any함수의 인자값으로 전달\n",
    "\n",
    "print(any([1,2,3]))\n",
    "print(any([True, True, False]))"
   ]
  },
  {
   "cell_type": "markdown",
   "id": "d0bec685",
   "metadata": {},
   "source": [
    "* chr(i) : 아스키코드(숫자)를 입력받아 문자를 출력하는 함수"
   ]
  },
  {
   "cell_type": "code",
   "execution_count": 28,
   "id": "60fb4e69",
   "metadata": {},
   "outputs": [
    {
     "name": "stdout",
     "output_type": "stream",
     "text": [
      "97\n"
     ]
    }
   ],
   "source": [
    "print(ord('a'))"
   ]
  },
  {
   "cell_type": "markdown",
   "id": "8bab3062",
   "metadata": {},
   "source": [
    "* dir(object) : 객체내 포함되어 있는 변수, 메서드 리스트 제공"
   ]
  },
  {
   "cell_type": "code",
   "execution_count": 30,
   "id": "7b7e4b4e",
   "metadata": {},
   "outputs": [
    {
     "name": "stdout",
     "output_type": "stream",
     "text": [
      "['__add__', '__class__', '__class_getitem__', '__contains__', '__delattr__', '__delitem__', '__dir__', '__doc__', '__eq__', '__format__', '__ge__', '__getattribute__', '__getitem__', '__gt__', '__hash__', '__iadd__', '__imul__', '__init__', '__init_subclass__', '__iter__', '__le__', '__len__', '__lt__', '__mul__', '__ne__', '__new__', '__reduce__', '__reduce_ex__', '__repr__', '__reversed__', '__rmul__', '__setattr__', '__setitem__', '__sizeof__', '__str__', '__subclasshook__', 'append', 'clear', 'copy', 'count', 'extend', 'index', 'insert', 'pop', 'remove', 'reverse', 'sort']\n"
     ]
    }
   ],
   "source": [
    "print(dir(list))"
   ]
  },
  {
   "cell_type": "markdown",
   "id": "79e40cc3",
   "metadata": {},
   "source": [
    "* divmod(a, b) : 2개의 숫자를 입력받아 a를 b로 나눈 몫과 나머지 튜플 형태로 반환"
   ]
  },
  {
   "cell_type": "code",
   "execution_count": 31,
   "id": "36f66165",
   "metadata": {},
   "outputs": [
    {
     "name": "stdout",
     "output_type": "stream",
     "text": [
      "(2, 1)\n"
     ]
    }
   ],
   "source": [
    "print(divmod(5,2))"
   ]
  },
  {
   "cell_type": "markdown",
   "id": "2c470cf6",
   "metadata": {},
   "source": [
    "* enumerate"
   ]
  },
  {
   "cell_type": "code",
   "execution_count": 34,
   "id": "7d373578",
   "metadata": {},
   "outputs": [
    {
     "name": "stdout",
     "output_type": "stream",
     "text": [
      "[(1, 1), (2, 2), (3, 3), (4, 4), (5, 5)]\n"
     ]
    }
   ],
   "source": [
    "print(list(enumerate([1,2,3,4,5],1)))"
   ]
  },
  {
   "cell_type": "code",
   "execution_count": 38,
   "id": "c0fedc51",
   "metadata": {},
   "outputs": [
    {
     "name": "stdout",
     "output_type": "stream",
     "text": [
      "3\n",
      "(0, 3)\n"
     ]
    }
   ],
   "source": [
    "# eval\n",
    "\n",
    "s = \"1 + 2\"\n",
    "print(eval(s))\n",
    "\n",
    "print(eval('divmod(3,4)'))"
   ]
  },
  {
   "cell_type": "code",
   "execution_count": 41,
   "id": "b2768a01",
   "metadata": {},
   "outputs": [
    {
     "name": "stdout",
     "output_type": "stream",
     "text": [
      "[2, 2, 3]\n"
     ]
    }
   ],
   "source": [
    "def positive(value):\n",
    "    return value > 0\n",
    "\n",
    "print(list(filter(positive, [-3,2,-1,0,2,3])))"
   ]
  },
  {
   "cell_type": "code",
   "execution_count": 43,
   "id": "a047c132",
   "metadata": {},
   "outputs": [
    {
     "name": "stdout",
     "output_type": "stream",
     "text": [
      "2539706739056\n",
      "2539706739056\n"
     ]
    }
   ],
   "source": [
    "a = 3\n",
    "b = a\n",
    "\n",
    "print(id(a))\n",
    "print(id(b))"
   ]
  },
  {
   "cell_type": "code",
   "execution_count": 44,
   "id": "a0cbeafa",
   "metadata": {},
   "outputs": [
    {
     "data": {
      "text/plain": [
       "3"
      ]
     },
     "execution_count": 44,
     "metadata": {},
     "output_type": "execute_result"
    }
   ],
   "source": [
    "# int\n",
    "int('3')"
   ]
  },
  {
   "cell_type": "code",
   "execution_count": 45,
   "id": "84e3d1ac",
   "metadata": {},
   "outputs": [
    {
     "name": "stdout",
     "output_type": "stream",
     "text": [
      "True\n"
     ]
    }
   ],
   "source": [
    "# isinstance\n",
    "class Person:\n",
    "    pass\n",
    "\n",
    "p = Person()\n",
    "\n",
    "print(isinstance(p,Person))"
   ]
  },
  {
   "cell_type": "code",
   "execution_count": 47,
   "id": "4ee78f85",
   "metadata": {},
   "outputs": [
    {
     "name": "stdout",
     "output_type": "stream",
     "text": [
      "5\n",
      "5\n"
     ]
    }
   ],
   "source": [
    "#len\n",
    "\n",
    "print(len(\"hello\"))\n",
    "print(len([1,2,3,4,5]))"
   ]
  },
  {
   "cell_type": "code",
   "execution_count": 48,
   "id": "2078fd60",
   "metadata": {},
   "outputs": [
    {
     "name": "stdout",
     "output_type": "stream",
     "text": [
      "['h', 'e', 'l', 'l', 'o']\n",
      "[1, 2, 3, 4, 5]\n"
     ]
    }
   ],
   "source": [
    "# list\n",
    "\n",
    "print(list(\"hello\"))\n",
    "print(list((1,2,3,4,5)))"
   ]
  },
  {
   "cell_type": "code",
   "execution_count": 50,
   "id": "18b7658a",
   "metadata": {},
   "outputs": [
    {
     "name": "stdout",
     "output_type": "stream",
     "text": [
      "[2, 4, 6, 8, 10]\n",
      "[2, 4, 6, 8, 10]\n"
     ]
    }
   ],
   "source": [
    "def two_times(value):\n",
    "    return value * 2\n",
    "\n",
    "print(list(map(two_times, [1,2,3,4,5])))\n",
    "\n",
    "print(list(map(lambda x : x * 2, [1,2,3,4,5])))"
   ]
  },
  {
   "cell_type": "code",
   "execution_count": 52,
   "id": "03630500",
   "metadata": {},
   "outputs": [
    {
     "data": {
      "text/plain": [
       "3"
      ]
     },
     "execution_count": 52,
     "metadata": {},
     "output_type": "execute_result"
    }
   ],
   "source": [
    "# max, min\n",
    "\n",
    "print(max((3,6,12,4,6,7)))\n",
    "print(min((3,6,12,4,6,7)))"
   ]
  },
  {
   "cell_type": "code",
   "execution_count": 54,
   "id": "51f06f52",
   "metadata": {},
   "outputs": [
    {
     "name": "stdout",
     "output_type": "stream",
     "text": [
      "C\n",
      "67\n"
     ]
    }
   ],
   "source": [
    "# chr, ord\n",
    "print(chr(67))\n",
    "\n",
    "print(ord('C'))"
   ]
  },
  {
   "cell_type": "code",
   "execution_count": 56,
   "id": "e33fafba",
   "metadata": {},
   "outputs": [
    {
     "name": "stdout",
     "output_type": "stream",
     "text": [
      "16\n",
      "16\n"
     ]
    }
   ],
   "source": [
    "# pow(x, y)\n",
    "\n",
    "print(pow(2, 4))\n",
    "print(2 ** 4)"
   ]
  },
  {
   "cell_type": "code",
   "execution_count": 59,
   "id": "85ece534",
   "metadata": {},
   "outputs": [
    {
     "name": "stdout",
     "output_type": "stream",
     "text": [
      "[0, 1, 2, 3, 4]\n"
     ]
    }
   ],
   "source": [
    "# range\n",
    "# 0 ~ 4까지 만들어서 리스트로 출력\n",
    "\n",
    "print(list(range(5)))"
   ]
  },
  {
   "cell_type": "code",
   "execution_count": 62,
   "id": "ea657200",
   "metadata": {},
   "outputs": [
    {
     "name": "stdout",
     "output_type": "stream",
     "text": [
      "[5, 6, 7, 8, 9, 10]\n"
     ]
    }
   ],
   "source": [
    "# 5 ~ 10까지 만들어서 리스트로 출력\n",
    "print(list(range(5,11)))"
   ]
  },
  {
   "cell_type": "code",
   "execution_count": 65,
   "id": "b4abe6f6",
   "metadata": {},
   "outputs": [
    {
     "name": "stdout",
     "output_type": "stream",
     "text": [
      "[1, 3, 5, 7, 9]\n"
     ]
    }
   ],
   "source": [
    "# 1 ~ 10까지 홀수 만들어서 리스트로 출력\n",
    "print(list(range(1,11,2)))"
   ]
  },
  {
   "cell_type": "code",
   "execution_count": 70,
   "id": "4401cae8",
   "metadata": {},
   "outputs": [
    {
     "name": "stdout",
     "output_type": "stream",
     "text": [
      "[1, 0, -1, -2, -3, -4, -5, -6, -7, -8, -9]\n"
     ]
    }
   ],
   "source": [
    "# 1 ~ -9까지의 숫자를 1의 간격으로 리스트로 출력\n",
    "print(list(range(1, -10, -1)))"
   ]
  },
  {
   "cell_type": "code",
   "execution_count": 73,
   "id": "5d1714bd",
   "metadata": {},
   "outputs": [
    {
     "name": "stdout",
     "output_type": "stream",
     "text": [
      "6\n",
      "5.6\n"
     ]
    }
   ],
   "source": [
    "# round 예제\n",
    "# 5.56 반올림\n",
    "# 5.56 소숫점 첫째자리까지 출력\n",
    "\n",
    "print(round(5.56))\n",
    "print(round(5.56, 1))"
   ]
  },
  {
   "cell_type": "code",
   "execution_count": 76,
   "id": "734d20d0",
   "metadata": {},
   "outputs": [
    {
     "name": "stdout",
     "output_type": "stream",
     "text": [
      "[1, 2, 3, 5, 6]\n",
      "['e', 'h', 'l', 'l', 'o']\n"
     ]
    }
   ],
   "source": [
    "# sorted(iterable)\n",
    "# [1,3,2,6,5] 적용\n",
    "# \"hello\"\n",
    "\n",
    "print(sorted([1,3,2,6,5]))\n",
    "print(sorted(\"hello\"))"
   ]
  },
  {
   "cell_type": "code",
   "execution_count": 79,
   "id": "59eb2b23",
   "metadata": {},
   "outputs": [
    {
     "name": "stdout",
     "output_type": "stream",
     "text": [
      "3\n",
      "<class 'str'>\n",
      "<class 'int'>\n"
     ]
    }
   ],
   "source": [
    "# str(object)\n",
    "\n",
    "print(str(3))\n",
    "print(type(str(3)))\n",
    "print(type(3))"
   ]
  },
  {
   "cell_type": "code",
   "execution_count": 83,
   "id": "6df7ce2b",
   "metadata": {},
   "outputs": [
    {
     "name": "stdout",
     "output_type": "stream",
     "text": [
      "<class 'str'>\n"
     ]
    }
   ],
   "source": [
    "# [1,2,3] 을 문자열로 변환\n",
    "\n",
    "print(type(str([1,2,3])))"
   ]
  },
  {
   "cell_type": "code",
   "execution_count": 85,
   "id": "0579bfc8",
   "metadata": {},
   "outputs": [
    {
     "name": "stdout",
     "output_type": "stream",
     "text": [
      "15\n"
     ]
    }
   ],
   "source": [
    "# sum(iterable)\n",
    "\n",
    "print(sum([1,2,3,4,5]))"
   ]
  },
  {
   "cell_type": "code",
   "execution_count": 87,
   "id": "09909e5e",
   "metadata": {},
   "outputs": [
    {
     "name": "stdout",
     "output_type": "stream",
     "text": [
      "(1, 2, 3, 4, 5)\n"
     ]
    }
   ],
   "source": [
    "# tuple(iterable)\n",
    "\n",
    "print(tuple([1,2,3,4,5]))"
   ]
  },
  {
   "cell_type": "code",
   "execution_count": 92,
   "id": "63eb0d45",
   "metadata": {},
   "outputs": [
    {
     "name": "stdout",
     "output_type": "stream",
     "text": [
      "[(1, 4), (2, 5), (3, 6)]\n",
      "[(1, 4, 7), (2, 5, 8), (3, 6, 9)]\n",
      "[('a', 'd'), ('b', 'e'), ('c', 'f')]\n"
     ]
    }
   ],
   "source": [
    "# zip\n",
    "# [1,2,3], [4,5,6] zip으로 묶기\n",
    "# [1,2,3], [4,5,6], [7,8,9] zip으로 묶기\n",
    "# 문자열 \"abc\", \"def\" zip으로 묶기\n",
    "\n",
    "print(list(zip([1,2,3],[4,5,6])))\n",
    "print(list(zip([1,2,3],[4,5,6],[7,8,9])))\n",
    "print(list(zip(\"abc\",\"def\")))"
   ]
  },
  {
   "cell_type": "markdown",
   "id": "181b3c88",
   "metadata": {},
   "source": [
    "# 1. import 구문"
   ]
  },
  {
   "cell_type": "code",
   "execution_count": 94,
   "id": "7a292293",
   "metadata": {},
   "outputs": [
    {
     "name": "stdout",
     "output_type": "stream",
     "text": [
      "125.0\n"
     ]
    }
   ],
   "source": [
    "import math\n",
    "\n",
    "print(math.pow(5,3))"
   ]
  },
  {
   "cell_type": "code",
   "execution_count": 95,
   "id": "3b0b6bb3",
   "metadata": {},
   "outputs": [
    {
     "name": "stdout",
     "output_type": "stream",
     "text": [
      "125.0\n"
     ]
    }
   ],
   "source": [
    "from math import pow\n",
    "\n",
    "print(pow(5,3))"
   ]
  },
  {
   "cell_type": "code",
   "execution_count": 96,
   "id": "8ce46d61",
   "metadata": {},
   "outputs": [
    {
     "name": "stdout",
     "output_type": "stream",
     "text": [
      "125.0\n"
     ]
    }
   ],
   "source": [
    "from math import *\n",
    "\n",
    "print(pow(5,3))"
   ]
  },
  {
   "cell_type": "code",
   "execution_count": 97,
   "id": "e9b8b38f",
   "metadata": {},
   "outputs": [
    {
     "name": "stdout",
     "output_type": "stream",
     "text": [
      "125.0\n"
     ]
    }
   ],
   "source": [
    "from math import pow as p\n",
    "\n",
    "print(p(5,3))"
   ]
  },
  {
   "cell_type": "markdown",
   "id": "4ebd4735",
   "metadata": {},
   "source": [
    "# 2. math"
   ]
  },
  {
   "cell_type": "code",
   "execution_count": 99,
   "id": "b566a71b",
   "metadata": {},
   "outputs": [
    {
     "data": {
      "text/plain": [
       "3.1622776601683795"
      ]
     },
     "execution_count": 99,
     "metadata": {},
     "output_type": "execute_result"
    }
   ],
   "source": [
    "import math\n",
    "\n",
    "# sqrt(x) : 제곱근\n",
    "\n",
    "math.sqrt(10)"
   ]
  },
  {
   "cell_type": "code",
   "execution_count": 100,
   "id": "8f46ab55",
   "metadata": {},
   "outputs": [
    {
     "data": {
      "text/plain": [
       "125.0"
      ]
     },
     "execution_count": 100,
     "metadata": {},
     "output_type": "execute_result"
    }
   ],
   "source": [
    "# pow() : 제곱\n",
    "\n",
    "math.pow(5,3)"
   ]
  },
  {
   "cell_type": "code",
   "execution_count": 101,
   "id": "87c755c3",
   "metadata": {},
   "outputs": [
    {
     "data": {
      "text/plain": [
       "120"
      ]
     },
     "execution_count": 101,
     "metadata": {},
     "output_type": "execute_result"
    }
   ],
   "source": [
    "# factorial() : 계승\n",
    "\n",
    "math.factorial(5)"
   ]
  },
  {
   "cell_type": "code",
   "execution_count": 104,
   "id": "43f49b17",
   "metadata": {},
   "outputs": [
    {
     "data": {
      "text/plain": [
       "1.2601582175503392"
      ]
     },
     "execution_count": 104,
     "metadata": {},
     "output_type": "execute_result"
    }
   ],
   "source": [
    "# sin, cos, tan : 삼각함수\n",
    "\n",
    "print(sin(0.9))\n",
    "print(cos(1.2))\n",
    "print(tan(0.9))"
   ]
  },
  {
   "cell_type": "code",
   "execution_count": null,
   "id": "5963b3e5",
   "metadata": {},
   "outputs": [],
   "source": [
    "# asin, acos, atan : 역삼각함수"
   ]
  },
  {
   "cell_type": "code",
   "execution_count": 105,
   "id": "12b7ddd0",
   "metadata": {},
   "outputs": [
    {
     "data": {
      "text/plain": [
       "21"
      ]
     },
     "execution_count": 105,
     "metadata": {},
     "output_type": "execute_result"
    }
   ],
   "source": [
    "# ceil : 올림\n",
    "\n",
    "math.ceil(20.3333)"
   ]
  },
  {
   "cell_type": "code",
   "execution_count": 106,
   "id": "43ecc6f0",
   "metadata": {},
   "outputs": [
    {
     "data": {
      "text/plain": [
       "20"
      ]
     },
     "execution_count": 106,
     "metadata": {},
     "output_type": "execute_result"
    }
   ],
   "source": [
    "# floor : 내림\n",
    "\n",
    "math.floor(20.3333)"
   ]
  },
  {
   "cell_type": "code",
   "execution_count": 107,
   "id": "8187ee72",
   "metadata": {},
   "outputs": [
    {
     "data": {
      "text/plain": [
       "20.0"
      ]
     },
     "execution_count": 107,
     "metadata": {},
     "output_type": "execute_result"
    }
   ],
   "source": [
    "# fabs : 절대값\n",
    "\n",
    "math.fabs(-20)"
   ]
  },
  {
   "cell_type": "code",
   "execution_count": 112,
   "id": "a96efdc2",
   "metadata": {},
   "outputs": [
    {
     "data": {
      "text/plain": [
       "20"
      ]
     },
     "execution_count": 112,
     "metadata": {},
     "output_type": "execute_result"
    }
   ],
   "source": [
    "# trunc : 소수점 이하 버림\n",
    "\n",
    "math.trunc(20.333)"
   ]
  },
  {
   "cell_type": "code",
   "execution_count": 113,
   "id": "08c86a32",
   "metadata": {},
   "outputs": [
    {
     "data": {
      "text/plain": [
       "2.0"
      ]
     },
     "execution_count": 113,
     "metadata": {},
     "output_type": "execute_result"
    }
   ],
   "source": [
    "# log \n",
    "\n",
    "math.log(100, 10)"
   ]
  },
  {
   "cell_type": "code",
   "execution_count": 114,
   "id": "9f13b69d",
   "metadata": {},
   "outputs": [
    {
     "data": {
      "text/plain": [
       "2.0"
      ]
     },
     "execution_count": 114,
     "metadata": {},
     "output_type": "execute_result"
    }
   ],
   "source": [
    "# log10\n",
    "\n",
    "math.log10(100)"
   ]
  },
  {
   "cell_type": "code",
   "execution_count": 118,
   "id": "c7612a37",
   "metadata": {},
   "outputs": [
    {
     "data": {
      "text/plain": [
       "3.141592653589793"
      ]
     },
     "execution_count": 118,
     "metadata": {},
     "output_type": "execute_result"
    }
   ],
   "source": [
    "# pi 상수\n",
    "\n",
    "math.pi"
   ]
  },
  {
   "cell_type": "markdown",
   "id": "f9a52b82",
   "metadata": {},
   "source": [
    "# 3. statistics"
   ]
  },
  {
   "cell_type": "code",
   "execution_count": 131,
   "id": "ecf5cf8f",
   "metadata": {},
   "outputs": [],
   "source": [
    "import statistics\n",
    "\n",
    "points = [10, 20, 30, 40, 50, 60, 70, 80, 90, 100, 50, 50, 50, 60]"
   ]
  },
  {
   "cell_type": "code",
   "execution_count": 120,
   "id": "d7f4475d",
   "metadata": {},
   "outputs": [
    {
     "data": {
      "text/plain": [
       "55"
      ]
     },
     "execution_count": 120,
     "metadata": {},
     "output_type": "execute_result"
    }
   ],
   "source": [
    "# mean() : 평균값\n",
    "\n",
    "statistics.mean(points)"
   ]
  },
  {
   "cell_type": "code",
   "execution_count": 132,
   "id": "ee7362c9",
   "metadata": {},
   "outputs": [
    {
     "data": {
      "text/plain": [
       "50.0"
      ]
     },
     "execution_count": 132,
     "metadata": {},
     "output_type": "execute_result"
    }
   ],
   "source": [
    "# median() : 중앙값\n",
    "\n",
    "statistics.median(points)"
   ]
  },
  {
   "cell_type": "code",
   "execution_count": 133,
   "id": "a4eb4546",
   "metadata": {},
   "outputs": [
    {
     "data": {
      "text/plain": [
       "50"
      ]
     },
     "execution_count": 133,
     "metadata": {},
     "output_type": "execute_result"
    }
   ],
   "source": [
    "# mode() : 최빈값\n",
    "\n",
    "statistics.mode(points)"
   ]
  },
  {
   "cell_type": "code",
   "execution_count": 134,
   "id": "3459d0a8",
   "metadata": {},
   "outputs": [
    {
     "data": {
      "text/plain": [
       "24.411439272335805"
      ]
     },
     "execution_count": 134,
     "metadata": {},
     "output_type": "execute_result"
    }
   ],
   "source": [
    "# pstdev() : 모표준편차\n",
    "\n",
    "statistics.pstdev(points)"
   ]
  },
  {
   "cell_type": "code",
   "execution_count": 135,
   "id": "b85fb816",
   "metadata": {},
   "outputs": [
    {
     "data": {
      "text/plain": [
       "25.332947751066037"
      ]
     },
     "execution_count": 135,
     "metadata": {},
     "output_type": "execute_result"
    }
   ],
   "source": [
    "# stdev() : 표준편차\n",
    "\n",
    "statistics.stdev(points)"
   ]
  },
  {
   "cell_type": "code",
   "execution_count": 136,
   "id": "439f45da",
   "metadata": {},
   "outputs": [
    {
     "data": {
      "text/plain": [
       "641.7582417582418"
      ]
     },
     "execution_count": 136,
     "metadata": {},
     "output_type": "execute_result"
    }
   ],
   "source": [
    "# variance() : 분산\n",
    "\n",
    "statistics.variance(points)"
   ]
  },
  {
   "cell_type": "markdown",
   "id": "e68a8601",
   "metadata": {},
   "source": [
    "# 4. time"
   ]
  },
  {
   "cell_type": "code",
   "execution_count": 139,
   "id": "4b4995c0",
   "metadata": {},
   "outputs": [],
   "source": [
    "import time"
   ]
  },
  {
   "cell_type": "code",
   "execution_count": 141,
   "id": "5092b8ea",
   "metadata": {},
   "outputs": [
    {
     "data": {
      "text/plain": [
       "1665550463.746353"
      ]
     },
     "execution_count": 141,
     "metadata": {},
     "output_type": "execute_result"
    }
   ],
   "source": [
    "time.time()"
   ]
  },
  {
   "cell_type": "code",
   "execution_count": 143,
   "id": "da365a70",
   "metadata": {},
   "outputs": [
    {
     "name": "stdout",
     "output_type": "stream",
     "text": [
      "Wed Oct 12 13:55:14 2022\n",
      "Wed Oct 12 13:54:23 2022\n"
     ]
    }
   ],
   "source": [
    "# ctime : 날짜, 시간 문자열로 리턴\n",
    "\n",
    "print(time.ctime())\n",
    "\n",
    "print(time.ctime(1665550463.746353))"
   ]
  },
  {
   "cell_type": "code",
   "execution_count": 153,
   "id": "d56c9d0e",
   "metadata": {},
   "outputs": [
    {
     "name": "stdout",
     "output_type": "stream",
     "text": [
      "time.struct_time(tm_year=2022, tm_mon=10, tm_mday=12, tm_hour=13, tm_min=59, tm_sec=13, tm_wday=2, tm_yday=285, tm_isdst=0)\n",
      "2022\n",
      "10\n",
      "12\n",
      "2022년 10월 12일에\n",
      "time.struct_time(tm_year=2022, tm_mon=10, tm_mday=12, tm_hour=13, tm_min=54, tm_sec=23, tm_wday=2, tm_yday=285, tm_isdst=0)\n"
     ]
    }
   ],
   "source": [
    "# localtime\n",
    "\n",
    "now = time.localtime()\n",
    "print(now)\n",
    "print(now.tm_year)\n",
    "print(now.tm_mon)\n",
    "print(now.tm_mday)\n",
    "\n",
    "# 000년 00월 00일 00일에\n",
    "print(f\"{now.tm_year}년 {now.tm_mon}월 {now.tm_mday}일에\")\n",
    "\n",
    "# time() 결과값으로 localtime() 만들기\n",
    "now = time.localtime(1665550463.746353)\n",
    "print(now)"
   ]
  },
  {
   "cell_type": "code",
   "execution_count": 154,
   "id": "1be58ae6",
   "metadata": {},
   "outputs": [
    {
     "data": {
      "text/plain": [
       "'Wed Oct 12 14:00:03 2022'"
      ]
     },
     "execution_count": 154,
     "metadata": {},
     "output_type": "execute_result"
    }
   ],
   "source": [
    "# asctime() : \n",
    "\n",
    "time.asctime()"
   ]
  },
  {
   "cell_type": "code",
   "execution_count": 155,
   "id": "dc1e429c",
   "metadata": {},
   "outputs": [
    {
     "name": "stdout",
     "output_type": "stream",
     "text": [
      "0\n",
      "1\n",
      "2\n",
      "3\n",
      "4\n",
      "5\n",
      "6\n",
      "7\n",
      "8\n",
      "9\n"
     ]
    }
   ],
   "source": [
    "# sleep : 인수로 받은 만큼 시간을 멈춘 후 수행\n",
    "\n",
    "for i in range(10):\n",
    "    print(i)\n",
    "    time.sleep(1)"
   ]
  },
  {
   "cell_type": "code",
   "execution_count": 157,
   "id": "3fcb3717",
   "metadata": {},
   "outputs": [
    {
     "name": "stdout",
     "output_type": "stream",
     "text": [
      "5.007996082305908\n"
     ]
    }
   ],
   "source": [
    "start = time.time()\n",
    "\n",
    "time.sleep(5)\n",
    "\n",
    "end = time.time()\n",
    "\n",
    "print(end - start)"
   ]
  },
  {
   "cell_type": "markdown",
   "id": "4cdfe4d5",
   "metadata": {},
   "source": [
    "# 5. calendar"
   ]
  },
  {
   "cell_type": "code",
   "execution_count": 158,
   "id": "e059bc9d",
   "metadata": {},
   "outputs": [],
   "source": [
    "import calendar"
   ]
  },
  {
   "cell_type": "code",
   "execution_count": 165,
   "id": "3b3d4b9a",
   "metadata": {},
   "outputs": [
    {
     "name": "stdout",
     "output_type": "stream",
     "text": [
      "                                  2022\n",
      "\n",
      "      January                   February                   March\n",
      "Mo Tu We Th Fr Sa Su      Mo Tu We Th Fr Sa Su      Mo Tu We Th Fr Sa Su\n",
      "                1  2          1  2  3  4  5  6          1  2  3  4  5  6\n",
      " 3  4  5  6  7  8  9       7  8  9 10 11 12 13       7  8  9 10 11 12 13\n",
      "10 11 12 13 14 15 16      14 15 16 17 18 19 20      14 15 16 17 18 19 20\n",
      "17 18 19 20 21 22 23      21 22 23 24 25 26 27      21 22 23 24 25 26 27\n",
      "24 25 26 27 28 29 30      28                        28 29 30 31\n",
      "31\n",
      "\n",
      "       April                      May                       June\n",
      "Mo Tu We Th Fr Sa Su      Mo Tu We Th Fr Sa Su      Mo Tu We Th Fr Sa Su\n",
      "             1  2  3                         1             1  2  3  4  5\n",
      " 4  5  6  7  8  9 10       2  3  4  5  6  7  8       6  7  8  9 10 11 12\n",
      "11 12 13 14 15 16 17       9 10 11 12 13 14 15      13 14 15 16 17 18 19\n",
      "18 19 20 21 22 23 24      16 17 18 19 20 21 22      20 21 22 23 24 25 26\n",
      "25 26 27 28 29 30         23 24 25 26 27 28 29      27 28 29 30\n",
      "                          30 31\n",
      "\n",
      "        July                     August                  September\n",
      "Mo Tu We Th Fr Sa Su      Mo Tu We Th Fr Sa Su      Mo Tu We Th Fr Sa Su\n",
      "             1  2  3       1  2  3  4  5  6  7                1  2  3  4\n",
      " 4  5  6  7  8  9 10       8  9 10 11 12 13 14       5  6  7  8  9 10 11\n",
      "11 12 13 14 15 16 17      15 16 17 18 19 20 21      12 13 14 15 16 17 18\n",
      "18 19 20 21 22 23 24      22 23 24 25 26 27 28      19 20 21 22 23 24 25\n",
      "25 26 27 28 29 30 31      29 30 31                  26 27 28 29 30\n",
      "\n",
      "      October                   November                  December\n",
      "Mo Tu We Th Fr Sa Su      Mo Tu We Th Fr Sa Su      Mo Tu We Th Fr Sa Su\n",
      "                1  2          1  2  3  4  5  6                1  2  3  4\n",
      " 3  4  5  6  7  8  9       7  8  9 10 11 12 13       5  6  7  8  9 10 11\n",
      "10 11 12 13 14 15 16      14 15 16 17 18 19 20      12 13 14 15 16 17 18\n",
      "17 18 19 20 21 22 23      21 22 23 24 25 26 27      19 20 21 22 23 24 25\n",
      "24 25 26 27 28 29 30      28 29 30                  26 27 28 29 30 31\n",
      "31\n",
      "\n"
     ]
    }
   ],
   "source": [
    "# calendar : 연도 달력\n",
    "\n",
    "print(calendar.calendar(2022))"
   ]
  },
  {
   "cell_type": "code",
   "execution_count": 167,
   "id": "a50d1630",
   "metadata": {},
   "outputs": [
    {
     "name": "stdout",
     "output_type": "stream",
     "text": [
      "                                  2022\n",
      "\n",
      "      January                   February                   March\n",
      "Mo Tu We Th Fr Sa Su      Mo Tu We Th Fr Sa Su      Mo Tu We Th Fr Sa Su\n",
      "                1  2          1  2  3  4  5  6          1  2  3  4  5  6\n",
      " 3  4  5  6  7  8  9       7  8  9 10 11 12 13       7  8  9 10 11 12 13\n",
      "10 11 12 13 14 15 16      14 15 16 17 18 19 20      14 15 16 17 18 19 20\n",
      "17 18 19 20 21 22 23      21 22 23 24 25 26 27      21 22 23 24 25 26 27\n",
      "24 25 26 27 28 29 30      28                        28 29 30 31\n",
      "31\n",
      "\n",
      "       April                      May                       June\n",
      "Mo Tu We Th Fr Sa Su      Mo Tu We Th Fr Sa Su      Mo Tu We Th Fr Sa Su\n",
      "             1  2  3                         1             1  2  3  4  5\n",
      " 4  5  6  7  8  9 10       2  3  4  5  6  7  8       6  7  8  9 10 11 12\n",
      "11 12 13 14 15 16 17       9 10 11 12 13 14 15      13 14 15 16 17 18 19\n",
      "18 19 20 21 22 23 24      16 17 18 19 20 21 22      20 21 22 23 24 25 26\n",
      "25 26 27 28 29 30         23 24 25 26 27 28 29      27 28 29 30\n",
      "                          30 31\n",
      "\n",
      "        July                     August                  September\n",
      "Mo Tu We Th Fr Sa Su      Mo Tu We Th Fr Sa Su      Mo Tu We Th Fr Sa Su\n",
      "             1  2  3       1  2  3  4  5  6  7                1  2  3  4\n",
      " 4  5  6  7  8  9 10       8  9 10 11 12 13 14       5  6  7  8  9 10 11\n",
      "11 12 13 14 15 16 17      15 16 17 18 19 20 21      12 13 14 15 16 17 18\n",
      "18 19 20 21 22 23 24      22 23 24 25 26 27 28      19 20 21 22 23 24 25\n",
      "25 26 27 28 29 30 31      29 30 31                  26 27 28 29 30\n",
      "\n",
      "      October                   November                  December\n",
      "Mo Tu We Th Fr Sa Su      Mo Tu We Th Fr Sa Su      Mo Tu We Th Fr Sa Su\n",
      "                1  2          1  2  3  4  5  6                1  2  3  4\n",
      " 3  4  5  6  7  8  9       7  8  9 10 11 12 13       5  6  7  8  9 10 11\n",
      "10 11 12 13 14 15 16      14 15 16 17 18 19 20      12 13 14 15 16 17 18\n",
      "17 18 19 20 21 22 23      21 22 23 24 25 26 27      19 20 21 22 23 24 25\n",
      "24 25 26 27 28 29 30      28 29 30                  26 27 28 29 30 31\n",
      "31\n"
     ]
    }
   ],
   "source": [
    "# prcal : 연 달력, 정렬됨\n",
    "\n",
    "calendar.prcal(2022)"
   ]
  },
  {
   "cell_type": "code",
   "execution_count": 164,
   "id": "8f549c8f",
   "metadata": {},
   "outputs": [
    {
     "name": "stdout",
     "output_type": "stream",
     "text": [
      "    October 2022\n",
      "Mo Tu We Th Fr Sa Su\n",
      "                1  2\n",
      " 3  4  5  6  7  8  9\n",
      "10 11 12 13 14 15 16\n",
      "17 18 19 20 21 22 23\n",
      "24 25 26 27 28 29 30\n",
      "31\n",
      "\n"
     ]
    }
   ],
   "source": [
    "# month : 월 달력\n",
    "\n",
    "print(calendar.month(2022, 10))"
   ]
  },
  {
   "cell_type": "code",
   "execution_count": 172,
   "id": "d6da2511",
   "metadata": {},
   "outputs": [
    {
     "name": "stdout",
     "output_type": "stream",
     "text": [
      "    October 2022\n",
      "Su Mo Tu We Th Fr Sa\n",
      "                   1\n",
      " 2  3  4  5  6  7  8\n",
      " 9 10 11 12 13 14 15\n",
      "16 17 18 19 20 21 22\n",
      "23 24 25 26 27 28 29\n",
      "30 31\n",
      "\n"
     ]
    }
   ],
   "source": [
    "# setfirstweekday() : 첫 칸 요일 설정\n",
    "# 일요일을 첫칸으로 설정 : 월-0, 화-1, 일-6\n",
    "\n",
    "calendar.setfirstweekday(6)\n",
    "print(calendar.month(2022, 10))"
   ]
  },
  {
   "cell_type": "code",
   "execution_count": 173,
   "id": "d8298318",
   "metadata": {},
   "outputs": [
    {
     "data": {
      "text/plain": [
       "2"
      ]
     },
     "execution_count": 173,
     "metadata": {},
     "output_type": "execute_result"
    }
   ],
   "source": [
    "# weekday : 어떤 요일인지 확인\n",
    "\n",
    "calendar.weekday(2022,10,12)"
   ]
  },
  {
   "cell_type": "code",
   "execution_count": 174,
   "id": "3dc9efbf",
   "metadata": {},
   "outputs": [
    {
     "data": {
      "text/plain": [
       "(5, 31)"
      ]
     },
     "execution_count": 174,
     "metadata": {},
     "output_type": "execute_result"
    }
   ],
   "source": [
    "# monthrange : 해당월의 1일이 무슨 요일인지, 며칠까지 있는지 반환\n",
    "\n",
    "calendar.monthrange(2022, 10)"
   ]
  },
  {
   "cell_type": "markdown",
   "id": "12a23d46",
   "metadata": {},
   "source": [
    "# 6. random"
   ]
  },
  {
   "cell_type": "code",
   "execution_count": 175,
   "id": "932c5e13",
   "metadata": {},
   "outputs": [],
   "source": [
    "import random"
   ]
  },
  {
   "cell_type": "code",
   "execution_count": 176,
   "id": "39dc5483",
   "metadata": {},
   "outputs": [
    {
     "name": "stdout",
     "output_type": "stream",
     "text": [
      "0.56641380036481\n"
     ]
    }
   ],
   "source": [
    "# random() : 0에서 1미만의 실수 한개 생성\n",
    "\n",
    "print(random.random())"
   ]
  },
  {
   "cell_type": "code",
   "execution_count": 179,
   "id": "b3c4bb45",
   "metadata": {},
   "outputs": [
    {
     "name": "stdout",
     "output_type": "stream",
     "text": [
      "8\n"
     ]
    }
   ],
   "source": [
    "# randint(begin, end) : begin-end 사이의 정수형 난수(end 포함)\n",
    "\n",
    "print(random.randint(1, 10))"
   ]
  },
  {
   "cell_type": "code",
   "execution_count": 181,
   "id": "2bdd7b0b",
   "metadata": {},
   "outputs": [
    {
     "name": "stdout",
     "output_type": "stream",
     "text": [
      "6\n"
     ]
    }
   ],
   "source": [
    "# randrange(begin, end) : begin-end 사이의 정수형 난수(end 미포함)\n",
    "\n",
    "print(random.randrange(1, 10))"
   ]
  },
  {
   "cell_type": "code",
   "execution_count": 182,
   "id": "f25b1fb8",
   "metadata": {},
   "outputs": [
    {
     "name": "stdout",
     "output_type": "stream",
     "text": [
      "7.308572353083915\n"
     ]
    }
   ],
   "source": [
    "# uniform(begin, end) : begin-end 사이의 실수형 난수 발생\n",
    "\n",
    "print(random.uniform(1,10))"
   ]
  },
  {
   "cell_type": "code",
   "execution_count": 185,
   "id": "c06b7e92",
   "metadata": {},
   "outputs": [
    {
     "name": "stdout",
     "output_type": "stream",
     "text": [
      "8\n"
     ]
    }
   ],
   "source": [
    "# choice(iterable) : 요소 한개 선택하여 리턴\n",
    "\n",
    "nums = [1,2,3,4,5,6,7,8,9]\n",
    "print(random.choice(nums))"
   ]
  },
  {
   "cell_type": "code",
   "execution_count": 188,
   "id": "aac1ef23",
   "metadata": {},
   "outputs": [
    {
     "name": "stdout",
     "output_type": "stream",
     "text": [
      "[9, 4, 8, 3, 7, 5, 1, 6, 2]\n"
     ]
    }
   ],
   "source": [
    "# shuffle(iterable) : 요소 섞기\n",
    "\n",
    "nums = [1,2,3,4,5,6,7,8,9]\n",
    "random.shuffle(nums)\n",
    "print(nums)\n",
    "\n"
   ]
  },
  {
   "cell_type": "code",
   "execution_count": 190,
   "id": "b7e80e0c",
   "metadata": {},
   "outputs": [
    {
     "name": "stdout",
     "output_type": "stream",
     "text": [
      "[8, 9, 6]\n"
     ]
    }
   ],
   "source": [
    "# sample(iterable, n) : 요소 중 n개를 뽑아 새루운 리스트를 생성\n",
    "\n",
    "num = random.sample([1,2,3,4,5,6,7,8,9], 3)\n",
    "print(num)"
   ]
  },
  {
   "cell_type": "markdown",
   "id": "146c62af",
   "metadata": {},
   "source": [
    "# 7. sys 모듈"
   ]
  },
  {
   "cell_type": "code",
   "execution_count": 191,
   "id": "4708dafb",
   "metadata": {},
   "outputs": [],
   "source": [
    "import sys"
   ]
  },
  {
   "cell_type": "code",
   "execution_count": 192,
   "id": "02c618fb",
   "metadata": {},
   "outputs": [
    {
     "name": "stdout",
     "output_type": "stream",
     "text": [
      "3.9.10 (tags/v3.9.10:f2f3f53, Jan 17 2022, 15:14:21) [MSC v.1929 64 bit (AMD64)]\n",
      "win32\n",
      "['D:\\\\0.컨설팅\\\\교안\\\\[KDT] Python\\\\Code', 'c:\\\\pythonwork', 'C:\\\\Python39\\\\python39.zip', 'C:\\\\Python39\\\\DLLs', 'C:\\\\Python39\\\\lib', 'C:\\\\Python39', '', 'C:\\\\Users\\\\multicampus\\\\AppData\\\\Roaming\\\\Python\\\\Python39\\\\site-packages', 'C:\\\\Users\\\\multicampus\\\\AppData\\\\Roaming\\\\Python\\\\Python39\\\\site-packages\\\\win32', 'C:\\\\Users\\\\multicampus\\\\AppData\\\\Roaming\\\\Python\\\\Python39\\\\site-packages\\\\win32\\\\lib', 'C:\\\\Users\\\\multicampus\\\\AppData\\\\Roaming\\\\Python\\\\Python39\\\\site-packages\\\\Pythonwin', 'C:\\\\Python39\\\\lib\\\\site-packages']\n"
     ]
    }
   ],
   "source": [
    "print(sys.version)\n",
    "\n",
    "print(sys.platform)\n",
    "\n",
    "print(sys.path)\n"
   ]
  },
  {
   "cell_type": "code",
   "execution_count": 193,
   "id": "878da343",
   "metadata": {},
   "outputs": [
    {
     "name": "stdout",
     "output_type": "stream",
     "text": [
      "['D:\\\\0.컨설팅\\\\교안\\\\[KDT] Python\\\\Code', 'c:\\\\pythonwork', 'C:\\\\Python39\\\\python39.zip', 'C:\\\\Python39\\\\DLLs', 'C:\\\\Python39\\\\lib', 'C:\\\\Python39', '', 'C:\\\\Users\\\\multicampus\\\\AppData\\\\Roaming\\\\Python\\\\Python39\\\\site-packages', 'C:\\\\Users\\\\multicampus\\\\AppData\\\\Roaming\\\\Python\\\\Python39\\\\site-packages\\\\win32', 'C:\\\\Users\\\\multicampus\\\\AppData\\\\Roaming\\\\Python\\\\Python39\\\\site-packages\\\\win32\\\\lib', 'C:\\\\Users\\\\multicampus\\\\AppData\\\\Roaming\\\\Python\\\\Python39\\\\site-packages\\\\Pythonwin', 'C:\\\\Python39\\\\lib\\\\site-packages', 'c:\\temp']\n"
     ]
    }
   ],
   "source": [
    "# sys.path.append(path) : path에 경로를 추가하는 메서드\n",
    "\n",
    "sys.path.append(\"c:\\temp\")\n",
    "print(sys.path)"
   ]
  },
  {
   "cell_type": "markdown",
   "id": "c17a69ab",
   "metadata": {},
   "source": [
    "# 8. pickle 모듈"
   ]
  },
  {
   "cell_type": "code",
   "execution_count": 194,
   "id": "64c79312",
   "metadata": {},
   "outputs": [],
   "source": [
    "import pickle"
   ]
  },
  {
   "cell_type": "code",
   "execution_count": 195,
   "id": "3f710888",
   "metadata": {},
   "outputs": [],
   "source": [
    "# 객체를 파일로 저장 : dump() 활용\n",
    "\n",
    "f = open(\"pickle_test.txt\", \"wb\")\n",
    "data = [1, 2, 3, 4, 5]\n",
    "\n",
    "pickle.dump(data, f)\n",
    "\n",
    "f.close()"
   ]
  },
  {
   "cell_type": "code",
   "execution_count": 198,
   "id": "c9df97ec",
   "metadata": {},
   "outputs": [
    {
     "name": "stdout",
     "output_type": "stream",
     "text": [
      "[1, 2, 3, 4, 5]\n",
      "<class 'list'>\n"
     ]
    }
   ],
   "source": [
    "# 저장된 객체를 불러오기 : load() 활용\n",
    "\n",
    "f = open(\"pickle_test.txt\", \"rb\")\n",
    "data = pickle.load(f)\n",
    "\n",
    "print(data)\n",
    "print(type(data))\n",
    "\n",
    "f.close()"
   ]
  },
  {
   "cell_type": "markdown",
   "id": "5609f3c1",
   "metadata": {},
   "source": [
    "# 9. webbrowser 모듈"
   ]
  },
  {
   "cell_type": "code",
   "execution_count": 199,
   "id": "61ba0eec",
   "metadata": {},
   "outputs": [
    {
     "data": {
      "text/plain": [
       "True"
      ]
     },
     "execution_count": 199,
     "metadata": {},
     "output_type": "execute_result"
    }
   ],
   "source": [
    "# open()\n",
    "import webbrowser\n",
    "\n",
    "webbrowser.open(\"www.naver.com\")"
   ]
  },
  {
   "cell_type": "markdown",
   "id": "e27ef8de",
   "metadata": {},
   "source": [
    "# 1. 반복자"
   ]
  },
  {
   "cell_type": "code",
   "execution_count": 7,
   "id": "07148441",
   "metadata": {},
   "outputs": [
    {
     "name": "stdout",
     "output_type": "stream",
     "text": [
      "1\n",
      "2\n",
      "3\n",
      "4\n",
      "5\n"
     ]
    },
    {
     "ename": "StopIteration",
     "evalue": "",
     "output_type": "error",
     "traceback": [
      "\u001b[1;31m----------------------------------------------------------------\u001b[0m",
      "\u001b[1;31mStopIteration\u001b[0m                  Traceback (most recent call last)",
      "Input \u001b[1;32mIn [7]\u001b[0m, in \u001b[0;36m<cell line: 9>\u001b[1;34m()\u001b[0m\n\u001b[0;32m      7\u001b[0m \u001b[38;5;28mprint\u001b[39m(\u001b[38;5;28mnext\u001b[39m(it))\n\u001b[0;32m      8\u001b[0m \u001b[38;5;28mprint\u001b[39m(\u001b[38;5;28mnext\u001b[39m(it))\n\u001b[1;32m----> 9\u001b[0m \u001b[38;5;28mprint\u001b[39m(\u001b[38;5;28;43mnext\u001b[39;49m\u001b[43m(\u001b[49m\u001b[43mit\u001b[49m\u001b[43m)\u001b[49m)\n",
      "\u001b[1;31mStopIteration\u001b[0m: "
     ]
    }
   ],
   "source": [
    "nums = [1,2,3,4,5]\n",
    "it = iter(nums)\n",
    "\n",
    "print(next(it))\n",
    "print(next(it))\n",
    "print(next(it))\n",
    "print(next(it))\n",
    "print(next(it))"
   ]
  },
  {
   "cell_type": "code",
   "execution_count": 8,
   "id": "c6e959d5",
   "metadata": {},
   "outputs": [
    {
     "name": "stdout",
     "output_type": "stream",
     "text": [
      "1\n",
      "2\n",
      "3\n",
      "4\n",
      "5\n"
     ]
    }
   ],
   "source": [
    "nums = [1,2,3,4,5]\n",
    "it = iter(nums)\n",
    "\n",
    "while True:\n",
    "    try:\n",
    "        num = next(it)\n",
    "    except StopIteration:\n",
    "        break\n",
    "    \n",
    "    print(num)"
   ]
  },
  {
   "cell_type": "markdown",
   "id": "85ffc9b6",
   "metadata": {},
   "source": [
    "# 2. 제너레이터"
   ]
  },
  {
   "cell_type": "code",
   "execution_count": 10,
   "id": "7f0d0bca",
   "metadata": {},
   "outputs": [
    {
     "name": "stdout",
     "output_type": "stream",
     "text": [
      "<generator object genTest at 0x00000168EAA1DEB0>\n",
      "a\n",
      "1\n",
      "b\n",
      "2\n"
     ]
    }
   ],
   "source": [
    "def genTest():\n",
    "    print(\"a\")\n",
    "    yield \"1\"\n",
    "    \n",
    "    print(\"b\")\n",
    "    yield \"2\"\n",
    "    \n",
    "print(genTest())\n",
    "\n",
    "g = genTest()\n",
    "print(next(g))\n",
    "print(next(g))"
   ]
  },
  {
   "cell_type": "code",
   "execution_count": 11,
   "id": "cc7584c4",
   "metadata": {},
   "outputs": [
    {
     "name": "stdout",
     "output_type": "stream",
     "text": [
      "a\n",
      "1\n",
      "b\n",
      "2\n"
     ]
    }
   ],
   "source": [
    "for i in getTest():\n",
    "    print(i)"
   ]
  },
  {
   "cell_type": "code",
   "execution_count": 12,
   "id": "5a415c6e",
   "metadata": {},
   "outputs": [
    {
     "name": "stdout",
     "output_type": "stream",
     "text": [
      "0\n",
      "1\n",
      "2\n"
     ]
    }
   ],
   "source": [
    "n = 100000000000000000000\n",
    "\n",
    "big_gen = (i for i in range(0, n))       \n",
    "\n",
    "print(next(big_gen))\n",
    "print(next(big_gen))\n",
    "print(next(big_gen))\n"
   ]
  },
  {
   "cell_type": "code",
   "execution_count": 2,
   "id": "e6d4b424",
   "metadata": {},
   "outputs": [
    {
     "name": "stdout",
     "output_type": "stream",
     "text": [
      "1\n",
      "2\n",
      "3\n",
      "4\n",
      "5\n"
     ]
    },
    {
     "ename": "StopIteration",
     "evalue": "",
     "output_type": "error",
     "traceback": [
      "\u001b[1;31m----------------------------------------------------------------\u001b[0m",
      "\u001b[1;31mStopIteration\u001b[0m                  Traceback (most recent call last)",
      "Input \u001b[1;32mIn [2]\u001b[0m, in \u001b[0;36m<cell line: 9>\u001b[1;34m()\u001b[0m\n\u001b[0;32m      7\u001b[0m \u001b[38;5;28mprint\u001b[39m(\u001b[38;5;28mnext\u001b[39m(it))\n\u001b[0;32m      8\u001b[0m \u001b[38;5;28mprint\u001b[39m(\u001b[38;5;28mnext\u001b[39m(it))\n\u001b[1;32m----> 9\u001b[0m \u001b[38;5;28mprint\u001b[39m(\u001b[38;5;28;43mnext\u001b[39;49m\u001b[43m(\u001b[49m\u001b[43mit\u001b[49m\u001b[43m)\u001b[49m)\n",
      "\u001b[1;31mStopIteration\u001b[0m: "
     ]
    }
   ],
   "source": [
    "num = [1,2,3,4,5]\n",
    "it = iter(num)\n",
    "\n",
    "print(next(it))\n",
    "print(next(it))\n",
    "print(next(it))\n",
    "print(next(it))\n",
    "print(next(it))\n",
    "print(next(it))"
   ]
  },
  {
   "cell_type": "code",
   "execution_count": 4,
   "id": "079ee205",
   "metadata": {},
   "outputs": [
    {
     "name": "stdout",
     "output_type": "stream",
     "text": [
      "1\n",
      "2\n",
      "3\n",
      "4\n",
      "5\n"
     ]
    }
   ],
   "source": [
    "num = [1,2,3,4,5]\n",
    "it = iter(num)\n",
    "\n",
    "while True:\n",
    "    try:\n",
    "        num = next(it)\n",
    "    except StopIteration:\n",
    "        break\n",
    "        \n",
    "    print(num)"
   ]
  },
  {
   "cell_type": "code",
   "execution_count": 9,
   "id": "04e39def",
   "metadata": {},
   "outputs": [
    {
     "name": "stdout",
     "output_type": "stream",
     "text": [
      "Mon\n",
      "Tue\n",
      "Wed\n",
      "Thr\n",
      "Fry\n",
      "Sat\n",
      "Sun\n",
      "M\n",
      "o\n",
      "n\n",
      "T\n",
      "u\n",
      "e\n",
      "W\n",
      "e\n",
      "d\n",
      "T\n",
      "h\n",
      "r\n",
      "F\n",
      "r\n",
      "y\n",
      "S\n",
      "a\n",
      "t\n",
      "S\n",
      "u\n",
      "n\n"
     ]
    }
   ],
   "source": [
    "class Myiter:\n",
    "    def __init__(self, data):\n",
    "        self.data = data\n",
    "        self.index = -3\n",
    "    def __iter__(self):\n",
    "        return self\n",
    "    def __next__(self):\n",
    "        self.index += 3\n",
    "        \n",
    "        if self.index >= len(self.data):\n",
    "            raise StopIteration\n",
    "        \n",
    "        return self.data[self.index:self.index+3]\n",
    "\n",
    "daylist = Myiter(\"MonTueWedThrFrySatSun\")\n",
    "                         \n",
    "for day in daylist:\n",
    "    print(day)\n",
    "    \n",
    "    \n",
    "\n",
    "    "
   ]
  },
  {
   "cell_type": "code",
   "execution_count": 18,
   "id": "5ab4ed69",
   "metadata": {},
   "outputs": [
    {
     "name": "stdout",
     "output_type": "stream",
     "text": [
      "a\n",
      "a\n",
      "1\n",
      "b\n",
      "2\n"
     ]
    }
   ],
   "source": [
    "def genTest():\n",
    "    print(\"a\")\n",
    "    yield \"1\"\n",
    "    print(\"b\")\n",
    "    yield \"2\"\n",
    " \n",
    "next(genTest())\n",
    "\n",
    "for i in genTest():\n",
    "    print(i)\n",
    "    "
   ]
  },
  {
   "cell_type": "code",
   "execution_count": 23,
   "id": "b5915a3d",
   "metadata": {},
   "outputs": [
    {
     "name": "stdout",
     "output_type": "stream",
     "text": [
      "920\n",
      "8856\n",
      "112\n",
      "112\n"
     ]
    }
   ],
   "source": [
    "import sys\n",
    "\n",
    "print(sys.getsizeof( [ i for i in range(100) ] ))\n",
    "print(sys.getsizeof( [ i for i in range(1000) ] ))\n",
    "print(sys.getsizeof( ( i for i in range(100) ) ))\n",
    "print(sys.getsizeof( ( i for i in range(1000) ) ))"
   ]
  },
  {
   "cell_type": "code",
   "execution_count": 28,
   "id": "b488d1b8",
   "metadata": {},
   "outputs": [
    {
     "name": "stdout",
     "output_type": "stream",
     "text": [
      "0\n",
      "1\n",
      "2\n",
      "3\n",
      "4\n",
      "5\n",
      "6\n",
      "7\n",
      "8\n",
      "9\n",
      "10\n",
      "11\n",
      "12\n",
      "13\n",
      "14\n",
      "15\n",
      "16\n",
      "17\n",
      "18\n",
      "19\n",
      "20\n",
      "21\n",
      "22\n",
      "23\n",
      "24\n",
      "25\n",
      "26\n",
      "27\n",
      "28\n",
      "29\n",
      "30\n",
      "31\n",
      "32\n",
      "33\n",
      "34\n",
      "35\n",
      "36\n",
      "37\n",
      "38\n",
      "39\n",
      "40\n",
      "41\n",
      "42\n",
      "43\n",
      "44\n",
      "45\n",
      "46\n",
      "47\n",
      "48\n",
      "49\n",
      "50\n",
      "51\n",
      "52\n",
      "53\n",
      "54\n",
      "55\n",
      "56\n",
      "57\n",
      "58\n",
      "59\n",
      "60\n",
      "61\n",
      "62\n",
      "63\n",
      "64\n",
      "65\n",
      "66\n",
      "67\n",
      "68\n",
      "69\n",
      "70\n",
      "71\n",
      "72\n",
      "73\n",
      "74\n",
      "75\n",
      "76\n",
      "77\n",
      "78\n",
      "79\n",
      "80\n",
      "81\n",
      "82\n",
      "83\n",
      "84\n",
      "85\n",
      "86\n",
      "87\n",
      "88\n",
      "89\n",
      "90\n",
      "91\n",
      "92\n",
      "93\n",
      "94\n",
      "95\n",
      "96\n",
      "97\n",
      "98\n",
      "99\n",
      "100\n",
      "101\n",
      "102\n",
      "103\n",
      "104\n",
      "105\n",
      "106\n",
      "107\n",
      "108\n",
      "109\n",
      "110\n",
      "111\n",
      "112\n",
      "113\n",
      "114\n",
      "115\n",
      "116\n",
      "117\n",
      "118\n",
      "119\n",
      "120\n",
      "121\n",
      "122\n",
      "123\n",
      "124\n",
      "125\n",
      "126\n",
      "127\n",
      "128\n",
      "129\n",
      "130\n",
      "131\n",
      "132\n",
      "133\n",
      "134\n",
      "135\n",
      "136\n",
      "137\n",
      "138\n",
      "139\n",
      "140\n",
      "141\n",
      "142\n",
      "143\n",
      "144\n",
      "145\n",
      "146\n",
      "147\n",
      "148\n",
      "149\n",
      "150\n",
      "151\n",
      "152\n",
      "153\n",
      "154\n",
      "155\n",
      "156\n",
      "157\n",
      "158\n",
      "159\n",
      "160\n",
      "161\n",
      "162\n",
      "163\n",
      "164\n",
      "165\n",
      "166\n",
      "167\n",
      "168\n",
      "169\n",
      "170\n",
      "171\n",
      "172\n",
      "173\n",
      "174\n",
      "175\n",
      "176\n",
      "177\n",
      "178\n",
      "179\n",
      "180\n",
      "181\n",
      "182\n",
      "183\n",
      "184\n",
      "185\n",
      "186\n",
      "187\n",
      "188\n",
      "189\n",
      "190\n",
      "191\n",
      "192\n",
      "193\n",
      "194\n",
      "195\n",
      "196\n",
      "197\n",
      "198\n",
      "199\n",
      "200\n",
      "201\n",
      "202\n",
      "203\n",
      "204\n",
      "205\n",
      "206\n",
      "207\n",
      "208\n",
      "209\n",
      "210\n",
      "211\n",
      "212\n",
      "213\n",
      "214\n",
      "215\n",
      "216\n",
      "217\n",
      "218\n",
      "219\n",
      "220\n",
      "221\n",
      "222\n",
      "223\n",
      "224\n",
      "225\n",
      "226\n",
      "227\n",
      "228\n",
      "229\n",
      "230\n",
      "231\n",
      "232\n",
      "233\n",
      "234\n",
      "235\n",
      "236\n",
      "237\n",
      "238\n",
      "239\n",
      "240\n",
      "241\n",
      "242\n",
      "243\n",
      "244\n",
      "245\n",
      "246\n",
      "247\n",
      "248\n",
      "249\n",
      "250\n",
      "251\n",
      "252\n",
      "253\n",
      "254\n",
      "255\n",
      "256\n",
      "257\n",
      "258\n",
      "259\n",
      "260\n",
      "261\n",
      "262\n",
      "263\n",
      "264\n",
      "265\n",
      "266\n",
      "267\n",
      "268\n",
      "269\n",
      "270\n",
      "271\n",
      "272\n",
      "273\n",
      "274\n",
      "275\n",
      "276\n",
      "277\n",
      "278\n",
      "279\n",
      "280\n",
      "281\n",
      "282\n",
      "283\n",
      "284\n",
      "285\n",
      "286\n",
      "287\n",
      "288\n",
      "289\n",
      "290\n",
      "291\n",
      "292\n",
      "293\n",
      "294\n",
      "295\n",
      "296\n",
      "297\n",
      "298\n",
      "299\n",
      "300\n",
      "301\n",
      "302\n",
      "303\n",
      "304\n",
      "305\n",
      "306\n",
      "307\n",
      "308\n",
      "309\n",
      "310\n",
      "311\n",
      "312\n",
      "313\n",
      "314\n",
      "315\n",
      "316\n",
      "317\n",
      "318\n",
      "319\n",
      "320\n",
      "321\n",
      "322\n",
      "323\n",
      "324\n",
      "325\n",
      "326\n",
      "327\n",
      "328\n",
      "329\n",
      "330\n",
      "331\n",
      "332\n",
      "333\n",
      "334\n",
      "335\n",
      "336\n",
      "337\n",
      "338\n",
      "339\n",
      "340\n",
      "341\n",
      "342\n",
      "343\n",
      "344\n",
      "345\n",
      "346\n",
      "347\n",
      "348\n",
      "349\n",
      "350\n",
      "351\n",
      "352\n",
      "353\n",
      "354\n",
      "355\n",
      "356\n",
      "357\n",
      "358\n",
      "359\n",
      "360\n",
      "361\n",
      "362\n",
      "363\n",
      "364\n",
      "365\n",
      "366\n",
      "367\n",
      "368\n",
      "369\n",
      "370\n",
      "371\n",
      "372\n",
      "373\n",
      "374\n",
      "375\n",
      "376\n",
      "377\n",
      "378\n",
      "379\n",
      "380\n",
      "381\n",
      "382\n",
      "383\n",
      "384\n",
      "385\n",
      "386\n",
      "387\n",
      "388\n",
      "389\n",
      "390\n",
      "391\n",
      "392\n",
      "393\n",
      "394\n",
      "395\n",
      "396\n",
      "397\n",
      "398\n",
      "399\n",
      "400\n",
      "401\n",
      "402\n",
      "403\n",
      "404\n",
      "405\n",
      "406\n",
      "407\n",
      "408\n",
      "409\n",
      "410\n",
      "411\n",
      "412\n",
      "413\n",
      "414\n",
      "415\n",
      "416\n",
      "417\n",
      "418\n",
      "419\n",
      "420\n",
      "421\n",
      "422\n",
      "423\n",
      "424\n",
      "425\n",
      "426\n",
      "427\n",
      "428\n",
      "429\n",
      "430\n",
      "431\n",
      "432\n",
      "433\n",
      "434\n",
      "435\n",
      "436\n",
      "437\n",
      "438\n",
      "439\n",
      "440\n",
      "441\n",
      "442\n",
      "443\n",
      "444\n",
      "445\n",
      "446\n",
      "447\n",
      "448\n",
      "449\n",
      "450\n",
      "451\n",
      "452\n",
      "453\n",
      "454\n",
      "455\n",
      "456\n",
      "457\n",
      "458\n",
      "459\n",
      "460\n",
      "461\n",
      "462\n",
      "463\n",
      "464\n",
      "465\n",
      "466\n",
      "467\n",
      "468\n",
      "469\n",
      "470\n",
      "471\n",
      "472\n",
      "473\n",
      "474\n",
      "475\n",
      "476\n",
      "477\n",
      "478\n",
      "479\n",
      "480\n",
      "481\n",
      "482\n",
      "483\n",
      "484\n",
      "485\n",
      "486\n",
      "487\n",
      "488\n",
      "489\n",
      "490\n",
      "491\n",
      "492\n",
      "493\n",
      "494\n",
      "495\n",
      "496\n",
      "497\n",
      "498\n",
      "499\n",
      "500\n",
      "501\n",
      "502\n",
      "503\n",
      "504\n",
      "505\n",
      "506\n",
      "507\n",
      "508\n",
      "509\n",
      "510\n",
      "511\n",
      "512\n",
      "513\n",
      "514\n",
      "515\n",
      "516\n",
      "517\n",
      "518\n",
      "519\n",
      "520\n",
      "521\n",
      "522\n",
      "523\n",
      "524\n",
      "525\n",
      "526\n",
      "527\n",
      "528\n",
      "529\n",
      "530\n",
      "531\n",
      "532\n",
      "533\n",
      "534\n",
      "535\n",
      "536\n",
      "537\n",
      "538\n",
      "539\n",
      "540\n",
      "541\n",
      "542\n",
      "543\n",
      "544\n",
      "545\n",
      "546\n",
      "547\n",
      "548\n",
      "549\n",
      "550\n",
      "551\n",
      "552\n",
      "553\n",
      "554\n",
      "555\n",
      "556\n",
      "557\n",
      "558\n",
      "559\n",
      "560\n",
      "561\n",
      "562\n",
      "563\n",
      "564\n",
      "565\n",
      "566\n",
      "567\n",
      "568\n",
      "569\n",
      "570\n",
      "571\n",
      "572\n",
      "573\n",
      "574\n",
      "575\n",
      "576\n",
      "577\n",
      "578\n",
      "579\n",
      "580\n",
      "581\n",
      "582\n",
      "583\n",
      "584\n",
      "585\n",
      "586\n",
      "587\n",
      "588\n",
      "589\n",
      "590\n",
      "591\n",
      "592\n",
      "593\n",
      "594\n",
      "595\n",
      "596\n",
      "597\n",
      "598\n",
      "599\n",
      "600\n",
      "601\n",
      "602\n",
      "603\n",
      "604\n",
      "605\n",
      "606\n",
      "607\n",
      "608\n",
      "609\n",
      "610\n",
      "611\n",
      "612\n",
      "613\n",
      "614\n",
      "615\n",
      "616\n",
      "617\n",
      "618\n",
      "619\n",
      "620\n",
      "621\n",
      "622\n",
      "623\n",
      "624\n",
      "625\n",
      "626\n",
      "627\n",
      "628\n",
      "629\n",
      "630\n",
      "631\n",
      "632\n",
      "633\n",
      "634\n",
      "635\n",
      "636\n",
      "637\n",
      "638\n",
      "639\n",
      "640\n",
      "641\n",
      "642\n",
      "643\n",
      "644\n",
      "645\n",
      "646\n",
      "647\n",
      "648\n",
      "649\n",
      "650\n",
      "651\n",
      "652\n",
      "653\n",
      "654\n",
      "655\n",
      "656\n",
      "657\n",
      "658\n",
      "659\n",
      "660\n",
      "661\n",
      "662\n",
      "663\n",
      "664\n",
      "665\n",
      "666\n",
      "667\n",
      "668\n",
      "669\n",
      "670\n",
      "671\n",
      "672\n",
      "673\n",
      "674\n",
      "675\n",
      "676\n",
      "677\n",
      "678\n",
      "679\n",
      "680\n",
      "681\n",
      "682\n",
      "683\n",
      "684\n",
      "685\n",
      "686\n",
      "687\n",
      "688\n",
      "689\n",
      "690\n",
      "691\n",
      "692\n",
      "693\n",
      "694\n",
      "695\n",
      "696\n",
      "697\n",
      "698\n",
      "699\n",
      "700\n",
      "701\n",
      "702\n",
      "703\n",
      "704\n",
      "705\n",
      "706\n",
      "707\n",
      "708\n",
      "709\n",
      "710\n",
      "711\n",
      "712\n",
      "713\n",
      "714\n",
      "715\n",
      "716\n",
      "717\n",
      "718\n",
      "719\n",
      "720\n",
      "721\n",
      "722\n",
      "723\n",
      "724\n",
      "725\n",
      "726\n",
      "727\n",
      "728\n",
      "729\n",
      "730\n",
      "731\n",
      "732\n",
      "733\n",
      "734\n",
      "735\n",
      "736\n",
      "737\n",
      "738\n",
      "739\n",
      "740\n",
      "741\n",
      "742\n",
      "743\n",
      "744\n",
      "745\n",
      "746\n",
      "747\n",
      "748\n",
      "749\n",
      "750\n",
      "751\n",
      "752\n",
      "753\n",
      "754\n",
      "755\n",
      "756\n",
      "757\n",
      "758\n",
      "759\n",
      "760\n",
      "761\n",
      "762\n",
      "763\n",
      "764\n",
      "765\n",
      "766\n",
      "767\n",
      "768\n",
      "769\n",
      "770\n",
      "771\n",
      "772\n",
      "773\n",
      "774\n",
      "775\n",
      "776\n",
      "777\n",
      "778\n",
      "779\n",
      "780\n",
      "781\n",
      "782\n",
      "783\n",
      "784\n",
      "785\n",
      "786\n",
      "787\n",
      "788\n",
      "789\n",
      "790\n",
      "791\n",
      "792\n",
      "793\n",
      "794\n",
      "795\n",
      "796\n",
      "797\n",
      "798\n",
      "799\n",
      "800\n",
      "801\n",
      "802\n",
      "803\n",
      "804\n",
      "805\n",
      "806\n",
      "807\n",
      "808\n",
      "809\n",
      "810\n",
      "811\n",
      "812\n",
      "813\n",
      "814\n",
      "815\n",
      "816\n",
      "817\n",
      "818\n",
      "819\n",
      "820\n",
      "821\n",
      "822\n",
      "823\n",
      "824\n",
      "825\n",
      "826\n",
      "827\n",
      "828\n",
      "829\n",
      "830\n",
      "831\n",
      "832\n",
      "833\n",
      "834\n",
      "835\n",
      "836\n",
      "837\n",
      "838\n",
      "839\n",
      "840\n",
      "841\n",
      "842\n",
      "843\n",
      "844\n",
      "845\n",
      "846\n",
      "847\n",
      "848\n",
      "849\n",
      "850\n",
      "851\n",
      "852\n",
      "853\n",
      "854\n",
      "855\n",
      "856\n",
      "857\n",
      "858\n",
      "859\n",
      "860\n",
      "861\n",
      "862\n",
      "863\n",
      "864\n",
      "865\n",
      "866\n",
      "867\n",
      "868\n",
      "869\n",
      "870\n",
      "871\n",
      "872\n",
      "873\n",
      "874\n",
      "875\n",
      "876\n",
      "877\n",
      "878\n",
      "879\n",
      "880\n",
      "881\n",
      "882\n",
      "883\n",
      "884\n",
      "885\n",
      "886\n",
      "887\n",
      "888\n",
      "889\n",
      "890\n",
      "891\n",
      "892\n",
      "893\n",
      "894\n",
      "895\n",
      "896\n",
      "897\n",
      "898\n",
      "899\n",
      "900\n",
      "901\n",
      "902\n",
      "903\n",
      "904\n",
      "905\n",
      "906\n",
      "907\n",
      "908\n",
      "909\n",
      "910\n",
      "911\n",
      "912\n",
      "913\n",
      "914\n",
      "915\n",
      "916\n",
      "917\n",
      "918\n",
      "919\n",
      "920\n",
      "921\n",
      "922\n",
      "923\n",
      "924\n",
      "925\n",
      "926\n",
      "927\n",
      "928\n",
      "929\n",
      "930\n",
      "931\n",
      "932\n",
      "933\n",
      "934\n",
      "935\n",
      "936\n",
      "937\n",
      "938\n",
      "939\n",
      "940\n",
      "941\n",
      "942\n",
      "943\n",
      "944\n",
      "945\n",
      "946\n",
      "947\n",
      "948\n",
      "949\n",
      "950\n",
      "951\n",
      "952\n",
      "953\n",
      "954\n",
      "955\n",
      "956\n",
      "957\n",
      "958\n",
      "959\n",
      "960\n",
      "961\n",
      "962\n",
      "963\n",
      "964\n",
      "965\n",
      "966\n",
      "967\n",
      "968\n",
      "969\n",
      "970\n",
      "971\n",
      "972\n",
      "973\n",
      "974\n",
      "975\n",
      "976\n",
      "977\n",
      "978\n",
      "979\n",
      "980\n",
      "981\n",
      "982\n",
      "983\n",
      "984\n",
      "985\n",
      "986\n",
      "987\n",
      "988\n",
      "989\n",
      "990\n",
      "991\n",
      "992\n",
      "993\n",
      "994\n",
      "995\n",
      "996\n",
      "997\n",
      "998\n",
      "999\n"
     ]
    }
   ],
   "source": [
    "a = ( i for i in range(1000) )\n",
    "\n",
    "for i in a:\n",
    "    print(i)"
   ]
  },
  {
   "cell_type": "code",
   "execution_count": 33,
   "id": "13998d47",
   "metadata": {},
   "outputs": [
    {
     "name": "stdout",
     "output_type": "stream",
     "text": [
      "Hello : 홍길동\n",
      "Hi : 홍길동\n"
     ]
    }
   ],
   "source": [
    "def myfunc(func, name):\n",
    "    return func(name)\n",
    "    \n",
    "def Hello(name):\n",
    "    return \"Hello : \" + name\n",
    "\n",
    "def Hi(name):\n",
    "    return \"Hi : \" + name\n",
    "\n",
    "print(myfunc(Hello, \"홍길동\"))\n",
    "print(myfunc(Hi, \"홍길동\"))"
   ]
  },
  {
   "cell_type": "code",
   "execution_count": null,
   "id": "768b9e80",
   "metadata": {},
   "outputs": [],
   "source": [
    "def pointSum(n):\n",
    "    def plus(point, add):\n",
    "        return point + add\n",
    "    \n",
    "    point = 0\n",
    "    for i in range(0, n+1):\n",
    "        point = plus(point,i)\n",
    "    return point\n",
    "\n"
   ]
  },
  {
   "cell_type": "code",
   "execution_count": 37,
   "id": "63e22b4f",
   "metadata": {},
   "outputs": [
    {
     "name": "stdout",
     "output_type": "stream",
     "text": [
      "********************\n",
      "inner main\n",
      "********************\n"
     ]
    }
   ],
   "source": [
    "def inner():\n",
    "    print(\"inner main\")\n",
    "    \n",
    "def outer(func):\n",
    "    print(\"*\" * 20)\n",
    "    func()\n",
    "    print(\"*\" * 20)\n",
    "    \n",
    "outer(inner)    "
   ]
  },
  {
   "cell_type": "code",
   "execution_count": 42,
   "id": "8731f12f",
   "metadata": {},
   "outputs": [
    {
     "name": "stdout",
     "output_type": "stream",
     "text": [
      "********************\n",
      "inner main\n",
      "********************\n"
     ]
    }
   ],
   "source": [
    "def inner():\n",
    "    print(\"inner main\")\n",
    "    \n",
    "def outer(func):    \n",
    "    def wrapper():        \n",
    "        print(\"*\" * 20)\n",
    "        func()\n",
    "        print(\"*\" * 20)\n",
    "        \n",
    "    return wrapper\n",
    "    \n",
    "a = outer(inner)    \n",
    "a()"
   ]
  },
  {
   "cell_type": "code",
   "execution_count": 43,
   "id": "e2c4b593",
   "metadata": {},
   "outputs": [
    {
     "name": "stdout",
     "output_type": "stream",
     "text": [
      "********************\n",
      "inner main\n",
      "********************\n"
     ]
    }
   ],
   "source": [
    "def outer(func):    \n",
    "    def wrapper():        \n",
    "        print(\"*\" * 20)\n",
    "        func()\n",
    "        print(\"*\" * 20)\n",
    "        \n",
    "    return wrapper\n",
    "\n",
    "@outer\n",
    "def inner():\n",
    "    print(\"inner main\")\n",
    "\n",
    "inner()    "
   ]
  },
  {
   "cell_type": "code",
   "execution_count": null,
   "id": "f798f7fd",
   "metadata": {},
   "outputs": [],
   "source": [
    "def tagadd(func):\n",
    "    def wrapper():\n",
    "        return \"<p>\" + func() + \"<p>\"\n",
    "    return wrapper\n",
    "\n",
    "@tagadd\n",
    "def name():\n",
    "    return \"홍길동\"\n",
    "\n",
    "@tagadd\n",
    "def city():\n",
    "    return \"도시\"\n",
    "\n",
    "print(name())\n",
    "print(city())"
   ]
  },
  {
   "cell_type": "code",
   "execution_count": 46,
   "id": "92d5ece9",
   "metadata": {},
   "outputs": [
    {
     "name": "stdout",
     "output_type": "stream",
     "text": [
      "********************\n",
      "데코레이터\n",
      "********************\n"
     ]
    }
   ],
   "source": [
    "class Outer:\n",
    "    def __init__(self, func):\n",
    "        self.func = func\n",
    "    def __call__(self):\n",
    "        print(\"*\" * 20)\n",
    "        self.func()\n",
    "        print(\"*\" * 20)\n",
    "\n",
    "@Outer        \n",
    "def inner():\n",
    "    print(\"데코레이터\")\n",
    "    \n",
    "inner()"
   ]
  },
  {
   "cell_type": "code",
   "execution_count": 68,
   "id": "c1ce2ece",
   "metadata": {},
   "outputs": [],
   "source": [
    "from tkinter import *\n",
    "\n",
    "main = Tk()\n",
    "main.title(\"윈도우화면\")\n",
    "main.geometry(\"500x500\")\n",
    "\n",
    "lbl = Label(main, text=\"라벨\", font = \"arial 15\")\n",
    "lbl.pack()\n",
    "\n",
    "def appleClick():\n",
    "    lbl[\"text\"] = \"Apple\"\n",
    "    \n",
    "def orangeClick():\n",
    "    lbl[\"text\"] = \"Orange\"\n",
    "\n",
    "    \n",
    "apple = Button(main, text=\"Apple\", font = \"arial 15\", foreground=\"Red\", command = appleClick)\n",
    "apple.pack()\n",
    "\n",
    "orange = Button(main, text=\"Orange\", font = \"arial 15\", foreground=\"Green\", command = orangeClick)\n",
    "orange.pack()\n",
    "    \n",
    "main.mainloop()"
   ]
  },
  {
   "cell_type": "code",
   "execution_count": 2,
   "id": "4a739e8e",
   "metadata": {},
   "outputs": [],
   "source": [
    "from tkinter import *\n",
    "import tkinter.messagebox\n",
    "import tkinter.simpledialog\n",
    "\n",
    "main = Tk()\n",
    "main.title(\"윈도우\")\n",
    "main.geometry(\"500x500\")\n",
    "\n",
    "lbl1 = Label(main, text=\"Label1\", font=\"arial 15\")\n",
    "lbl1.pack()\n",
    "\n",
    "lbl2= Label(main, text=\"Label2\", font=\"arial 15\")\n",
    "lbl2.pack()\n",
    "\n",
    "lbl3= Label(main, text=\"Label3\", font=\"arial 15\")\n",
    "lbl3.pack()\n",
    "\n",
    "lbl4= Label(main, text=\"Label4\", font=\"arial 15\")\n",
    "lbl4.pack()\n",
    "\n",
    "lbl5 = Label(main, text=\"Label5\", font=\"arial 15\")\n",
    "lbl5.pack()\n",
    "\n",
    "lbl6 = Label(main, text=\"Label6\", font=\"arial 15\")\n",
    "lbl6.pack()\n",
    "\n",
    "lbl7 = Label(main, text=\"Label7\", font=\"arial 15\")\n",
    "lbl7.pack()\n",
    "\n",
    "tkinter.messagebox.showinfo(\"정보\", \"showinfo 함수\")\n",
    "tkinter.messagebox.showwarning(\"경고\", \"showwarning 함수\")\n",
    "tkinter.messagebox.showinfo(\"에러\", \"showerror 함수\")\n",
    "\n",
    "a = tkinter.messagebox.askyesnocancel(\"선택\", \"askyesnocancel 함수\")\n",
    "b = tkinter.messagebox.askokcancel(\"선택\", \"askokcancel 함수\")\n",
    "c = tkinter.messagebox.askretrycancel(\"선택\", \"askretrycancel 함수\")\n",
    "d = tkinter.messagebox.askquestion(\"선택\", \"askquestion 함수\")\n",
    "\n",
    "lbl1[\"text\"] = a\n",
    "lbl2[\"text\"] = b\n",
    "lbl3[\"text\"] = c\n",
    "lbl4[\"text\"] = d\n",
    "\n",
    "def askQuestion():\n",
    "    e = tkinter.simpledialog.askstring(\"선택\", \"askstring 함수\")\n",
    "    f = tkinter.simpledialog.askstring(\"선택\", \"askinteger 함수\")\n",
    "    g = tkinter.simpledialog.askfloat(\"선택\", \"askfloat 함수\")\n",
    "    \n",
    "    lbl5[\"text\"] = e\n",
    "    lbl6[\"text\"] = f\n",
    "    lbl7[\"text\"] = g\n",
    "    \n",
    "btn = Button(main, text=\"클릭\", command=askQuestion)\n",
    "btn.pack()\n",
    "\n",
    "main.mainloop()"
   ]
  },
  {
   "cell_type": "code",
   "execution_count": 4,
   "id": "4ee2cc78",
   "metadata": {},
   "outputs": [],
   "source": [
    "from tkinter import *\n",
    "import tkinter.messagebox\n",
    "\n",
    "main = Tk()\n",
    "main.title(\"menu\")\n",
    "\n",
    "menubar = Menu(main)\n",
    "main.config(menu=menubar)\n",
    "menubar.add_command(label=\"파일\")\n",
    "menubar.add_command(label=\"도구\")\n",
    "menubar.add_command(label=\"종료\")\n",
    "\n",
    "def show():\n",
    "    tkinter.messagebox.showinfo(\"확인\", \"팝업확인\")\n",
    "    \n",
    "popup = Menu(menubar)\n",
    "menubar.add_cascade(label=\"팝업메뉴\", menu=popup)\n",
    "popup.add_command(label=\"팝업확인\", command=show)\n",
    "popup.add_command(label=\"팝업닫기\")\n",
    "\n",
    "main.mainloop()"
   ]
  },
  {
   "cell_type": "code",
   "execution_count": null,
   "id": "3eb414f9",
   "metadata": {},
   "outputs": [],
   "source": []
  },
  {
   "cell_type": "code",
   "execution_count": null,
   "id": "7ee55449",
   "metadata": {},
   "outputs": [],
   "source": []
  }
 ],
 "metadata": {
  "kernelspec": {
   "display_name": "Python 3 (ipykernel)",
   "language": "python",
   "name": "python3"
  },
  "language_info": {
   "codemirror_mode": {
    "name": "ipython",
    "version": 3
   },
   "file_extension": ".py",
   "mimetype": "text/x-python",
   "name": "python",
   "nbconvert_exporter": "python",
   "pygments_lexer": "ipython3",
   "version": "3.9.10"
  }
 },
 "nbformat": 4,
 "nbformat_minor": 5
}
