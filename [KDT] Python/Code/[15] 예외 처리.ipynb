{
 "cells": [
  {
   "cell_type": "markdown",
   "metadata": {},
   "source": [
    "# [실습1 : 5 ~ 8]\n",
    "\n",
    "# 1. 예외 처리\n",
    "\n",
    "## 1) 예외 처리 구문"
   ]
  },
  {
   "cell_type": "markdown",
   "metadata": {},
   "source": [
    "* 예외처리 미적용"
   ]
  },
  {
   "cell_type": "code",
   "execution_count": null,
   "metadata": {},
   "outputs": [],
   "source": [
    "a = 10\n",
    "b = 0\n",
    "\n",
    "c = a / b"
   ]
  },
  {
   "cell_type": "markdown",
   "metadata": {},
   "source": [
    "* try, except 기본 구문"
   ]
  },
  {
   "cell_type": "code",
   "execution_count": null,
   "metadata": {},
   "outputs": [],
   "source": [
    "# 예제) 0으로 나눌 경우 발생하는 예외 예제\n",
    "# 설명문) a변수에는 10을, b변수에는 0을 대입\n",
    "#         try 구문 활용\n",
    "#         a를 b로 나눈 후 c 변수에 저장\n",
    "#         c 변수 출력\n",
    "#         예외처리를 위해 except 구문 사용\n",
    "#         예외발생 시 \"error 발생\" 출력\n",
    "\n",
    "a = 10\n",
    "b = 0\n",
    "\n",
    "try:\n",
    "    c = a / b\n",
    "    print(c)\n",
    "except:\n",
    "    print(\"오류가 발생하였습니다.\")"
   ]
  },
  {
   "cell_type": "markdown",
   "metadata": {},
   "source": [
    "### 2) 예외 종류별 예외처리\n",
    "\n",
    "* ZeroDivisionError 예외처리"
   ]
  },
  {
   "cell_type": "code",
   "execution_count": null,
   "metadata": {},
   "outputs": [],
   "source": [
    "# 설명문) a변수에는 10을, b변수에는 0을 대입\n",
    "#         try 구문 활용\n",
    "#         a를 b로 나눈 후 c 변수에 저장\n",
    "#         c 변수 출력\n",
    "#         예외처리를 위해 except 구문 사용\n",
    "#         ZeroDivisionError 예외발생 시 except 구문 사용\n",
    "#         \"ZeroDivisionError error 발생\" 출력\n",
    "\n",
    "a = 10\n",
    "b = 0\n",
    "\n",
    "try:\n",
    "    c = a / b\n",
    "    print(c)\n",
    "except ZeroDivisionError:\n",
    "    print(\"0 으로는 나눌 수 없습니다.\")"
   ]
  },
  {
   "cell_type": "markdown",
   "metadata": {},
   "source": [
    "* NameError 예외처리"
   ]
  },
  {
   "cell_type": "code",
   "execution_count": null,
   "metadata": {},
   "outputs": [],
   "source": [
    "try:\n",
    "    print(aa)\n",
    "except NameError:\n",
    "    print(\"변수를 초기화해주세요.\")"
   ]
  },
  {
   "cell_type": "markdown",
   "metadata": {},
   "source": [
    "* ValueError 예외처리"
   ]
  },
  {
   "cell_type": "code",
   "execution_count": null,
   "metadata": {},
   "outputs": [],
   "source": [
    "a = \"abc\"\n",
    "\n",
    "try:\n",
    "    b = int(a)\n",
    "except ValueError:\n",
    "    print(\"값의 형식이 맞지 않습니다.\")"
   ]
  },
  {
   "cell_type": "markdown",
   "metadata": {},
   "source": [
    "* IndexError 예외처리"
   ]
  },
  {
   "cell_type": "code",
   "execution_count": null,
   "metadata": {},
   "outputs": [],
   "source": [
    "a = \"abc\"\n",
    "\n",
    "try:\n",
    "    print(a[4])\n",
    "except IndexError:\n",
    "    print(\"인덱스 범위를 벗어났습니다.\")"
   ]
  },
  {
   "cell_type": "markdown",
   "metadata": {},
   "source": [
    "* TypeError 예외처리"
   ]
  },
  {
   "cell_type": "code",
   "execution_count": null,
   "metadata": {},
   "outputs": [],
   "source": [
    "a = 1\n",
    "b = 'a'\n",
    "\n",
    "try:\n",
    "    c = a + b\n",
    "except TypeError:\n",
    "    print(\"+ 연산은 동일한 자료형인 경우 가능합니다.\")"
   ]
  },
  {
   "cell_type": "markdown",
   "metadata": {},
   "source": [
    "# [실습 2 : 9 ~ 11]\n",
    "\n",
    "### 3) 발생 오류 메시지 변수 포함"
   ]
  },
  {
   "cell_type": "code",
   "execution_count": null,
   "metadata": {},
   "outputs": [],
   "source": [
    "a = 10\n",
    "b = 0\n",
    "\n",
    "try:\n",
    "    c = a / b\n",
    "except ZeroDivisionError as e:\n",
    "    print(e)\n"
   ]
  },
  {
   "cell_type": "markdown",
   "metadata": {},
   "source": [
    "### 4) finally 구문\n",
    "\n",
    "* file open 포함 블록에서 에러 발생 시 finally에서 file close"
   ]
  },
  {
   "cell_type": "code",
   "execution_count": null,
   "metadata": {},
   "outputs": [],
   "source": [
    "try:\n",
    "    f = open(\"abc.txt\", \"w\")\n",
    "    c = 10 / 0\n",
    "    f.write(str(c))\n",
    "except ZeroDivisionError as e:\n",
    "    print(\"오류 발생 : \", e)\n",
    "finally:\n",
    "    f.close()\n",
    "    print(\"file을 close하였습니다.\")"
   ]
  },
  {
   "cell_type": "markdown",
   "metadata": {},
   "source": [
    "### 5) 여러 개 오류 처리\n",
    "\n",
    "*  여러 개 오류 처리 : 각각 오류 메세지 변수 포함"
   ]
  },
  {
   "cell_type": "code",
   "execution_count": null,
   "metadata": {},
   "outputs": [],
   "source": [
    "try:\n",
    "    c = [1, 2]\n",
    "    print(a)\n",
    "    print(c[2])\n",
    "except IndexError as e1:\n",
    "    print(\"오류 발생 : \", e1)\n",
    "except NameError as e2:\n",
    "    print(\"오류 발생 : \", e2)"
   ]
  },
  {
   "cell_type": "markdown",
   "metadata": {},
   "source": [
    "* 여러 개 오류 처리 : 하나의 오류 메세지 변수에 포함"
   ]
  },
  {
   "cell_type": "code",
   "execution_count": null,
   "metadata": {},
   "outputs": [],
   "source": [
    "try:\n",
    "    c = [1, 2]\n",
    "    print(c[2])\n",
    "    print(a)\n",
    "except (IndexError, NameError) as e:\n",
    "    print(\"오류 발생 : \", e)"
   ]
  },
  {
   "cell_type": "markdown",
   "metadata": {},
   "source": [
    "# [실습 3 : 12 ~ 13p]\n",
    "\n",
    "## 2. 예외 회피 /발생\n",
    "\n",
    "### 1) 예외 회피\n",
    "\n",
    "* 특정 오류 발생 시 PASS 하도록 함"
   ]
  },
  {
   "cell_type": "code",
   "execution_count": 4,
   "metadata": {},
   "outputs": [
    {
     "name": "stdout",
     "output_type": "stream",
     "text": [
      "a\n"
     ]
    }
   ],
   "source": [
    "#P 예제] except 블록에 pass\n",
    "\n",
    "try:\n",
    "    f = open(\"abc.txt\", \"r\")\n",
    "    content = f.read()\n",
    "    print(content)    \n",
    "except FileNotFoundError:\n",
    "    pass\n",
    "\n",
    "print(\"a\")"
   ]
  },
  {
   "cell_type": "markdown",
   "metadata": {},
   "source": [
    "### 2)  예외 발생\n",
    "\n",
    "* 고의적으로 예외를 발생시키는 명령어 raise 실습"
   ]
  },
  {
   "cell_type": "code",
   "execution_count": 5,
   "metadata": {},
   "outputs": [
    {
     "ename": "NotImplementedError",
     "evalue": "",
     "output_type": "error",
     "traceback": [
      "\u001b[1;31m----------------------------------------------------------------\u001b[0m",
      "\u001b[1;31mNotImplementedError\u001b[0m            Traceback (most recent call last)",
      "Input \u001b[1;32mIn [5]\u001b[0m, in \u001b[0;36m<cell line: 12>\u001b[1;34m()\u001b[0m\n\u001b[0;32m      9\u001b[0m     \u001b[38;5;28;01mpass\u001b[39;00m\n\u001b[0;32m     11\u001b[0m clubmember \u001b[38;5;241m=\u001b[39m ClubMember()\n\u001b[1;32m---> 12\u001b[0m \u001b[43mclubmember\u001b[49m\u001b[38;5;241;43m.\u001b[39;49m\u001b[43mset_data\u001b[49m\u001b[43m(\u001b[49m\u001b[43m)\u001b[49m\n",
      "Input \u001b[1;32mIn [5]\u001b[0m, in \u001b[0;36mPerson.set_data\u001b[1;34m(self)\u001b[0m\n\u001b[0;32m      5\u001b[0m \u001b[38;5;28;01mdef\u001b[39;00m \u001b[38;5;21mset_data\u001b[39m(\u001b[38;5;28mself\u001b[39m):\n\u001b[1;32m----> 6\u001b[0m     \u001b[38;5;28;01mraise\u001b[39;00m \u001b[38;5;167;01mNotImplementedError\u001b[39;00m\n",
      "\u001b[1;31mNotImplementedError\u001b[0m: "
     ]
    }
   ],
   "source": [
    "# 부모 클래스의 set_data() 함수를 사용할 경우에\n",
    "# 파이썬 내장 예외인 NotImplementedError 발생\n",
    "\n",
    "class Person:\n",
    "    def set_data(self):\n",
    "        raise NotImplementedError\n",
    "        \n",
    "class ClubMember(Person):\n",
    "    pass\n",
    "\n",
    "clubmember = ClubMember()\n",
    "clubmember.set_data()"
   ]
  },
  {
   "cell_type": "markdown",
   "metadata": {},
   "source": [
    "# [실습 4 : 14 ~ 15p]\n",
    "\n",
    "## 3. 예외 만들기"
   ]
  },
  {
   "cell_type": "markdown",
   "metadata": {},
   "source": [
    "* 예외 클래스 생성 : Exception 상속"
   ]
  },
  {
   "cell_type": "code",
   "execution_count": null,
   "metadata": {},
   "outputs": [],
   "source": [
    "#P 예제] 예외 클래스 : CustomError 생성\n",
    "\n",
    "class CustomError(Exception):\n",
    "    pass"
   ]
  },
  {
   "cell_type": "markdown",
   "metadata": {},
   "source": [
    "* raise로 예외 발생"
   ]
  },
  {
   "cell_type": "code",
   "execution_count": null,
   "metadata": {},
   "outputs": [],
   "source": [
    "#P 예제] 예외 발생\n",
    "\n",
    "def input_data(a):\n",
    "    if a == 0:\n",
    "        raise CustomError\n",
    "    print(a)\n",
    "    \n",
    "a = float(input(\"0을 제외한 숫자를 입력하세요 : \"))\n",
    "input_data(a)"
   ]
  },
  {
   "cell_type": "markdown",
   "metadata": {},
   "source": [
    "* 예외 발생 시 예외 처리"
   ]
  },
  {
   "cell_type": "code",
   "execution_count": null,
   "metadata": {},
   "outputs": [],
   "source": [
    "#P 예제] 예외 발생 시 예외 처리\n",
    "\n",
    "def input_data(a):\n",
    "    if a == 0:\n",
    "        raise CustomError\n",
    "    print(a)\n",
    "    \n",
    "try:\n",
    "    a = float(input(\"0을 제외한 숫자를 입력하세요 : \"))\n",
    "    input_data(a)\n",
    "except CustomError:\n",
    "    print(\"0을 입력하셨습니다.\")\n",
    "except:\n",
    "    print(\"알 수 없는 오류가 발생하였습니다.\")"
   ]
  }
 ],
 "metadata": {
  "kernelspec": {
   "display_name": "Python 3 (ipykernel)",
   "language": "python",
   "name": "python3"
  },
  "language_info": {
   "codemirror_mode": {
    "name": "ipython",
    "version": 3
   },
   "file_extension": ".py",
   "mimetype": "text/x-python",
   "name": "python",
   "nbconvert_exporter": "python",
   "pygments_lexer": "ipython3",
   "version": "3.9.10"
  }
 },
 "nbformat": 4,
 "nbformat_minor": 2
}
