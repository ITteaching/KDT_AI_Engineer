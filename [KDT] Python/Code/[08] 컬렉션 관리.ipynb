{
 "cells": [
  {
   "cell_type": "markdown",
   "metadata": {},
   "source": [
    "# [실습1 : 5 ~ 6p]\n",
    "\n",
    "## 01. 컬렉션 관리 함수\n",
    "\n",
    "### 1) enumerate\n",
    "\n",
    "* 자료형의 요소와 순서를 튜플로 반환"
   ]
  },
  {
   "cell_type": "code",
   "execution_count": 1,
   "metadata": {},
   "outputs": [
    {
     "name": "stdout",
     "output_type": "stream",
     "text": [
      "[(1, 31), (2, 28), (3, 31), (4, 30), (5, 31), (6, 30), (7, 31), (8, 31), (9, 30), (10, 31), (11, 30), (12, 31)]\n"
     ]
    }
   ],
   "source": [
    "# 예제) enumerate 함수 사용 : 1월부터 12월까지 일수 리스트 생성\n",
    "\n",
    "last_day = [31, 28, 31, 30, 31, 30, 31, 31, 30, 31, 30, 31] \n",
    "\n",
    "print(list(enumerate(last_day,1)))"
   ]
  },
  {
   "cell_type": "markdown",
   "metadata": {},
   "source": [
    "* for 반복문을 통한 개별 요소 출력"
   ]
  },
  {
   "cell_type": "code",
   "execution_count": null,
   "metadata": {},
   "outputs": [],
   "source": [
    "# enumerate 함수를 사용하여, \n",
    "# 출력 : \"00월의 마지막 날짜는 000 입니다. \"\n",
    "\n",
    "a = list(enumerate(last_day,1))\n",
    "\n",
    "for mon, day in a:\n",
    "    print(f\"{mon}월의 마지막 날짜는 {day} 입니다. \")\n",
    "    \n",
    "for mon, day in list(enumerate(last_day,1)):\n",
    "    print(f\"{mon}월의 마지막 날짜는 {day} 입니다. \")"
   ]
  },
  {
   "cell_type": "markdown",
   "metadata": {},
   "source": [
    "* 딕셔너리 자료형으로 출력"
   ]
  },
  {
   "cell_type": "code",
   "execution_count": null,
   "metadata": {},
   "outputs": [],
   "source": [
    "print(dict(enumerate(last_day,1)))"
   ]
  },
  {
   "cell_type": "markdown",
   "metadata": {},
   "source": [
    "### 2) zip\n",
    "\n",
    "* 월 리스트와 월별 일수 리스트 생성하여 딕셔너리와 리스트로 만들기"
   ]
  },
  {
   "cell_type": "code",
   "execution_count": null,
   "metadata": {},
   "outputs": [],
   "source": [
    "mons = [\"1월\", \"2월\", \"3월\", \"4월\", \"5월\", \"6월\", \"7월\", \"8월\", \"9월\", \"10월\", \"11월\", \"12월\"]\n",
    "last_day = [31, 28, 31, 30, 31, 30, 31, 31, 30, 31, 30, 31] \n",
    "\n",
    "print(dict(zip(mons,last_day)))\n",
    "\n",
    "print(list(zip(mons,last_day)))"
   ]
  },
  {
   "cell_type": "markdown",
   "metadata": {},
   "source": [
    "# [실습 2 : 7 ~ 9p]\n",
    "\n",
    "## 02. 람다 함수\n",
    "\n",
    "### 1) filter()\n",
    "\n",
    "* 조건체크 함수 생성, 숫자 리스트 생성, filter 적용"
   ]
  },
  {
   "cell_type": "code",
   "execution_count": 2,
   "metadata": {},
   "outputs": [
    {
     "name": "stdout",
     "output_type": "stream",
     "text": [
      "True\n",
      "[50, 60, 70, 80, 90, 100]\n"
     ]
    }
   ],
   "source": [
    "def ftest(point):\n",
    "    return point + 20 > 60\n",
    "\n",
    "print(ftest(50))\n",
    "\n",
    "points = [10, 20, 30, 40, 50, 60, 70, 80, 90, 100]\n",
    "\n",
    "print(list(filter(ftest, points)))"
   ]
  },
  {
   "cell_type": "markdown",
   "metadata": {},
   "source": [
    "### 2) map()\n",
    "\n",
    "* map 함수 (인자:리스트 1개): 연산 함수 생성, 숫자 리스트 생성, map 적용"
   ]
  },
  {
   "cell_type": "code",
   "execution_count": 3,
   "metadata": {},
   "outputs": [
    {
     "name": "stdout",
     "output_type": "stream",
     "text": [
      "84.0\n",
      "[12.0, 24.0, 36.0, 48.0, 60.0, 72.0, 84.0, 96.0, 108.0, 120.0]\n"
     ]
    }
   ],
   "source": [
    "def mtest(point):\n",
    "    return point * 1.2\n",
    "\n",
    "print(mtest(70))\n",
    "\n",
    "points = [10, 20, 30, 40, 50, 60, 70, 80, 90, 100]\n",
    "\n",
    "print(list(map(mtest, points)))"
   ]
  },
  {
   "cell_type": "markdown",
   "metadata": {},
   "source": [
    "* map 함수 (인자:리스트 2개): 연산 함수 생성, 숫자 리스트 생성, map 적용"
   ]
  },
  {
   "cell_type": "code",
   "execution_count": null,
   "metadata": {},
   "outputs": [],
   "source": [
    "def mtest_weight(point,weight):\n",
    "    return point * weight\n",
    "\n",
    "print(mtest_weight(5, 2))\n",
    "\n",
    "points = [10, 20, 30, 40, 50, 60, 70, 80, 90, 100]\n",
    "weights = [1.0, 0.9, 0.8, 0.7, 0.6, 0.5, 0.4, 0.3, 0.2, 0.1]\n",
    "\n",
    "print(list(map(mtest_weight, points, weights)))\n",
    "\n",
    "for point in map(mtest_weight, points, weights):\n",
    "     print(point, end=',')        "
   ]
  },
  {
   "cell_type": "markdown",
   "metadata": {},
   "source": [
    "### 3) lambda()\n",
    "\n",
    "* filter 예제를 lambda 함수 활용하여 변경"
   ]
  },
  {
   "cell_type": "code",
   "execution_count": 4,
   "metadata": {},
   "outputs": [
    {
     "name": "stdout",
     "output_type": "stream",
     "text": [
      "[50, 60, 70, 80, 90, 100]\n",
      "50,60,70,80,90,100,"
     ]
    }
   ],
   "source": [
    "points = [10, 20, 30, 40, 50, 60, 70, 80, 90, 100]\n",
    "\n",
    "print(list(filter(lambda point:point+20 > 60, points)))\n",
    "\n",
    "for point in filter(lambda point:point+20 > 60, points):\n",
    "    print(point, end=',')"
   ]
  },
  {
   "cell_type": "markdown",
   "metadata": {},
   "source": [
    "* map 예제를 lambda 함수 활용하여 변경"
   ]
  },
  {
   "cell_type": "code",
   "execution_count": null,
   "metadata": {},
   "outputs": [],
   "source": [
    "points = [10, 20, 30, 40, 50, 60, 70, 80, 90, 100]\n",
    "\n",
    "print(list(map(lambda point:point * 1.2, points)))\n",
    "\n",
    "for point in map(lambda point:point * 1.2, points):\n",
    "     print(point, end=',')"
   ]
  },
  {
   "cell_type": "markdown",
   "metadata": {},
   "source": [
    "# [실습 3 : 10 ~ 13p]\n",
    "\n",
    "## 03. 컬렉션의 사본\n",
    "\n",
    "### 1) 리스트의 사본\n",
    "\n",
    "* 기본형(정수형) 변수 : 사본 생성 후 original, 사본 값 출력"
   ]
  },
  {
   "cell_type": "code",
   "execution_count": null,
   "metadata": {},
   "outputs": [],
   "source": [
    "a = 10\n",
    "b = a\n",
    "print(a,b)"
   ]
  },
  {
   "cell_type": "markdown",
   "metadata": {},
   "source": [
    "* 기본형(정수형) 변수 : original 변수, 사본 id값 확인"
   ]
  },
  {
   "cell_type": "code",
   "execution_count": null,
   "metadata": {},
   "outputs": [],
   "source": [
    "print(id(a))\n",
    "print(id(b))"
   ]
  },
  {
   "cell_type": "markdown",
   "metadata": {},
   "source": [
    "* 기본형(정수형) 변수 : orginal 변수 값 변경 후 사본 값 및 id값 확인"
   ]
  },
  {
   "cell_type": "code",
   "execution_count": null,
   "metadata": {},
   "outputs": [],
   "source": [
    "a = 20\n",
    "\n",
    "print(a)\n",
    "print(b)\n",
    "print(id(a))\n",
    "print(id(b))"
   ]
  },
  {
   "cell_type": "markdown",
   "metadata": {},
   "source": [
    "* 리스트형 변수(요소 값 변경): 사본 생성 후 original, 사본 값 출력"
   ]
  },
  {
   "cell_type": "code",
   "execution_count": null,
   "metadata": {},
   "outputs": [],
   "source": [
    "a = [10, 20, 30, 40, 50]\n",
    "b = a\n",
    "\n",
    "print(a)\n",
    "print(b)"
   ]
  },
  {
   "cell_type": "markdown",
   "metadata": {},
   "source": [
    "* 리스트형 변수(요소 값 변경): original 변수, 사본 id값 확인"
   ]
  },
  {
   "cell_type": "code",
   "execution_count": null,
   "metadata": {},
   "outputs": [],
   "source": [
    "print(id(a))\n",
    "print(id(b))"
   ]
  },
  {
   "cell_type": "markdown",
   "metadata": {},
   "source": [
    "* 리스트형 변수(요소 값 변경) : orginal 변수 값 변경 후 사본 값 및 id값 확인"
   ]
  },
  {
   "cell_type": "code",
   "execution_count": null,
   "metadata": {},
   "outputs": [],
   "source": [
    "a[1] = 100\n",
    "\n",
    "print(a)\n",
    "print(b)\n",
    "print(id(a))\n",
    "print(id(b))"
   ]
  },
  {
   "cell_type": "markdown",
   "metadata": {},
   "source": [
    "### 2) 리스트 copy"
   ]
  },
  {
   "cell_type": "markdown",
   "metadata": {},
   "source": [
    "* copy() 함수 : copy로 original, 사본 리스트 생성"
   ]
  },
  {
   "cell_type": "code",
   "execution_count": null,
   "metadata": {},
   "outputs": [],
   "source": [
    "a = [10, 20, 30, 40, 50]\n",
    "b = a.copy()\n",
    "\n",
    "print(a)\n",
    "print(b)"
   ]
  },
  {
   "cell_type": "markdown",
   "metadata": {},
   "source": [
    "* copy() 함수 : original 변수, 사본 id값 확인"
   ]
  },
  {
   "cell_type": "code",
   "execution_count": null,
   "metadata": {},
   "outputs": [],
   "source": [
    "print(id(a))\n",
    "print(id(b))"
   ]
  },
  {
   "cell_type": "markdown",
   "metadata": {},
   "source": [
    "* copy() 함수 : orginal 변수 값 변경 후 사본 값 및 id값 확인"
   ]
  },
  {
   "cell_type": "code",
   "execution_count": null,
   "metadata": {},
   "outputs": [],
   "source": [
    "a[1] = 100\n",
    "\n",
    "print(a)\n",
    "print(b)\n",
    "print(id(a))\n",
    "print(id(b))"
   ]
  },
  {
   "cell_type": "markdown",
   "metadata": {},
   "source": [
    "* 슬라이싱으로 리스트 copy하기 : [:]"
   ]
  },
  {
   "cell_type": "code",
   "execution_count": null,
   "metadata": {},
   "outputs": [],
   "source": [
    "a = [10, 20, 30, 40, 50]\n",
    "b = a[:]\n",
    "\n",
    "print(a)\n",
    "print(b)\n",
    "\n",
    "a[1] = 100\n",
    "\n",
    "print(a)\n",
    "print(b)\n",
    "print(id(a))\n",
    "print(id(b))"
   ]
  },
  {
   "cell_type": "markdown",
   "metadata": {},
   "source": [
    "* 이중리스트인 경우 copy() : 리스트 사본 생성"
   ]
  },
  {
   "cell_type": "code",
   "execution_count": null,
   "metadata": {},
   "outputs": [],
   "source": [
    "a = [10, 20, 30, [1, 2, 3], 50]\n",
    "b = a.copy()\n",
    "\n",
    "print(a)\n",
    "print(b)\n",
    "\n",
    "a[1] = 100\n",
    "a[3][0] = 100\n",
    "\n",
    "print(a)\n",
    "print(b)\n",
    "print(id(a))\n",
    "print(id(b))\n",
    "\n",
    "print(id(a[3]))\n",
    "print(id(b[3]))"
   ]
  },
  {
   "cell_type": "markdown",
   "metadata": {},
   "source": [
    "* deepcopy() : 중첩리스트의 사본 생성"
   ]
  },
  {
   "cell_type": "code",
   "execution_count": null,
   "metadata": {},
   "outputs": [],
   "source": [
    "import copy\n",
    "\n",
    "a = [10, 20, 30, [1, 2, 3], 50]\n",
    "b = copy.deepcopy(a)\n",
    "\n",
    "print(a)\n",
    "print(b)\n",
    "\n",
    "a[1] = 100\n",
    "a[3][0] = 100\n",
    "\n",
    "print(a)\n",
    "print(b)\n",
    "print(id(a))\n",
    "print(id(b))\n",
    "\n",
    "print(id(a[3]))\n",
    "print(id(b[3]))"
   ]
  },
  {
   "cell_type": "markdown",
   "metadata": {},
   "source": [
    "### 3) is 연산자\n",
    "\n",
    "* 리스트 생성하여 copy하고 id 출력하기"
   ]
  },
  {
   "cell_type": "code",
   "execution_count": null,
   "metadata": {},
   "outputs": [],
   "source": [
    "a = [1, 2, 3, 4, 5]\n",
    "b = a\n",
    "c = a.copy()\n",
    "\n",
    "print(id(a))\n",
    "print(id(b))\n",
    "print(id(c))"
   ]
  },
  {
   "cell_type": "markdown",
   "metadata": {},
   "source": [
    "* 리스트 3개 각각 is 연산자로 같은 객체인지 확인하기"
   ]
  },
  {
   "cell_type": "code",
   "execution_count": null,
   "metadata": {},
   "outputs": [],
   "source": [
    "print(a is b)\n",
    "print(a is c)\n",
    "print(b is c)"
   ]
  },
  {
   "cell_type": "code",
   "execution_count": null,
   "metadata": {},
   "outputs": [],
   "source": [
    "# 참고) 리스트 3개 각각 is 연산자로 같은 객체인지 확인하기\n",
    "\n",
    "a = \"AB\"\n",
    "b = \"AB\"\n",
    "c = b\n",
    "\n",
    "print(id(a))\n",
    "print(id(b))\n",
    "print(id(c))\n",
    "\n",
    "print(a is b)\n",
    "print(b is c)\n",
    "print(a is c)\n",
    "\n",
    "print(\"==========================\")\n",
    "c = \"CD\"\n",
    "\n",
    "print(id(a))\n",
    "print(id(b))\n",
    "print(id(c))\n",
    "\n",
    "print(a is b)\n",
    "print(b is c)\n",
    "print(a is c)\n",
    "\n",
    "print(\"==========================\")\n",
    "a = [1,2,3]\n",
    "b = [1,2,3]\n",
    "\n",
    "print(id(a))\n",
    "print(id(b))\n",
    "\n",
    "print(a is b)\n",
    "print(b is c)\n"
   ]
  }
 ],
 "metadata": {
  "kernelspec": {
   "display_name": "Python 3 (ipykernel)",
   "language": "python",
   "name": "python3"
  },
  "language_info": {
   "codemirror_mode": {
    "name": "ipython",
    "version": 3
   },
   "file_extension": ".py",
   "mimetype": "text/x-python",
   "name": "python",
   "nbconvert_exporter": "python",
   "pygments_lexer": "ipython3",
   "version": "3.9.10"
  }
 },
 "nbformat": 4,
 "nbformat_minor": 2
}
