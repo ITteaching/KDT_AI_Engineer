{
 "cells": [
  {
   "cell_type": "markdown",
   "metadata": {},
   "source": [
    "# [실습 1 : 10p]\n",
    "\n",
    "## 1. import 구문"
   ]
  },
  {
   "cell_type": "code",
   "execution_count": null,
   "metadata": {},
   "outputs": [],
   "source": [
    "# import 모듈명\n",
    "import math\n",
    "\n",
    "print(math.pow(5, 3))\n",
    "\n",
    "# from 모듈명 import *\n",
    "from math import pow\n",
    "\n",
    "print(pow(5, 3))\n",
    "\n",
    "# from 모듈명 import *\n",
    "from math import *\n",
    "\n",
    "print(pow(5, 3))\n",
    "\n",
    "# from 모듈명 import sqrt as sq\n",
    "from math import pow as p\n",
    "\n",
    "print(p(5,3))"
   ]
  },
  {
   "cell_type": "markdown",
   "metadata": {},
   "source": [
    "# [실습 2 : 11p]\n",
    "\n",
    "## 2. math"
   ]
  },
  {
   "cell_type": "code",
   "execution_count": null,
   "metadata": {},
   "outputs": [],
   "source": [
    "import math"
   ]
  },
  {
   "cell_type": "markdown",
   "metadata": {},
   "source": [
    "* sqrt(x) : x의 제곱근 "
   ]
  },
  {
   "cell_type": "code",
   "execution_count": null,
   "metadata": {},
   "outputs": [],
   "source": [
    "print(math.sqrt(10))"
   ]
  },
  {
   "cell_type": "markdown",
   "metadata": {},
   "source": [
    "* pow(x,y) : x의 y승  "
   ]
  },
  {
   "cell_type": "code",
   "execution_count": null,
   "metadata": {},
   "outputs": [],
   "source": [
    "print(math.pow(3,3))"
   ]
  },
  {
   "cell_type": "markdown",
   "metadata": {},
   "source": [
    "* factorial(x) : x의 계승  "
   ]
  },
  {
   "cell_type": "code",
   "execution_count": null,
   "metadata": {},
   "outputs": [],
   "source": [
    "print(math.factorial(5))"
   ]
  },
  {
   "cell_type": "markdown",
   "metadata": {},
   "source": [
    "* sin(x), cos(x), tan(x) : 삼각함수 계산 "
   ]
  },
  {
   "cell_type": "code",
   "execution_count": null,
   "metadata": {},
   "outputs": [],
   "source": []
  },
  {
   "cell_type": "markdown",
   "metadata": {},
   "source": [
    "* asin(x), acos(x), atan(x) : 역삼각함수 계산"
   ]
  },
  {
   "cell_type": "code",
   "execution_count": null,
   "metadata": {},
   "outputs": [],
   "source": []
  },
  {
   "cell_type": "markdown",
   "metadata": {},
   "source": [
    "* ceil(x) : 올림  "
   ]
  },
  {
   "cell_type": "code",
   "execution_count": null,
   "metadata": {},
   "outputs": [],
   "source": [
    "print(math.ceil(20.33))"
   ]
  },
  {
   "cell_type": "markdown",
   "metadata": {},
   "source": [
    "* floor(x) : 내림 "
   ]
  },
  {
   "cell_type": "code",
   "execution_count": null,
   "metadata": {},
   "outputs": [],
   "source": [
    "print(math.floor(20.33))"
   ]
  },
  {
   "cell_type": "markdown",
   "metadata": {},
   "source": [
    "* fabs(x) : x의 절대값  "
   ]
  },
  {
   "cell_type": "code",
   "execution_count": null,
   "metadata": {},
   "outputs": [],
   "source": [
    "print(math.fabs(-20))"
   ]
  },
  {
   "cell_type": "markdown",
   "metadata": {},
   "source": [
    "* trunc(x) : x의 소숫점 이하 버림  "
   ]
  },
  {
   "cell_type": "code",
   "execution_count": null,
   "metadata": {},
   "outputs": [],
   "source": [
    "print(math.trunc(20.33))"
   ]
  },
  {
   "cell_type": "markdown",
   "metadata": {},
   "source": [
    "* log(x, base) : base에 대한 x의 로그 구함  "
   ]
  },
  {
   "cell_type": "code",
   "execution_count": null,
   "metadata": {},
   "outputs": [],
   "source": [
    "print(math.log(100, 10))"
   ]
  },
  {
   "cell_type": "markdown",
   "metadata": {},
   "source": [
    "* log10(x) : 10의 로그 값, log(x,10)과 동일  "
   ]
  },
  {
   "cell_type": "code",
   "execution_count": null,
   "metadata": {},
   "outputs": [],
   "source": [
    "print(math.log10(100))"
   ]
  },
  {
   "cell_type": "markdown",
   "metadata": {},
   "source": [
    "* math.pi : 원주율 상수"
   ]
  },
  {
   "cell_type": "code",
   "execution_count": null,
   "metadata": {},
   "outputs": [],
   "source": [
    "print(math.pi)"
   ]
  },
  {
   "cell_type": "markdown",
   "metadata": {},
   "source": [
    "# [실습 3 : 12p]\n",
    "\n",
    "## 3. statistics"
   ]
  },
  {
   "cell_type": "code",
   "execution_count": null,
   "metadata": {},
   "outputs": [],
   "source": [
    "import statistics\n",
    "\n",
    "points = [10, 20, 30, 40, 50, 60, 70, 80, 90, 100]"
   ]
  },
  {
   "cell_type": "markdown",
   "metadata": {},
   "source": [
    "* mean() : 평균값  "
   ]
  },
  {
   "cell_type": "code",
   "execution_count": null,
   "metadata": {},
   "outputs": [],
   "source": [
    "print(statistics.mean(points))"
   ]
  },
  {
   "cell_type": "markdown",
   "metadata": {},
   "source": [
    "* median() : 중앙값  "
   ]
  },
  {
   "cell_type": "code",
   "execution_count": null,
   "metadata": {},
   "outputs": [],
   "source": [
    "print(statistics.median(points))"
   ]
  },
  {
   "cell_type": "markdown",
   "metadata": {},
   "source": [
    "* mode() : 최빈값  "
   ]
  },
  {
   "cell_type": "code",
   "execution_count": null,
   "metadata": {},
   "outputs": [],
   "source": [
    "print(statistics.mode(points))"
   ]
  },
  {
   "cell_type": "markdown",
   "metadata": {},
   "source": [
    "* pstdev() : 모표준편차  "
   ]
  },
  {
   "cell_type": "code",
   "execution_count": null,
   "metadata": {},
   "outputs": [],
   "source": [
    "print(statistics.pstdev(points))"
   ]
  },
  {
   "cell_type": "markdown",
   "metadata": {},
   "source": [
    "* stdev() : 표준편차  "
   ]
  },
  {
   "cell_type": "code",
   "execution_count": null,
   "metadata": {},
   "outputs": [],
   "source": [
    "print(statistics.stdev(points))"
   ]
  },
  {
   "cell_type": "markdown",
   "metadata": {},
   "source": [
    "* variance() : 분산  "
   ]
  },
  {
   "cell_type": "code",
   "execution_count": null,
   "metadata": {},
   "outputs": [],
   "source": [
    "print(statistics.variance(points))"
   ]
  },
  {
   "cell_type": "markdown",
   "metadata": {},
   "source": [
    "# [실습 : 13p]\n",
    "\n",
    "## 4. datetime"
   ]
  },
  {
   "cell_type": "markdown",
   "metadata": {},
   "source": [
    "### 1) datetime"
   ]
  },
  {
   "cell_type": "code",
   "execution_count": 1,
   "metadata": {},
   "outputs": [],
   "source": [
    "import datetime"
   ]
  },
  {
   "cell_type": "markdown",
   "metadata": {},
   "source": [
    "* datetime.datetime.now() : 현재 날짜와 시간 구함"
   ]
  },
  {
   "cell_type": "code",
   "execution_count": 19,
   "metadata": {},
   "outputs": [
    {
     "name": "stdout",
     "output_type": "stream",
     "text": [
      "2022-10-13 10:49:22.336772\n",
      "2022\n",
      "10\n",
      "13\n"
     ]
    }
   ],
   "source": [
    "# 날짜와 시간 출력\n",
    "now = datetime.datetime.now()\n",
    "print(now)\n",
    "\n",
    "# 연도, 월, 일자 각각 확인\n",
    "print(now.year)\n",
    "print(now.month)\n",
    "print(now.day)"
   ]
  },
  {
   "cell_type": "markdown",
   "metadata": {},
   "source": [
    "* datetime.datetime.replace() : 날짜 및 시간 변경"
   ]
  },
  {
   "cell_type": "code",
   "execution_count": 23,
   "metadata": {},
   "outputs": [
    {
     "name": "stdout",
     "output_type": "stream",
     "text": [
      "2022-12-31 10:54:23.788775\n"
     ]
    }
   ],
   "source": [
    "now = datetime.datetime.now()\n",
    "now = now.replace(month=12, day=31)\n",
    "\n",
    "print(now)"
   ]
  },
  {
   "cell_type": "markdown",
   "metadata": {},
   "source": [
    "* datetime.date.today() : 날짜 확인"
   ]
  },
  {
   "cell_type": "code",
   "execution_count": 26,
   "metadata": {},
   "outputs": [
    {
     "name": "stdout",
     "output_type": "stream",
     "text": [
      "2022-10-13\n",
      "2022\n",
      "10\n",
      "13\n"
     ]
    }
   ],
   "source": [
    "# 날짜 출력\n",
    "now = datetime.date.today()\n",
    "print(now)\n",
    "\n",
    "# 연도, 월, 일자 각각 확인\n",
    "print(now.year)\n",
    "print(now.month)\n",
    "print(now.day)"
   ]
  },
  {
   "cell_type": "markdown",
   "metadata": {},
   "source": [
    "* timedelta : 시간의 차이 연산을 위해 차이값 셋팅"
   ]
  },
  {
   "cell_type": "code",
   "execution_count": 30,
   "metadata": {},
   "outputs": [
    {
     "name": "stdout",
     "output_type": "stream",
     "text": [
      "100 days, 0:00:00\n",
      "2023-01-21 11:02:48.299777\n",
      "2022-07-05 11:02:48.299777\n"
     ]
    }
   ],
   "source": [
    "# 100일 경과 후 날짜 구하기\n",
    "hundred = datetime.timedelta(days=100)\n",
    "print(hundred)\n",
    "\n",
    "plusday = datetime.datetime.now() + hundred\n",
    "print(plusday)\n",
    "\n",
    "# 100일 전 날짜 구하기\n",
    "minusday = datetime.datetime.now() - hundred\n",
    "print(minusday)"
   ]
  },
  {
   "cell_type": "markdown",
   "metadata": {},
   "source": [
    "# [실습4 : 13p]\n",
    "\n",
    "## 4. time\n",
    "\n",
    "### 1) time모듈내 함수"
   ]
  },
  {
   "cell_type": "code",
   "execution_count": null,
   "metadata": {},
   "outputs": [],
   "source": [
    "import time"
   ]
  },
  {
   "cell_type": "markdown",
   "metadata": {},
   "source": [
    "* time() 함수"
   ]
  },
  {
   "cell_type": "code",
   "execution_count": null,
   "metadata": {},
   "outputs": [],
   "source": [
    "print(time.time())"
   ]
  },
  {
   "cell_type": "markdown",
   "metadata": {},
   "source": [
    "* ctime() : 디폴트로 날짜와 시간을 문자열로 리턴하되 인수로 유닉스 시간을 넘기면 해당 시간을 문자열로 리턴함  "
   ]
  },
  {
   "cell_type": "code",
   "execution_count": null,
   "metadata": {},
   "outputs": [],
   "source": [
    "print(time.ctime())"
   ]
  },
  {
   "cell_type": "code",
   "execution_count": null,
   "metadata": {},
   "outputs": [],
   "source": [
    "# 설명문2) ctime() 함수에 time.time()으로 출력한 값 인자로 전달하여 출력\n",
    "\n",
    "print(time.ctime(time.time()))"
   ]
  },
  {
   "cell_type": "markdown",
   "metadata": {},
   "source": [
    "* localtime() : 지역시간을 고려하여 현지 시간을 구해 struct_time형의 객체를 리턴  "
   ]
  },
  {
   "cell_type": "code",
   "execution_count": null,
   "metadata": {},
   "outputs": [],
   "source": [
    "# 설명문1) localtime() 함수 결과를 now 변수에 대입\n",
    "#          now 변수 출력\n",
    "\n",
    "now = time.localtime()\n",
    "print(now)"
   ]
  },
  {
   "cell_type": "code",
   "execution_count": null,
   "metadata": {},
   "outputs": [],
   "source": [
    "# 설명문2) now 변수가 가지고 있는 각 요소들 중 tm_year, tm_mon, tm_mday 각각 출력\n",
    "print(now.tm_year)\n",
    "print(now.tm_mon)\n",
    "print(now.tm_mday)"
   ]
  },
  {
   "cell_type": "code",
   "execution_count": null,
   "metadata": {},
   "outputs": [],
   "source": [
    "# 설명문3) 0000년 00월 00일 00:00:00 로 출력\n",
    "print(f\"{now.tm_year}년 {now.tm_mon}월 {now.tm_mday}일 {now.tm_hour}:{now.tm_min}:{now.tm_sec}\")"
   ]
  },
  {
   "cell_type": "code",
   "execution_count": null,
   "metadata": {},
   "outputs": [],
   "source": [
    "# 설명문4) localtime() 함수에 time.time()으로 출력한 값 인자로 전달하여 출력\n",
    "print(time.localtime(1654771998.7147245))"
   ]
  },
  {
   "cell_type": "markdown",
   "metadata": {},
   "source": [
    "* asctime() : 위 time.localtime에 의해서 반환된 튜플 형태의 값을 인수로 받아서 날짜와 시간을 알아보기 쉬운 형태로 돌려주는 함수"
   ]
  },
  {
   "cell_type": "code",
   "execution_count": null,
   "metadata": {},
   "outputs": [],
   "source": [
    "# 예제) time 모듈의 asctime() 함수\n",
    "# 설명문1) time.localtime() 함수 결과를 asctime 인자로 대입하여 출력\n",
    "\n",
    "print(time.asctime(time.localtime()))"
   ]
  },
  {
   "cell_type": "markdown",
   "metadata": {},
   "source": [
    "* sleep() : 인수로 받은 시간만큼 멈추고 다음 명령어 수행"
   ]
  },
  {
   "cell_type": "code",
   "execution_count": null,
   "metadata": {},
   "outputs": [],
   "source": [
    "# 예제) sleep()\n",
    "# 설명문) time 모듈 import\n",
    "#         0에서 9까지 for문을 활용하여 출력\n",
    "#         1초 간격으로 출력\n",
    "\n",
    "for i in range(10):\n",
    "    print(i)\n",
    "    time.sleep(1)"
   ]
  },
  {
   "cell_type": "markdown",
   "metadata": {},
   "source": [
    "* (참고만) datetime.now() : datetime 모듈의 now() 함수로 현재 지역 시간 확인 가능  \n",
    "멤버 이름이 짧고 직관적임"
   ]
  },
  {
   "cell_type": "code",
   "execution_count": null,
   "metadata": {},
   "outputs": [],
   "source": [
    "# datetime 모듈 (참고만)\n",
    "import datetime\n",
    "\n",
    "now = datetime.datetime.now()\n",
    "print(f\"{now.year}년 {now.month}월 {now.day}일 {now.hour}:{now.minute}:{now.second}\")"
   ]
  },
  {
   "cell_type": "markdown",
   "metadata": {},
   "source": [
    "### 2) 실행 시간 측정\n",
    "* 두 시점을 측정하면 두 시점의 경과한 시간을 확인할 수 있음\n",
    "* time() 함수로 측정한 종료 시간 - time() 함수로 측정한 시작 시간"
   ]
  },
  {
   "cell_type": "code",
   "execution_count": null,
   "metadata": {},
   "outputs": [],
   "source": [
    "import time\n",
    "\n",
    "start = time.time()\n",
    "print(start)\n",
    "\n",
    "time.sleep(3)\n",
    "\n",
    "end = time.time()\n",
    "print(end)\n",
    "\n",
    "time.sleep(3)\n",
    "\n",
    "print(end - start)"
   ]
  },
  {
   "cell_type": "markdown",
   "metadata": {},
   "source": [
    "# [실습 5 : 14p]\n",
    "\n",
    "## 5. calendar"
   ]
  },
  {
   "cell_type": "code",
   "execution_count": null,
   "metadata": {},
   "outputs": [],
   "source": [
    "import calendar"
   ]
  },
  {
   "cell_type": "markdown",
   "metadata": {},
   "source": [
    "* calendar(year) : 연도 year의 연 달력 출력"
   ]
  },
  {
   "cell_type": "code",
   "execution_count": null,
   "metadata": {},
   "outputs": [],
   "source": [
    "# 설명문) 2022년의 연도 달력 출력하기\n",
    "\n",
    "import calendar\n",
    "\n",
    "print(calendar.calendar(2022))"
   ]
  },
  {
   "cell_type": "markdown",
   "metadata": {},
   "source": [
    "* prcal(year) : 인수로 받은 연도 달력 객체 리턴, 다소 정렬됨"
   ]
  },
  {
   "cell_type": "code",
   "execution_count": null,
   "metadata": {},
   "outputs": [],
   "source": [
    "# 설명문) 2022년의 연도 달력 출력하기\n",
    "\n",
    "print(calendar.prcal(2022))"
   ]
  },
  {
   "cell_type": "markdown",
   "metadata": {},
   "source": [
    "* month(year,month) : 인수로 받은 연도의 월 달력 객체 리턴함  "
   ]
  },
  {
   "cell_type": "code",
   "execution_count": null,
   "metadata": {},
   "outputs": [],
   "source": [
    "# 설명문) 2022년의 11월 달력 출력하기\n",
    "\n",
    "print(calendar.month(2022,12))"
   ]
  },
  {
   "cell_type": "markdown",
   "metadata": {},
   "source": [
    "* setfirstweekday() : 첫 칸의 요일 설정, 0 - 월요일, 1 - 화요일  "
   ]
  },
  {
   "cell_type": "code",
   "execution_count": null,
   "metadata": {},
   "outputs": [],
   "source": [
    "# 설명문) 일요일을 첫 칸으로 설정하기 \n",
    "#         2022년의 11월 달력 출력하기\n",
    "\n",
    "calendar.setfirstweekday(6)\n",
    "print(calendar.month(2022,11))"
   ]
  },
  {
   "cell_type": "markdown",
   "metadata": {},
   "source": [
    "* weekday(year, month, day) : 특정 날짜가 무슨 요일인지 숫자로 리턴하는 함수"
   ]
  },
  {
   "cell_type": "code",
   "execution_count": null,
   "metadata": {},
   "outputs": [],
   "source": [
    "# 설명문) 2022년 11월 10일이 무슨 요일인지 확인하여 출력 (0-월요일, 1-화요일 ~ 5-토요일, 6-일요일)\n",
    "\n",
    "print(calendar.weekday(2022,6,9))"
   ]
  },
  {
   "cell_type": "markdown",
   "metadata": {},
   "source": [
    "* monthrange(year, month) : 입력받은 달의 1일이 무슨 요일인지, 그 달이 며칠까지 있는지를 반환"
   ]
  },
  {
   "cell_type": "code",
   "execution_count": null,
   "metadata": {},
   "outputs": [],
   "source": [
    "# 설명문) 2022년 11월의 1일이 무슨 요일인지 (0-월요일, 1-화요일 ~ 5-토요일, 6-일요일), 며칠까지 있는지 출력\n",
    "\n",
    "print(calendar.monthrange(2022, 11))"
   ]
  },
  {
   "cell_type": "markdown",
   "metadata": {},
   "source": [
    "# [실습 6 : 15p]\n",
    "\n",
    "## 6. random"
   ]
  },
  {
   "cell_type": "code",
   "execution_count": null,
   "metadata": {},
   "outputs": [],
   "source": [
    "import random"
   ]
  },
  {
   "cell_type": "markdown",
   "metadata": {},
   "source": [
    "* random() : 0에서 1 미만의 실수 한개 생성"
   ]
  },
  {
   "cell_type": "code",
   "execution_count": null,
   "metadata": {},
   "outputs": [],
   "source": [
    "# 예제) random() 함수 예제\n",
    "\n",
    "print(random.random())"
   ]
  },
  {
   "cell_type": "markdown",
   "metadata": {},
   "source": [
    "* randint(begin, end) : begin에서 end 사이에 있는 정수형 난수 발생 (end도 포함)"
   ]
  },
  {
   "cell_type": "code",
   "execution_count": null,
   "metadata": {},
   "outputs": [],
   "source": [
    "# 설명문) 1에서 10 사이의 무작위  정수형 난수 출력\n",
    "\n",
    "print(random.randint(1, 10))"
   ]
  },
  {
   "cell_type": "markdown",
   "metadata": {},
   "source": [
    "* randrange(begin, end) : begin에서 end 사이에 있는 정수형 난수 발생 (end 미포함)"
   ]
  },
  {
   "cell_type": "code",
   "execution_count": null,
   "metadata": {},
   "outputs": [],
   "source": [
    "# 설명문) 1이상 10 보다 작은 무작위 정수형 난수 출력\n",
    "\n",
    "print(random.randrange(1, 10))"
   ]
  },
  {
   "cell_type": "markdown",
   "metadata": {},
   "source": [
    "* uniform(begin, end) : begin에서 end 사이에 있는 실수형 난수 발생  "
   ]
  },
  {
   "cell_type": "code",
   "execution_count": null,
   "metadata": {},
   "outputs": [],
   "source": [
    "# 설명문) 1에서 10 사이의 무작위  실수형 난수 출력\n",
    "\n",
    "print(random.uniform(1, 10))"
   ]
  },
  {
   "cell_type": "markdown",
   "metadata": {},
   "source": [
    "* choice(iterable) : 리스트에서 임의의 요소 하나를 선택하여 리턴하는 함수  "
   ]
  },
  {
   "cell_type": "code",
   "execution_count": null,
   "metadata": {},
   "outputs": [],
   "source": [
    "# 설명문) nums 변수에 1, 2, 3, 4, 5, 6, 7, 8, 9, 10 의 값을 갖는 리스트 생성\n",
    "#         nums 요소 중 무작위 선택하여 출력\n",
    "\n",
    "nums = [1, 2, 3, 4, 5, 6, 7, 8, 9, 10]\n",
    "print(random.choice(nums))"
   ]
  },
  {
   "cell_type": "markdown",
   "metadata": {},
   "source": [
    "* shuffle(iterable) : 리스트의 요소를 무작위로 섞는 함수  "
   ]
  },
  {
   "cell_type": "code",
   "execution_count": null,
   "metadata": {},
   "outputs": [],
   "source": [
    "# 설명문) nums 변수에 1, 2, 3, 4, 5, 6, 7, 8, 9, 10 의 값을 갖는 리스트 생성\n",
    "#         nums 요소의 순서를 무작위로 섞기\n",
    "#         nums 출력하기\n",
    "\n",
    "nums = [1, 2, 3, 4, 5, 6, 7, 8, 9, 10]\n",
    "random.shuffle(nums)\n",
    "print(nums)\n",
    "\n",
    "# 원본을 수정하는 것이기때문에 튜플은 불가함\n",
    "# nums2 = (1,2,3,4,5,6,7,8,9,10)\n",
    "# random.shuffle(nums2)\n",
    "# print(nums2)"
   ]
  },
  {
   "cell_type": "markdown",
   "metadata": {},
   "source": [
    "* sample(iterable, n) : 리스트의 항목 중 n개를 무작위로 뽑아 새로운 리스트를 생성하는 함수  "
   ]
  },
  {
   "cell_type": "code",
   "execution_count": null,
   "metadata": {},
   "outputs": [],
   "source": [
    "# 설명문) nums 변수에 1, 2, 3, 4, 5, 6, 7, 8, 9, 10 의 값을 갖는 리스트 생성\n",
    "#         nums 요소 중 3개를 무작위로 뽑은 결과를 새로운 리스트 newnums에 저장\n",
    "#         nuwnums 출력\n",
    "\n",
    "\n",
    "nums = [1, 2, 3, 4, 5, 6, 7, 8, 9, 10]\n",
    "nuwnums = random.sample(nums, 3)\n",
    "print(nuwnums)"
   ]
  },
  {
   "cell_type": "markdown",
   "metadata": {},
   "source": [
    "# [실습 7 : 16 ~ 17p]\n",
    "\n",
    "## 7. sys 모듈\n",
    "\n",
    "### 1) 시스템 정보\n",
    "* sys 모듈 : 파이썬 해석기가 실행되는 환경과 해석기의 여러 가지 기능을 조회하고 관리하는 모듈\n",
    "* 기본 정보 확인\n",
    "sys.version : python 버젼 확인  \n",
    "sys.platform : os 확인  \n",
    "sys.path : 모듈 경로 확인  \n",
    "\n",
    "* 자세한 레퍼런스는 help(sys)를 참고"
   ]
  },
  {
   "cell_type": "code",
   "execution_count": null,
   "metadata": {},
   "outputs": [],
   "source": [
    "# 예제) sys 정보 확인하는 예제\n",
    "# 설명문) version : 버젼정보 확인\n",
    "#         platform : os정보 확인\n",
    "#         path : 모듈 경로 확인\n",
    "\n",
    "import sys\n",
    "\n",
    "print(sys.version)\n",
    "\n",
    "print(sys.platform)\n",
    "\n",
    "print(sys.path)"
   ]
  },
  {
   "cell_type": "markdown",
   "metadata": {},
   "source": [
    "* sys.path.append(path) : 모듈이 위치하는 경로명을 추가하면, path에 있는 파이썬 모듈을 불러와 사용이 가능함"
   ]
  },
  {
   "cell_type": "code",
   "execution_count": null,
   "metadata": {},
   "outputs": [],
   "source": [
    "# 예제) sys.path.append(path) 예제\n",
    "# 설명문) c:\\temp를 sys.path에 추가\n",
    "#         추가한 경로 확인\n",
    "\n",
    "sys.path.append(\"c:\\temp\")\n",
    "print(sys.path)"
   ]
  },
  {
   "cell_type": "markdown",
   "metadata": {},
   "source": [
    "### 2) 명령행 인수"
   ]
  },
  {
   "cell_type": "code",
   "execution_count": null,
   "metadata": {},
   "outputs": [],
   "source": [
    "# 예제) argv_prn.py\n",
    "\n",
    "import sys\n",
    "print(sys.argv)\n",
    "\n",
    "# cmd창에서 argv_prn.py 인수포함 호출\n",
    "\n",
    "c:\\pythonwork>python argv_prn.py first second end"
   ]
  },
  {
   "cell_type": "markdown",
   "metadata": {},
   "source": [
    "# [실습 8 : 18p]\n",
    "\n",
    "## 8. pickle"
   ]
  },
  {
   "cell_type": "code",
   "execution_count": null,
   "metadata": {},
   "outputs": [],
   "source": [
    "import pickle"
   ]
  },
  {
   "cell_type": "markdown",
   "metadata": {},
   "source": [
    "* dump() : list data를 파일로 저장"
   ]
  },
  {
   "cell_type": "code",
   "execution_count": null,
   "metadata": {},
   "outputs": [],
   "source": [
    "#P 예제] 파일 저장\n",
    "\n",
    "f = open(“pickle_test.txt\", \"wb\")\n",
    "data = [1, 2, 3, 4, 5]\n",
    "\n",
    "pickle.dump(data, f)\n",
    "         \n",
    "f.close()"
   ]
  },
  {
   "cell_type": "markdown",
   "metadata": {},
   "source": [
    "* load() : file을 data로 불러오기"
   ]
  },
  {
   "cell_type": "code",
   "execution_count": null,
   "metadata": {},
   "outputs": [],
   "source": [
    "import pickle\n",
    "\n",
    "f = open(“pickle_test.txt\", \"rb\")\n",
    "data = pickle.load(f)\n",
    "\n",
    "print(data)"
   ]
  },
  {
   "cell_type": "markdown",
   "metadata": {},
   "source": [
    "# [실습 9 : 19p]\n",
    "\n",
    "## 9. webbrowser"
   ]
  },
  {
   "cell_type": "markdown",
   "metadata": {},
   "source": [
    "* open() : 웹브라우저 실행 및 url 이동"
   ]
  },
  {
   "cell_type": "code",
   "execution_count": null,
   "metadata": {},
   "outputs": [],
   "source": [
    "import webbrowser\n",
    "\n",
    "webbrowser.open(\"www.naver.com\")"
   ]
  }
 ],
 "metadata": {
  "kernelspec": {
   "display_name": "Python 3 (ipykernel)",
   "language": "python",
   "name": "python3"
  },
  "language_info": {
   "codemirror_mode": {
    "name": "ipython",
    "version": 3
   },
   "file_extension": ".py",
   "mimetype": "text/x-python",
   "name": "python",
   "nbconvert_exporter": "python",
   "pygments_lexer": "ipython3",
   "version": "3.9.10"
  }
 },
 "nbformat": 4,
 "nbformat_minor": 2
}
