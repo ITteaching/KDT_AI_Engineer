{
 "cells": [
  {
   "cell_type": "markdown",
   "metadata": {},
   "source": [
    "# [실습 1 : 5 ~ 10p]\n",
    "\n",
    "## 1. 파일 입출력\n",
    "\n",
    "### 1) 파일 쓰기\n",
    "\n",
    "* 파일 생성"
   ]
  },
  {
   "cell_type": "code",
   "execution_count": null,
   "metadata": {},
   "outputs": [],
   "source": [
    "f = open(\"filewr.txt\", \"w\")\n",
    "f.close()\n",
    "\n",
    "# 쥬피터노트북 현재 위치에 filewr.txt 파일이 생성됨"
   ]
  },
  {
   "cell_type": "markdown",
   "metadata": {},
   "source": [
    "* 파일에 내용 생성하기"
   ]
  },
  {
   "cell_type": "code",
   "execution_count": null,
   "metadata": {},
   "outputs": [],
   "source": [
    "f = open(\"filewr.txt\", \"w\")\n",
    "\n",
    "f.write(\"1번 라인입니다.\\n\")\n",
    "f.write(\"2번 라인입니다.\\n\")\n",
    "f.write(\"3번 라인입니다.\\n\")\n",
    "\n",
    "f.close()\n",
    "\n",
    "# 메모장으로 filewr.txt 확인"
   ]
  },
  {
   "cell_type": "markdown",
   "metadata": {},
   "source": [
    "### 2) 파일 읽기\n",
    "\n",
    "* read() : 작성한 파일 내용 한번에 읽기"
   ]
  },
  {
   "cell_type": "code",
   "execution_count": null,
   "metadata": {},
   "outputs": [],
   "source": [
    "f = open(\"filewr.txt\", \"r\")\n",
    "\n",
    "contents = f.read()\n",
    "\n",
    "print(contents)\n",
    "\n",
    "f.close()"
   ]
  },
  {
   "cell_type": "markdown",
   "metadata": {},
   "source": [
    "* readline() : 작성한 파일 내용 첫번째줄 읽기"
   ]
  },
  {
   "cell_type": "code",
   "execution_count": null,
   "metadata": {},
   "outputs": [],
   "source": [
    "# 설명문) filewr.txt를 open함수로 열기\n",
    "#         오픈함수를 대입한 파일변수.readline()으로 읽은 내용을 line변수에 저장\n",
    "#         line변수 출력\n",
    "#         file close()\n",
    "\n",
    "f = open(\"filewr.txt\", \"rt\")\n",
    "\n",
    "line = f.readline()\n",
    "\n",
    "print(line)\n",
    "\n",
    "f.close()"
   ]
  },
  {
   "cell_type": "markdown",
   "metadata": {},
   "source": [
    "* readline() : 작성한 파일 내용 한줄씩 모두 읽기"
   ]
  },
  {
   "cell_type": "code",
   "execution_count": null,
   "metadata": {},
   "outputs": [],
   "source": [
    "# 설명문) while 문 사용하되 읽은 내용이 없는 경우 break\n",
    "\n",
    "f = open(\"filewr.txt\", \"rt\")\n",
    "\n",
    "while True:\n",
    "    line = f.readline()\n",
    "    if line:\n",
    "        print(line, end=\"\")\n",
    "    else:\n",
    "        break\n",
    "\n",
    "f.close()"
   ]
  },
  {
   "cell_type": "markdown",
   "metadata": {},
   "source": [
    "* readlines() : 파일 전체 읽어 줄 단위로 문자열을 만들어 리스트로 리턴"
   ]
  },
  {
   "cell_type": "code",
   "execution_count": null,
   "metadata": {},
   "outputs": [],
   "source": [
    "# 설명문) filewr.txt를 open함수로 열기\n",
    "#         오픈함수를 대입한 파일변수.readlines()로 읽은 내용을 lines변수에 저장\n",
    "#         line변수 출력\n",
    "#         file close()\n",
    "\n",
    "f = open(\"filewr.txt\", \"rt\")\n",
    "\n",
    "lines = f.readlines()\n",
    "\n",
    "print(lines)\n",
    "\n",
    "for line in lines:\n",
    "    print(line, end='')\n",
    "    \n",
    "f.close()"
   ]
  },
  {
   "cell_type": "markdown",
   "metadata": {},
   "source": [
    "\n",
    "### 3) 내용추가\n",
    "\n",
    "* \"a\" 모드 활용하여 기존 내용 유지하고 뒤에 내용 추가"
   ]
  },
  {
   "cell_type": "code",
   "execution_count": null,
   "metadata": {},
   "outputs": [],
   "source": [
    "# 설명문) filewr.txt를 open함수로 \"a\" 모드로 열기\n",
    "#         write() 함수를 이용하여 \"4번 라인입니다.\" 추가\n",
    "\n",
    "f = open(\"filewr.txt\", \"at\")\n",
    "\n",
    "f.write(\"4번 라인입니다.\\n\")\n",
    "f.write(\"5번 라인입니다.\\n\")\n",
    "\n",
    "f.close()"
   ]
  },
  {
   "cell_type": "markdown",
   "metadata": {},
   "source": [
    "### 4) with 구문 활용\n",
    "\n",
    "* with 구문 활용하여 기존 내용 유지하고 뒤에 내용 추가"
   ]
  },
  {
   "cell_type": "code",
   "execution_count": null,
   "metadata": {},
   "outputs": [],
   "source": [
    "# 설명문) filewr.txt를 open함수로 \"a\" 모드로 열기\n",
    "#         write() 함수를 이용하여 \"5번 라인입니다.\" 추가\n",
    "\n",
    "with open(\"filewr.txt\", \"at\") as f:\n",
    "    \n",
    "    f.write(\"with 구문으로 파일 자동 close함\")"
   ]
  },
  {
   "cell_type": "markdown",
   "metadata": {},
   "source": [
    "# [실습 2 : 11 ~ 12p]\n",
    "\n",
    "## 2. 파일 관리\n",
    "\n",
    "### 1) 파일 관리 함수\n",
    "\n",
    "* 파일 관리 함수 shutil.copy() 를 이용한 파일 복사"
   ]
  },
  {
   "cell_type": "code",
   "execution_count": null,
   "metadata": {},
   "outputs": [],
   "source": [
    "import shutil\n",
    "\n",
    "shutil.copy(\"filewr.txt\", \"filewr_copy.txt\")\n",
    "\n",
    "# 쥬피터노트북 폴더 확인"
   ]
  },
  {
   "cell_type": "markdown",
   "metadata": {},
   "source": [
    "* 파일 관리 함수 shutil.move() 를 이용한 파일 이동"
   ]
  },
  {
   "cell_type": "code",
   "execution_count": null,
   "metadata": {},
   "outputs": [],
   "source": [
    "import shutil\n",
    "\n",
    "shutil.move(\"filewr_copy.txt\", \"filewr_move.txt\")\n",
    "\n",
    "# 쥬피터노트북 폴더 확인"
   ]
  },
  {
   "cell_type": "markdown",
   "metadata": {},
   "source": [
    "* 파일 관리 함수 os.remove() 를 이용한 파일 삭제"
   ]
  },
  {
   "cell_type": "code",
   "execution_count": null,
   "metadata": {},
   "outputs": [],
   "source": [
    "import os\n",
    "\n",
    "os.remove(\"filewr_move.txt\")\n",
    "\n",
    "# 쥬피터노트북 폴더 확인"
   ]
  },
  {
   "cell_type": "markdown",
   "metadata": {},
   "source": [
    "# [실습 3 : 13 ~ 14p]\n",
    "\n",
    "### 2) 디렉토리 관리 함수\n",
    "\n",
    "* 디렉토리 관리 함수 : mkdir() 함수로 \"temp\" 디렉토리 생성"
   ]
  },
  {
   "cell_type": "code",
   "execution_count": null,
   "metadata": {},
   "outputs": [],
   "source": [
    "import os\n",
    "\n",
    "os.mkdir(\"temp\")"
   ]
  },
  {
   "cell_type": "markdown",
   "metadata": {},
   "source": [
    "* 디렉토리 관리 함수 : rmdir() 함수로 \"temp\" 디렉토리 삭제"
   ]
  },
  {
   "cell_type": "code",
   "execution_count": null,
   "metadata": {},
   "outputs": [],
   "source": [
    "import os\n",
    "\n",
    "os.rmdir(\"temp\")"
   ]
  },
  {
   "cell_type": "markdown",
   "metadata": {},
   "source": [
    "* 디렉토리 관리 함수 : 현재 디렉토리 경로 가져오기 : os.getcwd()\n",
    "* 현재 디렉토리의 모든 내용 가져오는 listdir() 함수      "
   ]
  },
  {
   "cell_type": "code",
   "execution_count": null,
   "metadata": {},
   "outputs": [],
   "source": [
    "dirs = os.getcwd()\n",
    "\n",
    "print(os.listdir(dirs))"
   ]
  },
  {
   "cell_type": "markdown",
   "metadata": {},
   "source": [
    "* 패턴과 일치하는 파일 목록 가져오기 : glob.glob() 함수 활용"
   ]
  },
  {
   "cell_type": "code",
   "execution_count": null,
   "metadata": {},
   "outputs": [],
   "source": [
    "import glob\n",
    " \n",
    "print(glob.glob('*.txt'))"
   ]
  },
  {
   "cell_type": "markdown",
   "metadata": {},
   "source": [
    "* 참고만) os.path.isdir()"
   ]
  },
  {
   "cell_type": "code",
   "execution_count": null,
   "metadata": {},
   "outputs": [],
   "source": [
    "import os.path\n",
    "\n",
    "dir = \"temp\"\n",
    "files = os.listdir(dir)\n",
    "\n",
    "for file in files:\n",
    "    fullpath = dir  + \"\\\\\" + file\n",
    "    print(fullpath)\n",
    "    print(os.path.isdir(fullpath))    "
   ]
  },
  {
   "cell_type": "markdown",
   "metadata": {},
   "source": [
    "* 참고만) 함수정의 : os.path.isdir()"
   ]
  },
  {
   "cell_type": "code",
   "execution_count": null,
   "metadata": {},
   "outputs": [],
   "source": [
    "import os.path\n",
    "\n",
    "def dirlist(dir):\n",
    "    print(\"[\" + dir + \"]\")    \n",
    "    files = os.listdir(dir)\n",
    "    for file in files:\n",
    "        fullpath = dir + \"\\\\\" + file\n",
    "        if os.path.isdir(fullpath):\n",
    "            print(\"[\" + fullpath + \"]\")\n",
    "            dirlist(fullpath)\n",
    "        else:\n",
    "            print(\"\\t\" + fullpath)\n",
    "            \n",
    "dirlist(\"testdir\")"
   ]
  },
  {
   "cell_type": "markdown",
   "metadata": {},
   "source": [
    "### 3) 파일 관리 유틸리티 (참고만)\n",
    "\n",
    "* 파일명과 확장자 분리 후 확장자명 바꾸기 예제"
   ]
  },
  {
   "cell_type": "code",
   "execution_count": null,
   "metadata": {},
   "outputs": [],
   "source": [
    "# 참고만) 파일 확장자명 바꾸기\n",
    "\n",
    "import os.path\n",
    "\n",
    "dir = \"files\"\n",
    "\n",
    "files = os.listdir(dir)\n",
    "for file in files:\n",
    "    oldname = dir+\"\\\\\"+file\n",
    "    if os.path.isfile(oldname):\n",
    "        index = file.rfind(\".\")\n",
    "        ext = file[index+1:]\n",
    "        name = file[:index]\n",
    "\n",
    "#         print(oldname)\n",
    "#         print(newname)\n",
    "        newname = dir+\"\\\\\"+name+\".doc\"\n",
    "        os.rename(oldname, newname)"
   ]
  },
  {
   "cell_type": "markdown",
   "metadata": {},
   "source": [
    "# [실습 4 : 15 ~ 20p]\n",
    "\n",
    "## 3. 데이터베이스\n",
    "\n",
    "### 1) 테이블 생성\n",
    "\n",
    "* tbl_member 테이블 생성"
   ]
  },
  {
   "cell_type": "code",
   "execution_count": null,
   "metadata": {},
   "outputs": [],
   "source": [
    "# 테이블 생성\n",
    "import sqlite3\n",
    "\n",
    "con = sqlite3.connect(\"member.db\")\n",
    "cursor = con.cursor()  \n",
    "\n",
    "#SQL = \"DROP TABLE tbl_member\"\n",
    "#cursor.execute(SQL)\n",
    "SQL = \"CREATE TABLE tbl_member(id int PRIMARY KEY, name char(20), phone char(20), email char(50))\"\n",
    "cursor.execute(SQL)\n",
    "\n",
    "cursor.close()   \n",
    "con.close()"
   ]
  },
  {
   "cell_type": "markdown",
   "metadata": {},
   "source": [
    "### 2) 데이타 생성\n",
    "\n",
    "* tbl_member 데이타 생성"
   ]
  },
  {
   "cell_type": "code",
   "execution_count": null,
   "metadata": {},
   "outputs": [],
   "source": [
    "# 데이타 생성\n",
    "import sqlite3\n",
    "\n",
    "con = sqlite3.connect(\"member.db\")\n",
    "cursor = con.cursor()  \n",
    "\n",
    "cursor.execute(\"INSERT INTO tbl_member VALUES (1, '홍길동', '010-1234-5678', 'gildong.hong@hotmail.com')\")\n",
    "cursor.execute(\"INSERT INTO tbl_member VALUES (2, '김철수', '010-9876-4321', 'chulsu.kim@hanmail.com')\")\n",
    "cursor.execute(\"INSERT INTO tbl_member VALUES (3, '이영희', '010-2233-6677', 'younghee@lee@google.com')\")\n",
    "\n",
    "con.commit()\n",
    "cursor.close()   \n",
    "con.close()"
   ]
  },
  {
   "cell_type": "markdown",
   "metadata": {},
   "source": [
    "### 3) 데이타 조회\n",
    "\n",
    "* fetchall() 활용한 데이타 조회"
   ]
  },
  {
   "cell_type": "code",
   "execution_count": null,
   "metadata": {},
   "outputs": [],
   "source": [
    "import sqlite3\n",
    "\n",
    "con = sqlite3.connect(\"member.db\")\n",
    "cursor = con.cursor()  \n",
    "\n",
    "cursor.execute(\"SELECT * FROM tbl_member\")\n",
    "datas = cursor.fetchall()\n",
    "\n",
    "print(datas)\n",
    "\n",
    "for data in datas:\n",
    "    print(f\"이름 : {data[1]}, 핸드폰 : {data[2]}, 이메일 : {data[3]}\")\n",
    "\n",
    "cursor.close()   \n",
    "con.close()"
   ]
  },
  {
   "cell_type": "markdown",
   "metadata": {},
   "source": [
    "* fetchone() 활용한 데이타 조회"
   ]
  },
  {
   "cell_type": "code",
   "execution_count": null,
   "metadata": {},
   "outputs": [],
   "source": [
    "import sqlite3\n",
    "\n",
    "con = sqlite3.connect(\"member.db\")\n",
    "cursor = con.cursor()  \n",
    "\n",
    "cursor.execute(\"SELECT * FROM tbl_member\")\n",
    "\n",
    "while True:\n",
    "    data = cursor.fetchone()\n",
    "    if data == None:\n",
    "        break\n",
    "        \n",
    "    print(f\"이름 : {data[1]}, 핸드폰 : {data[2]}, 이메일 : {data[3]}\")\n",
    "\n",
    "cursor.close()   \n",
    "con.close()"
   ]
  },
  {
   "cell_type": "markdown",
   "metadata": {},
   "source": [
    "* ORDER BY, WHERE 절 활용한 데이타 조회"
   ]
  },
  {
   "cell_type": "code",
   "execution_count": null,
   "metadata": {},
   "outputs": [],
   "source": [
    "import sqlite3\n",
    "\n",
    "con = sqlite3.connect(\"member.db\")\n",
    "cursor = con.cursor()  \n",
    "\n",
    "cursor.execute(\"SELECT * FROM tbl_member WHERE name in ('홍길동','이영희') ORDER BY name\")\n",
    "\n",
    "while True:\n",
    "    data = cursor.fetchone()\n",
    "    if data == None:\n",
    "        break\n",
    "        \n",
    "    print(f\"이름 : {data[1]}, 핸드폰 : {data[2]}, 이메일 : {data[3]}\")\n",
    "\n",
    "cursor.close()   \n",
    "con.close()"
   ]
  },
  {
   "cell_type": "markdown",
   "metadata": {},
   "source": [
    "### 4) 데이타 수정\n",
    "\n",
    "* tbl_member의 id=1인 인원 데이타 수정"
   ]
  },
  {
   "cell_type": "code",
   "execution_count": null,
   "metadata": {},
   "outputs": [],
   "source": [
    "import sqlite3\n",
    "\n",
    "con = sqlite3.connect(\"member.db\")\n",
    "cursor = con.cursor()  \n",
    "\n",
    "cursor.execute(\"UPDATE tbl_member SET phone='02-333-5555' WHERE id=1\")\n",
    "\n",
    "con.commit()\n",
    "cursor.close()   \n",
    "con.close()"
   ]
  },
  {
   "cell_type": "markdown",
   "metadata": {},
   "source": [
    "### 5) 데이타 삭제\n",
    "\n",
    "* tbl_member의 name 컬럼을 이용한 데이타 삭제"
   ]
  },
  {
   "cell_type": "code",
   "execution_count": null,
   "metadata": {},
   "outputs": [],
   "source": [
    "import sqlite3\n",
    "\n",
    "con = sqlite3.connect(\"member.db\")\n",
    "cursor = con.cursor()  \n",
    "\n",
    "cursor.execute(\"DELETE FROM tbl_member WHERE name='김철수'\")\n",
    "\n",
    "con.commit()\n",
    "cursor.close()   \n",
    "con.close()"
   ]
  },
  {
   "cell_type": "markdown",
   "metadata": {},
   "source": [
    "* 파이썬은 SQLite와의 인터페이스만을 제공하며 모든 명령은 SQL 스크립트로 실행됨\n",
    "* DB를 사용하는 대부분의 어플리케이션은 SQL이 가장 중요한 기술임"
   ]
  }
 ],
 "metadata": {
  "kernelspec": {
   "display_name": "Python 3 (ipykernel)",
   "language": "python",
   "name": "python3"
  },
  "language_info": {
   "codemirror_mode": {
    "name": "ipython",
    "version": 3
   },
   "file_extension": ".py",
   "mimetype": "text/x-python",
   "name": "python",
   "nbconvert_exporter": "python",
   "pygments_lexer": "ipython3",
   "version": "3.9.10"
  }
 },
 "nbformat": 4,
 "nbformat_minor": 2
}
