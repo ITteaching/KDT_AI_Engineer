{
 "cells": [
  {
   "cell_type": "markdown",
   "metadata": {},
   "source": [
    "# [실습 1 : 5 ~ 9p]\n",
    "\n",
    "\n",
    "## 1. ndarray\n",
    "\n",
    "### 1) ndarray 다차원 배열 클래스"
   ]
  },
  {
   "cell_type": "markdown",
   "metadata": {},
   "source": [
    "* ndarray 생성 및 속성 확인"
   ]
  },
  {
   "cell_type": "code",
   "execution_count": null,
   "metadata": {},
   "outputs": [],
   "source": [
    "import numpy as np"
   ]
  },
  {
   "cell_type": "code",
   "execution_count": null,
   "metadata": {},
   "outputs": [],
   "source": [
    "a = np.array([1, 2, 3, 4, 5])\n",
    "\n",
    "print(\"shape : \", a.shape)\n",
    "print(\"ndim: \", a.ndim)\n",
    "print(\"dtype : \", a.dtype)\n",
    "print(\"itemsize : \", a.itemsize)\n",
    "print(\"size : \", a.size)"
   ]
  },
  {
   "cell_type": "markdown",
   "metadata": {},
   "source": [
    "### 2) ndarray 주요 메서드 및 함수\n",
    "\n",
    "* ndarray 주요 메서드"
   ]
  },
  {
   "cell_type": "code",
   "execution_count": null,
   "metadata": {},
   "outputs": [],
   "source": [
    "a = np.array([1, 2, 3, 4, 5])\n",
    "print(a.max(), a.min(), a.mean())\n",
    "b = np.array([[1,2], [3, 4], [4, 5]])\n",
    "print(b.flatten())"
   ]
  },
  {
   "cell_type": "markdown",
   "metadata": {},
   "source": [
    "* ndarray 주요 함수"
   ]
  },
  {
   "cell_type": "code",
   "execution_count": null,
   "metadata": {},
   "outputs": [],
   "source": [
    "a = np.array([1, 2, 3])\n",
    "b = np.array([[4, 5, 6], [7, 8, 9]])\n",
    "\n",
    "print(np.append(a, b))\n",
    "print(np.append([a], b, axis=0))\n",
    "print(np.random.rand(3,3))\n",
    "print(np.random.randint(0, 10, 5))"
   ]
  },
  {
   "cell_type": "markdown",
   "metadata": {},
   "source": [
    "# [실습 2 : 10 ~ 12p]"
   ]
  },
  {
   "cell_type": "markdown",
   "metadata": {},
   "source": [
    "### 3) ndarray 연산"
   ]
  },
  {
   "cell_type": "code",
   "execution_count": null,
   "metadata": {},
   "outputs": [],
   "source": [
    "a = np.array([[1, 2], [3, 4]])\n",
    "b = np.array([[5, 6], [7, 8]])\n",
    "print(a + b)\n",
    "print(a - b)\n",
    "print(a * b)\n",
    "print(a / b)\n",
    "print(a ** b)\n",
    "print(a @ b);\n",
    "print(np.matmul(a, b))"
   ]
  },
  {
   "cell_type": "markdown",
   "metadata": {},
   "source": [
    "### 4) ndarray 생성 함수"
   ]
  },
  {
   "cell_type": "code",
   "execution_count": null,
   "metadata": {},
   "outputs": [],
   "source": [
    "print(np.zeros((3, 3)))\n",
    "print(np.ones((3, 3)))\n",
    "print(np.full((3, 3), 10))\n",
    "print(np.eye(3))\n",
    "print(np.arange(0, 10, 2))"
   ]
  },
  {
   "cell_type": "markdown",
   "metadata": {},
   "source": [
    "### 5) ndarray 재구성\n",
    "\n",
    "* reshape() : 기존의 배열을 다른 차원의 배열로 생성"
   ]
  },
  {
   "cell_type": "code",
   "execution_count": null,
   "metadata": {},
   "outputs": [],
   "source": [
    "a = np.arange(15)\n",
    "\n",
    "a.reshape(3,5)"
   ]
  },
  {
   "cell_type": "markdown",
   "metadata": {},
   "source": [
    "* transpose() : 배열의 행과 열을 전치시킴"
   ]
  },
  {
   "cell_type": "code",
   "execution_count": null,
   "metadata": {
    "scrolled": true
   },
   "outputs": [],
   "source": [
    "a = np.arange(15).reshape(3,5)\n",
    "\n",
    "np.transpose(a)"
   ]
  },
  {
   "cell_type": "markdown",
   "metadata": {},
   "source": [
    "# [실습 3 : 13 ~ 14p]\n",
    "\n",
    "## 2. 다차원배열의 축"
   ]
  },
  {
   "cell_type": "markdown",
   "metadata": {},
   "source": [
    "* sum() : 다차원배열의 축에 따른 합계"
   ]
  },
  {
   "cell_type": "code",
   "execution_count": null,
   "metadata": {},
   "outputs": [],
   "source": [
    "a = np.arange(1,7).reshape(3,2)\n",
    "\n",
    "print(a.sum());\n",
    "print(a.sum(axis = 0));\n",
    "print(a.sum(axis = 1))"
   ]
  },
  {
   "cell_type": "markdown",
   "metadata": {},
   "source": [
    "* insert() : ndarray에 새로운 요소 추가"
   ]
  },
  {
   "cell_type": "code",
   "execution_count": null,
   "metadata": {},
   "outputs": [],
   "source": [
    "a = np.arange(1,7).reshape(3,2)\n",
    "\n",
    "print(np.insert(a, 1, 10, axis = 0))\n",
    "print(np.insert(a, 1, 10, axis = 1))"
   ]
  },
  {
   "cell_type": "markdown",
   "metadata": {},
   "source": [
    "* delete() : ndarray에 요소 삭제"
   ]
  },
  {
   "cell_type": "code",
   "execution_count": null,
   "metadata": {},
   "outputs": [],
   "source": [
    "print(np.delete(a, 1, axis = 0))\n",
    "print(np.delete(a, 1, axis = 1))"
   ]
  },
  {
   "cell_type": "markdown",
   "metadata": {},
   "source": [
    "# [실습 4 : 15 ~ 18]\n",
    "\n",
    "## 3. 인덱싱과 슬라이싱\n",
    "\n",
    "### 1) 1차원 배열"
   ]
  },
  {
   "cell_type": "markdown",
   "metadata": {},
   "source": [
    "* 1차원 배열 인덱싱 : 한 개 원소 인덱싱"
   ]
  },
  {
   "cell_type": "code",
   "execution_count": null,
   "metadata": {},
   "outputs": [],
   "source": [
    "a = np.arange(0,5)\n",
    "\n",
    "print(a[0], a[3], a[-1])"
   ]
  },
  {
   "cell_type": "markdown",
   "metadata": {},
   "source": [
    "* 1차원 배열 인덱싱 : 여러 개 원소 인덱싱"
   ]
  },
  {
   "cell_type": "code",
   "execution_count": null,
   "metadata": {},
   "outputs": [],
   "source": [
    "a = np.arange(0,5)\n",
    "\n",
    "print(a[[0, 3, -1]])"
   ]
  },
  {
   "cell_type": "markdown",
   "metadata": {},
   "source": [
    "* 1차원 배열의 슬라이싱"
   ]
  },
  {
   "cell_type": "code",
   "execution_count": null,
   "metadata": {},
   "outputs": [],
   "source": [
    "a = np.arange(0,10)\n",
    "\n",
    "print(a[:3])\n",
    "print(a[3:7])\n",
    "print(a[::2])\n",
    "print(a[::-1])"
   ]
  },
  {
   "cell_type": "markdown",
   "metadata": {},
   "source": [
    "### 2) 2차원 배열"
   ]
  },
  {
   "cell_type": "markdown",
   "metadata": {},
   "source": [
    "* 2차원 배열의 인덱싱"
   ]
  },
  {
   "cell_type": "code",
   "execution_count": null,
   "metadata": {},
   "outputs": [],
   "source": [
    "# list 인덱싱\n",
    "a = [[1, 2], [3, 4], [5, 6]]\n",
    "\n",
    "print(a[0][1])\n",
    "print(a[2][1])"
   ]
  },
  {
   "cell_type": "code",
   "execution_count": null,
   "metadata": {},
   "outputs": [],
   "source": [
    "# ndarray 인덱싱\n",
    "a = np.array([[1, 2], [3, 4], [5, 6]])\n",
    "\n",
    "print(a[0][1])\n",
    "print(a[2][1])\n",
    "print(a[0, 1])\n",
    "print(a[2, 1])"
   ]
  },
  {
   "cell_type": "markdown",
   "metadata": {},
   "source": [
    "* 2차원 배열의 슬라이싱"
   ]
  },
  {
   "cell_type": "code",
   "execution_count": null,
   "metadata": {},
   "outputs": [],
   "source": [
    "# list 슬라이싱\n",
    "a = [[1, 2], [3, 4], [5, 6]]\n",
    "\n",
    "print(a[:2])\n",
    "print(a[:2][1])\n",
    "print(a[:2][1][1])"
   ]
  },
  {
   "cell_type": "code",
   "execution_count": null,
   "metadata": {},
   "outputs": [],
   "source": [
    "# ndarray 슬라이싱\n",
    "a = np.array([[1, 2], [3, 4], [5, 6]])\n",
    "\n",
    "print(a[:2])\n",
    "print(a[:2][1])\n",
    "print(a[:2][1][1])\n",
    "print(a[:2, 1])"
   ]
  }
 ],
 "metadata": {
  "kernelspec": {
   "display_name": "Python 3 (ipykernel)",
   "language": "python",
   "name": "python3"
  },
  "language_info": {
   "codemirror_mode": {
    "name": "ipython",
    "version": 3
   },
   "file_extension": ".py",
   "mimetype": "text/x-python",
   "name": "python",
   "nbconvert_exporter": "python",
   "pygments_lexer": "ipython3",
   "version": "3.9.10"
  }
 },
 "nbformat": 4,
 "nbformat_minor": 2
}
