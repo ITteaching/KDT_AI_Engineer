{
 "cells": [
  {
   "cell_type": "markdown",
   "metadata": {},
   "source": [
    "# [추가 예제]\n",
    "\n",
    "\n",
    "## 1. 숫자 맞추기 게임"
   ]
  },
  {
   "cell_type": "code",
   "execution_count": null,
   "metadata": {},
   "outputs": [],
   "source": [
    "import random\n",
    "\n",
    "real_num = random.randint(1,100)\n",
    "\n",
    "#print(real_num)\n",
    "\n",
    "cnt = 1\n",
    "\n",
    "while True:\n",
    "    my_num = int(input(\"1~100 사이의 숫자를 입력하세요.\"))\n",
    "    \n",
    "    if real_num == my_num:\n",
    "        print(f\"숫자를 {cnt}회만에 맞췄습니다.\")\n",
    "        break\n",
    "    elif real_num > my_num:\n",
    "        print(\"숫자업\")\n",
    "    elif real_num < my_num:\n",
    "        print(\"숫자다운\")\n",
    "        \n",
    "    cnt += 1"
   ]
  },
  {
   "cell_type": "markdown",
   "metadata": {},
   "source": [
    "## 2. 텍스트를 음성으로 변환하기"
   ]
  },
  {
   "cell_type": "code",
   "execution_count": null,
   "metadata": {},
   "outputs": [],
   "source": [
    "from gtts import gTTS\n",
    "from playsound import playsound\n",
    "\n",
    "file_path = \"tts_text.txt\"\n",
    "with open(\"c:\\\\pythonwork\\\\tts_text.txt\", \"r\", encoding=\"UTF8\") as f:\n",
    "    content = f.read()\n",
    "    \n",
    "tts = gTTS(text=content, lang='ko')    \n",
    "\n",
    "tts.save(\"c:\\\\pythonwork\\\\tts.mp3\")\n",
    "\n",
    "playsound(\"c:\\\\pythonwork\\\\tts.mp3\")"
   ]
  },
  {
   "cell_type": "code",
   "execution_count": null,
   "metadata": {},
   "outputs": [],
   "source": []
  },
  {
   "cell_type": "code",
   "execution_count": null,
   "metadata": {},
   "outputs": [],
   "source": []
  },
  {
   "cell_type": "code",
   "execution_count": null,
   "metadata": {},
   "outputs": [],
   "source": []
  },
  {
   "cell_type": "code",
   "execution_count": null,
   "metadata": {},
   "outputs": [],
   "source": []
  },
  {
   "cell_type": "code",
   "execution_count": null,
   "metadata": {},
   "outputs": [],
   "source": []
  },
  {
   "cell_type": "code",
   "execution_count": null,
   "metadata": {},
   "outputs": [],
   "source": []
  },
  {
   "cell_type": "code",
   "execution_count": null,
   "metadata": {},
   "outputs": [],
   "source": []
  },
  {
   "cell_type": "code",
   "execution_count": null,
   "metadata": {},
   "outputs": [],
   "source": []
  }
 ],
 "metadata": {
  "kernelspec": {
   "display_name": "Python 3 (ipykernel)",
   "language": "python",
   "name": "python3"
  },
  "language_info": {
   "codemirror_mode": {
    "name": "ipython",
    "version": 3
   },
   "file_extension": ".py",
   "mimetype": "text/x-python",
   "name": "python",
   "nbconvert_exporter": "python",
   "pygments_lexer": "ipython3",
   "version": "3.9.10"
  }
 },
 "nbformat": 4,
 "nbformat_minor": 2
}
