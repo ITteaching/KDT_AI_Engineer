{
 "cells": [
  {
   "cell_type": "markdown",
   "metadata": {},
   "source": [
    "# [실습 1 : 5 ~ 8p]\n",
    "\n",
    "## 1. 모듈 생성 / import"
   ]
  },
  {
   "cell_type": "markdown",
   "metadata": {},
   "source": [
    "* 모듈 생성 : calc.py (add, sub 함수 포함)"
   ]
  },
  {
   "cell_type": "code",
   "execution_count": null,
   "metadata": {},
   "outputs": [],
   "source": [
    "# 설명문) a, b 매개변수를 갖는 add 함수, 결과값은 a와 b를 더한 값\n",
    "#         a, b 매개변수를 갖는 sub 함수, 결과값은 a에서 b를 뺀 값\n",
    "#         주피터노트북 작업 위치에 calc.py로 저장\n",
    "\n",
    "# calc.py\n",
    "def add(a, b):\n",
    "    return a + b\n",
    "\n",
    "def sub(a, b):\n",
    "    return a - b"
   ]
  },
  {
   "cell_type": "markdown",
   "metadata": {},
   "source": [
    "* 모듈 import 후 메서드 호출"
   ]
  },
  {
   "cell_type": "code",
   "execution_count": null,
   "metadata": {},
   "outputs": [],
   "source": [
    "# 에제) calc.py import하여 1과 2를 더한 결과 출력\n",
    "# 설명문) calc.py import\n",
    "#         add 함수 호출, 인자값은 1과 2\n",
    "\n",
    "import calc\n",
    "\n",
    "print(calc.add(1,2))"
   ]
  },
  {
   "cell_type": "markdown",
   "metadata": {},
   "source": [
    "* 멤버변수, 함수, 클래스 포함 모듈 생성 : imptest.py"
   ]
  },
  {
   "cell_type": "code",
   "execution_count": null,
   "metadata": {},
   "outputs": [],
   "source": [
    "#P 예제] 멤버변수 : PI, 메서드 : add, 클래스 : Math (solv 메서드 포함)\n",
    "\n",
    "PI = 3.141592\n",
    "\n",
    "class Math:\n",
    "    def solv(self, r):\n",
    "        return PI * (r ** 2)\n",
    "\n",
    "def add(a, b):\n",
    "    return a + b\n",
    "\n",
    "if __name__ == \"__main__\":\n",
    "    print(\"imptest.py 모듈입니다.\")\n",
    "    \n",
    "* \\_\\_name\\_\\_ 변수 : 파일을 직접 실행할때만 명령문 수행"
   ]
  },
  {
   "cell_type": "markdown",
   "metadata": {},
   "source": [
    "* imptest import 후 멤버변수, 메서드, 클래스 메서드 호출하기"
   ]
  },
  {
   "cell_type": "code",
   "execution_count": null,
   "metadata": {},
   "outputs": [],
   "source": [
    "#P 예제] imptest.py import 하여 변수와 메서드, 함수 호출하여 수행\n",
    "# 설명문)  imptest.py 모듈 불러오기\n",
    "# 설명문1) imptest 모듈의 PI 변수 출력하기\n",
    "# 설명문2) imptest 모듈의 Math 클래스 호출 : 객체 = 모듈 이름.클래스()\n",
    "#          Math 클래스의 solv 함수 호출하여 출력 (r : 3) : 객체.함수(인자)\n",
    "# 설명문3) imptest 모듈의 add 함수호출하여 출력\n",
    "#          add 인자값으로 첫번째 자리에 imptest PI, 두번째 자리에 5\n",
    "\n",
    "import imptest\n",
    "\n",
    "print(imptest.PI)\n",
    "\n",
    "math = imptest.Math()\n",
    "print(math.solv(3))\n",
    "\n",
    "print(imptest.add(imptest.PI, 5))"
   ]
  },
  {
   "cell_type": "markdown",
   "metadata": {},
   "source": [
    "* from절 활용한 imptest import"
   ]
  },
  {
   "cell_type": "code",
   "execution_count": null,
   "metadata": {},
   "outputs": [],
   "source": [
    "#P 예제] 위 예제에서 import. 을 제외하고 실행하면 됨\n",
    "from imptest import PI, Math, add\n",
    "\n",
    "print(PI)\n",
    "\n",
    "math = Math()\n",
    "print(math.solv(3))\n",
    "\n",
    "print(add(PI, 5))"
   ]
  },
  {
   "cell_type": "markdown",
   "metadata": {},
   "source": [
    "* 모듈 변경 후에는 모듈을 다시 불러들여야 함 "
   ]
  },
  {
   "cell_type": "code",
   "execution_count": null,
   "metadata": {},
   "outputs": [],
   "source": [
    "from importlib import reload\n",
    "\n",
    "import imptest\n",
    "\n",
    "reload(imptest)"
   ]
  },
  {
   "cell_type": "markdown",
   "metadata": {},
   "source": [
    "* 주피터노트북에서 파이썬 파일 실행하는 방법"
   ]
  },
  {
   "cell_type": "code",
   "execution_count": null,
   "metadata": {},
   "outputs": [],
   "source": [
    "!python imptest.py"
   ]
  },
  {
   "cell_type": "markdown",
   "metadata": {},
   "source": [
    "* [참고만] 점수대별 등급 산정 모듈 작성: moduletest.py"
   ]
  },
  {
   "cell_type": "code",
   "execution_count": null,
   "metadata": {},
   "outputs": [],
   "source": [
    "# 예제) moduletest.py\n",
    "\n",
    "def grade(point):\n",
    "    if point <= 50:\n",
    "        level = 'C'\n",
    "    elif point <= 75:\n",
    "        level = 'B'\n",
    "    elif point <= 100:\n",
    "        level = 'A'\n",
    "    else:\n",
    "        level = 'None'\n",
    "        \n",
    "    return level"
   ]
  },
  {
   "cell_type": "markdown",
   "metadata": {},
   "source": [
    "* moduletest import 후 메서드 실행"
   ]
  },
  {
   "cell_type": "code",
   "execution_count": null,
   "metadata": {},
   "outputs": [],
   "source": [
    "import moduletest\n",
    "\n",
    "print(moduletest.grade(60))"
   ]
  },
  {
   "cell_type": "markdown",
   "metadata": {},
   "source": [
    "# [실습 2 : 9 ~ 14p]\n",
    "\n",
    "\n",
    "## 2. 패키지\n",
    "\n",
    "### 1) 모듈의 경로\n",
    "\n",
    "* 모듈 경로 확인"
   ]
  },
  {
   "cell_type": "code",
   "execution_count": null,
   "metadata": {},
   "outputs": [],
   "source": [
    "import sys\n",
    "\n",
    "sys.path"
   ]
  },
  {
   "cell_type": "markdown",
   "metadata": {},
   "source": [
    "### 2) 패키지 생성\n",
    "\n",
    "* 패키지 디렉토리 생성 : c:\\pythonwork, c:\\pythonwork\\DemoPack\n",
    "* 패키지 디렉토리내 모듈 파일 추가 : demo1.py, demo2.py"
   ]
  },
  {
   "cell_type": "code",
   "execution_count": null,
   "metadata": {},
   "outputs": [],
   "source": [
    "# 예제) 패키지 생성 후 2개의 모듈 작성하여 모듈내 함수 실행하기\n",
    "# 설명문) 폴더는 DemoPack\n",
    "#         demo1.py, demo2.py 해당폴더에 생성\n",
    "\n",
    "# demo1.py\n",
    "def func1():\n",
    "    print(\"1.package : DemoPack, module : demo1, function : func1()\")\n",
    "def func2():    \n",
    "    print(\"2.package : DemoPack, module : demo1, function : func2()\")\n",
    "    \n",
    "# demo2.py    \n",
    "def func1():\n",
    "    print(\"1.package : DemoPack, module : demo2, function : func1()\")\n",
    "def func2():    \n",
    "    print(\"2.package : DemoPack, module : demo2, function : func2()\")"
   ]
  },
  {
   "cell_type": "markdown",
   "metadata": {},
   "source": [
    "* 패키지 경로설정\n",
    "* cmd 상에서 PYTHONPATH 설정   \n",
    "  : c:\\>set PYTHONPATH=c:/pythonwork"
   ]
  },
  {
   "cell_type": "markdown",
   "metadata": {},
   "source": [
    "### 3) 다양한 import 방법\n",
    "\n",
    "* from절 활용한 import"
   ]
  },
  {
   "cell_type": "code",
   "execution_count": null,
   "metadata": {},
   "outputs": [],
   "source": [
    "#P 예제] 패키지내 모듈별 import\n",
    "# 설명문1) DemoPack 폴더로부터 demo1 모듈 불러오기\n",
    "#          DemoPack 폴더로부터 demo2 모듈 불러오기\n",
    "#          demo1의 myfunc1(), myfunc2() 호출하기\n",
    "#          demo2의 func1(), func2() 호출하기\n",
    "\n",
    "from DemoPack import demo1\n",
    "from DemoPack import demo2\n",
    "    \n",
    "demo1.func1()    \n",
    "demo1.func2()    \n",
    "demo2.func1()    \n",
    "demo2.func2()"
   ]
  },
  {
   "cell_type": "markdown",
   "metadata": {},
   "source": [
    "* from절 활용한 import, 별칭 사용"
   ]
  },
  {
   "cell_type": "code",
   "execution_count": null,
   "metadata": {},
   "outputs": [],
   "source": [
    "#P 예제] 패키지내 모듈별 import, 별칭 사용하기\n",
    "\n",
    "from DemoPack import demo1 as dm1\n",
    "from DemoPack import demo2 as dm2\n",
    "\n",
    "dm1.func1()    \n",
    "dm1.func2()    \n",
    "dm2.func1()    \n",
    "dm2.func1()"
   ]
  },
  {
   "cell_type": "markdown",
   "metadata": {},
   "source": [
    "* 패키지내 모듈내 특정 메서드만 import 하기"
   ]
  },
  {
   "cell_type": "code",
   "execution_count": null,
   "metadata": {},
   "outputs": [],
   "source": [
    "from DemoPack.demo1 import func1, func2\n",
    "from DemoPack.demo2 import func1 as fc1\n",
    "from DemoPack.demo2 import func2 as fc2\n",
    "\n",
    "func1()\n",
    "func2()\n",
    "fc1()\n",
    "fc2()"
   ]
  },
  {
   "cell_type": "markdown",
   "metadata": {},
   "source": [
    "* 전체경로 import"
   ]
  },
  {
   "cell_type": "code",
   "execution_count": null,
   "metadata": {},
   "outputs": [],
   "source": [
    "import DemoPack.demo1\n",
    "import DemoPack.demo2\n",
    "\n",
    "DemoPack.demo1.func1()\n",
    "DemoPack.demo2.func2()"
   ]
  },
  {
   "cell_type": "markdown",
   "metadata": {},
   "source": [
    "# [참고만]\n",
    "\n",
    "## 1. \\_\\_init\\_\\_.py (참고만)\n",
    "\n",
    "* 패키지내 여러개의 모듈을 한번에 import 하기 위해서는\n",
    "* 패키지 디렉토리에 \\_\\_init\\_\\_.py 파일을 생성하여 아래 명령어 삽입\n",
    "```python\n",
    "__all__ = [모듈1, 모듈2, ---]\n",
    "```\n",
    "* 패키지 import\n",
    "```python\n",
    "from 패키지명 import *\n",
    "```\n",
    "* \\_\\_all\\_\\_ 의 리스트에 정의된 모듈 전체 import 됨"
   ]
  },
  {
   "cell_type": "code",
   "execution_count": null,
   "metadata": {},
   "outputs": [],
   "source": [
    "# 예제) __init__.py 파일을 DemoPack 디렉토리에 생성\n",
    "__all__ = [\"demo1\", \"demo2\"]\n",
    "\n",
    "# 패키지내 전체 모듈 import\n",
    "from DemoPack import *\n",
    "\n",
    "demo1.myfunc1()    \n",
    "demo1.myfunc2()    \n",
    "demo2.func1()    \n",
    "demo2.func1()"
   ]
  },
  {
   "cell_type": "markdown",
   "metadata": {},
   "source": [
    "## 2. 서드 파티 모듈(참고만)\n",
    "\n",
    "### 1) 모듈의 내부\n",
    "\n",
    "* 파이썬에서 제공하는 표준 모듈 목록 확인\n",
    "```python\n",
    "sys.builtin_module_names\n",
    "```\n",
    "* 모듈의 함수 목록 확인\n",
    "```python\n",
    "dir(모듈명)\n",
    "```\n",
    "* 모듈에서 제공하는 함수의 상세한 도움말 확인\n",
    "```python\n",
    "help(모듈명.함수명)\n",
    "```"
   ]
  },
  {
   "cell_type": "code",
   "execution_count": null,
   "metadata": {},
   "outputs": [],
   "source": [
    "# 표준 모듈 확인\n",
    "import sys\n",
    "sys.builtin_module_names"
   ]
  },
  {
   "cell_type": "code",
   "execution_count": null,
   "metadata": {},
   "outputs": [],
   "source": [
    "# 모듈의 함수 목록 확인\n",
    "import time\n",
    "dir(time)"
   ]
  },
  {
   "cell_type": "code",
   "execution_count": null,
   "metadata": {},
   "outputs": [],
   "source": [
    "# 모듈에서 제공하는 함수 도움말 확인\n",
    "help(time.localtime)"
   ]
  },
  {
   "cell_type": "markdown",
   "metadata": {},
   "source": [
    "### 2) 외부 모듈의 목록\n",
    "\n",
    "* 표준으로 제공하는 모듈이 아닌 제3자가 제작하여 배포하는 모듈\n",
    "* 대부분 오픈 소스로 제공되므로 필요한 라이브러리를 인스톨해서 사용하면 됨\n",
    "* 데이타 수집, 분석, 시각화를 위한 대표적인 라이브러리 : Numpy, Pandas, BeautifulSoup, matplotlib 등"
   ]
  },
  {
   "cell_type": "markdown",
   "metadata": {},
   "source": [
    "### 3) pip\n",
    "\n",
    "* pip(Package Inataller for Python) : 외부 모듈을 편리하게 관리하는 프로그램\n",
    "* 주요 명령어  \n",
    "install : 패키지 설치  \n",
    "uninstall : 패키지 삭제  \n",
    "freeze : 패키지 목록 조회  \n",
    "show : 패키지 정보 조회"
   ]
  }
 ],
 "metadata": {
  "kernelspec": {
   "display_name": "Python 3 (ipykernel)",
   "language": "python",
   "name": "python3"
  },
  "language_info": {
   "codemirror_mode": {
    "name": "ipython",
    "version": 3
   },
   "file_extension": ".py",
   "mimetype": "text/x-python",
   "name": "python",
   "nbconvert_exporter": "python",
   "pygments_lexer": "ipython3",
   "version": "3.9.10"
  }
 },
 "nbformat": 4,
 "nbformat_minor": 2
}
