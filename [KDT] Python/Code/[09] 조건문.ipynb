{
 "cells": [
  {
   "cell_type": "markdown",
   "metadata": {},
   "source": [
    "# [실습 1 : 5 ~ 9p]\n",
    "\n",
    "## 01. if 조건문\n",
    "\n",
    "### 1) if 기본문\n",
    "\n",
    "* a,b 조건식을 통한 명령문 수행 : 참인 경우"
   ]
  },
  {
   "cell_type": "code",
   "execution_count": null,
   "metadata": {},
   "outputs": [],
   "source": [
    "a = 10\n",
    "b = 20\n",
    "\n",
    "if a > 0:\n",
    "    print(\"a > 0 : \", a)\n",
    "\n",
    "if a > b:\n",
    "    print(\"a > b : \", a)"
   ]
  },
  {
   "cell_type": "markdown",
   "metadata": {},
   "source": [
    "*  a,b 조건식의 참, 거짓 출력하기"
   ]
  },
  {
   "cell_type": "code",
   "execution_count": null,
   "metadata": {},
   "outputs": [],
   "source": [
    "print(a > b)"
   ]
  },
  {
   "cell_type": "markdown",
   "metadata": {},
   "source": [
    "### 2) 논리 연산자\n",
    "\n",
    "* and , or, not 연산자로 참, 거짓 출력하기"
   ]
  },
  {
   "cell_type": "code",
   "execution_count": null,
   "metadata": {},
   "outputs": [],
   "source": [
    "a = True\n",
    "b = False\n",
    "    \n",
    "print(a and b)\n",
    "print(a or b)    \n",
    "print(not a)"
   ]
  },
  {
   "cell_type": "markdown",
   "metadata": {},
   "source": [
    "# [실습 2 : 10 ~ 11p]\n",
    "\n",
    "## 02. else 문\n",
    "\n",
    "* if, else 문장 실습"
   ]
  },
  {
   "cell_type": "code",
   "execution_count": 2,
   "metadata": {},
   "outputs": [
    {
     "name": "stdout",
     "output_type": "stream",
     "text": [
      "b - a :  10\n"
     ]
    }
   ],
   "source": [
    "# a = 10, b = 20, a와 b중 어느값이 큰지 출력\n",
    "\n",
    "a = 10\n",
    "b = 20\n",
    "\n",
    "if a > b:\n",
    "    print(\"a - b\", a - b)\n",
    "else:\n",
    "    print(\"b - a : \", b - a)"
   ]
  },
  {
   "cell_type": "code",
   "execution_count": null,
   "metadata": {},
   "outputs": [],
   "source": [
    "# money : 2000원\n",
    "# 3천원이상이면 \"택시를 이용하세요\"를 출력,\n",
    "# 3천원 미만이면 버스나 도보를 이용하세요.\n",
    "# if ~ else문으로 작성\n",
    "\n",
    "money = 2000\n",
    "\n",
    "if money >= 3000:\n",
    "    print(\"택시를 이용하세요\")\n",
    "else:\n",
    "    print(\"도보나 버스를 이용하세요\")"
   ]
  },
  {
   "cell_type": "code",
   "execution_count": null,
   "metadata": {},
   "outputs": [],
   "source": [
    "# money : 2000원, card = True\n",
    "# 3천원이상이거나 카드가 있으면 \"택시를 이용하세요\"를 출력,\n",
    "# 3천원 미만이면 버스나 도보를 이용하세요.\n",
    "# if ~ else문으로 작성\n",
    "\n",
    "money = 2000\n",
    "card = True\n",
    "\n",
    "if money >= 3000 or card:\n",
    "    print(\"택시를 이용하세요\")\n",
    "else:\n",
    "    print(\"도보나 버스를 이용하세요\")"
   ]
  },
  {
   "cell_type": "markdown",
   "metadata": {},
   "source": [
    "# [실습 3 : 12 ~ 13p]\n",
    "\n",
    "## 03. elif 문\n",
    "\n",
    "* if, elif, else 문장 실습"
   ]
  },
  {
   "cell_type": "code",
   "execution_count": null,
   "metadata": {},
   "outputs": [],
   "source": [
    "# if elif else 사용 예\n",
    "# point를 입력받음, 문구 : \"점수를 입력하세요.\"\n",
    "# point가 90점 이상이면 \"A\", 80점 이상이면 \"B\", 70점 이상이면 \"C\"\n",
    "# 60점 이상이면 \"D\", 60점 미만이면 \"F\"를 변수 grade에 대입\n",
    "# 등급 출력\n",
    "\n",
    "point = int(input(\"점수를 입력하세요. \"))\n",
    "\n",
    "if point >= 90:\n",
    "    grade = \"A\"\n",
    "elif point >= 80:\n",
    "    grade = \"B\"\n",
    "elif point >= 70:\n",
    "    grade = \"C\"\n",
    "elif point >= 60:\n",
    "    grade = \"D\"\n",
    "else:\n",
    "    grade = \"F\"\n",
    "\n",
    "print(\"등급 : \", grade)"
   ]
  },
  {
   "cell_type": "code",
   "execution_count": null,
   "metadata": {},
   "outputs": [],
   "source": [
    "# if elif else 사용 예2\n",
    "# money를 입력받음, 문구 : \"현재 가지고 있는 현금이 얼마입니까?\"\n",
    "# money가 3천원이상이면 \"택시를 이용하세요\" 출력\n",
    "# 2천원 이상 있으면 \"버스를 이용하세요\" 출력\n",
    "# 2천원 미만이면 \"도보를 이용하세요\" 출력\n",
    "\n",
    "money = int(input(\"현재 가지고 있는 현금이 얼마입니까?))\n",
    "\n",
    "if money >= 3000:\n",
    "    print(\"택시를 이용하세요\")\n",
    "elif money >= 2000:\n",
    "    print(\"버스를 이용하세요\")\n",
    "else:\n",
    "    print(\"도보를 이용하세요\")"
   ]
  },
  {
   "cell_type": "code",
   "execution_count": null,
   "metadata": {},
   "outputs": [],
   "source": [
    "# 중첩 문장 실습\n",
    "\n",
    "# money를 입력받음, 문구 : \"현재 가지고 있는 현금이 얼마입니까?\"\n",
    "# distance(거리:km)를 입력받음, 문구 : \"거리가 몇 km입니까?\"\n",
    "# money가 3천원이상이면 \"택시를 이용하세요\" 출력\n",
    "# 2천원 이상이면 \"버스를 이용하세요\" 출력\n",
    "# 2천원 미만인 경우\n",
    "    # 거리가 1km이상이면 \"뛰어가세요\" 출력\n",
    "    # 1km 미만이면 \"걸어가세요\" 출력\n",
    "\n",
    "money = int(input(\"현재 가지고 있는 현금이 얼마입니까?\"))\n",
    "distance = int(input(\"거리가 몇 km입니까\"))\n",
    "\n",
    "if money >= 3000:\n",
    "    print(\"택시를 이용하세요\")\n",
    "elif money >= 2000:\n",
    "    print(\"버스를 이용하세요\")\n",
    "else:\n",
    "    if distance >= 1:\n",
    "        print(\"뛰어가세요\")\n",
    "    else:\n",
    "        print(\"걸어가세요\")\n",
    "        "
   ]
  },
  {
   "cell_type": "code",
   "execution_count": null,
   "metadata": {},
   "outputs": [],
   "source": [
    "# 예제) if 문 한줄로 완성하기\n",
    "\n",
    "money = 2000\n",
    "\n",
    "if money >= 3000: print(\"택시를 이용하세요\")\n",
    "else: print(\"도보나 버스를 이용하세요\")"
   ]
  },
  {
   "cell_type": "code",
   "execution_count": null,
   "metadata": {},
   "outputs": [],
   "source": [
    "# if문 조건으로 in 예제\n",
    "# pocket을 리스트 변수이고, 3개의 요소(paper, cellphone, money)를 포함함\n",
    "# pocket에 money가 있으면 \"택시를 이용하세요\" 출력, 없으면 \"도보를 이용하세요\" 출력\n",
    "# if 조건절에 in을 사용해야 함\n",
    "\n",
    "pocket = ['paper', 'cellphone', 'money']\n",
    "\n",
    "if 'money' in pocket:\n",
    "    print(\"택시를 이용하세요\")\n",
    "else:\n",
    "    print(\"도보를 이용하세요\")"
   ]
  },
  {
   "cell_type": "code",
   "execution_count": null,
   "metadata": {},
   "outputs": [],
   "source": [
    "# 참고예제) pocket에 paper, cellphone 저장\n",
    "# card 소지중\n",
    "# 주머니에  money이 있으면 택시를 이용하세요 출력\n",
    "# 주머니에 money는 없지만 card가 있다면 택시를 이용하세요 출력\n",
    "# money도 없고 card도 없으면 도보를 이용하세요 출력\n",
    "\n",
    "pocket = ['paper', 'cellphone']\n",
    "card = True\n",
    "\n",
    "if 'money' in pocket:\n",
    "    print(\"택시를 이용하세요\")\n",
    "elif card:\n",
    "    print(\"택시를 이용하세요\")\n",
    "else:\n",
    "    print(\"도보를 이용하세요\")"
   ]
  },
  {
   "cell_type": "markdown",
   "metadata": {},
   "source": [
    "* pass 활용"
   ]
  },
  {
   "cell_type": "code",
   "execution_count": null,
   "metadata": {},
   "outputs": [],
   "source": [
    "# 예제) pass 문장 활용 : 명령문 없을 경우 error 발생\n",
    "\n",
    "pocket = ['paper', 'money', 'cellphone']\n",
    "\n",
    "if 'money' in pocket:\n",
    "else:\n",
    "    print(\"도보를 이용하세요\")"
   ]
  },
  {
   "cell_type": "code",
   "execution_count": null,
   "metadata": {},
   "outputs": [],
   "source": [
    "# 예제) pass 문장 활용 : 명령문 없을 경우 pass 구문 사용\n",
    "\n",
    "pocket = ['paper', 'money', 'cellphone']\n",
    "\n",
    "if 'money' in pocket:\n",
    "    pass\n",
    "else:\n",
    "    print(\"도보를 이용하세요\")"
   ]
  },
  {
   "cell_type": "markdown",
   "metadata": {},
   "source": [
    "* 퀴즈"
   ]
  },
  {
   "cell_type": "code",
   "execution_count": null,
   "metadata": {},
   "outputs": [],
   "source": [
    "# 퀴즈1) pass 문장 활용 : 출력문 맞추기\n",
    "\n",
    "pocket = ['paper', 'money', 'cellphone']\n",
    "\n",
    "if 'money' in pocket:\n",
    "    print(\"현금\")\n",
    "    pass\n",
    "    print(\"종이\")\n",
    "else:\n",
    "    print(\"카드\")"
   ]
  },
  {
   "cell_type": "code",
   "execution_count": null,
   "metadata": {},
   "outputs": [],
   "source": [
    "# 퀴즈2) pass 문장 활용 : 출력문 맞추기\n",
    "\n",
    "pocket = ['paper', 'money', 'cellphone']\n",
    "\n",
    "if 'money' in pocket:\n",
    "    pass\n",
    "    print(\"현금\")\n",
    "    print(\"종이\")\n",
    "else:\n",
    "    print(\"카드\")"
   ]
  }
 ],
 "metadata": {
  "kernelspec": {
   "display_name": "Python 3 (ipykernel)",
   "language": "python",
   "name": "python3"
  },
  "language_info": {
   "codemirror_mode": {
    "name": "ipython",
    "version": 3
   },
   "file_extension": ".py",
   "mimetype": "text/x-python",
   "name": "python",
   "nbconvert_exporter": "python",
   "pygments_lexer": "ipython3",
   "version": "3.9.10"
  }
 },
 "nbformat": 4,
 "nbformat_minor": 2
}
