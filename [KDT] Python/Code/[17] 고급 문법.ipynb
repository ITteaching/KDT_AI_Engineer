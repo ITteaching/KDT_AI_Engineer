{
 "cells": [
  {
   "cell_type": "markdown",
   "metadata": {},
   "source": [
    "# [실습 1 : 5p]\n",
    "\n",
    "## 1. 반복자\n",
    "\n",
    "### 1) 열거 가능 객체"
   ]
  },
  {
   "cell_type": "markdown",
   "metadata": {},
   "source": [
    "* iterator 객체 생성 후 순서대로 읽기"
   ]
  },
  {
   "cell_type": "code",
   "execution_count": null,
   "metadata": {},
   "outputs": [],
   "source": [
    "# Itorator\n",
    "\n",
    "nums = [1,2,3,4,5]\n",
    "it = iter(nums)\n",
    "\n",
    "print(next(it))\n",
    "print(next(it))\n",
    "print(next(it))\n",
    "print(next(it))\n",
    "print(next(it))\n",
    "\n",
    "# print(next(it))\n",
    "\n",
    "print(nums)"
   ]
  },
  {
   "cell_type": "markdown",
   "metadata": {},
   "source": [
    "* 반복문으로 순서대로 읽고, StopIteration 예외 발생"
   ]
  },
  {
   "cell_type": "code",
   "execution_count": null,
   "metadata": {},
   "outputs": [],
   "source": [
    "# 반복문\n",
    "nums = [1,2,3,4,5]\n",
    "it = iter(nums)\n",
    "\n",
    "while True:\n",
    "    try:\n",
    "        num = next(it)\n",
    "    except StopIteration:\n",
    "        break\n",
    "        \n",
    "    print(num)"
   ]
  },
  {
   "cell_type": "markdown",
   "metadata": {},
   "source": [
    "* (참고만) 임의의 클래스를 반복 가능한 객체로 생성하는것도 가능함  \n",
    ": 클래스에 \\_\\_iter\\_\\_, \\_\\_next\\_\\_ 메서드를 구현하여  \n",
    "반복자를 내장함으로써 스스로 반복 가능 객체가 됨"
   ]
  },
  {
   "cell_type": "code",
   "execution_count": 1,
   "metadata": {},
   "outputs": [
    {
     "name": "stdout",
     "output_type": "stream",
     "text": [
      "M\n",
      "o\n",
      "n\n",
      "T\n",
      "u\n",
      "e\n",
      "W\n",
      "e\n",
      "d\n",
      "T\n",
      "h\n",
      "r\n",
      "F\n",
      "r\n",
      "y\n",
      "S\n",
      "a\n",
      "t\n",
      "S\n",
      "u\n",
      "n\n"
     ]
    }
   ],
   "source": [
    "# (참고만) 반복 가능 객체 생성\n",
    "class Myiter:\n",
    "    def __init__(self, data):\n",
    "        self.data = data\n",
    "        self.index = -1\n",
    "    def __iter__(self):\n",
    "        return self\n",
    "    def __next__(self):\n",
    "        self.index += 1\n",
    "        \n",
    "        if self.index >= len(self.data):\n",
    "            raise StopIteration\n",
    "        \n",
    "        return self.data[self.index]\n",
    "\n",
    "daylist = Myiter(\"MonTueWedThrFrySatSun\")\n",
    "                         \n",
    "for day in daylist:\n",
    "    print(day)    "
   ]
  },
  {
   "cell_type": "code",
   "execution_count": null,
   "metadata": {},
   "outputs": [],
   "source": [
    "# (참고만) 반복 가능 객체 생성 : 3칸씩 슬라이싱\n",
    "class Myiter:\n",
    "    def __init__(self, data):\n",
    "        self.data = data\n",
    "        self.index = -3\n",
    "    def __iter__(self):\n",
    "        return self\n",
    "    def __next__(self):\n",
    "        self.index += 3\n",
    "  \n",
    "        if self.index >= len(self.data):\n",
    "            raise StopIteration\n",
    "\n",
    "        return self.data[self.index:self.index + 3]\n",
    "\n",
    "daylist = Myiter(\"MonTueWedThrFrySatSun\")\n",
    "\n",
    "for day in daylist:\n",
    "    print(day)"
   ]
  },
  {
   "cell_type": "markdown",
   "metadata": {},
   "source": [
    "# [실습 2 : 6 ~ 7p]\n",
    "\n",
    "### 2) 제너레이터"
   ]
  },
  {
   "cell_type": "markdown",
   "metadata": {},
   "source": [
    "* 제너레이터 기본 예제"
   ]
  },
  {
   "cell_type": "code",
   "execution_count": null,
   "metadata": {},
   "outputs": [],
   "source": [
    "# 설명문1) 제너레이터 함수 생성 후 호출하면 제너레이터 객체만 리턴함\n",
    "\n",
    "def genTest():\n",
    "    \n",
    "    print(\"제너레이터 함수 첫번째 호출\")\n",
    "    yield \"1\"\n",
    "    \n",
    "    print(\"제너레이터 함수 두번째 호출\")\n",
    "    yield \"2\"    \n",
    "    \n",
    "print(genTest())\n",
    "\n",
    "# 설명문2) 함수 실행시 next(제너레이터)를 통해 yield 만나는 곳까지 실행\n",
    "\n",
    "g = genTest()\n",
    "print(next(g))\n",
    "print(next(g))"
   ]
  },
  {
   "cell_type": "code",
   "execution_count": null,
   "metadata": {},
   "outputs": [],
   "source": [
    "# 설명문3) 제너레이터는 이터레이션 객체를 리턴하므로 for in 문으로 요소를 출력할 수 있음\n",
    "for i in genTest():\n",
    "    print(i)\n",
    "    \n",
    "    \n",
    "# 제너레이터는 일반 반복문이 있는 함수보다 메모리를 적게 사용한다. \n",
    "# 이유는 제너레이터 객체는 반환할 값들을 미리 만들어서 저장해 두지 않기 때문이다.(lazy evaluation)\n",
    "# 따라서 생성되는 값들을 순서대로 가져다 쓰는 로직을 작성할 경우는 제너레이터를 사용하는 것이 바람직하다. "
   ]
  },
  {
   "cell_type": "markdown",
   "metadata": {},
   "source": [
    "* 메모리 사용량 확인"
   ]
  },
  {
   "cell_type": "code",
   "execution_count": null,
   "metadata": {},
   "outputs": [],
   "source": [
    "#P 예제] 리스트와 제너레이터 사용시 메모리 용량 비교\n",
    "\n",
    "import sys\n",
    "print(sys.getsizeof( [ i for i in range(100) ] ))\n",
    "print(sys.getsizeof( [ i for i in range(1000) ] ))\n",
    "\n",
    "print(sys.getsizeof( ( i for i in range(100) ) ))\n",
    "print(sys.getsizeof( ( i for i in range(1000) ) ))"
   ]
  },
  {
   "cell_type": "markdown",
   "metadata": {},
   "source": [
    "* 제너레이터 빅 데이타 예제"
   ]
  },
  {
   "cell_type": "code",
   "execution_count": null,
   "metadata": {},
   "outputs": [],
   "source": [
    "# 설명문1) 리스트 등 요소를 메모리에 할당하는 객체는 요소의 갯수 제한이 메모리 양과 관계있음\n",
    "\n",
    "#big_list = [i for i in range(0, 100000000000000000000)] # 수행 불가\n",
    "\n",
    "n = 100000000000000000000\n",
    "\n",
    "def big_gen2(n):\n",
    "    count = 0\n",
    "    while count < n:\n",
    "        yield count\n",
    "        count += 1\n",
    "\n",
    "g = big_gen2(n)\n",
    "print(next(g))\n",
    "print(next(g))\n",
    "print(next(g))"
   ]
  },
  {
   "cell_type": "markdown",
   "metadata": {},
   "source": [
    "* 제너레이터 빅 데이타 예제 (제너레이터 컴프리헨션을 재작성)"
   ]
  },
  {
   "cell_type": "code",
   "execution_count": null,
   "metadata": {},
   "outputs": [],
   "source": [
    "big_gen = (i for i in range(0, n))       \n",
    "\n",
    "print(next(big_gen))\n",
    "print(next(big_gen))\n",
    "print(next(big_gen))"
   ]
  },
  {
   "cell_type": "markdown",
   "metadata": {},
   "source": [
    "# [실습 3 : 8 ~ 10p]\n",
    "\n",
    "## 2. 데코레이터\n",
    "\n",
    "### 1) 파이썬 함수의 특성"
   ]
  },
  {
   "cell_type": "markdown",
   "metadata": {},
   "source": [
    "* 함수를 다른 변수에 대입"
   ]
  },
  {
   "cell_type": "code",
   "execution_count": null,
   "metadata": {},
   "outputs": [],
   "source": [
    "def hello(name):\n",
    "    return \"Hello \" + name\n",
    "\n",
    "print(hello(\"홍길동\"))    \n",
    "\n",
    "fcopy = hello\n",
    "\n",
    "print(fcopy(\"복사본\"))"
   ]
  },
  {
   "cell_type": "markdown",
   "metadata": {},
   "source": [
    "* 함수를 인수로 전달, 함수로 리턴"
   ]
  },
  {
   "cell_type": "code",
   "execution_count": null,
   "metadata": {},
   "outputs": [],
   "source": [
    "def myfunc(func, name):\n",
    "    return func(name)\n",
    "\n",
    "def hello(name):\n",
    "    return \"Hello \" + name\n",
    "\n",
    "def hi(name):\n",
    "    return \"Hi? \" + name\n",
    "\n",
    "print(myfunc(hello,\"홍길동1\"))\n",
    "print(myfunc(hi,\"홍길동2\"))"
   ]
  },
  {
   "cell_type": "markdown",
   "metadata": {},
   "source": [
    "* 함수를 컬렉션에 저장"
   ]
  },
  {
   "cell_type": "code",
   "execution_count": 9,
   "metadata": {},
   "outputs": [
    {
     "name": "stdout",
     "output_type": "stream",
     "text": [
      "<class 'function'>\n",
      "Hello 홍길동\n",
      "<class 'function'>\n",
      "Hi? 홍길동\n"
     ]
    }
   ],
   "source": [
    "def hello(name):\n",
    "    return \"Hello \" + name\n",
    "\n",
    "def hi(name):\n",
    "    return \"Hi? \" + name\n",
    "\n",
    "lista = [hello, hi]\n",
    "\n",
    "for item in lista:\n",
    "    print(type(item))\n",
    "    print(item(\"홍길동\"))"
   ]
  },
  {
   "cell_type": "markdown",
   "metadata": {},
   "source": [
    "# [실습 4 : 11p]\n",
    "\n",
    "### 2) 지역 함수"
   ]
  },
  {
   "cell_type": "markdown",
   "metadata": {},
   "source": [
    "* 지역함수 선언 및 호출 예제"
   ]
  },
  {
   "cell_type": "code",
   "execution_count": 10,
   "metadata": {},
   "outputs": [
    {
     "name": "stdout",
     "output_type": "stream",
     "text": [
      "15\n"
     ]
    }
   ],
   "source": [
    "def pointSum(n):\n",
    "    def plus(point, add):\n",
    "        return point + add\n",
    "    \n",
    "    point = 0\n",
    "    for i in range(0,n+1):\n",
    "        point = plus(point, i)\n",
    "    return point\n",
    "\n",
    "print(pointSum(5))    "
   ]
  },
  {
   "cell_type": "code",
   "execution_count": null,
   "metadata": {},
   "outputs": [],
   "source": []
  },
  {
   "cell_type": "markdown",
   "metadata": {},
   "source": [
    "# [실습 5 : 12 ~ 13p]\n",
    "\n",
    "### 3) 함수 데코레이터"
   ]
  },
  {
   "cell_type": "markdown",
   "metadata": {},
   "source": [
    "* 함수를 인자로 활용"
   ]
  },
  {
   "cell_type": "code",
   "execution_count": null,
   "metadata": {},
   "outputs": [],
   "source": [
    "def inner():\n",
    "    print(\"결과를 출력합니다.\")\n",
    "    \n",
    "def outer(func):\n",
    "    print(\"-\" * 20)\n",
    "    func()\n",
    "    print(\"-\" * 20)\n",
    "\n",
    "outer(inner)"
   ]
  },
  {
   "cell_type": "markdown",
   "metadata": {},
   "source": [
    "* 함수를 인자로 활용하되 wrapper() 로 감싸기"
   ]
  },
  {
   "cell_type": "code",
   "execution_count": 5,
   "metadata": {},
   "outputs": [
    {
     "name": "stdout",
     "output_type": "stream",
     "text": [
      "--------------------\n",
      "결과를 출력합니다.\n",
      "--------------------\n"
     ]
    }
   ],
   "source": [
    "def inner():\n",
    "    print(\"결과를 출력합니다.\")\n",
    "    \n",
    "def outer(func):\n",
    "    def wrapper():\n",
    "        print(\"-\" * 20)\n",
    "        func()\n",
    "        print(\"-\" * 20)\n",
    "    return wrapper\n",
    "\n",
    "inner = outer(inner)\n",
    "inner()"
   ]
  },
  {
   "cell_type": "markdown",
   "metadata": {},
   "source": [
    "* 데코레이터 활용"
   ]
  },
  {
   "cell_type": "code",
   "execution_count": null,
   "metadata": {},
   "outputs": [],
   "source": [
    "def outer(func):\n",
    "    def wrapper():\n",
    "        print(\"-\" * 20)\n",
    "        func()\n",
    "        print(\"-\" * 20)\n",
    "    return wrapper\n",
    "\n",
    "@outer\n",
    "def inner():\n",
    "    print(\"결과를 출력합니다.\")\n",
    "    \n",
    "inner()"
   ]
  },
  {
   "cell_type": "markdown",
   "metadata": {},
   "source": [
    "* <p> 태그 붙이기"
   ]
  },
  {
   "cell_type": "code",
   "execution_count": null,
   "metadata": {},
   "outputs": [],
   "source": [
    "def tagadd(func):\n",
    "    def wrapper():\n",
    "        return \"<p>\" + func() + \"</p>\"\n",
    "    return wrapper\n",
    "\n",
    "@tagadd\n",
    "def name():\n",
    "    return \"홍길동\"\n",
    "\n",
    "@tagadd\n",
    "def city():\n",
    "    return \"서울\"\n",
    "\n",
    "print(name())\n",
    "print(city())"
   ]
  },
  {
   "cell_type": "markdown",
   "metadata": {},
   "source": [
    "* 참고만) 인자값 있는 경우"
   ]
  },
  {
   "cell_type": "code",
   "execution_count": null,
   "metadata": {},
   "outputs": [],
   "source": [
    "def tagadd(func):\n",
    "    def wrapper(*args, **kwargs):\n",
    "        return \"<p>\" + func(*args, **kwargs) + \"</p>\"\n",
    "    return wrapper\n",
    "\n",
    "@tagadd\n",
    "def name(a):\n",
    "    return \"이름:\" + a\n",
    "\n",
    "@tagadd\n",
    "def city(a):\n",
    "    return \"도시:\" + a\n",
    "\n",
    "print(name(\"홍길동\"))\n",
    "print(city(\"서울\"))"
   ]
  },
  {
   "cell_type": "markdown",
   "metadata": {},
   "source": [
    "# [실습 6 : 14p]\n",
    "\n",
    "### 4) 클래스 데코레이터"
   ]
  },
  {
   "cell_type": "code",
   "execution_count": null,
   "metadata": {},
   "outputs": [],
   "source": [
    "class Outer:\n",
    "    def __init__(self, func):\n",
    "        self.func = func\n",
    "        \n",
    "    def __call__(self):\n",
    "        print(\"=\" * 20)\n",
    "        self.func()\n",
    "        print(\"=\" * 20)\n",
    "\n",
    "def inner():\n",
    "    print(\"데코레이터 결과입니다.\")\n",
    "\n",
    "\n",
    "inner = Outer(inner)\n",
    "\n",
    "inner()"
   ]
  },
  {
   "cell_type": "code",
   "execution_count": null,
   "metadata": {},
   "outputs": [],
   "source": [
    "class Outer:\n",
    "    def __init__(self, func):\n",
    "        self.func = func\n",
    "\n",
    "    def __call__(self):\n",
    "        print(\"=\" * 20)\n",
    "        self.func()\n",
    "        print(\"=\" * 20)\n",
    "\n",
    "@Outer\n",
    "def inner():\n",
    "    print(\"데코레이터 결과입니다.\")\n",
    "\n",
    "inner()\n",
    "# a()"
   ]
  },
  {
   "cell_type": "markdown",
   "metadata": {},
   "source": [
    "# [참고] 3. 동적 코드 실행 (참고만)\n",
    "\n",
    "## 1) eval\n",
    "\n",
    "* 문자열 형태로 된 파이썬 표현식을 평가하여 그 결과를 리턴함\n",
    "* 실행 중에 만든 문자열을 해석기가 분석 및 실행하는 방식\n",
    "```python\n",
    "eval(\"수식\")\n",
    "```"
   ]
  },
  {
   "cell_type": "code",
   "execution_count": null,
   "metadata": {},
   "outputs": [],
   "source": [
    "# eval\n",
    "\n",
    "evala = eval(\"1 + 2 + 3\")\n",
    "print(evala)\n",
    "\n",
    "a = 10\n",
    "b = 20\n",
    "c = 30\n",
    "\n",
    "evalb = eval(\"a + b + c\")\n",
    "print(evalb)\n",
    "\n",
    "evalc = eval(\"3 == 3\")\n",
    "print(evalc)"
   ]
  },
  {
   "cell_type": "code",
   "execution_count": null,
   "metadata": {},
   "outputs": [],
   "source": [
    "value = input(\"수식을 입력하세요.\")\n",
    "\n",
    "print(value)\n",
    "print(type(value))\n",
    "print(eval(value))"
   ]
  },
  {
   "cell_type": "markdown",
   "metadata": {},
   "source": [
    "## 2) repr\n",
    "\n",
    "* 객체로부터 문자열 표현식을 생성함\n",
    "* str 함수와 유사하지만 결과가 표현식이라는 면이 다름\n",
    "* repr 함수는 사람을 위한 문자열이 아닌 해석기를 위한 표현식을 만들어 내며  \n",
    "이 표현식으로 객체를 다시 만들 수 있어야 함\n",
    "```python\n",
    "repr(숫자, 리스트 등 객체)\n",
    "```"
   ]
  },
  {
   "cell_type": "code",
   "execution_count": null,
   "metadata": {},
   "outputs": [],
   "source": [
    "print(str(1234))\n",
    "print(str('abcde'))\n",
    "\n",
    "print(repr(1234))\n",
    "print(repr('abcde'))"
   ]
  },
  {
   "cell_type": "code",
   "execution_count": null,
   "metadata": {},
   "outputs": [],
   "source": [
    "stra = repr('abcde')\n",
    "print(type(stra))\n",
    "print(stra)\n",
    "streval = eval(stra)\n",
    "print(type(streval))\n",
    "print(streval)"
   ]
  },
  {
   "cell_type": "markdown",
   "metadata": {},
   "source": [
    "## 3) exec\n",
    "\n",
    "* 실행 중에 문장을 파이썬 코드를 직접 실행함\n",
    "```python\n",
    "exec(\"파이썬 명령어 코드\")\n",
    "```\n",
    "* 외부의 파이썬 스크립트를 불러와서 실행하는 것도 가능함\n",
    "```python\n",
    "exec(open(\"파이썬파일명.py\").read())\n",
    "```"
   ]
  },
  {
   "cell_type": "code",
   "execution_count": null,
   "metadata": {},
   "outputs": [],
   "source": [
    "exec(\"a = 3\")\n",
    "print(a)"
   ]
  },
  {
   "cell_type": "code",
   "execution_count": null,
   "metadata": {},
   "outputs": [],
   "source": [
    "exec(open(\"t2.py\").read())"
   ]
  }
 ],
 "metadata": {
  "kernelspec": {
   "display_name": "Python 3 (ipykernel)",
   "language": "python",
   "name": "python3"
  },
  "language_info": {
   "codemirror_mode": {
    "name": "ipython",
    "version": 3
   },
   "file_extension": ".py",
   "mimetype": "text/x-python",
   "name": "python",
   "nbconvert_exporter": "python",
   "pygments_lexer": "ipython3",
   "version": "3.9.10"
  }
 },
 "nbformat": 4,
 "nbformat_minor": 2
}
