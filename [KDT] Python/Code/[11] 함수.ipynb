{
 "cells": [
  {
   "cell_type": "markdown",
   "metadata": {},
   "source": [
    "# [실습 1 : 5 ~ 12]\n",
    "\n",
    "## 01. 함수 정의\n",
    "\n",
    "### 1) 반복되는 코드\n",
    "\n",
    "* 함수 기본 예제 : 반복 사용"
   ]
  },
  {
   "cell_type": "code",
   "execution_count": null,
   "metadata": {},
   "outputs": [],
   "source": [
    "print(\"*****************************************************\")\n",
    "print(\"*****************************************************\")\n",
    "print(\"*****************************************************\")\n",
    "print(\"*****************************************************\")\n",
    "print(\"*****************************************************\")\n",
    "print()\n",
    "\n",
    "def head_print():\n",
    "    print(\"*****************************************************\")\n",
    "    \n",
    "head_print()\n",
    "head_print()\n",
    "head_print()\n",
    "head_print()\n",
    "head_print()"
   ]
  },
  {
   "cell_type": "markdown",
   "metadata": {},
   "source": [
    "* 함수 기본 예제 : 더하기 함수"
   ]
  },
  {
   "cell_type": "code",
   "execution_count": null,
   "metadata": {},
   "outputs": [],
   "source": [
    "def add(a, b):\n",
    "    c = a + b\n",
    "    return c\n",
    "\n",
    "print(add(5,4))"
   ]
  },
  {
   "cell_type": "markdown",
   "metadata": {},
   "source": [
    "### 2) docstring 설정 예제"
   ]
  },
  {
   "cell_type": "code",
   "execution_count": null,
   "metadata": {
    "scrolled": true
   },
   "outputs": [],
   "source": [
    "def calsum(point, level):\n",
    "\n",
    "    \"\"\" 취득점수에 난이도를 곱하는 함수\n",
    "    point : 취득점수\n",
    "    grade : 난이도\n",
    "    return : point * grade\n",
    "    \"\"\"\n",
    "    return point * level\n",
    "\n",
    "print(calsum(70, 1.2))\n",
    "\n",
    "help(calsum)"
   ]
  },
  {
   "cell_type": "code",
   "execution_count": null,
   "metadata": {},
   "outputs": [],
   "source": [
    "def calsum(point, level):\n",
    "    return point * level\n",
    "\n",
    "print(calsum(70, 1.2))\n",
    "\n",
    "help(calsum)\n",
    "\n",
    "calsum.__doc__ = \"\"\"취득점수에 난이도를 곱하는 함수\n",
    "                    point : 취득점수\n",
    "                    level : 난이도\n",
    "                    return : point * level\n",
    "                \"\"\"\n",
    "\n",
    "help(calsum)"
   ]
  },
  {
   "cell_type": "markdown",
   "metadata": {},
   "source": [
    "### 3) 인수값, 리턴값 존재유무에 대한 케이스별 샘플 코드"
   ]
  },
  {
   "cell_type": "markdown",
   "metadata": {},
   "source": [
    "* CASE-1) 인수 : X, 리턴 : X"
   ]
  },
  {
   "cell_type": "code",
   "execution_count": null,
   "metadata": {},
   "outputs": [],
   "source": [
    "# 설명문 : \"Hello Python!\" 출력\n",
    "\n",
    "def head_print():\n",
    "    print(\"Hello Python!\")\n",
    "\n",
    "a = head_print()\n",
    "print(a) \n",
    "\n",
    "# 함수에 의해 연산은 수행됨\n",
    "# return 없이 함수를 정의하면 함수를 호출한 측에 어떤 값도 전달할 수 없음\n",
    "# print() 함수로 확인해보면 None(아무 값도 없음)"
   ]
  },
  {
   "cell_type": "markdown",
   "metadata": {},
   "source": [
    "* CASE-2) 인수 : O, 리턴 : X"
   ]
  },
  {
   "cell_type": "code",
   "execution_count": null,
   "metadata": {},
   "outputs": [],
   "source": [
    "# 설명문) 매개변수 a=1,b=2 를 받아 두 값을 더해주고 출력하는 add_print 함수\n",
    "\n",
    "def add_print(a,b):\n",
    "    print(a + b)\n",
    "    \n",
    "add_print(1,2)"
   ]
  },
  {
   "cell_type": "markdown",
   "metadata": {},
   "source": [
    "* CASE-3) 인수 : X, 리턴 : O"
   ]
  },
  {
   "cell_type": "code",
   "execution_count": null,
   "metadata": {},
   "outputs": [],
   "source": [
    "# 설명문)  인수값 없고 , 현재 시간을 리턴해주는 time_print 함수\n",
    "\n",
    "import time\n",
    "\n",
    "def time_print():\n",
    "    return \"지금 시각은 \" + str(time.ctime()) + \"입니다.\"\n",
    "    \n",
    "print(time_print())"
   ]
  },
  {
   "cell_type": "markdown",
   "metadata": {},
   "source": [
    "* CASE-4) 인수 : O, 리턴 : O"
   ]
  },
  {
   "cell_type": "code",
   "execution_count": null,
   "metadata": {},
   "outputs": [],
   "source": [
    "# 설명문) 매개변수 a,b 를 받아 두 값을 더해주는 add 함수 생성하여 출력\n",
    "\n",
    "def add(a,b):\n",
    "    return a + b\n",
    "    \n",
    "print(add(1, 2))"
   ]
  },
  {
   "cell_type": "markdown",
   "metadata": {},
   "source": [
    "* CASE-5) 인수 : O, 리턴 : O (리턴값 여러개 존재)"
   ]
  },
  {
   "cell_type": "code",
   "execution_count": null,
   "metadata": {},
   "outputs": [],
   "source": [
    "# 설명문) a, b 매개변수를 받는 swap 함수 생성\n",
    "#         a, b 의 순서를 b, a로 바꿔서 반환\n",
    "#         a=10, b=20으로 swqp 함수 호출 후 결과값 출력\n",
    "\n",
    "def swap(a, b):\n",
    "    return b, a\n",
    "\n",
    "print(swap(10, 20))\n",
    "\n",
    "c, d = swap(10,20)\n",
    "print(c)\n",
    "print(d)"
   ]
  },
  {
   "cell_type": "markdown",
   "metadata": {},
   "source": [
    "### 4) pass 명령\n",
    "\n",
    "* 코드블록내 pass 설정 : 함수나 클래스 작성 시, 제어문 작성 시 추후 로직 개발 시 유용"
   ]
  },
  {
   "cell_type": "code",
   "execution_count": null,
   "metadata": {},
   "outputs": [],
   "source": [
    "def func_1():\n",
    "     pass\n",
    "\n",
    "num = int(input(\"숫자를 입력하세요 : \"))\n",
    "\n",
    "if num > 0:\n",
    "    print(\"입력하신 숫자는 0보다 큰 숫자입니다.\")\n",
    "else:\n",
    "    pass\n",
    "\n",
    "print(num)"
   ]
  },
  {
   "cell_type": "markdown",
   "metadata": {},
   "source": [
    "# [실습 2 : 13 ~ 14]\n",
    "\n",
    "## 02. 인수 형식\n",
    "\n",
    "### 1) 인수의 기본값\n",
    "\n",
    "* 매개변수는 인수의 기본값이 없는 값만 전달"
   ]
  },
  {
   "cell_type": "code",
   "execution_count": null,
   "metadata": {},
   "outputs": [],
   "source": [
    "# 설명문) 매개변수 a, b=1, c=2 를 갖고 a + b + c 값을 반환하는 calsum 함수 선언\n",
    "#         매개변수 a = 10 의 인자만 전달\n",
    "\n",
    "def calsum(a,b=1,c=2):\n",
    "    return a + b + c\n",
    "    \n",
    "print(calsum(10))"
   ]
  },
  {
   "cell_type": "markdown",
   "metadata": {},
   "source": [
    "* 매개변수는 인수의 기본값과 상관없이 인수의 모든 값 전달"
   ]
  },
  {
   "cell_type": "code",
   "execution_count": null,
   "metadata": {},
   "outputs": [],
   "source": [
    "# 설명문) 매개변수 a, b=1, c=2 를 갖고 a + b + c 값을 반환하는 calsum 함수 선언\n",
    "#         매개변수 a = 10, b = 20, c = 30 의 인자 모두 전달\n",
    "\n",
    "def calsum(a,b=1,c=2):\n",
    "    return a + b + c\n",
    "    \n",
    "print(calsum(10, 20, 30))"
   ]
  },
  {
   "cell_type": "markdown",
   "metadata": {},
   "source": [
    "* 인수의 기본값이 앞에 온 경우 -> 오류 발생"
   ]
  },
  {
   "cell_type": "code",
   "execution_count": null,
   "metadata": {},
   "outputs": [],
   "source": [
    "def calsum(a=1, b, c=2):\n",
    "    print(a + b + c)\n",
    "    \n",
    "calsum(10, 20, 30) "
   ]
  },
  {
   "cell_type": "markdown",
   "metadata": {},
   "source": [
    "### 2) 키워드 인수\n",
    "\n",
    "* a, b를 인자로 받아 a / b 를 리턴하는 divide 함수 생성"
   ]
  },
  {
   "cell_type": "code",
   "execution_count": null,
   "metadata": {},
   "outputs": [],
   "source": [
    "def divide(a, b):\n",
    "    return a / b"
   ]
  },
  {
   "cell_type": "markdown",
   "metadata": {},
   "source": [
    "* CASE-1) divide 함수 호출 시 순서대로 10, 20 을 인자값으로 전달하여 출력"
   ]
  },
  {
   "cell_type": "code",
   "execution_count": null,
   "metadata": {},
   "outputs": [],
   "source": [
    "print(divide(10, 20))"
   ]
  },
  {
   "cell_type": "markdown",
   "metadata": {},
   "source": [
    "* CASE-2) divide 함수 호출 시 a = 20, b = 10을 인자값으로 전달하여 출력"
   ]
  },
  {
   "cell_type": "code",
   "execution_count": null,
   "metadata": {},
   "outputs": [],
   "source": [
    "print(divide(a=20, b=10))"
   ]
  },
  {
   "cell_type": "markdown",
   "metadata": {},
   "source": [
    "* CASE3) divide 함수 호출 시 20, b = 10을 인자값으로 전달하여 출력"
   ]
  },
  {
   "cell_type": "code",
   "execution_count": null,
   "metadata": {},
   "outputs": [],
   "source": [
    "print(divide(20, b = 10))"
   ]
  },
  {
   "cell_type": "markdown",
   "metadata": {},
   "source": [
    "* CASE4) divide 함수 호출 시 a = 20, 10을 인자값으로 전달하여 출력 -> 오류 발생"
   ]
  },
  {
   "cell_type": "code",
   "execution_count": null,
   "metadata": {},
   "outputs": [],
   "source": [
    "print(divide(a=20, 10))"
   ]
  },
  {
   "cell_type": "markdown",
   "metadata": {},
   "source": [
    "# [실습 3 : 15 ~ 16p]\n",
    "\n",
    "### 3) 가변 인수\n",
    "\n",
    "* 가변 인수를 갖는 함수 선언"
   ]
  },
  {
   "cell_type": "code",
   "execution_count": null,
   "metadata": {},
   "outputs": [],
   "source": [
    "# 설명문) num이라는 인수와 values라는 가변 인수로 calsum 함수 선언\n",
    "#         num과 values로 받은 모든 값을 더해 sumvalue에 저장하고 반환하는 수행문 작성\n",
    "#         values는 for in 문을 활용하여 각 요소들을 가져옮\n",
    "\n",
    "def calsum(num, *values):\n",
    "    sumvalue = 0\n",
    "#    print(values)\n",
    "#    print(type(values))\n",
    "    for value in values:\n",
    "        sumvalue += value\n",
    "        \n",
    "    return sumvalue + num"
   ]
  },
  {
   "cell_type": "markdown",
   "metadata": {},
   "source": [
    "* 가변 인수 호출"
   ]
  },
  {
   "cell_type": "code",
   "execution_count": null,
   "metadata": {},
   "outputs": [],
   "source": [
    "# 설명문) 위 예제에서 작성한 calsum 호출하여 출력\n",
    "#         1) num : 100만 인수로 전달\n",
    "#         2) num : 100, values : 200으로 인수 전달\n",
    "#         3) num : 100, values : 200, 300, 400, 500 으로 인수 전달\n",
    "\n",
    "print(calsum(100))\n",
    "print(calsum(100, 200))\n",
    "print(calsum(100, 200, 300, 400, 500))"
   ]
  },
  {
   "cell_type": "markdown",
   "metadata": {},
   "source": [
    "* 가변 인수로 변수 선언"
   ]
  },
  {
   "cell_type": "code",
   "execution_count": null,
   "metadata": {},
   "outputs": [],
   "source": [
    "T = (1, 2, 3, 4, 5)\n",
    "a, *b = T\n",
    "\n",
    "print(T)\n",
    "print(a)\n",
    "print(b)"
   ]
  },
  {
   "cell_type": "markdown",
   "metadata": {},
   "source": [
    "### 4) 키워드 가변 인수\n",
    "\n",
    "* 키워드 가변 인수를 갖는 함수 선언 및 호출"
   ]
  },
  {
   "cell_type": "code",
   "execution_count": null,
   "metadata": {},
   "outputs": [],
   "source": [
    "# 예제) 키워드 가변 인수 정의 : 딕셔너리 생성\n",
    "# 설명문)  **인수 dica를 받는 func_a 함수 정의\n",
    "#          (**인수 dica로 받은 모든 값 출력\n",
    "#           for in 문을 활용하여 각 인수 출력)\n",
    "#           a=1, b=2, c=3 인자로 func_a 함수 호출\n",
    "\n",
    "def func_a(**dica):\n",
    "    print(dica)\n",
    "    \n",
    "    for value in dica.values():\n",
    "        print(value)\n",
    "\n",
    "func_a(a=1, b=2, c=3)        "
   ]
  },
  {
   "cell_type": "markdown",
   "metadata": {},
   "source": [
    "* 딕셔너리 자료형을 인수로 전달하여 호출"
   ]
  },
  {
   "cell_type": "code",
   "execution_count": null,
   "metadata": {},
   "outputs": [],
   "source": [
    "# 예제) 키워드 가변 인수 정의 : 딕셔너리로 함수 호출\n",
    "# 설명문) 딕셔너리 변수 dica에 딕셔너리 생성(a:1, b:2, c:3, d:4, e:5)\n",
    "#          **인수 dica를 받는 func_a 함수 정의\n",
    "#          (**인수 dica로 받은 모든 값 출력\n",
    "#           for in 문을 활용하여 각 인수 출력)\n",
    "#          dica를 인자로 func_a 함수 호출\n",
    "\n",
    "dica = {'a' : 1, 'b' : 2, 'c' : 3, 'd' : 4, 'e' : 5}\n",
    "\n",
    "print(dica)\n",
    "def func_a(**dica):\n",
    "    print(dica)\n",
    "    \n",
    "    for value in dica.values():\n",
    "        print(value)\n",
    "\n",
    "func_a(**dica)"
   ]
  },
  {
   "cell_type": "markdown",
   "metadata": {},
   "source": [
    "* 웹 호출 server, port, program은 위치인수로, params는 키워드 가변 인수로 전달"
   ]
  },
  {
   "cell_type": "code",
   "execution_count": null,
   "metadata": {},
   "outputs": [],
   "source": [
    "# 예제) 키워드 가변 인수 정의 : 구글 검색 url 예제)\n",
    "# https://www.google.co.kr/search?q=url&sxsrf=ALiCzsbsgwHl4esCMT342d23UG-MB9se6w%3A1654211243692\n",
    "\n",
    "def urlPath(server, port, **params):\n",
    "    url = \"http://\" + server + \":\" + port + \"/?\"\n",
    "    \n",
    "    for key, value in params.items():\n",
    "        url += key + \"=\" + value + \"&\"\n",
    "    return url\n",
    "\n",
    "print(urlPath(\"www.google.co.kr\", \"80\", q=\"url\", sxsrf=\"ALiCzsbsgwHl4esCMT342d23UG-MB9se6w%3A1654211243692\"))\n"
   ]
  },
  {
   "cell_type": "markdown",
   "metadata": {},
   "source": [
    "* 위치, 키워드, 키워드 가변 인수 모두 포함 함수 생성 및 호출"
   ]
  },
  {
   "cell_type": "code",
   "execution_count": null,
   "metadata": {},
   "outputs": [],
   "source": [
    "# 예제) 키워드, 키워드 가변 인수 모두 포함시\n",
    "# 순서 : 키워드, 키워드 가변 인수 순임\n",
    "\n",
    "def student(name, *points, **addr):\n",
    "    print(name)\n",
    "    sum = 0\n",
    "    for point in points:\n",
    "        sum += point\n",
    "    print(sum)        \n",
    "    for key, value in addr.items():\n",
    "        print(key, value)\n",
    "\n",
    "student(\"홍길동\", 60, 15, 10, city='Seoul', dong='Sungsan', gu='Mapo')        "
   ]
  },
  {
   "cell_type": "markdown",
   "metadata": {},
   "source": [
    "# [실습 4 : 17 ~ 18p]\n",
    "\n",
    "## 03. 변수의 범위\n",
    "\n",
    "* 전역변수, 매개변수, 지역변수가 동일한 이름일 경우"
   ]
  },
  {
   "cell_type": "code",
   "execution_count": null,
   "metadata": {},
   "outputs": [],
   "source": [
    "a = 1\n",
    "\n",
    "def func_var(a):\n",
    "    a = a + 1\n",
    "    print(a)\n",
    "\n",
    "func_var(a)\n",
    "print(a)"
   ]
  },
  {
   "cell_type": "markdown",
   "metadata": {},
   "source": [
    "* 지역변수와 전역변수가 동일한 변수명일 경우 지역변수부터 호출함"
   ]
  },
  {
   "cell_type": "code",
   "execution_count": null,
   "metadata": {},
   "outputs": [],
   "source": [
    "point = 100\n",
    "\n",
    "def calsum():\n",
    "    point = 50\n",
    "    grade = 2\n",
    "    return point * grade\n",
    "\n",
    "point = 200\n",
    "print(calsum())"
   ]
  },
  {
   "cell_type": "markdown",
   "metadata": {},
   "source": [
    "* 지역변수에는 없고 전역변수에만 있는 경우 전역변수 호출함"
   ]
  },
  {
   "cell_type": "code",
   "execution_count": null,
   "metadata": {},
   "outputs": [],
   "source": [
    "point = 100\n",
    "\n",
    "def calsum():\n",
    "    grade = 2\n",
    "    return point * grade\n",
    "\n",
    "point = 200\n",
    "print(calsum())"
   ]
  },
  {
   "cell_type": "markdown",
   "metadata": {},
   "source": [
    "* 지역변수와 전역변수가 동일한 변수명일 경우 global을 사용하여 전역변수 호출하고,  \n",
    "  함수내 수행문에서 전역변수 값 변경함"
   ]
  },
  {
   "cell_type": "code",
   "execution_count": null,
   "metadata": {},
   "outputs": [],
   "source": [
    "point = 100\n",
    "\n",
    "def calsum():\n",
    "    global point\n",
    "    grade = 2\n",
    "    point = 200\n",
    "    return point * grade\n",
    "\n",
    "print(calsum())\n",
    "print(point)"
   ]
  },
  {
   "cell_type": "markdown",
   "metadata": {},
   "source": [
    "## 04. 내장 함수\n",
    "\n",
    "* 파이썬이 내부적으로 미리 정해놓은 함수로 별도의 import 없이 바로 사용 가능한 함수\n",
    "* 이미 사용해본 print, input, int, str, float, range 등이 내장 함수임\n",
    "* 내장 함수 리스트는 dir(\\_\\_builtins\\_\\_) 명령어로 확인 가능함"
   ]
  },
  {
   "cell_type": "code",
   "execution_count": null,
   "metadata": {},
   "outputs": [],
   "source": [
    "dir(__builtins__)"
   ]
  }
 ],
 "metadata": {
  "kernelspec": {
   "display_name": "Python 3 (ipykernel)",
   "language": "python",
   "name": "python3"
  },
  "language_info": {
   "codemirror_mode": {
    "name": "ipython",
    "version": 3
   },
   "file_extension": ".py",
   "mimetype": "text/x-python",
   "name": "python",
   "nbconvert_exporter": "python",
   "pygments_lexer": "ipython3",
   "version": "3.9.10"
  }
 },
 "nbformat": 4,
 "nbformat_minor": 2
}
