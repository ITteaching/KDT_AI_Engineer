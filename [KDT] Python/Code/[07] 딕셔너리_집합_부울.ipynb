{
 "cells": [
  {
   "cell_type": "markdown",
   "metadata": {},
   "source": [
    "# [실습1 : 5 ~ 9p]\n",
    "\n",
    "## 01. 딕셔너리\n",
    "\n",
    "### 1) 딕셔너리 생성"
   ]
  },
  {
   "cell_type": "markdown",
   "metadata": {},
   "source": [
    "* 딕셔너리 생성 : {} 활용"
   ]
  },
  {
   "cell_type": "code",
   "execution_count": null,
   "metadata": {},
   "outputs": [],
   "source": [
    "dict_a = {\"name\" : \"LEE\", \"age\" : 30, \"addr\" : \"서울 강남구\"}\n",
    "print(dict_a)"
   ]
  },
  {
   "cell_type": "markdown",
   "metadata": {},
   "source": [
    "* 딕셔너리 생성 : dict() 함수 활용"
   ]
  },
  {
   "cell_type": "code",
   "execution_count": null,
   "metadata": {},
   "outputs": [],
   "source": [
    "dict_b = dict(name=\"LEE\", age=30, addr=\"서울 강남구\")\n",
    "print(dict_b)"
   ]
  },
  {
   "cell_type": "markdown",
   "metadata": {},
   "source": [
    "* 딕셔너리 생성 : 키와 값을 별도로 생성 후 zip 함수 활용 생성"
   ]
  },
  {
   "cell_type": "code",
   "execution_count": null,
   "metadata": {},
   "outputs": [],
   "source": [
    "keys = [\"name\", \"age\", \"addr\"]\n",
    "values = [\"LEE\", 30, \"서울 강남구\"]\n",
    "\n",
    "dict_c = dict(zip(keys, values))\n",
    "print(dict_c)\n",
    "\n",
    "dict_d = print(list(zip(keys, values)))"
   ]
  },
  {
   "cell_type": "markdown",
   "metadata": {},
   "source": [
    "### 2) 딕셔너리 검색"
   ]
  },
  {
   "cell_type": "markdown",
   "metadata": {},
   "source": [
    "* 사전['key']로 검색 : \"name\""
   ]
  },
  {
   "cell_type": "code",
   "execution_count": null,
   "metadata": {},
   "outputs": [],
   "source": [
    "print(dict_a[\"name\"])"
   ]
  },
  {
   "cell_type": "markdown",
   "metadata": {},
   "source": [
    "* 사전['key']로 검색 : \"age\""
   ]
  },
  {
   "cell_type": "code",
   "execution_count": null,
   "metadata": {},
   "outputs": [],
   "source": [
    "print(dict_a[\"age\"])"
   ]
  },
  {
   "cell_type": "markdown",
   "metadata": {},
   "source": [
    "* 사전['key']로 검색 : \"addr\""
   ]
  },
  {
   "cell_type": "code",
   "execution_count": null,
   "metadata": {},
   "outputs": [],
   "source": [
    "print(dict_a[\"addr\"])"
   ]
  },
  {
   "cell_type": "markdown",
   "metadata": {},
   "source": [
    "* 사전['key']로 검색 : \"email\" -> 에러 발생"
   ]
  },
  {
   "cell_type": "code",
   "execution_count": null,
   "metadata": {},
   "outputs": [],
   "source": [
    "print(dict_a[\"email\"])"
   ]
  },
  {
   "cell_type": "markdown",
   "metadata": {},
   "source": [
    "### 3) 딕셔너리 추가 / 수정\n",
    "\n",
    "* 딕셔너리에 자료 삽입 : 키값이 없는 경우 생성됨"
   ]
  },
  {
   "cell_type": "code",
   "execution_count": null,
   "metadata": {},
   "outputs": [],
   "source": [
    "dict_a = {\"name\" : \"LEE\", \"age\" : 30, \"addr\" : \"서울 강남구\"}\n",
    "\n",
    "dict_a[\"email\"] = \"LEE@test.kdt.com\"\n",
    "print(dict_a)"
   ]
  },
  {
   "cell_type": "markdown",
   "metadata": {},
   "source": [
    "* 딕셔너리에 자료 수정 : 키값이 있는 경우 수정됨"
   ]
  },
  {
   "cell_type": "code",
   "execution_count": null,
   "metadata": {},
   "outputs": [],
   "source": [
    "dict_a[\"age\"] = 40\n",
    "print(dict_a)"
   ]
  },
  {
   "cell_type": "markdown",
   "metadata": {},
   "source": [
    "### 4) 딕셔너리 삭제\n",
    "\n",
    "* 딕셔너리에 자료 삭제 : del 키워드 활용"
   ]
  },
  {
   "cell_type": "code",
   "execution_count": null,
   "metadata": {},
   "outputs": [],
   "source": [
    "del dict_a[\"addr\"]\n",
    "print(dict_a)"
   ]
  },
  {
   "cell_type": "markdown",
   "metadata": {},
   "source": [
    "* 딕셔너리에 자료 삭제 : del 키워드 활용, 삭제 요청한 키가 없는 경우 -> error"
   ]
  },
  {
   "cell_type": "code",
   "execution_count": null,
   "metadata": {},
   "outputs": [],
   "source": [
    "del dict_a[\"addr\"]\n",
    "print(dict_a)"
   ]
  },
  {
   "cell_type": "markdown",
   "metadata": {},
   "source": [
    "# [실습2 : 10 ~ 11p] \n",
    "\n",
    "### 5) 딕셔너리 메서드"
   ]
  },
  {
   "cell_type": "markdown",
   "metadata": {},
   "source": [
    "* get() : 사전의 키로 값 리턴하는 함수, 사전에 키가 없는 경우 None 리턴\n",
    "* keys() : 사전의 키 목록을 리턴하는 함수\n",
    "* values() : 사전의 값 목록을 리턴하는 함수\n",
    "* items() : 사전의 키와 값 목록을 리턴하는 함수\n",
    "* update() : 두 개의 사전을 병합하는 함수로 호출한 사전에 인수로 전달한 사전이 병합됨  \n",
    "중복되는 키가 있을 경우 인수로 전달한 사전의 값으로 변경됨 \n",
    "* dict() : 2차원의 리스트나 튜플 자료형은 사전형으로 변경이 가능하며 첫 요소가 키, 두번째 요소가 값으로 변환됨  \n",
    "키가 중복되는 경우 뒤쪽에 있는 키의 값이 적용됨"
   ]
  },
  {
   "cell_type": "markdown",
   "metadata": {},
   "source": [
    "* get() : 검색 메서드"
   ]
  },
  {
   "cell_type": "code",
   "execution_count": null,
   "metadata": {},
   "outputs": [],
   "source": [
    "dict_a = {\"name\" : \"LEE\", \"age\" : 30, \"addr\" : \"서울 강남구\"}\n",
    "\n",
    "# 예제) dica.get('key')로 검색 : \"name\"\n",
    "\n",
    "print(dict_a.get(\"name\"))"
   ]
  },
  {
   "cell_type": "code",
   "execution_count": null,
   "metadata": {},
   "outputs": [],
   "source": [
    "# 예제) dica.get('key')로 검색 : \"email\" -> 없으면 None 출력\n",
    "\n",
    "print(dict_a.get(\"email\"))"
   ]
  },
  {
   "cell_type": "code",
   "execution_count": null,
   "metadata": {},
   "outputs": [],
   "source": [
    "# 예제) dica.get('key')로 검색 : \"email\" -> 키가 없는 경우 출력문 지정\n",
    "\n",
    "print(dict_a.get(\"email\",\"찾는 값이 없습니다.\"))"
   ]
  },
  {
   "cell_type": "markdown",
   "metadata": {},
   "source": [
    "* keys(), values(), items() : 키, 값 목록 반환"
   ]
  },
  {
   "cell_type": "code",
   "execution_count": null,
   "metadata": {},
   "outputs": [],
   "source": [
    "# 예제) keys() : 딕셔너리 key 목록 출력 및 타입 확인\n",
    "\n",
    "print(dict_a.keys())\n",
    "print(type(dict_a.keys()))"
   ]
  },
  {
   "cell_type": "code",
   "execution_count": null,
   "metadata": {},
   "outputs": [],
   "source": [
    "# 예제) values() : 딕셔너리 value 목록 출력 및 타입 확인\n",
    "\n",
    "print(dict_a.values())\n",
    "print(type(dict_a.values()))"
   ]
  },
  {
   "cell_type": "code",
   "execution_count": null,
   "metadata": {},
   "outputs": [],
   "source": [
    "# 예제) items() : 딕셔너리 key, value 목록 출력 및 타입 확인\n",
    "\n",
    "print(dict_a.items())\n",
    "print(type(dict_a.items()))"
   ]
  },
  {
   "cell_type": "code",
   "execution_count": null,
   "metadata": {},
   "outputs": [],
   "source": [
    "# 예제) 참고만 : 요소 추출 주요 함수\n",
    "\n",
    "for key in dict_a.keys():\n",
    "    print(key)\n",
    "\n",
    "for value in dict_a.values():\n",
    "    print(value)\n",
    "    \n",
    "for key, value in dict_a.items():\n",
    "    print(key, value)"
   ]
  },
  {
   "cell_type": "markdown",
   "metadata": {},
   "source": [
    "* update() : 두 개의 사전을 병합 : 두 개의 딕셔너리 생성->upadte->출력"
   ]
  },
  {
   "cell_type": "code",
   "execution_count": null,
   "metadata": {},
   "outputs": [],
   "source": [
    "dict_a = {\"name\" : \"LEE\", \"age\" : 30}\n",
    "dict_n = {\"addr\" : \"서울 강남구\", \"email\" : \"LEE@test.kdt.com\"}\n",
    "\n",
    "dict_a.update(dict_n)\n",
    "\n",
    "print(dict_a)"
   ]
  },
  {
   "cell_type": "markdown",
   "metadata": {},
   "source": [
    "* clear() : 딕셔너리 내의 모든 요소 삭제"
   ]
  },
  {
   "cell_type": "code",
   "execution_count": null,
   "metadata": {},
   "outputs": [],
   "source": [
    "dict_a.clear()\n",
    "\n",
    "print(dict_a)"
   ]
  },
  {
   "cell_type": "markdown",
   "metadata": {},
   "source": [
    "* dict() : 리스트나 튜플 자료형을 딕셔너리로 변경"
   ]
  },
  {
   "cell_type": "code",
   "execution_count": null,
   "metadata": {},
   "outputs": [],
   "source": [
    "a = [[\"name\", \"LEE\"], [\"age\", 30], [\"addr\", \"서울 강남구\"]]\n",
    "print(dict(a))"
   ]
  },
  {
   "cell_type": "markdown",
   "metadata": {},
   "source": [
    "### 6) in / not in 연산자"
   ]
  },
  {
   "cell_type": "markdown",
   "metadata": {},
   "source": [
    "* key in 사전 : key가 사전에 있으면 True, 없으면 False를 반환함  "
   ]
  },
  {
   "cell_type": "code",
   "execution_count": null,
   "metadata": {},
   "outputs": [],
   "source": [
    "# 예제) in 연산자 : \"name\", \"email\"이 dica에 존재하는지 각각 출력\n",
    "\n",
    "print(\"name\" in dict_a)\n",
    "print(\"email\" in dict_a)"
   ]
  },
  {
   "cell_type": "markdown",
   "metadata": {},
   "source": [
    "* key not in 사전 : key가 사전에 없으면 True, 있으면 False를 반환함"
   ]
  },
  {
   "cell_type": "code",
   "execution_count": null,
   "metadata": {},
   "outputs": [],
   "source": [
    "# 예제) not in 연산자 : in을 not in 으로 변경해서 각각 출력\n",
    "\n",
    "print(\"name\" not in dict_a)\n",
    "print(\"email\" not in dict_a)"
   ]
  },
  {
   "cell_type": "markdown",
   "metadata": {},
   "source": [
    "### 7) 추가실습) 사전의 활용\n",
    "\n",
    "* 키의 중복을 허락하지 않기 때문에 키의 중복된 횟수를 찾기 위한 로직등을 적용하기에 적당함\n",
    "* 키와 중복된 횟수를 사전에 저장하고, 이를 items() 함수를 활용하여 출력"
   ]
  },
  {
   "cell_type": "code",
   "execution_count": null,
   "metadata": {},
   "outputs": [],
   "source": [
    "# 예제) 참고만 : 데이타 중복건수 사전형에 저장하기\n",
    "# 코드를 알려주고 설명하기\n",
    "\n",
    "points = [10, 20, 30, 40, 50, 60, 70, 80, 90, 100, 20, 20, 30, 30, 40, 40, 20, 60, 80, 70, 30, 30, 50, 50, 90, 90, 10, 10, 20, 30, 40]\n",
    "\n",
    "dict_cnt = dict()\n",
    "\n",
    "for point in points:\n",
    "    if point in dict_cnt:\n",
    "        dict_cnt[point] += 1\n",
    "    else:\n",
    "        dict_cnt[point] = 1\n",
    "print(dict_cnt)        \n",
    "\n",
    "# 사전형 데이타 추출하기\n",
    "for key, value in dict_cnt.items():\n",
    "    print(key, \":\", value)\n",
    "    "
   ]
  },
  {
   "cell_type": "markdown",
   "metadata": {},
   "source": [
    "# [실습 3 : 12 ~ 14p]\n",
    "\n",
    "## 02. 집합\n",
    "\n",
    "### 1) 집합 생성"
   ]
  },
  {
   "cell_type": "markdown",
   "metadata": {},
   "source": [
    "* 집합 생성하기 : {} 활용하여 만들고 값과 타입 출력하기"
   ]
  },
  {
   "cell_type": "code",
   "execution_count": null,
   "metadata": {
    "scrolled": true
   },
   "outputs": [],
   "source": [
    "a = {\"A\", \"B\", \"C\", \"D\", \"E\"}\n",
    "\n",
    "print(a)\n",
    "print(type(a))"
   ]
  },
  {
   "cell_type": "markdown",
   "metadata": {},
   "source": [
    "* 집합 생성하기 : set() 함수 활용하여 만들기 - list 인자"
   ]
  },
  {
   "cell_type": "code",
   "execution_count": null,
   "metadata": {},
   "outputs": [],
   "source": [
    "a = set([\"A\",\"B\",\"C\"])\n",
    "\n",
    "print(a)\n",
    "print(type(a))"
   ]
  },
  {
   "cell_type": "markdown",
   "metadata": {},
   "source": [
    "* 집합 생성하기 : set() 함수 활용하여 만들기 - tuple 인자"
   ]
  },
  {
   "cell_type": "code",
   "execution_count": null,
   "metadata": {},
   "outputs": [],
   "source": [
    "a = set((\"A\",\"B\",\"C\"))\n",
    "\n",
    "print(a)\n",
    "print(type(a))"
   ]
  },
  {
   "cell_type": "markdown",
   "metadata": {},
   "source": [
    "* 집합 생성하기 : set() 함수 활용하여 만들기 - 문자열 인자"
   ]
  },
  {
   "cell_type": "code",
   "execution_count": null,
   "metadata": {},
   "outputs": [],
   "source": [
    "a = set(\"Python\")\n",
    "\n",
    "print(a)\n",
    "print(type(a))"
   ]
  },
  {
   "cell_type": "markdown",
   "metadata": {},
   "source": [
    "### 2) 집합 메서드\n",
    "\n",
    "* add() : 집합에 원소 추가\n",
    "* remove() : 집합에 원소를 삭제\n",
    "* update() : 집합끼리 결합하여 합집합 만듦"
   ]
  },
  {
   "cell_type": "code",
   "execution_count": null,
   "metadata": {},
   "outputs": [],
   "source": [
    "# 예제) add() : 집합에 데이타 한개 \"F\" 추가하기\n",
    "\n",
    "a = {\"A\", \"B\", \"C\", \"D\", \"E\"}\n",
    "a.add(\"F\")\n",
    "\n",
    "print(a)"
   ]
  },
  {
   "cell_type": "code",
   "execution_count": null,
   "metadata": {},
   "outputs": [],
   "source": [
    "# 예제) remove() : 집합 데이타 \"F\" 삭제하기\n",
    "\n",
    "a.remove(\"F\")\n",
    "\n",
    "print(a)"
   ]
  },
  {
   "cell_type": "code",
   "execution_count": null,
   "metadata": {},
   "outputs": [],
   "source": [
    "# 예제) update() : 집합(a, b)끼리 결합하여 합집합 만들기\n",
    "\n",
    "a = {\"A\", \"B\", \"C\"}\n",
    "b = {\"D\", \"E\", \"F\"}\n",
    "\n",
    "a.update(b)\n",
    "\n",
    "print(a)"
   ]
  },
  {
   "cell_type": "markdown",
   "metadata": {},
   "source": [
    "### 3) 집합 연산\n",
    "\n",
    "* 집합으로부터 여러 연산을 하여 집합끼리 조합함\n",
    "* union() : 합집합, \"|\" 기호 사용, 두 집합의 모든 원소\n",
    "* intersection() : 교집합, \"&\" 기호 사용, 두 집합 모두에 있는 원소\n",
    "* difference() : 차집합, \"-\" 기호 사용, 왼쪽 집합의 원소 중 오른쪽 집합의 원소를 제거한 원소\n",
    "* symmetric_difference() : 배타적 차집합, \"^\", 한쪽 집합에만 있는 원소의 합\n",
    "* issubset() : 부분집합, \"<=\", 왼쪽이 오른쪽의 부분집합인지 조사\n",
    "* issuperset() : 포함집합, \"<=\", 왼쪽이 오른쪽 집합을 포함하는지 조사\n",
    "* in, not in : 포함하는지 포함하지 않는지 확인"
   ]
  },
  {
   "cell_type": "code",
   "execution_count": null,
   "metadata": {},
   "outputs": [],
   "source": [
    "# 예제) union() : 합집합(a, b) 구하기\n",
    "\n",
    "a = {\"A\", \"B\", \"C\"}\n",
    "b = {\"B\", \"C\", \"D\"}\n",
    "\n",
    "print(a.union(b))"
   ]
  },
  {
   "cell_type": "code",
   "execution_count": null,
   "metadata": {},
   "outputs": [],
   "source": [
    "# 예제) | : 합집합(a, b) 구하기\n",
    "\n",
    "print(a | b)"
   ]
  },
  {
   "cell_type": "code",
   "execution_count": null,
   "metadata": {},
   "outputs": [],
   "source": [
    "# 예제) intersection() : 교집합(a, b) 구하기\n",
    "\n",
    "print(a.intersection(b))"
   ]
  },
  {
   "cell_type": "code",
   "execution_count": null,
   "metadata": {},
   "outputs": [],
   "source": [
    "# 예제) & : 교집합(a, b) 구하기\n",
    "\n",
    "print(a & b)"
   ]
  },
  {
   "cell_type": "code",
   "execution_count": null,
   "metadata": {},
   "outputs": [],
   "source": [
    "# 예제) difference() : 차집합 (a - b) 구하기\n",
    "\n",
    "print(a.difference(b))"
   ]
  },
  {
   "cell_type": "code",
   "execution_count": null,
   "metadata": {},
   "outputs": [],
   "source": [
    "# 예제) - : 차집합 (a - b) 구하기\n",
    "\n",
    "print(a - b)"
   ]
  },
  {
   "cell_type": "code",
   "execution_count": null,
   "metadata": {},
   "outputs": [],
   "source": [
    "# 예제) symmetric_difference() : 배타적 차집합 구하기\n",
    "\n",
    "print(a.symmetric_difference(b))"
   ]
  },
  {
   "cell_type": "code",
   "execution_count": null,
   "metadata": {},
   "outputs": [],
   "source": [
    "# 예제) ^ : 배타적 차집합 구하기\n",
    "\n",
    "print(a ^ b)"
   ]
  },
  {
   "cell_type": "code",
   "execution_count": null,
   "metadata": {},
   "outputs": [],
   "source": [
    "# issubset(), <= : 부분집합 확인 (d 집합이 c 집합에 포함되는지 확인)\n",
    "\n",
    "c = {\"A\", \"B\", \"C\", \"D\", \"E\"}\n",
    "d = {\"B\", \"C\", \"D\"}\n",
    "\n",
    "print(d.issubset(c))\n",
    "print(d <= c)"
   ]
  },
  {
   "cell_type": "code",
   "execution_count": null,
   "metadata": {},
   "outputs": [],
   "source": [
    "# issuperset(), >= : 부분집합 확인 (d 집합이 c 집합을 포함하고 있는지 확인)\n",
    "\n",
    "print(d.issuperset(c))\n",
    "print(d >= c)\n",
    "\n",
    "print(c.issuperset(d))\n",
    "print(c >= d)"
   ]
  },
  {
   "cell_type": "markdown",
   "metadata": {},
   "source": [
    "# [실습 4 : 15 ~ 17p]\n",
    "\n",
    "## 3. 부울\n",
    "\n",
    "### 1)부울 정의 / 특징"
   ]
  },
  {
   "cell_type": "markdown",
   "metadata": {},
   "source": [
    "* 부울 선언"
   ]
  },
  {
   "cell_type": "code",
   "execution_count": null,
   "metadata": {},
   "outputs": [],
   "source": [
    "a = True\n",
    "b = False\n",
    "print(type(a))\n",
    "print(type(b))"
   ]
  },
  {
   "cell_type": "markdown",
   "metadata": {},
   "source": [
    "* 조건문의 반환"
   ]
  },
  {
   "cell_type": "code",
   "execution_count": null,
   "metadata": {},
   "outputs": [],
   "source": [
    "a = 1\n",
    "b = 2\n",
    "print(a == b)\n",
    "print(a > b)\n",
    "print(b > a)"
   ]
  },
  {
   "cell_type": "markdown",
   "metadata": {},
   "source": [
    "### 2) bool() 함수\n",
    "\n",
    "* 자료형의 참 / 거짓을 식별"
   ]
  },
  {
   "cell_type": "code",
   "execution_count": null,
   "metadata": {},
   "outputs": [],
   "source": [
    "a = 1\n",
    "b = 2\n",
    "\n",
    "print(bool(\"abc\"))\n",
    "print(bool(\"\"))\n",
    "print(bool([1,2,3]))\n",
    "print(bool([]))\n",
    "print(bool(3))\n",
    "print(bool(0))\n",
    "print(bool(b > a))"
   ]
  }
 ],
 "metadata": {
  "kernelspec": {
   "display_name": "Python 3 (ipykernel)",
   "language": "python",
   "name": "python3"
  },
  "language_info": {
   "codemirror_mode": {
    "name": "ipython",
    "version": 3
   },
   "file_extension": ".py",
   "mimetype": "text/x-python",
   "name": "python",
   "nbconvert_exporter": "python",
   "pygments_lexer": "ipython3",
   "version": "3.9.10"
  }
 },
 "nbformat": 4,
 "nbformat_minor": 2
}
