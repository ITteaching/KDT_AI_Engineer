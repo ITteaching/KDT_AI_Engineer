{
 "cells": [
  {
   "cell_type": "markdown",
   "metadata": {},
   "source": [
    "# [실습 1 : 17 ~ 19p]\n",
    "\n",
    "## 1. 클래스\n",
    "\n",
    "### 1) 클래스의 정의"
   ]
  },
  {
   "cell_type": "markdown",
   "metadata": {},
   "source": [
    "* 함수만을 활용하여 5, 10, 20씩 더해서 누적"
   ]
  },
  {
   "cell_type": "code",
   "execution_count": null,
   "metadata": {},
   "outputs": [],
   "source": [
    "# 예제_1) # 함수 호출할때마다 5씩 증가해서 결과값 저장\n",
    "\n",
    "result1 = 0\n",
    "\n",
    "def add1(num):    \n",
    "    return result1 + num\n",
    "    \n",
    "result1 = add1(5)\n",
    "print(result1)\n",
    "\n",
    "result1 = add1(5)\n",
    "print(result1)"
   ]
  },
  {
   "cell_type": "code",
   "execution_count": null,
   "metadata": {},
   "outputs": [],
   "source": [
    "# 예제_2) # 함수 호출할때마다 10씩 증가해서 결과값 저장\n",
    "\n",
    "result2 = 0\n",
    "\n",
    "def add2(num):\n",
    "    return result2 + num\n",
    "    \n",
    "result2 = add2(10)\n",
    "print(result2)\n",
    "\n",
    "result2 = add2(10)\n",
    "print(result2)"
   ]
  },
  {
   "cell_type": "code",
   "execution_count": null,
   "metadata": {},
   "outputs": [],
   "source": [
    "# 예제_3) # 함수 호출할때마다 20씩 증가해서 결과값 저장\n",
    "\n",
    "result3 = 0\n",
    "\n",
    "def add3(num):\n",
    "    return result3 + num\n",
    "    \n",
    "result3 = add3(20)\n",
    "print(result3)\n",
    "\n",
    "result3 = add3(20)\n",
    "print(result3)"
   ]
  },
  {
   "cell_type": "markdown",
   "metadata": {},
   "source": [
    "* 클래스를 사용하여 5, 10, 20씩 더해서 누적"
   ]
  },
  {
   "cell_type": "code",
   "execution_count": null,
   "metadata": {},
   "outputs": [],
   "source": [
    "class Add:\n",
    "    def __init__(self):\n",
    "        self.result = 0\n",
    "    def add(self, num):\n",
    "        self.result += num\n",
    "        return self.result\n",
    "    \n",
    "result1 = Add()\n",
    "print(result1.add(5))\n",
    "print(result1.add(5))\n",
    "\n",
    "result2 = Add()\n",
    "print(result2.add(10))\n",
    "print(result2.add(10))\n",
    "\n",
    "result3 = Add()\n",
    "print(result3.add(20))\n",
    "print(result3.add(20))\n",
    "\n",
    "# 클래스를 사용하여 객체를 만들 경우 서로의 객체에 영향을 미치지 않음\n",
    "# 코드가 짧아짐\n",
    "# 함수로 처리할 경우 로직이 추가할때마다 전역변수와 함수를 계속 추가해줘야 함\n",
    "# 클래스로 처리할 경우 클래스는 변동없이 로직이 추가되어도 호출하는 부부만 추가하면 됨"
   ]
  },
  {
   "cell_type": "markdown",
   "metadata": {},
   "source": [
    "* 클래스 기본 샘플"
   ]
  },
  {
   "cell_type": "code",
   "execution_count": null,
   "metadata": {},
   "outputs": [],
   "source": [
    "#P 예제] 클래스 선언 / 정의문\n",
    "\n",
    "class Person:\n",
    "    def default_print(self):\n",
    "        print(\"Person class의 default_print 메서드를 실행하였습니다.\")\n",
    "    def default_return(self):\n",
    "        return \"Person class의 default_return 메서드를 실행하였습니다.\"\n",
    "\n",
    "# 인스턴스 생성\n",
    "p1 = Person()\n",
    "\n",
    "# 인스턴스 메서드 호출\n",
    "p1.default_print()\n",
    "\n",
    "print(p1.default_return())  "
   ]
  },
  {
   "cell_type": "markdown",
   "metadata": {},
   "source": [
    "* 참고] self에 대한 이해"
   ]
  },
  {
   "cell_type": "code",
   "execution_count": null,
   "metadata": {},
   "outputs": [],
   "source": [
    "class Person:\n",
    "    def default_print():\n",
    "        print(\"Person calss의 default_print 메서드를 실행하였습니다.\")\n",
    "    def default_return(self):\n",
    "        return \"Person calss의 default_return 메서드를 실행하였습니다.\"\n",
    "\n",
    "p1 = Person()\n",
    "\n",
    "# 클래스 자체가 주소를 포함하고 있기 때문에 클래스내 default_print() 메서드 호출이 가능함\n",
    "Person.default_print()\n",
    "\n",
    "print(p1.default_return())\n",
    "print(Person.default_return(p1))"
   ]
  },
  {
   "cell_type": "markdown",
   "metadata": {},
   "source": [
    "# [실습 2 : 20 ~ 22p]\n",
    "\n",
    "### 2) 인스턴스 변수\n",
    "\n",
    "* 인스턴스 변수 생성"
   ]
  },
  {
   "cell_type": "code",
   "execution_count": null,
   "metadata": {},
   "outputs": [],
   "source": [
    "# 클래스 정의\n",
    "class Person:\n",
    "    def set_data(self, id, name, major, phone):\n",
    "        self.id = id\n",
    "        self.name = name\n",
    "        self.major = major\n",
    "        self.phone = phone\n",
    "        \n",
    "        print(f\"학번 : {self.id}, 이름 : {self.name}, 학과 {self.major}, 연락처 {self.phone}\")\n",
    "        \n",
    "# 인스턴스 생성\n",
    "p1 = Person()\n",
    "\n",
    "# 인스턴스 메서드 실행\n",
    "p1.set_data(1001, \"홍길동\", \"경영학\", \"010\")\n",
    "\n",
    "# 인스턴스 변수 변경 후 확인\n",
    "p1.phone = \"02\"\n",
    "print(\"인스턴스 p1의 phone 값 : \" + p1.phone)"
   ]
  },
  {
   "cell_type": "markdown",
   "metadata": {},
   "source": [
    "### 3)  클래스와 인스턴스의 관계 확인\n",
    "\n",
    "* isinstance() 메서드 활용"
   ]
  },
  {
   "cell_type": "code",
   "execution_count": 2,
   "metadata": {},
   "outputs": [
    {
     "name": "stdout",
     "output_type": "stream",
     "text": [
      "True\n",
      "True\n",
      "True\n",
      "False\n",
      "False\n",
      "True\n"
     ]
    }
   ],
   "source": [
    "class Person:\n",
    "    pass\n",
    "\n",
    "class ClubMember(Person):\n",
    "    pass\n",
    "\n",
    "class Subject:\n",
    "    pass\n",
    "\n",
    "p = Person()\n",
    "c = ClubMember()\n",
    "s = Subject()\n",
    "\n",
    "print(isinstance(p, Person))\n",
    "print(isinstance(c, ClubMember))\n",
    "print(isinstance(c, Person))\n",
    "print(isinstance(p, ClubMember))\n",
    "print(isinstance(s, Person))\n",
    "print(isinstance(p, object))"
   ]
  },
  {
   "cell_type": "markdown",
   "metadata": {},
   "source": [
    "# [실습 3 : 23 ~ 24p]\n",
    "\n",
    "### 4) 캡슐화\n",
    "\n",
    "* 클래스 속성 외부 접근 시 오류 데이타 셋팅 확율 높음"
   ]
  },
  {
   "cell_type": "code",
   "execution_count": null,
   "metadata": {},
   "outputs": [],
   "source": [
    "# class 정의\n",
    "class Person:\n",
    "    def set_data(self, name, age):\n",
    "        self.name = name\n",
    "        self.age = age\n",
    "        print(f\"이름 : {self.name}, 나이 : {self.age}\")\n",
    "    \n",
    "# instance 생성\n",
    "p = Person()\n",
    "\n",
    "# instance method 실행\n",
    "p.set_data(\"홍길동\", 30)\n",
    "\n",
    "# instance 변수 벼경\n",
    "p.age = -30\n",
    "print(p.name, p.age)"
   ]
  },
  {
   "cell_type": "markdown",
   "metadata": {},
   "source": [
    "* setter/getter 사용"
   ]
  },
  {
   "cell_type": "code",
   "execution_count": null,
   "metadata": {},
   "outputs": [],
   "source": [
    "# class 정의 : age setter/getter 메서드 생성\n",
    "\n",
    "class Person:\n",
    "    def set_data(self, name, age):\n",
    "        self.name = name\n",
    "        self.age = age\n",
    "        print(f\"이름 : {self.name}, 나이 : {self.age}\")\n",
    "    def set_age(self, age):\n",
    "        if age > 0:\n",
    "            self.age = age\n",
    "        else:\n",
    "            print(\"나이는 0보다 커야 합니다. \\n변경되지 않았습니다.\")\n",
    "    def get_age(self):\n",
    "        return self.age\n",
    "    \n",
    "\n",
    "# 인스턴스 생성\n",
    "p = Person()\n",
    "\n",
    "# 인스턴스 변수 셋팅\n",
    "p.set_data(\"홍길동\", 30)\n",
    "\n",
    "# 인스턴스 변수 변경 메서드 수행\n",
    "p.set_age(-30)\n",
    "print(p.get_age())\n",
    "\n",
    "# 인스턴스 변수 직접 변경 가능 : 캡슐화 필요\n",
    "p.age = -30\n",
    "print(p.age)"
   ]
  },
  {
   "cell_type": "markdown",
   "metadata": {},
   "source": [
    "* 캡슐화 적용"
   ]
  },
  {
   "cell_type": "code",
   "execution_count": null,
   "metadata": {},
   "outputs": [],
   "source": [
    "#P 예제) class 정의 : age setter/getter 메서드 생성\n",
    "\n",
    "class Person:\n",
    "    def set_data(self, name, age):\n",
    "        self.__name = name\n",
    "        self.__age = age\n",
    "        print(f\"이름 : {self.__name}, 나이 : {self.__age}\")\n",
    "    def set_age(self, age):\n",
    "        if age > 0:\n",
    "            self.__age = age\n",
    "        else:\n",
    "            print(\"나이는 0보다 커야 합니다. \\n변경되지 않았습니다.\")\n",
    "    def get_age(self):\n",
    "        return self.__age\n",
    "    \n",
    "\n",
    "# 인스턴스 생성\n",
    "p = Person()\n",
    "\n",
    "# 인스턴스 변수 셋팅\n",
    "p.set_data(\"홍길동\", 30)\n",
    "\n",
    "# 인스턴스 변수 변경 메서드 수행\n",
    "p.set_age(-30)\n",
    "print(p.get_age())\n",
    "\n",
    "# 인스턴스 변수 직접 변경 불가\n",
    "p.__age = -30\n",
    "print(p.get_age())\n",
    "\n",
    "# 인스턴스 변수 직접 변경 : 우회 시 가능\n",
    "p._Person__age = -30\n",
    "print(p.get_age())"
   ]
  },
  {
   "cell_type": "markdown",
   "metadata": {},
   "source": [
    "# [실습 4 : 25 ~ 27p]\n",
    "\n",
    "## 2. 생성자"
   ]
  },
  {
   "cell_type": "markdown",
   "metadata": {},
   "source": [
    "### 1) 인자값 없는 생성자\n",
    "\n",
    "* 인자값 없이 출력만 하는 생성자"
   ]
  },
  {
   "cell_type": "code",
   "execution_count": null,
   "metadata": {},
   "outputs": [],
   "source": [
    "# 클래스 정의\n",
    "class Person:\n",
    "    def __init__(self):\n",
    "        print(\"Person class의 생성자(초기 메서드)가 실행되었습니다.\")\n",
    "        \n",
    "# 인스턴스 생성\n",
    "p = Person()"
   ]
  },
  {
   "cell_type": "markdown",
   "metadata": {},
   "source": [
    "### 2) 인자값 있는 생성자\n",
    "\n",
    "* 인자값 : id, name, major, phone"
   ]
  },
  {
   "cell_type": "code",
   "execution_count": null,
   "metadata": {},
   "outputs": [],
   "source": [
    "# 클래스 정의\n",
    "\n",
    "class Person:\n",
    "    def __init__(self, id, name, major, phone):\n",
    "        self.id = id\n",
    "        self.name = name\n",
    "        self.major = major\n",
    "        self.phone = phone\n",
    "        \n",
    "        print(f\"학번 : {self.id}, 이름 : {self.name}, 학과 : {self.major}, 연락처 : {self.phone}\")\n",
    "        \n",
    "# 인스턴스 생성 : 인자값 전달 필요\n",
    "p = Person(1001, \"홍길동\", \"경영학\", \"010\")\n",
    "\n",
    "# 인스턴스 변수 변경\n",
    "p.phone = \"02\"\n",
    "print(\"인스턴스 p의 phone 값 : \" + p.phone)"
   ]
  },
  {
   "cell_type": "markdown",
   "metadata": {},
   "source": [
    "* 인자값 받아 출력하는 클래스 예제"
   ]
  },
  {
   "cell_type": "code",
   "execution_count": null,
   "metadata": {},
   "outputs": [],
   "source": [
    "# 예제) 인자값 받아 초기셋팅 후 getter 사용 출력하는 예제\n",
    "# class Person 선언\n",
    "# __init__ 로 id, name 인자로 받음\n",
    "# get_data 메서드 생성 : id, name 출력\n",
    "# p1 인스턴스 생성 : id = 1001, name = 홍길동\n",
    "# p2 인스턴스 생성 : id = 2001, name = 강감찬\n",
    "# p1 인스턴스의 get_data 메서드 호출\n",
    "# p2 인스턴스의 get_data 메서드 호출\n",
    "\n",
    "class Person:\n",
    "    def __init__(self,id,name):\n",
    "        self.id = id\n",
    "        self.name = name\n",
    "    def get_data(self):\n",
    "        print(\"id : %s, 이름 : %s\" % (self.id, self.name))\n",
    "        \n",
    "person1 = Person(1001, \"홍길동\")     \n",
    "person1.get_data()\n",
    "\n",
    "person2 = Person(2001, \"강감찬\")\n",
    "person2.get_data()\n",
    "\n",
    "print(person1.id)\n",
    "print(person2.name)"
   ]
  },
  {
   "cell_type": "markdown",
   "metadata": {},
   "source": [
    "# [실습 5 : 28 ~ 30p]\n",
    "\n",
    "## 3. 상속"
   ]
  },
  {
   "cell_type": "markdown",
   "metadata": {},
   "source": [
    "### 1) 상속 클래스 생성\n",
    "\n",
    "* 상속 클래스 기본 구문"
   ]
  },
  {
   "cell_type": "code",
   "execution_count": null,
   "metadata": {},
   "outputs": [],
   "source": [
    "class Person:\n",
    "    def ptest():\n",
    "        pass\n",
    "    \n",
    "class ClubMember(Person):\n",
    "    def ctest():\n",
    "        pass\n",
    "\n",
    "print(dir(Person))\n",
    "\n",
    "print(dir(ClubMember))"
   ]
  },
  {
   "cell_type": "markdown",
   "metadata": {},
   "source": [
    "* 상속을 통한 부모, 자식 클래스 생성"
   ]
  },
  {
   "cell_type": "code",
   "execution_count": null,
   "metadata": {},
   "outputs": [],
   "source": [
    "# 부모클래스 생성\n",
    "class Person:\n",
    "    def __init__(self, id, name, major):\n",
    "        self.id = id\n",
    "        self.name = name\n",
    "        self.major = major\n",
    "\n",
    "# 자식클래스 생성\n",
    "class ClubMember(Person):\n",
    "    def club(self, clubname):\n",
    "        self.clubname = clubname\n",
    "        print(f\"이름 {self.name}: , 동아리 : {self.major}\")\n",
    "\n",
    "# 자식클래스로부터 인스턴스 생성        \n",
    "c1 = ClubMember(1001, \"홍길동\", \"경영학\")        \n",
    "c1.club(\"프로그램 개발\")"
   ]
  },
  {
   "cell_type": "markdown",
   "metadata": {},
   "source": [
    "### 2) 상속관계 확인\n",
    "\n",
    "* issubclass() : 부모 클래스와 자식 클래스 여부 확인"
   ]
  },
  {
   "cell_type": "code",
   "execution_count": null,
   "metadata": {},
   "outputs": [],
   "source": [
    "class Person:\n",
    "    pass\n",
    "class ClubMember(Person):\n",
    "    pass\n",
    "\n",
    "p= Person()\n",
    "c = ClubMember()\n",
    "\n",
    "print(issubclass(ClubMember, Person))\n",
    "print(issubclass(Person, ClubMember))\n",
    "print(issubclass(Person, object))\n",
    "print(issubclass(ClubMember, object))"
   ]
  },
  {
   "cell_type": "markdown",
   "metadata": {},
   "source": [
    "# [실습 6 : 31 ~ 32p]\n",
    "\n",
    "### 3) 메스드 재정의(OVERRIDING)\n",
    "\n",
    "* 자식클래스에서 상속받은 부모클래스의 메소드 변경"
   ]
  },
  {
   "cell_type": "code",
   "execution_count": null,
   "metadata": {},
   "outputs": [],
   "source": [
    "# 부모 클래스 생성 : __init__, info 메서드 생성\n",
    "class Person:\n",
    "    def __init__(self, id, name, major):\n",
    "        self.id = id\n",
    "        self.name = name\n",
    "        self.major = major\n",
    "    def info(self):\n",
    "        print(f\"학번 : {self.id}, 성명 : {self.name}, 학과 : {self.major}\")\n",
    "\n",
    "# 자식 클래스 생성 : club 메서드 생성, info 메서드 오버라이딩\n",
    "class ClubMember(Person):\n",
    "    def club(self, clubname):\n",
    "        self.clubname = clubname\n",
    "    def info(self):\n",
    "        print(f\"학번 : {self.id}, 성명 : {self.name}, 학과 : {self.major}, 동아리명 : {self.clubname}\")\n",
    "\n",
    "# 자식 클래스로부터 인스턴스 생성\n",
    "c = ClubMember(1001, \"홍길동\", \"경영학\")\n",
    "c.club(\"프로그램 개발\")\n",
    "\n",
    "# 자식 클래스의 club 메서드 호출, info 메서드 호출\n",
    "c.info()"
   ]
  },
  {
   "cell_type": "markdown",
   "metadata": {},
   "source": [
    "## [실습 7 : 종합예제(사칙연산)]\n",
    "\n",
    "* 사칙연산 class 생성 : pass"
   ]
  },
  {
   "cell_type": "code",
   "execution_count": null,
   "metadata": {},
   "outputs": [],
   "source": [
    "# 예제) 사칙연산 class 예제\n",
    "# 설명문1) 클래스 생성\n",
    "#          클래스명 : Calc\n",
    "#          명령문 없이 pass 사용\n",
    "#          calc1 인스턴스 생성\n",
    "\n",
    "class Calc:\n",
    "    pass\n",
    "\n",
    "calc1 = Calc()"
   ]
  },
  {
   "cell_type": "markdown",
   "metadata": {},
   "source": [
    "* setter 생성 : setData()"
   ]
  },
  {
   "cell_type": "code",
   "execution_count": null,
   "metadata": {},
   "outputs": [],
   "source": [
    "# 설명문2) pass 자리에 setData 함수 선언 : 인자로 first, second 두개 정의\n",
    "#          self 활용하여 first second 멤버변수 선언, 인자로 받은 값으로 설정\n",
    "\n",
    "class Calc:\n",
    "    def setData(self, first, second):\n",
    "        self.first = first\n",
    "        self.second = second  "
   ]
  },
  {
   "cell_type": "markdown",
   "metadata": {},
   "source": [
    "* Calc 객체 생성"
   ]
  },
  {
   "cell_type": "code",
   "execution_count": null,
   "metadata": {},
   "outputs": [],
   "source": [
    "# 설명문3) Calc 클래스로부터 calc1 객체 만들기\n",
    "#          calc1객체의 setData 함수 호출\n",
    "#          first : 10, second : 20\n",
    "#          calc1객체의 first, second 출력\n",
    "\n",
    "calc1 = Calc()\n",
    "calc1.setData(10, 20)\n",
    "print(calc1.first)\n",
    "print(calc1.second)\n",
    "\n",
    "# 설명문3) Calc 클래스로부터 calc2 객체 만들기\n",
    "#          calc2객체의 setData 함수 호출\n",
    "#          first : 30, second : 40\n",
    "#          calc2객체의 first, second 출력\n",
    "\n",
    "calc2 = Calc()\n",
    "calc2.setData(30, 40)\n",
    "print(calc2.first)\n",
    "print(calc2.second)"
   ]
  },
  {
   "cell_type": "markdown",
   "metadata": {},
   "source": [
    "* 4칙 연산 메서드 생성"
   ]
  },
  {
   "cell_type": "code",
   "execution_count": null,
   "metadata": {},
   "outputs": [],
   "source": [
    "# 설명문4) Calc 클래스로에 4착 연산 함수 생성하기\n",
    "#          add(더하기), sub(빼기), mul(곱하기), div(나누기) 함수 생성\n",
    "\n",
    "class Calc:\n",
    "    def setData(self, first, second):\n",
    "        self.first = first\n",
    "        self.second = second \n",
    "    \n",
    "    def add(self):\n",
    "        return self.first + self.second\n",
    "    \n",
    "    def sub(self):\n",
    "        return self.first - self.second\n",
    "    \n",
    "    def mul(self):\n",
    "        return self.first * self.second\n",
    "    \n",
    "    def div(self):\n",
    "        return self.first / self.second        "
   ]
  },
  {
   "cell_type": "markdown",
   "metadata": {},
   "source": [
    "* 사칙연산 메서드 실행"
   ]
  },
  {
   "cell_type": "code",
   "execution_count": null,
   "metadata": {},
   "outputs": [],
   "source": [
    "# 설명문5) calc 객체 생성\n",
    "#          calc 객체의 setData 함수 호출 : 인자로 10, 20 전달\n",
    "#          calc 객체의 add 함수 호출하여 출력\n",
    "#          calc 객체의 sub 함수 호출하여 출력\n",
    "#          calc 객체의 mul 함수 호출하여 출력\n",
    "#          calc 객체의 div 함수 호출하여 출력\n",
    "\n",
    "calc = Calc()\n",
    "calc.setData(10, 20)\n",
    "print(calc.add())\n",
    "print(calc.sub())\n",
    "print(calc.mul())\n",
    "print(calc.div())"
   ]
  },
  {
   "cell_type": "markdown",
   "metadata": {},
   "source": [
    "* Calc 생성자 활용한 사칙연산 메서드 호출"
   ]
  },
  {
   "cell_type": "code",
   "execution_count": null,
   "metadata": {},
   "outputs": [],
   "source": [
    "# 예제) Calc 클래스의 생성자 활용하는 방법\n",
    "#       Calc 클래스의 생성자로 인자값 first, second 셋팅\n",
    "\n",
    "class Calc:\n",
    "    def __init__(self, first, second):\n",
    "        self.first = first\n",
    "        self.second = second\n",
    "        \n",
    "    def setData(self, first, second):\n",
    "        self.first = first\n",
    "        self.second = second \n",
    "    \n",
    "    def add(self):\n",
    "        return self.first + self.second\n",
    "    \n",
    "    def sub(self):\n",
    "        return self.first - self.second\n",
    "    \n",
    "    def mul(self):\n",
    "        return self.first * self.second\n",
    "    \n",
    "    def div(self):\n",
    "        return self.first / self.second  \n",
    "    \n",
    "calc = Calc(10, 20)\n",
    "print(calc.add())\n",
    "print(calc.sub())\n",
    "print(calc.mul())\n",
    "print(calc.div())    \n",
    "\n",
    "\n",
    "# first, secode를 재지정하고 싶은 경우 : calc.setData(1, 2)\n",
    "calc.setData(1,2)\n",
    "print(calc.add())\n",
    "print(calc.sub())\n",
    "print(calc.mul())\n",
    "print(calc.div())   "
   ]
  },
  {
   "cell_type": "markdown",
   "metadata": {},
   "source": [
    "* 자식 클래스 생성 : pass"
   ]
  },
  {
   "cell_type": "code",
   "execution_count": null,
   "metadata": {},
   "outputs": [],
   "source": [
    "# 예제) 자식 클래스 생성\n",
    "\n",
    "# 설명문1) 클래스명 : MoreCalc\n",
    "#          Calc 클래스 상속받기\n",
    "#          어떤 명령문도 수행하지 않는 클래스\n",
    "\n",
    "class MoreCalc(Calc):\n",
    "    pass"
   ]
  },
  {
   "cell_type": "markdown",
   "metadata": {},
   "source": [
    "* 자식 클래스의 인스턴스 생성"
   ]
  },
  {
   "cell_type": "code",
   "execution_count": null,
   "metadata": {},
   "outputs": [],
   "source": [
    "# 설명문2) MoreCalc 클래스로부터 morecalc 객체 생성 : 인자값 10, 20\n",
    "#          add 함수 호출\n",
    "\n",
    "mcalc = MoreCalc(10, 20)\n",
    "print(mcalc.add())"
   ]
  },
  {
   "cell_type": "markdown",
   "metadata": {},
   "source": [
    "* 자식 클래스에 pow 메서드 추가"
   ]
  },
  {
   "cell_type": "code",
   "execution_count": null,
   "metadata": {},
   "outputs": [],
   "source": [
    "# 설명문3) MoreCalc 클래스에 제곱 메서드 pow 추가\n",
    "#          MoreCalc 클래스로부터 morecalc 객체 생성 : 인자값 2, 5\n",
    "#          pow 메서드 호출하여 출력\n",
    "\n",
    "class MoreCalc(Calc):\n",
    "    def pow(self):\n",
    "        return self.first ** self.second\n",
    "    \n",
    "mcalc = MoreCalc(2, 5)\n",
    "print(mcalc.pow())"
   ]
  },
  {
   "cell_type": "markdown",
   "metadata": {},
   "source": [
    "* 부모 클래스 div 메서드 zeroDivisionError 발생"
   ]
  },
  {
   "cell_type": "code",
   "execution_count": null,
   "metadata": {},
   "outputs": [],
   "source": [
    "# 예제) 메서드 오버라이딩 : 메서드 덮어쓰기\n",
    "# 설명문1) morecalc 객체 생성하기 : 인자값 : 10, 0\n",
    "#         morecalc 객체의 div함수 호출하기\n",
    "\n",
    "mcalc = MoreCalc(10, 0)\n",
    "print(mcalc.div())"
   ]
  },
  {
   "cell_type": "markdown",
   "metadata": {},
   "source": [
    "* 자식 클래스 오버라이딩 : div 메서드 예외처리"
   ]
  },
  {
   "cell_type": "code",
   "execution_count": null,
   "metadata": {},
   "outputs": [],
   "source": [
    "# 예제) 메서드 오버라이딩 : 부모 클래스의 메서드를 덮어쓰기\n",
    "# 설명문2) MoreCalc 클래스에 div 함수 만들기\n",
    "#          조건 : self.second 값이 0이면 0을 리턴\n",
    "#                 0이 아니면 나눈 값을 리턴\n",
    "\n",
    "class MoreCalc(Calc):\n",
    "    def pow(self):\n",
    "        return self.first ** self.second\n",
    "    \n",
    "    def div(self):\n",
    "        if self.second == 0:\n",
    "            return 0\n",
    "        else:\n",
    "            return self.first / self.second    \n",
    "        \n",
    "mcalc = MoreCalc(10,0)\n",
    "print(mcalc.div())"
   ]
  },
  {
   "cell_type": "markdown",
   "metadata": {},
   "source": [
    "# [실습 8 : 33 ~ 34p]\n",
    "\n",
    "## 4. 클래스 변수"
   ]
  },
  {
   "cell_type": "markdown",
   "metadata": {},
   "source": [
    "* 객체 생성 누적 카운드 클래스 변수 활용"
   ]
  },
  {
   "cell_type": "code",
   "execution_count": null,
   "metadata": {},
   "outputs": [],
   "source": [
    "#P 예제] 객체 생성시마다 클래스 변수 num에 1씩 증가\n",
    "\n",
    "class Person:\n",
    "    num = 0\n",
    "    def __init__(self):\n",
    "        Person.num += 1\n",
    "\n",
    "print(Person.num)   \n",
    "\n",
    "p1 = Person()\n",
    "print(Person.num)   \n",
    "print(p1.num)\n",
    "\n",
    "p2 = Person()\n",
    "print(Person.num)   \n",
    "print(p1.num)\n",
    "print(p2.num)"
   ]
  },
  {
   "cell_type": "markdown",
   "metadata": {},
   "source": [
    "\n",
    "### 액세서 (참고만)\n",
    "\n",
    "* 파이썬은 객체지향 언어에서 제공하는 엑세스 수정자(public, private)를 지원하지 않음\n",
    "* 보통 멤버변수는 은폐하고, Getter와 Setter 메서드를 정의하는 것이 보편적이나  \n",
    "파이썬은 객체의 멤버변수에 접근 및 변경이 가능함\n",
    "* 객체의 멤버변수에 접근하는 것을 막을 수 없으나 실수를 막기 위해  \n",
    "멤버변수를 \\_\\_멤버명으로 만들고  \n",
    "Getter와 Setter 메서드를 사용하는 것이 적절함\n",
    "* 멤버변수를 \\_\\_멤버명으로 작성한 경우 접근하기 위해서는  \n",
    "_클래스명\\_\\_멤버명으로 가능함"
   ]
  },
  {
   "cell_type": "code",
   "execution_count": null,
   "metadata": {},
   "outputs": [],
   "source": [
    "# Setter, Getter 셋팅\n",
    "\n",
    "class Person:\n",
    "    def __init__(self,name):\n",
    "        self.name = name\n",
    "        self.__name = name\n",
    "    def getname(self):\n",
    "        return self.__name\n",
    "    def setname(self, name):\n",
    "        self.__name = name\n",
    "\n",
    "    name = property(getname, setname)\n",
    "    \n",
    "person1 = Person(\"이영희\")\n",
    "print(person1._Person__name) # 접근을 어렵게 할 수는 있으나 막을 수는 없음\n",
    "print(person1.getname())\n",
    "\n",
    "person1.setname('테스트')\n",
    "print(person1.getname())\n",
    "\n",
    "person1._Person__name = \"강제변경\"  # 변경을 어렵게 할 수는 있으나 막을 수는 없음\n",
    "print(person1.getname())\n",
    "\n"
   ]
  },
  {
   "cell_type": "markdown",
   "metadata": {},
   "source": [
    "# [실습 9 : 35 ~ 39p]\n",
    "\n",
    "## 5. 다양한 메서드\n",
    "\n",
    "### 1) 클래스 메서드\n",
    "\n",
    "* @classmethod 활용하여 sum 멤버변수의 값 공유하기"
   ]
  },
  {
   "cell_type": "code",
   "execution_count": null,
   "metadata": {},
   "outputs": [],
   "source": [
    "# 설명문) 3개의 객체를 생성하여 sum 멤버변수 변경해보기\n",
    "#         객체 생성없이 함수 호출하기\n",
    "\n",
    "class SumPoint:\n",
    "    sum = 0\n",
    "    def __init__(self,point):\n",
    "        SumPoint.sum += point\n",
    "        \n",
    "    @classmethod\n",
    "    def getsum(cls):\n",
    "        print(cls.sum)\n",
    "\n",
    "s1 = SumPoint(95)\n",
    "SumPoint.getsum()\n",
    "\n",
    "s2 = SumPoint(90)\n",
    "s2.getsum()\n",
    "\n",
    "s3 = SumPoint(85)\n",
    "SumPoint.getsum()"
   ]
  },
  {
   "cell_type": "markdown",
   "metadata": {},
   "source": [
    "* 클래스 메서드 상속받아 호출"
   ]
  },
  {
   "cell_type": "code",
   "execution_count": null,
   "metadata": {},
   "outputs": [],
   "source": [
    "class ParentPoint:\n",
    "    point = 1\n",
    "    \n",
    "    @classmethod\n",
    "    def mul(cls, num):\n",
    "        return cls.point * num\n",
    "\n",
    "class ChildPoint(ParentPoint):\n",
    "    point = 5\n",
    "\n",
    "print(ParentPoint.mul(4))\n",
    "print(ChildPoint.mul(4))"
   ]
  },
  {
   "cell_type": "markdown",
   "metadata": {},
   "source": [
    "### 2) 정적 메서드\n",
    "\n",
    "* @staticmethod를 활용한 메서드 호출"
   ]
  },
  {
   "cell_type": "code",
   "execution_count": null,
   "metadata": {},
   "outputs": [],
   "source": [
    "class SumPoint:\n",
    "    @staticmethod\n",
    "    def plus(a,b,c):\n",
    "        print(a+b+c)\n",
    "\n",
    "SumPoint.plus(10, 20, 30)\n",
    "\n",
    "s1 = SumPoint()\n",
    "s1.plus(10, 20, 30)"
   ]
  },
  {
   "cell_type": "markdown",
   "metadata": {},
   "source": [
    "## [실습 10 : 40 ~ 43p]\n",
    "\n",
    "### 3) 문자열화 메서드\n",
    "\n",
    "* \\_\\_str\\_\\_() : 객체의 출력을 문자열로 반환\n"
   ]
  },
  {
   "cell_type": "code",
   "execution_count": null,
   "metadata": {},
   "outputs": [],
   "source": [
    "#P 예제] __str__ 메서드 추가\n",
    "\n",
    "class Person:\n",
    "    def __init__(self, id, name, major):\n",
    "        self.id = id\n",
    "        self.name = name\n",
    "        self.major = major\n",
    "    def __str__(self):\n",
    "        return f\"학번 : {self.id}, 이름 : {self.name}, 학과 : {self.major}\"\n",
    "\n",
    "p1 = Person(\"1001\", \"홍길동\", \"경영학\")\n",
    "print(p1)"
   ]
  },
  {
   "cell_type": "markdown",
   "metadata": {},
   "source": [
    "### 4) 인스턴스 속성 확인\n",
    "* \\_\\_dict\\_\\_() : 인스턴스가 가진 여러 속성을 딕셔너리 형태로 확인"
   ]
  },
  {
   "cell_type": "code",
   "execution_count": null,
   "metadata": {},
   "outputs": [],
   "source": [
    "class Person:\n",
    "    def __init__(self, id, name, major):\n",
    "        self.id = id\n",
    "        self.name = name\n",
    "        self.major = major\n",
    "    def __str__(self):\n",
    "        return f\"학번 : {self.id}, 이름 : {self.name}, 학과 : {self.major}\"\n",
    "\n",
    "p1 = Person(\"1001\", \"홍길동\", \"경영학\")\n",
    "print(p1.__dict__)\n",
    "print(p1.__dict__[\"name\"])"
   ]
  },
  {
   "cell_type": "markdown",
   "metadata": {},
   "source": [
    "### 5) 연산자 메서드(참고만)\n",
    "\n",
    "* 메서드가 아닌 보다 직관적으로 사용할 수 있는 연산자를 재정의해서 사용하는 것으로  \n",
    "연산자 오버로딩이라 함\n",
    "* \\_\\_add\\_\\_(self, other) : A + B 와 같은 더하기 연산\n",
    "* \\_\\_sub\\_\\_(self, other) : A - B 와 같은 빼기 연산\n",
    "* \\_\\_mul\\_\\_(self, other) : A * B 와 같은 곱하기 연산\n",
    "* \\_\\_div\\_\\_(self, other) : A / B 와 같은 나누기 연산"
   ]
  },
  {
   "cell_type": "code",
   "execution_count": null,
   "metadata": {},
   "outputs": [],
   "source": [
    "# 연산자 오버로드\n",
    "class NumClass:\n",
    "    def __init__(self, num):\n",
    "        self.num = num\n",
    "    def __add__(self, num):\n",
    "        self.num += num\n",
    "    def __sub__(self, num):\n",
    "        self.num -= num\n",
    "        \n",
    "n = NumClass(100)        \n",
    "print(n.num)\n",
    "n + 100\n",
    "print(n.num)\n",
    "n.__add__(100)\n",
    "print(n.num)"
   ]
  }
 ],
 "metadata": {
  "kernelspec": {
   "display_name": "Python 3 (ipykernel)",
   "language": "python",
   "name": "python3"
  },
  "language_info": {
   "codemirror_mode": {
    "name": "ipython",
    "version": 3
   },
   "file_extension": ".py",
   "mimetype": "text/x-python",
   "name": "python",
   "nbconvert_exporter": "python",
   "pygments_lexer": "ipython3",
   "version": "3.9.10"
  }
 },
 "nbformat": 4,
 "nbformat_minor": 2
}
