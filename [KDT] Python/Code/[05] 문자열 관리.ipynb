{
 "cells": [
  {
   "cell_type": "markdown",
   "metadata": {},
   "source": [
    "# [실습1 : 5 ~ 8p]\n",
    "\n",
    "## 01. 인덱싱 /슬라이싱\n",
    "\n",
    "### 1) 문자열 인덱싱"
   ]
  },
  {
   "cell_type": "markdown",
   "metadata": {},
   "source": [
    "* 인덱스 활용 특정 위치의 문자 가져오기"
   ]
  },
  {
   "cell_type": "code",
   "execution_count": null,
   "metadata": {},
   "outputs": [],
   "source": [
    "stra = \"Hello, Python!!\" \n",
    "\n",
    "print(stra[7])"
   ]
  },
  {
   "cell_type": "markdown",
   "metadata": {},
   "source": [
    "* 문자열 끝에서부터 특정 위치의 문자 가져오기"
   ]
  },
  {
   "cell_type": "code",
   "execution_count": null,
   "metadata": {},
   "outputs": [],
   "source": [
    "print(stra[-8])"
   ]
  },
  {
   "cell_type": "markdown",
   "metadata": {},
   "source": [
    "* 첫번째,마지막 문자 가져오기"
   ]
  },
  {
   "cell_type": "code",
   "execution_count": null,
   "metadata": {},
   "outputs": [],
   "source": [
    "print(stra[0])\n",
    "\n",
    "print(stra[-1])"
   ]
  },
  {
   "cell_type": "markdown",
   "metadata": {},
   "source": [
    "### 2) 문자열 슬라이싱"
   ]
  },
  {
   "cell_type": "markdown",
   "metadata": {},
   "source": [
    "* 첫문자부터 4개 문자 가져오기"
   ]
  },
  {
   "cell_type": "code",
   "execution_count": null,
   "metadata": {},
   "outputs": [],
   "source": [
    "stra = \"Life is too short, You need python\" \n",
    "\n",
    "print(stra[0:4])"
   ]
  },
  {
   "cell_type": "markdown",
   "metadata": {},
   "source": [
    "* 시작 인덱스 생략, 10개 문자 가져오기"
   ]
  },
  {
   "cell_type": "code",
   "execution_count": null,
   "metadata": {},
   "outputs": [],
   "source": [
    "print(stra[:10])"
   ]
  },
  {
   "cell_type": "markdown",
   "metadata": {},
   "source": [
    "* 종료 인덱스 생략, 10번째 문자부터 끝까지 가져오기"
   ]
  },
  {
   "cell_type": "code",
   "execution_count": null,
   "metadata": {},
   "outputs": [],
   "source": [
    "print(stra[9:])"
   ]
  },
  {
   "cell_type": "markdown",
   "metadata": {},
   "source": [
    "* 시작, 종료 인덱스 생략, 전체 문자 가져오기"
   ]
  },
  {
   "cell_type": "code",
   "execution_count": null,
   "metadata": {},
   "outputs": [],
   "source": [
    "print(stra[:])"
   ]
  },
  {
   "cell_type": "markdown",
   "metadata": {},
   "source": [
    "* 10번째 문자부터 마지막 6자리전 문자가져오기"
   ]
  },
  {
   "cell_type": "code",
   "execution_count": null,
   "metadata": {},
   "outputs": [],
   "source": [
    "print(stra[9:-6])"
   ]
  },
  {
   "cell_type": "markdown",
   "metadata": {},
   "source": [
    "* 전체 문자열에서 한칸씩 건너띄어 문자 가져오기 "
   ]
  },
  {
   "cell_type": "code",
   "execution_count": null,
   "metadata": {},
   "outputs": [],
   "source": [
    "print(stra[::2])"
   ]
  },
  {
   "cell_type": "markdown",
   "metadata": {},
   "source": [
    "* 전체 문자열 뒤에서부터 가져오기"
   ]
  },
  {
   "cell_type": "code",
   "execution_count": null,
   "metadata": {},
   "outputs": [],
   "source": [
    "print(stra[::-1])"
   ]
  },
  {
   "cell_type": "markdown",
   "metadata": {},
   "source": [
    "* 문자열의 특정 문자 수정 필요, 특정 문자 변경 불가"
   ]
  },
  {
   "cell_type": "code",
   "execution_count": null,
   "metadata": {},
   "outputs": [],
   "source": [
    "stra = \"HeLlo\"\n",
    "stra[2] = \"l\""
   ]
  },
  {
   "cell_type": "markdown",
   "metadata": {},
   "source": [
    "* 문자열의 특정 문자 수정 필요, 새로운 변수 선언 필요"
   ]
  },
  {
   "cell_type": "code",
   "execution_count": null,
   "metadata": {},
   "outputs": [],
   "source": [
    "stra = \"HeLlo\"\n",
    "strb = stra[:2] + \"l\" + stra[3:]\n",
    "\n",
    "print(strb)"
   ]
  },
  {
   "cell_type": "markdown",
   "metadata": {},
   "source": [
    "* 주민등록번호로 유용한 정보 추출하기"
   ]
  },
  {
   "cell_type": "code",
   "execution_count": null,
   "metadata": {},
   "outputs": [],
   "source": [
    "resno = '981225-3032223'\n",
    "\n",
    "year = resno[0:2]\n",
    "mon = resno[2:4]\n",
    "date = resno[4:6]\n",
    "\n",
    "if resno[7] in [1,3]:\n",
    "    sex = \"남자\"\n",
    "else:\n",
    "    sex = \"여자\"\n",
    "    \n",
    "print(\"생년월일 :\",year,\"년\", mon, \"월\", date, \"일\")\n",
    "print(\"성별 :\", sex)"
   ]
  },
  {
   "cell_type": "markdown",
   "metadata": {},
   "source": [
    "# [실습2 : 9 ~ 14p]\n",
    "\n",
    "## 02. 문자열 메서드\n",
    "\n",
    "### 1) 검색 메서드"
   ]
  },
  {
   "cell_type": "code",
   "execution_count": null,
   "metadata": {},
   "outputs": [],
   "source": [
    "# 예제) find() : 찾고자 하는 문자열 위치 리턴하는 함수 (문자 찾기)\n",
    "\n",
    "values = \"Hello Python!, Hello Python World!\"\n",
    "print(values.find('P'))"
   ]
  },
  {
   "cell_type": "code",
   "execution_count": null,
   "metadata": {},
   "outputs": [],
   "source": [
    "# 예제) find() : 찾고자 하는 문자열 위치 리턴하는 함수 (문자열 찾기)\n",
    "\n",
    "print(values.find('Python'))"
   ]
  },
  {
   "cell_type": "code",
   "execution_count": null,
   "metadata": {},
   "outputs": [],
   "source": [
    "# 예제) find() : 찾는 문자 없을 경우 -1 리턴함\n",
    "\n",
    "print(values.find('Pi'))"
   ]
  },
  {
   "cell_type": "code",
   "execution_count": null,
   "metadata": {},
   "outputs": [],
   "source": [
    "# 예제) index() : find() 함수와 동일하나 찾는 문자 없을 경우 에러 발생함\n",
    "\n",
    "print(values.index('Pi'))"
   ]
  },
  {
   "cell_type": "code",
   "execution_count": null,
   "metadata": {},
   "outputs": [],
   "source": [
    "# 예제) rfind() : 뒤에서부터 찾고자 하는 문자열 위치 리턴하는 함수 (문자열 찾기)\n",
    "\n",
    "print(values.rfind('Python'))"
   ]
  },
  {
   "cell_type": "code",
   "execution_count": null,
   "metadata": {},
   "outputs": [],
   "source": [
    "# 예제) rindex() : rfind() 함수와 동일하나 찾는 문자 없을 경우 에러 발생함\n",
    "\n",
    "print(values.rindex('Pi'))"
   ]
  },
  {
   "cell_type": "code",
   "execution_count": null,
   "metadata": {},
   "outputs": [],
   "source": [
    "# 예제) count() : 찾고자 하는 문자의 갯수 확인\n",
    "\n",
    "print(values.count('P'))"
   ]
  },
  {
   "cell_type": "code",
   "execution_count": null,
   "metadata": {},
   "outputs": [],
   "source": [
    "# 예제) len() : 문자열 길이 확인\n",
    "\n",
    "print(len(values))"
   ]
  },
  {
   "cell_type": "markdown",
   "metadata": {},
   "source": [
    "### 2) 조사 메서드"
   ]
  },
  {
   "cell_type": "code",
   "execution_count": null,
   "metadata": {},
   "outputs": [],
   "source": [
    "# 예제) in : 특정 문자열이 포함되어 있는지 확인 (포함되어 있는 경우)\n",
    "\n",
    "values = \"Hello Python!, Hello Python World!\"\n",
    "\n",
    "print(\"Python\" in values)"
   ]
  },
  {
   "cell_type": "code",
   "execution_count": null,
   "metadata": {},
   "outputs": [],
   "source": [
    "# 예제) in : 특정 문자열이 포함되어 있는지 확인 (포함되어 있는 경우)\n",
    "\n",
    "print(\"k\" in values)"
   ]
  },
  {
   "cell_type": "code",
   "execution_count": null,
   "metadata": {},
   "outputs": [],
   "source": [
    "# 예제) not in : 특정 문자열이 포함되어 있지 않은지 확인 (in 과 반대)\n",
    "\n",
    "print(\"k\" not in values)"
   ]
  },
  {
   "cell_type": "code",
   "execution_count": null,
   "metadata": {},
   "outputs": [],
   "source": [
    "# 예제) startswith : 특정 문자열로 시작되는지 확인\n",
    "\n",
    "print(values.startswith(\"Hello\"))"
   ]
  },
  {
   "cell_type": "code",
   "execution_count": null,
   "metadata": {},
   "outputs": [],
   "source": [
    "# 예제) endswith : 특정 문자열로 종료되는지 확인\n",
    "\n",
    "print(values.endswith(\"Python\"))"
   ]
  },
  {
   "cell_type": "code",
   "execution_count": null,
   "metadata": {},
   "outputs": [],
   "source": [
    "# 예제) isalpha : 모든 문자가 알파벳인지 확인\n",
    "\n",
    "print(values.isalpha())"
   ]
  },
  {
   "cell_type": "code",
   "execution_count": null,
   "metadata": {},
   "outputs": [],
   "source": [
    "# 예제) isdecimal : 입력 값 숫자인지 확인 \n",
    "\n",
    "point = input(\"점수를 입력하세요.\")\n",
    "if point.isdecimal():\n",
    "    print(\"점수 :\", point)\n",
    "    print(type(point))\n",
    "else:\n",
    "    print(\"점수는 숫자로 입력하셔야 합니다.\")"
   ]
  },
  {
   "cell_type": "markdown",
   "metadata": {},
   "source": [
    "* isdigit(), isdecimal(), isnumeric() 샘플"
   ]
  },
  {
   "cell_type": "code",
   "execution_count": null,
   "metadata": {},
   "outputs": [],
   "source": [
    "print(\"10\".isnumeric())   # True\n",
    "print(\"10\".isdigit())     # True \n",
    "print(\"10\".isdecimal())   # True\n",
    "\n",
    "print(\"10.0\".isnumeric()) # False (소수점 숫자 인식 못함)\n",
    "print(\"10.0\".isdigit())   # False (소수점 숫자 인식 못함)\n",
    "print(\"10.0\".isdecimal()) # False (소수점 숫자 인식 못함)\n",
    "\n",
    "print(\"10²\".isnumeric()) # True  (제곱 특수문자도 인식)   \n",
    "print(\"10²\".isdigit())   # True  (제곱 특수문자도 인식) \n",
    "print(\"10²\".isdecimal()) # False\n",
    "\n",
    "print(\"½\".isnumeric())   # True  (분수 특수문자도 인식)\n",
    "print(\"½\".isdigit())     # False\n",
    "print(\"½\".isdecimal())   # False"
   ]
  },
  {
   "cell_type": "markdown",
   "metadata": {},
   "source": [
    "### 3) 변경 메서드"
   ]
  },
  {
   "cell_type": "code",
   "execution_count": null,
   "metadata": {},
   "outputs": [],
   "source": [
    "# 예제) lower : 모두 소문자로 바꾸기\n",
    "\n",
    "values = \"Hello Python!, Hello Python World!\"\n",
    "print(values.lower())"
   ]
  },
  {
   "cell_type": "code",
   "execution_count": null,
   "metadata": {},
   "outputs": [],
   "source": [
    "# 예제) upper : 모두 대문자로 바꾸기\n",
    "\n",
    "print(values.upper())"
   ]
  },
  {
   "cell_type": "code",
   "execution_count": null,
   "metadata": {},
   "outputs": [],
   "source": [
    "# 예제) capitalize : 문장의 첫 글자만 대문자로 변경, 나머지는 소문자로 변경\n",
    "\n",
    "print(values.capitalize())"
   ]
  },
  {
   "cell_type": "code",
   "execution_count": null,
   "metadata": {},
   "outputs": [],
   "source": [
    "# 예제) title : 모든 단어의 첫글자를 대문자로 변경, 나머지는 소문자로 변경\n",
    "\n",
    "print(values.title())"
   ]
  },
  {
   "cell_type": "code",
   "execution_count": null,
   "metadata": {},
   "outputs": [],
   "source": [
    "# 예제) strip : 문자열의 맨 앞과 맨 뒤의 공백 제거\n",
    "\n",
    "values = \" Hello Python! \"\n",
    "print(values.strip())"
   ]
  },
  {
   "cell_type": "code",
   "execution_count": null,
   "metadata": {},
   "outputs": [],
   "source": [
    "# 예제) lstrip : 문자열의 맨 앞의 공백 제거\n",
    "\n",
    "values = \" Hello Python! \"\n",
    "print(values.lstrip())"
   ]
  },
  {
   "cell_type": "code",
   "execution_count": null,
   "metadata": {},
   "outputs": [],
   "source": [
    "# 예제) rstrip : 문자열의 맨 뒤의 공백 제거\n",
    "\n",
    "values = \" Hello Python! \"\n",
    "print(values.rstrip())"
   ]
  },
  {
   "cell_type": "markdown",
   "metadata": {},
   "source": [
    "### 4) 분할 메서드"
   ]
  },
  {
   "cell_type": "code",
   "execution_count": null,
   "metadata": {},
   "outputs": [],
   "source": [
    "# 예제) split : 문자열 분할하여 리스트 리턴\n",
    "\n",
    "values = \"orange, apple, banana, mango\"\n",
    "\n",
    "print(values.split())"
   ]
  },
  {
   "cell_type": "code",
   "execution_count": null,
   "metadata": {},
   "outputs": [],
   "source": [
    "# 예제) split : 문자열 분할하여 리스트 리턴(\",\", \", \"로 분리)\n",
    "\n",
    "values = \"orange, apple, banana, mango\"\n",
    "\n",
    "print(values.split(\",\"))\n",
    "\n",
    "print(values.split(\", \"))"
   ]
  },
  {
   "cell_type": "code",
   "execution_count": null,
   "metadata": {},
   "outputs": [],
   "source": [
    "# 예제) splitlines : 개행코드 기준으로 한 행씩 분리하여 리스트 리턴\n",
    "\n",
    "values = \"Hello Python!\\nLife is too short\"\n",
    "\n",
    "print(values.splitlines())"
   ]
  },
  {
   "cell_type": "code",
   "execution_count": null,
   "metadata": {},
   "outputs": [],
   "source": [
    "# 예제) join : 문자열의 문자 사이에 문자열 삽입\n",
    "\n",
    "values = \"abcde\"\n",
    "\n",
    "print(\",\".join(values))"
   ]
  },
  {
   "cell_type": "code",
   "execution_count": null,
   "metadata": {},
   "outputs": [],
   "source": [
    "# 예제) join : 문자열의 문자 사이에 문자열 삽입(변수 활용)\n",
    "\n",
    "a = \":\"\n",
    "values = \"abcde\"\n",
    "\n",
    "print(a.join(values))"
   ]
  },
  {
   "cell_type": "markdown",
   "metadata": {},
   "source": [
    "### 5) 대체 메서드"
   ]
  },
  {
   "cell_type": "code",
   "execution_count": null,
   "metadata": {},
   "outputs": [],
   "source": [
    "# 예제) replace(old, new) : 특정 문자열을 다른 문자열로 변환\n",
    "\n",
    "values = \"orange, apple, banana, mango\"\n",
    "\n",
    "print(values.replace(\"apple\",\"사과\"))"
   ]
  },
  {
   "cell_type": "code",
   "execution_count": null,
   "metadata": {},
   "outputs": [],
   "source": [
    "# 예제) replace(old, new) : 특정 문자열을 다른 문자열로 변환(전체 적용 예)\n",
    "\n",
    "print(values.replace(\"a\",\"_\"))"
   ]
  },
  {
   "cell_type": "code",
   "execution_count": null,
   "metadata": {},
   "outputs": [],
   "source": [
    "# 예제) replace(old, new) : 특정 문자열을 다른 문자열로 변환(지정갯수만큼 적용 예)\n",
    "\n",
    "print(values.replace(\"a\",\"_\", 3))"
   ]
  },
  {
   "cell_type": "code",
   "execution_count": null,
   "metadata": {},
   "outputs": [],
   "source": [
    "# 예제) 문자열 특정 폭에 맞춰 정렬 : ljust, rjust, center\n",
    "\n",
    "print(values.ljust(50))\n",
    "print(values.rjust(50))\n",
    "print(values.center(50))"
   ]
  },
  {
   "cell_type": "markdown",
   "metadata": {},
   "source": [
    "## 03. 포맷팅\n",
    "\n",
    "# [실습3 : 15 ~ 16p]\n",
    "\n",
    "### 1) +연산자를 사용한 포매팅"
   ]
  },
  {
   "cell_type": "code",
   "execution_count": null,
   "metadata": {},
   "outputs": [],
   "source": [
    "# 예제) + 연산자 활용\n",
    "\n",
    "name = \"홍길동\"\n",
    "age = 30\n",
    "\n",
    "print(\"이름 : \" + name + \", 나이 : \" + str(age)) "
   ]
  },
  {
   "cell_type": "markdown",
   "metadata": {},
   "source": [
    "### 2) 표식을 사용한 포매팅"
   ]
  },
  {
   "cell_type": "code",
   "execution_count": null,
   "metadata": {},
   "outputs": [],
   "source": [
    "# 예제) 정수형 표식 활용 포매팅(변수사용) : %d\n",
    "\n",
    "num = 3\n",
    "print(\"I eat %d oranges\" % num)"
   ]
  },
  {
   "cell_type": "code",
   "execution_count": null,
   "metadata": {},
   "outputs": [],
   "source": [
    "# 예제) 정수형 표식 활용 포매팅(변수사용, 10자리수 확보, 우측정렬) : %10d\n",
    "\n",
    "num = 3\n",
    "print(\"I eat %10d oranges\" % num)"
   ]
  },
  {
   "cell_type": "code",
   "execution_count": null,
   "metadata": {},
   "outputs": [],
   "source": [
    "# 예제) 정수형 표식 활용 포매팅(변수사용, 10자리수 확보, 좌측정렬) : %-10d\n",
    "\n",
    "num = 3\n",
    "print(\"I eat %-10d oranges\" % num)"
   ]
  },
  {
   "cell_type": "code",
   "execution_count": null,
   "metadata": {},
   "outputs": [],
   "source": [
    "# 예제) 문자열 표식 활용 포매팅 : %s\n",
    "\n",
    "print(\"I eat two oranges\")\n",
    "\n",
    "print(\"I eat %s oranges\" % \"two\")"
   ]
  },
  {
   "cell_type": "code",
   "execution_count": null,
   "metadata": {},
   "outputs": [],
   "source": [
    "# 예제) 문자열 표식 활용 포매팅(변수사용) : %s\n",
    "\n",
    "stra = \"three\"\n",
    "print(\"I eat %s oranges\" % stra)"
   ]
  },
  {
   "cell_type": "code",
   "execution_count": null,
   "metadata": {},
   "outputs": [],
   "source": [
    "# 예제) 문자열 표식 활용 포매팅(변수사용, 10자리수 확보, 우측정렬) : %10s\n",
    "\n",
    "stra = \"three\"\n",
    "print(\"I eat %10s oranges\" % stra)"
   ]
  },
  {
   "cell_type": "code",
   "execution_count": null,
   "metadata": {},
   "outputs": [],
   "source": [
    "# 예제) 문자열 표식 활용 포매팅(변수사용, 10자리수 확보, 좌측정렬) : %-10s\n",
    "\n",
    "stra = \"three\"\n",
    "print(\"I eat %-10s oranges\" % stra)"
   ]
  },
  {
   "cell_type": "code",
   "execution_count": null,
   "metadata": {},
   "outputs": [],
   "source": [
    "# 예제) 실수형 표식 활용 포매팅(변수사용) : %f\n",
    "# 기본 소수점 6자리까지 표기\n",
    "\n",
    "pi = 3.1415924\n",
    "print(\"pi = %f\" % pi)"
   ]
  },
  {
   "cell_type": "code",
   "execution_count": null,
   "metadata": {},
   "outputs": [],
   "source": [
    "# 예제) 실수형 표식 활용 포매팅(변수사용, 소숫점 3자리수) : %0.3f\n",
    "# 소수자리수까지 표현시 반올림된 결과 출력됨\n",
    "\n",
    "print(\"pi = %0.3f\" % pi)"
   ]
  },
  {
   "cell_type": "code",
   "execution_count": null,
   "metadata": {},
   "outputs": [],
   "source": [
    "# 예제) 실수형 표식 활용 포매팅(변수사용, 총 10자리, 소숫점 3자리수, 우측정렬) : %10.3f\n",
    "\n",
    "print(\"pi = %10.3f\" % pi)"
   ]
  },
  {
   "cell_type": "code",
   "execution_count": null,
   "metadata": {},
   "outputs": [],
   "source": [
    "# 예제) 실수형 표식 활용 포매팅(변수사용, 총 10자리, 소숫점 3자리수, 좌측정렬) : %-10.3f\n",
    "\n",
    "print(\"pi = %-10.3f\" % pi)"
   ]
  },
  {
   "cell_type": "code",
   "execution_count": null,
   "metadata": {},
   "outputs": [],
   "source": [
    "# 예제) %문자 출력 : %% 사용\n",
    "\n",
    "a = 98\n",
    "print(\"비 올 확율은 %d%% 입니다.\" % a)"
   ]
  },
  {
   "cell_type": "code",
   "execution_count": null,
   "metadata": {},
   "outputs": [],
   "source": [
    "# 예제) 여러 정보를 조합한 문자열 출력(+ 연산자 활용)\n",
    "\n",
    "name = \"홍길동\"\n",
    "age = 30\n",
    "\n",
    "print(\"이름:\" + name + \",나이:\" + str(age)) "
   ]
  },
  {
   "cell_type": "code",
   "execution_count": null,
   "metadata": {},
   "outputs": [],
   "source": [
    "# 예제) 여러 정보를 조합한 문자열 출력(표식 활용)\n",
    "\n",
    "print(\"이름 : %s,나이 : %d\" % (name, age))  "
   ]
  },
  {
   "cell_type": "markdown",
   "metadata": {},
   "source": [
    "# [실습4 : 17P]\n",
    "\n",
    "### 3) format 함수를 이용한 포맷팅"
   ]
  },
  {
   "cell_type": "code",
   "execution_count": null,
   "metadata": {},
   "outputs": [],
   "source": [
    "# 예제) {} 활용 숫자 포매팅\n",
    "\n",
    "print(\"{} {} {}\".format(10, 20, 30))"
   ]
  },
  {
   "cell_type": "code",
   "execution_count": null,
   "metadata": {},
   "outputs": [],
   "source": [
    "# 예제) {} 활용 문자열 포매팅\n",
    "\n",
    "print(\"{} {} {}\".format(\"name\", \"age\", \"email\"))"
   ]
  },
  {
   "cell_type": "code",
   "execution_count": null,
   "metadata": {},
   "outputs": [],
   "source": [
    "# 예제) {} 활용 포매팅(변수 사용)\n",
    "\n",
    "name = \"홍길동\"\n",
    "age = 30\n",
    "\n",
    "print(\"name : {}, age : {}\".format(name, age))"
   ]
  },
  {
   "cell_type": "code",
   "execution_count": null,
   "metadata": {},
   "outputs": [],
   "source": [
    "# 예제) {순서} 활용 포매팅(변수 사용)\n",
    "\n",
    "name = \"홍길동\"\n",
    "age = 30\n",
    "\n",
    "print(\"name : {1}, age : {0}\".format(age, name))"
   ]
  },
  {
   "cell_type": "code",
   "execution_count": null,
   "metadata": {},
   "outputs": [],
   "source": [
    "# 예제) {순서} format내 변수 선언\n",
    "\n",
    "print(\"name : {name}, age : {age}\".format(name=\"홍길동\", age=30))"
   ]
  },
  {
   "cell_type": "code",
   "execution_count": null,
   "metadata": {},
   "outputs": [],
   "source": [
    "# 예제) {순서} format내 변수 선언, 순서변경\n",
    "\n",
    "print(\"name : {name}, age : {age}\".format(age=30, name=\"홍길동\"))"
   ]
  },
  {
   "cell_type": "code",
   "execution_count": null,
   "metadata": {},
   "outputs": [],
   "source": [
    "# 예제) {순서} 변수 선언, 순서변경 - 오류 발생\n",
    "\n",
    "name = \"홍길동\"\n",
    "age = 30\n",
    "\n",
    "print(\"name : {name}, age : {age}\".format(age, name))"
   ]
  },
  {
   "cell_type": "code",
   "execution_count": null,
   "metadata": {},
   "outputs": [],
   "source": [
    "# 예제) format 함수 정렬 : 좌측 정렬 : {:<}\n",
    "\n",
    "print(\"{0:<10}\".format(\"hi\"))"
   ]
  },
  {
   "cell_type": "code",
   "execution_count": null,
   "metadata": {},
   "outputs": [],
   "source": [
    "# 예제) format 함수 정렬 : 우측 정렬 : {:>}\n",
    "\n",
    "print(\"{0:>10}\".format(\"hi\"))"
   ]
  },
  {
   "cell_type": "code",
   "execution_count": null,
   "metadata": {},
   "outputs": [],
   "source": [
    "# 예제) format 함수 정렬 : 중앙 정렬 : {:^}\n",
    "\n",
    "print(\"{0:^10}\".format(\"hi\"))"
   ]
  },
  {
   "cell_type": "code",
   "execution_count": null,
   "metadata": {},
   "outputs": [],
   "source": [
    "# 예제) {}안에 실수 타입 지정 가능\n",
    "\n",
    "print(\"{0:10.4f}\".format(3.42134234))"
   ]
  },
  {
   "cell_type": "markdown",
   "metadata": {},
   "source": [
    "### 4) f 문자를 사용한 포매팅"
   ]
  },
  {
   "cell_type": "code",
   "execution_count": null,
   "metadata": {},
   "outputs": [],
   "source": [
    "# 예제) f, {변수명} 활용 포매팅\n",
    "\n",
    "name = \"홍길동\"\n",
    "age = 30\n",
    "\n",
    "print(f\"이름:{name},나이:{age}\")"
   ]
  },
  {
   "cell_type": "code",
   "execution_count": null,
   "metadata": {},
   "outputs": [],
   "source": [
    "# 예제) f: 좌측, 우측, 중앙 정렬 : {:<}, {:>}, {:^}\n",
    "\n",
    "print(f\"이름 : {name:<10}, 나이 : {age:>10} \")"
   ]
  },
  {
   "cell_type": "code",
   "execution_count": null,
   "metadata": {},
   "outputs": [],
   "source": [
    "# 예제) 4가지 포매팅 예제\n",
    "\n",
    "name = \"홍길동\"\n",
    "age = 30\n",
    "\n",
    "print(\"이름 : \" + name + \", 나이 : \" + str(age))\n",
    "print(\"이름 : %s, 나이 : %d\" %(name, age))\n",
    "print(\"이름 : {0}, 나이 : {1}\".format(name, age))\n",
    "print(f\"이름 : {name}, 나이 : {age}\")"
   ]
  },
  {
   "cell_type": "code",
   "execution_count": 4,
   "metadata": {},
   "outputs": [
    {
     "name": "stdout",
     "output_type": "stream",
     "text": [
      "이름 : 홍길동, 나이 : 30세, email : hong@hotmail.com\n",
      "이름 : 홍길동, 나이 : 30세, email : hong@hotmail.com\n",
      "이름 : 홍길동, 나이 : 30세, email : hong@hotmail.com\n",
      "이름 : 홍길동, 나이 : 30세, email : hong@hotmail.com\n"
     ]
    }
   ],
   "source": [
    "# 문제) 4가지 포매팅 예제\n",
    "# 변수 값 대입\n",
    "name = \"홍길동\"\n",
    "age = 30\n",
    "email = \"hong@hotmail.com\"\n",
    "\n",
    "# 출력 : 이름 : 홍길동, 나이 : 30세, email : hong@hotmail.com\n",
    "            \n",
    "# 1) + 연산자를 사용한 포매팅\n",
    "print(\"이름 : \" + name + \", 나이 : \" + str(age) + \"세, email : \" + email )\n",
    "\n",
    "# 2) 표식을 사용한 포매팅\n",
    "print(\"이름 : %s, 나이 : %d세, email : %s\" %(name, age, email) )\n",
    "\n",
    "# 3) format함수를 사용한 포매팅\n",
    "print(\"이름 : {}, 나이 : {}세, email : {}\".format(name, age, email) )\n",
    "\n",
    "# 4) f문자열을 사용한 포매팅\n",
    "print(f\"이름 : {name}, 나이 : {age}세, email : {email}\")"
   ]
  }
 ],
 "metadata": {
  "kernelspec": {
   "display_name": "Python 3 (ipykernel)",
   "language": "python",
   "name": "python3"
  },
  "language_info": {
   "codemirror_mode": {
    "name": "ipython",
    "version": 3
   },
   "file_extension": ".py",
   "mimetype": "text/x-python",
   "name": "python",
   "nbconvert_exporter": "python",
   "pygments_lexer": "ipython3",
   "version": "3.9.10"
  }
 },
 "nbformat": 4,
 "nbformat_minor": 2
}
