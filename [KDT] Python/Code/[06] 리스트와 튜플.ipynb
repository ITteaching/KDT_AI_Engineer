{
 "cells": [
  {
   "cell_type": "markdown",
   "metadata": {},
   "source": [
    "# [실습1 : 5 ~ 8p]\n",
    "\n",
    "## 01. 리스트\n",
    "\n",
    "### 1) 리스트 생성 / 타입 확인"
   ]
  },
  {
   "cell_type": "markdown",
   "metadata": {},
   "source": [
    "* 리스트 생성"
   ]
  },
  {
   "cell_type": "code",
   "execution_count": null,
   "metadata": {},
   "outputs": [],
   "source": [
    "a = []\n",
    "b = [\"yello\", \"red\", \"white\"]\n",
    "c = [1, 2, 3, 4, 5]\n",
    "d = [1, 2, 3, \"yello\", 4]"
   ]
  },
  {
   "cell_type": "markdown",
   "metadata": {},
   "source": [
    "* 리스트 값, 타입 출력 (a, b)"
   ]
  },
  {
   "cell_type": "code",
   "execution_count": null,
   "metadata": {},
   "outputs": [],
   "source": [
    "print(a)\n",
    "print(type(a))\n",
    "\n",
    "print(b)\n",
    "print(type(b))"
   ]
  },
  {
   "cell_type": "markdown",
   "metadata": {},
   "source": [
    "* list() 함수로 리스트 생성 후 값, 타입 출력하기"
   ]
  },
  {
   "cell_type": "code",
   "execution_count": null,
   "metadata": {},
   "outputs": [],
   "source": [
    "a = list()\n",
    "\n",
    "print(a)\n",
    "print(type(a))"
   ]
  },
  {
   "cell_type": "markdown",
   "metadata": {},
   "source": [
    "* list() 함수로 문자열 리스트 타입으로 변경하기"
   ]
  },
  {
   "cell_type": "code",
   "execution_count": null,
   "metadata": {},
   "outputs": [],
   "source": [
    "a = list(\"Hello\")\n",
    "\n",
    "print(a)\n",
    "print(type(a))"
   ]
  },
  {
   "cell_type": "markdown",
   "metadata": {},
   "source": [
    "### 2) 리스트 인덱싱"
   ]
  },
  {
   "cell_type": "markdown",
   "metadata": {},
   "source": [
    "* 0번, 3번째, 마지막 요소 인덱싱"
   ]
  },
  {
   "cell_type": "code",
   "execution_count": null,
   "metadata": {},
   "outputs": [],
   "source": [
    "a = [1, 2, 3, 4, 5, 6, 7, 8, 9]\n",
    "\n",
    "print(a[0])\n",
    "print(a[-1])\n",
    "print(a[2])"
   ]
  },
  {
   "cell_type": "markdown",
   "metadata": {},
   "source": [
    "### 3) 리스트 슬라이싱\n",
    "\n",
    "* 1) 처음부터 2번째 자리까지 슬라이싱\n",
    "* 2) 두번째 자리부터 끝까지 슬라이싱\n",
    "* 3) 세번째 자리부터 여섯번째 자리까지 슬라이싱\n",
    "* 4) 홀수만 슬라이싱\n",
    "* 5) 전체 슬라이싱"
   ]
  },
  {
   "cell_type": "code",
   "execution_count": null,
   "metadata": {},
   "outputs": [],
   "source": [
    "a = [1, 2, 3, 4, 5, 6, 7, 8, 9]\n",
    "\n",
    "print(a[:2])\n",
    "print(a[1:])\n",
    "print(a[2:6])\n",
    "print(a[::2])\n",
    "print(a[:])"
   ]
  },
  {
   "cell_type": "markdown",
   "metadata": {},
   "source": [
    "* 음수인덱스\n",
    "* 1) 우측에서 7번째부터 3번째까지\n",
    "* 2) 우측에서 7번째부터 끝까지\n",
    "* 3) 처음부터 마지막 3번째까지\n",
    "* 4) 마지막 2개\n",
    "* 5) 우측부터 왼쪽으로 차례로"
   ]
  },
  {
   "cell_type": "code",
   "execution_count": null,
   "metadata": {},
   "outputs": [],
   "source": [
    "print(a[-7:-2])\n",
    "print(a[-7:])\n",
    "print(a[:-2])\n",
    "print(a[-2:])\n",
    "print(a[::-1])"
   ]
  },
  {
   "cell_type": "markdown",
   "metadata": {},
   "source": [
    "# [실습2 : 9 ~ 11p]\n",
    "\n",
    "### 4) 리스트 요소 값 변경\n",
    "\n",
    "* 리스트 요소 값 변경(인덱싱:한개 요소 변경) : 8번째 값을 11로 변경 후 출력"
   ]
  },
  {
   "cell_type": "code",
   "execution_count": null,
   "metadata": {},
   "outputs": [],
   "source": [
    "a = [1, 2, 3, 4, 5, 6, 7, 8, 9]\n",
    "\n",
    "a[8] = 11\n",
    "print(a)"
   ]
  },
  {
   "cell_type": "markdown",
   "metadata": {},
   "source": [
    "* 리스트 요소 값 변경(슬라이싱:여러개 요소 변경) : 두번째부터 4번째까지를 변경"
   ]
  },
  {
   "cell_type": "code",
   "execution_count": null,
   "metadata": {},
   "outputs": [],
   "source": [
    "a[1:4] = [21, 22, 23]\n",
    "print(a)"
   ]
  },
  {
   "cell_type": "markdown",
   "metadata": {},
   "source": [
    "* 리스트 요소 값 변경(슬라이싱:한개를 여러개 요소로 변경)"
   ]
  },
  {
   "cell_type": "code",
   "execution_count": null,
   "metadata": {},
   "outputs": [],
   "source": [
    "a[4:5] = [31, 32, 33]\n",
    "print(a)"
   ]
  },
  {
   "cell_type": "markdown",
   "metadata": {},
   "source": [
    "* 리스트 요소 값 변경(인덱싱:한개를 여러개 요소로 변경)"
   ]
  },
  {
   "cell_type": "code",
   "execution_count": null,
   "metadata": {},
   "outputs": [],
   "source": [
    "a[7] = [41, 42, 43]\n",
    "print(a)"
   ]
  },
  {
   "cell_type": "markdown",
   "metadata": {},
   "source": [
    "### 5) 리스트 요소 값 삭제"
   ]
  },
  {
   "cell_type": "markdown",
   "metadata": {},
   "source": [
    "* 리스트 요소 삭제 : del (인덱싱:첫번째 요소 삭제)"
   ]
  },
  {
   "cell_type": "code",
   "execution_count": null,
   "metadata": {},
   "outputs": [],
   "source": [
    "del a[0]\n",
    "print(a)"
   ]
  },
  {
   "cell_type": "markdown",
   "metadata": {},
   "source": [
    "* 리스트 요소 삭제 : del (슬라이싱:두번째부터 3번째 요소 삭제)"
   ]
  },
  {
   "cell_type": "code",
   "execution_count": null,
   "metadata": {},
   "outputs": [],
   "source": [
    "del a[1:3]\n",
    "print(a)"
   ]
  },
  {
   "cell_type": "markdown",
   "metadata": {},
   "source": [
    "* 리스트 요소 삭제 : 빈 리스트로 삭제"
   ]
  },
  {
   "cell_type": "code",
   "execution_count": null,
   "metadata": {},
   "outputs": [],
   "source": [
    "a[1:2] = []\n",
    "print(a)"
   ]
  },
  {
   "cell_type": "markdown",
   "metadata": {},
   "source": [
    "# [실습3 : 11 ~ 13p]\n",
    "\n",
    "### 6) 리스트 요소 값 연결하기\n",
    "\n",
    "* 리스트 연산하기 : 요소 값 연결하기"
   ]
  },
  {
   "cell_type": "code",
   "execution_count": null,
   "metadata": {},
   "outputs": [],
   "source": [
    "a = [1, 2, 3]\n",
    "b = [4, 5, 6]\n",
    "\n",
    "print(a + b)"
   ]
  },
  {
   "cell_type": "markdown",
   "metadata": {},
   "source": [
    "* 리스트 연산하기 : 요소 값 반복하기"
   ]
  },
  {
   "cell_type": "code",
   "execution_count": null,
   "metadata": {},
   "outputs": [],
   "source": [
    "print(a * 2)"
   ]
  },
  {
   "cell_type": "markdown",
   "metadata": {},
   "source": [
    "### 7) 이중 리스트\n",
    "\n",
    "* 이중 리스트 생성"
   ]
  },
  {
   "cell_type": "code",
   "execution_count": null,
   "metadata": {},
   "outputs": [],
   "source": [
    "a = [1, 2, 3, ['a', 'b', 'c']]\n",
    "\n",
    "print(a)"
   ]
  },
  {
   "cell_type": "markdown",
   "metadata": {},
   "source": [
    "* 이중 리스트 인덱싱 : 첫번째 요소, 4번째 요소"
   ]
  },
  {
   "cell_type": "code",
   "execution_count": null,
   "metadata": {},
   "outputs": [],
   "source": [
    "print(a[0])\n",
    "print(a[3])"
   ]
  },
  {
   "cell_type": "markdown",
   "metadata": {},
   "source": [
    "* 이중 리스트 인덱싱 : 4번째 요소의 두번째 요소"
   ]
  },
  {
   "cell_type": "code",
   "execution_count": null,
   "metadata": {},
   "outputs": [],
   "source": [
    "print(a[3][1])"
   ]
  },
  {
   "cell_type": "markdown",
   "metadata": {},
   "source": [
    "* 삼중 리스트 인덱싱 : \"python\" 추출"
   ]
  },
  {
   "cell_type": "code",
   "execution_count": null,
   "metadata": {},
   "outputs": [],
   "source": [
    "a = [1, 2, ['a', 'b', ['hello', 'python']]]\n",
    "\n",
    "print(a[2][2][1])"
   ]
  },
  {
   "cell_type": "markdown",
   "metadata": {},
   "source": [
    "* 이중 리스트 슬라이싱 : 처음부터 5번째 자리까지"
   ]
  },
  {
   "cell_type": "code",
   "execution_count": null,
   "metadata": {},
   "outputs": [],
   "source": [
    "a = [1, 2, 3, ['a', 'b', 'c'], 'hello', 'python']\n",
    "\n",
    "print(a[0:5])"
   ]
  },
  {
   "cell_type": "markdown",
   "metadata": {},
   "source": [
    "* 이중 리스트 슬라이싱 : 'a','b' 추출하기"
   ]
  },
  {
   "cell_type": "code",
   "execution_count": null,
   "metadata": {},
   "outputs": [],
   "source": [
    "print(a[3][:2])"
   ]
  },
  {
   "cell_type": "markdown",
   "metadata": {},
   "source": [
    "### 8) 리스트 컴프리헨션"
   ]
  },
  {
   "cell_type": "code",
   "execution_count": null,
   "metadata": {},
   "outputs": [],
   "source": [
    "points = [10, 20, 30, 40, 50, 60, 70, 80, 90, 100]\n",
    "\n",
    "print([n / 2 for n in points])\n",
    "\n",
    "print([n for n in points if n > 60])\n",
    "\n",
    "print([n / 2 for n in points if n > 60])"
   ]
  },
  {
   "cell_type": "markdown",
   "metadata": {},
   "source": [
    "# [실습3 : 14p]\n",
    "\n",
    "## 02. 리스트 관리\n",
    "\n",
    "### 1) 삽입"
   ]
  },
  {
   "cell_type": "code",
   "execution_count": null,
   "metadata": {},
   "outputs": [],
   "source": [
    "# 예제) append() : 한 개의 요소 추가 후 출력\n",
    "\n",
    "a = [1, 2, 3, 4, 5] \n",
    "a.append(6)\n",
    "print(a)"
   ]
  },
  {
   "cell_type": "code",
   "execution_count": null,
   "metadata": {},
   "outputs": [],
   "source": [
    "# 예제) append() : 리스트로 두개의 요소 추가 후 출력\n",
    "\n",
    "a.append([7,8])\n",
    "print(a)"
   ]
  },
  {
   "cell_type": "code",
   "execution_count": null,
   "metadata": {},
   "outputs": [],
   "source": [
    "# 예제) insert() : 한 개의 요소를 특정 위치에 추가 후 출력\n",
    "\n",
    "a.insert(3,11)\n",
    "print(a)"
   ]
  },
  {
   "cell_type": "code",
   "execution_count": null,
   "metadata": {},
   "outputs": [],
   "source": [
    "# 예제) insert() : 리스트로 두개의 요소 특정 위치에 추가 후 출력\n",
    "\n",
    "a.insert(2,[21,22])\n",
    "print(a)"
   ]
  },
  {
   "cell_type": "code",
   "execution_count": null,
   "metadata": {},
   "outputs": [],
   "source": [
    "# 예제) extend() : 리스트 요소를 요소로 추가하는 함수\n",
    "\n",
    "a.extend([31,32,33])\n",
    "print(a)"
   ]
  },
  {
   "cell_type": "markdown",
   "metadata": {},
   "source": [
    "# [실습4 : 15p]\n",
    "\n",
    "### 2) 삭제\n",
    "\n",
    "* remove() : 인수로 전달받은 요소값을 찾아 처음 발견한 요소만 삭제함. 없을 경우 오류 발생\n",
    "* pop() : 삭제한 요소를 꺼내 리턴함, 인수없이 지정 시 -1값으로 작동하여 마지막 요소를 삭제함\n",
    "* del() : 순서값을 지정햐여 삭제함, 법위삭제 가능, 파이썬의 키워드로 리스트 객체 함수가 아님\n",
    "* clear() : 리스트의 모든 요소를 삭제함"
   ]
  },
  {
   "cell_type": "code",
   "execution_count": null,
   "metadata": {},
   "outputs": [],
   "source": [
    "# 예제) remove() : 인자로 주어진 값과 동일한 요소 중 첫번째 요소 삭제\n",
    "\n",
    "a = [\"a\", \"b\", \"c\", \"d\", \"e\", \"f\", \"g\", \"h\", \"i\",\"a\", \"b\", \"c\"]\n",
    "a.remove(\"a\")\n",
    "print(a)"
   ]
  },
  {
   "cell_type": "code",
   "execution_count": null,
   "metadata": {},
   "outputs": [],
   "source": [
    "# 예제) pop() : 위치값에 의한 삭제, 삭제한 요소를 꺼내 리턴함\n",
    "#                인수없이 지정 시 -1값으로 작동하여 마지막 요소를 삭제함\n",
    "\n",
    "a.pop(2)\n",
    "print(a)"
   ]
  },
  {
   "cell_type": "code",
   "execution_count": null,
   "metadata": {},
   "outputs": [],
   "source": [
    "# 예제) del : 함수가 아닌 명령어로 인덱싱, 슬라이싱으로 삭제 가능\n",
    "\n",
    "del(a[2])  # del a[2], del(a[2]) 동일함\n",
    "print(a)\n",
    "\n",
    "del a[3:5]\n",
    "print(a)"
   ]
  },
  {
   "cell_type": "code",
   "execution_count": null,
   "metadata": {},
   "outputs": [],
   "source": [
    "# 예제) clear : 리스트 요소 모두 삭제\n",
    "\n",
    "a.clear()\n",
    "print(a)"
   ]
  },
  {
   "cell_type": "markdown",
   "metadata": {},
   "source": [
    "# [실습5 : 16p]\n",
    "\n",
    "### 3) 검색\n",
    "\n",
    "* 문자열의 검색 함수와 거의 유사함\n",
    "* index() : 특정 요소의 위치를 찾아 리턴하는 함수이며, 없을 경우 에러 발생\n",
    "* count() : 특정 요소값의 갯수를 리턴하는 함수\n",
    "* len() : 리스트 요소의 갯수를 리턴하는 내장 함수\n",
    "* min() : 리스트 최소값을 리턴하는 내장 함수\n",
    "* max() : 리스트 최대값을 리턴하는 내장 함수\n",
    "* in, not in : 요소의 포함여부를 확인하여 True, False를 리턴하는 연산자"
   ]
  },
  {
   "cell_type": "code",
   "execution_count": null,
   "metadata": {},
   "outputs": [],
   "source": [
    "# 예제) index() : 특정 요소의 위치값을 리턴 (\"c\" 찾기)\n",
    "\n",
    "a = [\"a\", \"b\", \"c\", \"d\", \"e\", \"f\", \"g\", \"h\", \"i\",\"a\", \"b\", \"c\"]\n",
    "print(a.index(\"c\"))"
   ]
  },
  {
   "cell_type": "code",
   "execution_count": null,
   "metadata": {},
   "outputs": [],
   "source": [
    "# 예제) index() : 특정 요소의 위치값을 리턴 (\"z\" 찾기) - 오류발생\n",
    "\n",
    "a = [\"a\", \"b\", \"c\", \"d\", \"e\", \"f\", \"g\", \"h\", \"i\",\"a\", \"b\", \"c\"]\n",
    "print(a.index(\"z\"))"
   ]
  },
  {
   "cell_type": "code",
   "execution_count": null,
   "metadata": {},
   "outputs": [],
   "source": [
    "# 예제) index(\"찾고자하는 문자열\", 시작위치값)\n",
    "# 특정 요소의 위치값을 리턴 (5번째 요소 이후에 있는\"c\" 찾기)\n",
    "\n",
    "print(a.index(\"c\",4))"
   ]
  },
  {
   "cell_type": "code",
   "execution_count": null,
   "metadata": {},
   "outputs": [],
   "source": [
    "# 예제) count() : 인자값 포함 요소의 갯수 리턴\n",
    "\n",
    "print(a.count(\"b\"))"
   ]
  },
  {
   "cell_type": "code",
   "execution_count": null,
   "metadata": {},
   "outputs": [],
   "source": [
    "# 예제) len() : 리스트내 요소의 갯수 리턴\n",
    "\n",
    "print(len(a))"
   ]
  },
  {
   "cell_type": "code",
   "execution_count": null,
   "metadata": {},
   "outputs": [],
   "source": [
    "# 예제) min(), max() : 리스트내 최소값, 최대값\n",
    "\n",
    "a = [10, 20, 30, 40, 50, 60, 70, 80, 90, 100]\n",
    "\n",
    "print(min(a))\n",
    "print(max(a))"
   ]
  },
  {
   "cell_type": "code",
   "execution_count": null,
   "metadata": {},
   "outputs": [],
   "source": [
    "# 예제) in, not in : 리스트내 포함여부 확인하여 True, False 리턴\n",
    "\n",
    "print(\"d\" in a)\n",
    "print(\"d\" not in a)"
   ]
  },
  {
   "cell_type": "markdown",
   "metadata": {},
   "source": [
    "# [실습6 : 17p]\n",
    "\n",
    "## 4) 정렬\n",
    "\n",
    "* sort() : 요소를 크기순으로 재배열하여 결과값 저장함  \n",
    "기본은 오름차순으로 정렬하고, reverse = True를 지정하면 내림차순으로 정렬함\n",
    "* reverse() : 요소의 순서를 반대로 하여 결과값 저장함\n",
    "* sorted() : 내장 함수로 원본 리스트는 그대로 두고 정렬된 새로운 리스트를 리턴하는 함수로  \n",
    "새로운 리스트를 생성하는 변수로 대입받아야 함  \n",
    "reverse 옵션은 sort() 함수와 동일함"
   ]
  },
  {
   "cell_type": "code",
   "execution_count": null,
   "metadata": {},
   "outputs": [],
   "source": [
    "# 예제) sort() : 소팅한 결과값을 저장함\n",
    "\n",
    "a = [1, 2, 3, 9, 8, 7, 6, 5, 4]\n",
    "a.sort()\n",
    "print(a)"
   ]
  },
  {
   "cell_type": "code",
   "execution_count": null,
   "metadata": {},
   "outputs": [],
   "source": [
    "# 예제) sort(reverse=True) : 소팅한 결과값을 내림차순으로 저장함\n",
    "\n",
    "a = [1, 2, 3, 9, 8, 7, 6, 5, 4]\n",
    "a.sort(reverse=True)\n",
    "print(a)"
   ]
  },
  {
   "cell_type": "code",
   "execution_count": null,
   "metadata": {},
   "outputs": [],
   "source": [
    "# 예제) reverse() : 요소의 순서를 뒤집어줌\n",
    "\n",
    "a = [1, 2, 3, 9, 8, 7, 6, 5, 4]\n",
    "a.reverse()\n",
    "print(a)"
   ]
  },
  {
   "cell_type": "code",
   "execution_count": null,
   "metadata": {},
   "outputs": [],
   "source": [
    "# 예제) sorted() : 소팅만 하고 값은 변하지 않음\n",
    "\n",
    "a = [1, 2, 3, 9, 8, 7, 6, 5, 4]\n",
    "print(sorted(a))"
   ]
  },
  {
   "cell_type": "code",
   "execution_count": null,
   "metadata": {},
   "outputs": [],
   "source": [
    "# 예제) sorted(reverse=True) : 소팅만 역순으로 하고하고 값은 변하지 않음\n",
    "\n",
    "a = [1, 2, 3, 9, 8, 7, 6, 5, 4]\n",
    "print(sorted(a,reverse=True))\n",
    "\n",
    "print(a)"
   ]
  },
  {
   "cell_type": "code",
   "execution_count": null,
   "metadata": {},
   "outputs": [],
   "source": [
    "# 예제) sort() : 오류 발생 예제\n",
    "\n",
    "e = [1, 2, 3, \"a\", \"b\", \"c\"]\n",
    "e.sort()\n",
    "\n",
    "print(a)"
   ]
  },
  {
   "cell_type": "code",
   "execution_count": null,
   "metadata": {},
   "outputs": [],
   "source": [
    "# 예제) sort() : 요소의 타입을 맞춘 후 소팅\n",
    "\n",
    "e = [\"1\", \"2\", \"3\", \"a\", \"b\", \"c\"]\n",
    "e.sort()\n",
    "\n",
    "print(e)"
   ]
  },
  {
   "cell_type": "markdown",
   "metadata": {},
   "source": [
    "# [실습7 : 18 ~ 19p]\n",
    "\n",
    "## 03. 튜플\n",
    "\n",
    "### 1) 불변 자료 집합"
   ]
  },
  {
   "cell_type": "markdown",
   "metadata": {},
   "source": [
    "* 튜플의 선언 및 생성"
   ]
  },
  {
   "cell_type": "code",
   "execution_count": null,
   "metadata": {},
   "outputs": [],
   "source": [
    "a = ()\n",
    "b = (\"yello\", \"red\", \"white\")\n",
    "c = (1, 2, 3, 4, 5)\n",
    "d = (1, 2, 3, \"yello\", 4)\n",
    "e = 1, 2, 3, 4, 5\n",
    "f = (1,)\n",
    "g = (1)"
   ]
  },
  {
   "cell_type": "markdown",
   "metadata": {},
   "source": [
    "* 튜플 값, 타입 출력"
   ]
  },
  {
   "cell_type": "code",
   "execution_count": null,
   "metadata": {},
   "outputs": [],
   "source": [
    "print(a)\n",
    "print(type(a))\n",
    "\n",
    "print(b)\n",
    "print(type(b))\n",
    "\n",
    "print(c)\n",
    "print(type(c))\n",
    "\n",
    "print(d)\n",
    "print(type(d))\n",
    "\n",
    "print(e)\n",
    "print(type(e))\n",
    "\n",
    "print(f)\n",
    "print(type(f))\n",
    "\n",
    "print(g)\n",
    "print(type(g))"
   ]
  },
  {
   "cell_type": "markdown",
   "metadata": {},
   "source": [
    "### 2) 튜플로 가능한 일"
   ]
  },
  {
   "cell_type": "code",
   "execution_count": null,
   "metadata": {},
   "outputs": [],
   "source": [
    "# 예제) 튜플 인덱싱 (두번째, 마지막 요소 각각 인덱싱 후 출력)\n",
    "\n",
    "a = (1, 2, 3, 4, 5, 6, 7, 8, 9, 10)\n",
    "\n",
    "print(a[1])\n",
    "print(a[-1])"
   ]
  },
  {
   "cell_type": "code",
   "execution_count": null,
   "metadata": {},
   "outputs": [],
   "source": [
    "# 예제) 튜플 슬라이싱 (두번째부터 5번째 요소까지 슬라이싱)\n",
    "\n",
    "print(a[1:5])"
   ]
  },
  {
   "cell_type": "code",
   "execution_count": null,
   "metadata": {},
   "outputs": [],
   "source": [
    "# 예제) 튜플 연산자 + : a (1,2,3), b(4,5,6) 더하기\n",
    "\n",
    "a = (1, 2, 3)\n",
    "b = (4, 5, 6)\n",
    "\n",
    "print(a + b)"
   ]
  },
  {
   "cell_type": "code",
   "execution_count": null,
   "metadata": {},
   "outputs": [],
   "source": [
    "# 예제) 튜플 연산자 * : a (1,2,3) * 2 : 2번 반복\n",
    "\n",
    "a = (1, 2, 3)\n",
    "print(a * 2)"
   ]
  },
  {
   "cell_type": "code",
   "execution_count": null,
   "metadata": {},
   "outputs": [],
   "source": [
    "# 예제) 여러 변수를 한번에 초기화 : nums에 1,2,3 튜플 생성 후\n",
    "\n",
    "nums = 1, 2, 3\n",
    "print(nums)"
   ]
  },
  {
   "cell_type": "code",
   "execution_count": null,
   "metadata": {},
   "outputs": [],
   "source": [
    "# 예제) 여러 변수를 한번에 초기화 : nums의 값을 a, b, c에 대입 후 각각 출력\n",
    "\n",
    "a, b, c = nums\n",
    "print(a)\n",
    "print(b)\n",
    "print(c)"
   ]
  },
  {
   "cell_type": "code",
   "execution_count": null,
   "metadata": {},
   "outputs": [],
   "source": [
    "# 예제) a와 b 값을 swap 하기 : a=1, b=2\n",
    "\n",
    "a = 1\n",
    "b = 2\n",
    "\n",
    "a, b = b, a\n",
    "\n",
    "print(a)\n",
    "print(b)"
   ]
  },
  {
   "cell_type": "code",
   "execution_count": null,
   "metadata": {},
   "outputs": [],
   "source": [
    "# 예제) 리턴 값을 여러개 반환\n",
    "\n",
    "def calc(a,b):\n",
    "    return a+b, a-b, a*b, a/b\n",
    "\n",
    "print(calc(6,2))\n",
    "\n",
    "a, b, c, d = calc(6,2)\n",
    "print(a)\n",
    "print(b)\n",
    "print(c)\n",
    "print(d)"
   ]
  },
  {
   "cell_type": "code",
   "execution_count": null,
   "metadata": {},
   "outputs": [],
   "source": [
    "# 튜플 사용 불가 (수정) -> 에러 발생\n",
    "\n",
    "a = (1, 2, 3)\n",
    "a[2] = 4"
   ]
  },
  {
   "cell_type": "code",
   "execution_count": null,
   "metadata": {},
   "outputs": [],
   "source": [
    "# 튜플 사용 불가 (삭제) -> 에러 발생\n",
    "\n",
    "a = (1, 2, 3)\n",
    "del a[2]"
   ]
  },
  {
   "cell_type": "markdown",
   "metadata": {},
   "source": [
    "# [실습8 : 20 ~ 21p]\n",
    "\n",
    "### 3) 튜플 메서드"
   ]
  },
  {
   "cell_type": "markdown",
   "metadata": {},
   "source": [
    "* 문자열의 검색 함수와 거의 유사함\n",
    "* index() : 특정 요소의 위치를 찾아 리턴하는 함수이며, 없을 경우 에러 발생\n",
    "* count() : 특정 요소값의 갯수를 리턴하는 함수\n",
    "* len() : 리스트 요소의 갯수를 리턴하는 내장 함수\n",
    "* min() : 리스트 최소값을 리턴하는 내장 함수\n",
    "* max() : 리스트 최대값을 리턴하는 내장 함수\n",
    "* in, not in : 요소의 포함여부를 확인하여 True, False를 리턴하는 연산자\n",
    "* sorted() : 원본 리스트는 그대로 두고 정렬된 새로운 리스트 리턴"
   ]
  },
  {
   "cell_type": "code",
   "execution_count": null,
   "metadata": {},
   "outputs": [],
   "source": [
    "# 예제) index() : 특정 요소의 위치값을 리턴 (\"c\" 찾기)\n",
    "\n",
    "a = (\"a\", \"b\", \"c\", \"d\", \"e\", \"f\", \"g\", \"h\", \"i\",\"a\", \"b\", \"c\")\n",
    "print(a.index(\"c\"))"
   ]
  },
  {
   "cell_type": "code",
   "execution_count": null,
   "metadata": {},
   "outputs": [],
   "source": [
    "# 예제) index() : 특정 요소의 위치값을 리턴 (\"z\" 찾기) - 오류 발생\n",
    "\n",
    "a = (\"a\", \"b\", \"c\", \"d\", \"e\", \"f\", \"g\", \"h\", \"i\",\"a\", \"b\", \"c\")\n",
    "print(a.index(\"z\"))"
   ]
  },
  {
   "cell_type": "code",
   "execution_count": null,
   "metadata": {},
   "outputs": [],
   "source": [
    "# 예제) index(\"찾고자하는 문자열\", 시작위치값)\n",
    "# 특정 요소의 위치값을 리턴 (5번째 요소 이후에 있는\"c\" 찾기)\n",
    "\n",
    "print(a.index(\"c\",4))"
   ]
  },
  {
   "cell_type": "code",
   "execution_count": null,
   "metadata": {},
   "outputs": [],
   "source": [
    "# 예제) count() : 인자값 포함 요소의 갯수 리턴\n",
    "\n",
    "print(a.count(\"b\"))"
   ]
  },
  {
   "cell_type": "code",
   "execution_count": null,
   "metadata": {},
   "outputs": [],
   "source": [
    "# 예제) len() : 리스트내 요소의 갯수 리턴\n",
    "\n",
    "print(len(a))"
   ]
  },
  {
   "cell_type": "code",
   "execution_count": null,
   "metadata": {},
   "outputs": [],
   "source": [
    "# 예제) min(), max() : 리스트내 최소값, 최대값\n",
    "\n",
    "print(min(a))\n",
    "print(max(a))"
   ]
  },
  {
   "cell_type": "code",
   "execution_count": null,
   "metadata": {},
   "outputs": [],
   "source": [
    "# 예제) in, not in : 리스트내 포함여부 확인하여 True, False 리턴\n",
    "\n",
    "print(\"d\" in a)\n",
    "print(\"d\" not in a)"
   ]
  },
  {
   "cell_type": "code",
   "execution_count": null,
   "metadata": {},
   "outputs": [],
   "source": [
    "# 예제) sorted(reverse=True) : 소팅만 역순으로 하고하고 값은 변하지 않음\n",
    "\n",
    "a = (1, 2, 3, 9, 8, 7, 6, 5, 4)\n",
    "print(sorted(a,reverse=True))\n",
    "\n",
    "print(a)"
   ]
  },
  {
   "cell_type": "markdown",
   "metadata": {},
   "source": [
    "### 4) 튜플을 사용하는 이유"
   ]
  },
  {
   "cell_type": "markdown",
   "metadata": {},
   "source": [
    "* tuple() : 리스트 등의 자료형을 튜플로 변환"
   ]
  },
  {
   "cell_type": "code",
   "execution_count": null,
   "metadata": {},
   "outputs": [],
   "source": [
    "a = [1, 2, 3, 4, 5]\n",
    "b = tuple(a)\n",
    "print(b)"
   ]
  },
  {
   "cell_type": "markdown",
   "metadata": {},
   "source": [
    "* list() : 튜플을 리스트로 변환"
   ]
  },
  {
   "cell_type": "code",
   "execution_count": null,
   "metadata": {},
   "outputs": [],
   "source": [
    "a = (1, 2, 3, 4, 5)\n",
    "b = list(a)\n",
    "print(b)"
   ]
  }
 ],
 "metadata": {
  "kernelspec": {
   "display_name": "Python 3 (ipykernel)",
   "language": "python",
   "name": "python3"
  },
  "language_info": {
   "codemirror_mode": {
    "name": "ipython",
    "version": 3
   },
   "file_extension": ".py",
   "mimetype": "text/x-python",
   "name": "python",
   "nbconvert_exporter": "python",
   "pygments_lexer": "ipython3",
   "version": "3.9.10"
  }
 },
 "nbformat": 4,
 "nbformat_minor": 2
}
