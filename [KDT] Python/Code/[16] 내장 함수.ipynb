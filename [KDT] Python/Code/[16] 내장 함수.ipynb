{
 "cells": [
  {
   "cell_type": "markdown",
   "id": "8aba414b",
   "metadata": {},
   "source": [
    "# 16. 파이썬 내장함수\n",
    "\n",
    "# [실습1 : 6p]"
   ]
  },
  {
   "cell_type": "markdown",
   "id": "eddd974c",
   "metadata": {},
   "source": [
    "* abs(x) : 입력받은 수의 절대값을 반환하는 함수"
   ]
  },
  {
   "cell_type": "code",
   "execution_count": null,
   "id": "d1795dfe",
   "metadata": {},
   "outputs": [],
   "source": [
    "# 예제) abs\n",
    "# 설명문) 1의 절대값 출력\n",
    "#         -3.5의 절대값 출력\n",
    "\n",
    "print(abs(1))\n",
    "\n",
    "print(abs(-3.5))"
   ]
  },
  {
   "cell_type": "markdown",
   "id": "3c2e7b34",
   "metadata": {},
   "source": [
    "* all(iterable)\n",
    "  * list, tuple의 자료형을 입력받음\n",
    "  * 자료형의 모든 요소가 참이면 True 반환\n",
    "  * 자료형의 요소 중 하나라도 거짓이면 False 반환"
   ]
  },
  {
   "cell_type": "code",
   "execution_count": null,
   "id": "bc6e0a8b",
   "metadata": {},
   "outputs": [],
   "source": [
    "# 설명문1) [1,2,3]의 값을 all함수의 인자값으로 전달하여 출력\n",
    "\n",
    "print(all([1, 2, 3]))\n",
    "print(all([True, True, True]))"
   ]
  },
  {
   "cell_type": "code",
   "execution_count": null,
   "id": "251f207d",
   "metadata": {},
   "outputs": [],
   "source": [
    "# 설명문2) [0,1,2,3]의 값을 all함수의 인자값으로 전달하여 출력\n",
    "\n",
    "print(all([0, 1, 2, 3]))\n",
    "print(all([False, True, True, True]))"
   ]
  },
  {
   "cell_type": "markdown",
   "id": "61475a33",
   "metadata": {},
   "source": [
    "* any(iterable)\n",
    "  * list, tuple의 자료형을 입력받음\n",
    "  * 자료형의 모든 요소가 거짓이면 False 반환\n",
    "  * 자료형의 요소 중 하나라도 참이면 True 반환"
   ]
  },
  {
   "cell_type": "code",
   "execution_count": null,
   "id": "6c7f40a8",
   "metadata": {},
   "outputs": [],
   "source": [
    "# 설명문1) [0, False, \"\"]의 값을 any함수의 인자값으로 전달하여 출력\n",
    "\n",
    "print(any([0, False, \"\"]))\n",
    "print(any([False, False, False]))"
   ]
  },
  {
   "cell_type": "code",
   "execution_count": null,
   "id": "c8c7296d",
   "metadata": {},
   "outputs": [],
   "source": [
    "# 설명문2) [0,1,2,3]의 값을 all함수의 인자값으로 전달하여 출력\n",
    "\n",
    "print(any([0, 1, 2, 3]))\n",
    "print(any([False, True, True, True]))"
   ]
  },
  {
   "cell_type": "markdown",
   "id": "471ca260",
   "metadata": {},
   "source": [
    "* chr(i) : 아스키코드(숫자)를 입력받아 해당하는 문자를 출력하는 함수"
   ]
  },
  {
   "cell_type": "code",
   "execution_count": null,
   "id": "e65739c8",
   "metadata": {},
   "outputs": [],
   "source": [
    "# 설명문) 아스키코드테이블 확인 : 아스키값 97 -> 'a'\n",
    "\n",
    "print(chr(97))"
   ]
  },
  {
   "cell_type": "markdown",
   "id": "b75e023c",
   "metadata": {},
   "source": [
    "* dir() : 객체가 가지고 있는 변수, 메서드를 리스트로 제공함"
   ]
  },
  {
   "cell_type": "code",
   "execution_count": null,
   "id": "16ed2e5f",
   "metadata": {},
   "outputs": [],
   "source": [
    "# 설명문1) [1, 2, 3] 리스트의 값을 dir함수의 인자값으로 전달하여 출력\n",
    "\n",
    "print(dir([1, 2, 3]))"
   ]
  },
  {
   "cell_type": "code",
   "execution_count": null,
   "id": "2315b767",
   "metadata": {},
   "outputs": [],
   "source": [
    "# 설명문2) {'1':'a'} 딕셔너리의 값을 dir함수의 인자값으로 전달하여 출력\n",
    "\n",
    "print(dir({'1':'a'}))"
   ]
  },
  {
   "cell_type": "markdown",
   "id": "90716dbc",
   "metadata": {},
   "source": [
    "* divmod(a, b) : 2개의 숫자를 입력받아 a를 b로 나눈 몫과 나머지를 튜플 형태로 반환"
   ]
  },
  {
   "cell_type": "code",
   "execution_count": null,
   "id": "c43d8fe4",
   "metadata": {},
   "outputs": [],
   "source": [
    "# divmod 예제)\n",
    "# 설명문1) divmod 함수를 사용하여 5를 2로 나눈 몫과 나머지를 출력\n",
    "\n",
    "print(divmod(5,2))\n",
    "\n",
    "# 몫과 나머지 구하는 연산자를 사용하여 몫과 나머지 각각 출력\n",
    "print(5 // 2)\n",
    "print(5 % 2)"
   ]
  },
  {
   "cell_type": "markdown",
   "id": "b912d752",
   "metadata": {},
   "source": [
    "* enumerate(iteralbe) : \"열거하다\"\n",
    "  * 순서가 있는 자료형(리스트, 튜플, 문자열)을 입력받음\n",
    "  * 인덱스 값을 포함하는 enumerate 객체를 반환함\n",
    "  * 일반적으로 for문과 함께 자주 사용함"
   ]
  },
  {
   "cell_type": "code",
   "execution_count": null,
   "id": "d39d0509",
   "metadata": {},
   "outputs": [],
   "source": [
    "# enumerate 예제)\n",
    "# 설명문1) ['a', 'b', 'c'] 리스트를 enumerate 함수를 사용하여 결과 출력\n",
    "\n",
    "print(enumerate(['a', 'b', 'c']))\n",
    "\n",
    "# 설명문2) for 문을 사용하여 인덱스와 값을 출력\n",
    "\n",
    "for i, name in enumerate(['a', 'b', 'c']):\n",
    "    print(i, name)"
   ]
  },
  {
   "cell_type": "markdown",
   "id": "9604c1e0",
   "metadata": {},
   "source": [
    "# [실습 2 : 7p]"
   ]
  },
  {
   "cell_type": "markdown",
   "id": "1f27f27a",
   "metadata": {},
   "source": [
    "* eval(expression)\n",
    "  * 실행 가능한 문자열(1+2, \"hi\" + \"a\")을 입력받아\n",
    "  * 문자열을 실행한 결과값을 반환하는 함수"
   ]
  },
  {
   "cell_type": "code",
   "execution_count": null,
   "id": "da4aa923",
   "metadata": {},
   "outputs": [],
   "source": [
    "# 설명문1) eval함수를 이용하여  문자열 '1+2' 를 입력받아 수행한 결과값 출력\n",
    "\n",
    "print(eval('1+2'))"
   ]
  },
  {
   "cell_type": "code",
   "execution_count": null,
   "id": "fdd36096",
   "metadata": {},
   "outputs": [],
   "source": [
    "# 설명문2) eval함수를 이용하여 문자열 'divmod(4,3)' 을 입력받아 수행한 결과값 출력\n",
    "\n",
    "print(eval('divmod(4,3)'))"
   ]
  },
  {
   "cell_type": "code",
   "execution_count": null,
   "id": "8404a916",
   "metadata": {},
   "outputs": [],
   "source": [
    "# 설명문3) 함수명과 인자값을 입력받아 문자열로 만들기\n",
    "\n",
    "a = input(\"함수명: \")\n",
    "b = input(\"숫자 a 값 : \")\n",
    "c = input(\"숫자 b 값 : \")\n",
    "\n",
    "d = a + \"(\" + b + \", \" + c + \")\"\n",
    "\n",
    "print(d)\n",
    "\n",
    "print(eval(d))"
   ]
  },
  {
   "cell_type": "markdown",
   "id": "5cc61117",
   "metadata": {},
   "source": [
    "* filter(func, iterable)\n",
    "  * 두개의 인자를 받음(첫번째 인자 : 함수 이름, 두번째 인자 : 반복 가능한 자료형)\n",
    "  * 두번째 인자인 반복 가능한 자료형 요소가 첫번째 인수인 함수에 입력되고\n",
    "  * 반환 값이 참인 것만 걸러 내서 반환함"
   ]
  },
  {
   "cell_type": "code",
   "execution_count": null,
   "id": "e93c6346",
   "metadata": {},
   "outputs": [],
   "source": [
    "# 예제) filter와 동일한 역할을 하는 예제\n",
    "\n",
    "# 설명문1) positive 함수 생성 (매개변수 1개)\n",
    "#         result 변수에는 빈 리스트 생성\n",
    "#         for 문 사용하여 매개변수의 요소들을 반복변수에 대임\n",
    "#         반복변수값이 0보다 크면 result 리스트에 추가(append)\n",
    "#         result 반환\n",
    "\n",
    "def positive(values):\n",
    "    result = []\n",
    "    for value in values:\n",
    "        if value > 0:\n",
    "            result.append(value)\n",
    "            \n",
    "    return result\n",
    "\n",
    "# 설명문2) positive 함수에 [1, 2, -3, 4, -5, 6, 7, -8] 대입하여 호출하여 출력\n",
    "\n",
    "print(positive([1, 2, -3, 4, -5, 6, 7, -8]))"
   ]
  },
  {
   "cell_type": "code",
   "execution_count": null,
   "id": "66d6c819",
   "metadata": {},
   "outputs": [],
   "source": [
    "# 예제) filter를 활용한 예제\n",
    "\n",
    "# 설명문2) positive 함수 생성 (매개변수 1개)\n",
    "#         매개변수 값이 양수이면 True 반환\n",
    "\n",
    "def positive(value):\n",
    "    return value > 0\n",
    "\n",
    "#  설명문2) filter함수 활용하여 첫번째 인자에 positive 함수를\n",
    "#          두번째 인자에 [1, 2, -3, 4, -5, 6, 7, -8] 대입하여 출력\n",
    "#          filter 객체를 list로 변환 후 출력\n",
    "\n",
    "print(filter(positive, [1, 2, -3, 4, -5, 6, 7, -8]))\n",
    "print(list(filter(positive, [1, 2, -3, 4, -5, 6, 7, -8])))"
   ]
  },
  {
   "cell_type": "code",
   "execution_count": null,
   "id": "6b6ac344",
   "metadata": {},
   "outputs": [],
   "source": [
    "# 예제) filter를 활용한 예제 (lambda 포함)\n",
    "# 설명문) 첫 번째 인자에 positive 함수 대신 lambda 함수 활용\n",
    "\n",
    "print(list(filter(lambda x: x > 0, [1, 2, -3, 4, -5, 6, 7, -8])))"
   ]
  },
  {
   "cell_type": "markdown",
   "id": "00dfa1dc",
   "metadata": {},
   "source": [
    "* id(object) : 객체를 입력받아 객체의 고유 주소 값(레퍼런스)을 돌려주는 함수"
   ]
  },
  {
   "cell_type": "code",
   "execution_count": null,
   "id": "6dfa7940",
   "metadata": {},
   "outputs": [],
   "source": [
    "# 설명문) 변수 a에 3의 값 대입\n",
    "#         변수 b에 a의 값 대입\n",
    "#         a, b id 값 확인\n",
    "#         a에 10의 값 대입 후 a, b id 값 확인\n",
    "\n",
    "a = 3\n",
    "b = a\n",
    "print(id(a))\n",
    "print(id(b))\n",
    "\n",
    "a = 10\n",
    "print(id(a))\n",
    "print(id(b))"
   ]
  },
  {
   "cell_type": "markdown",
   "id": "987e4992",
   "metadata": {},
   "source": [
    "* int(x) : 문자열 행태의 숫자나 소수점이 있는 숫자 등을 정수로 반환하는 함수"
   ]
  },
  {
   "cell_type": "code",
   "execution_count": null,
   "id": "f10ef798",
   "metadata": {},
   "outputs": [],
   "source": [
    "# 예제) int 활용한 예제\n",
    "# 설명문) 문자열 '3'을 정수로 출력\n",
    "#         숫자 3.14를 정수로 출력\n",
    "#         숫자 3을 정수로 출력\n",
    "\n",
    "print(int('3'))\n",
    "print(int(3.14))\n",
    "print(int(10))"
   ]
  },
  {
   "cell_type": "markdown",
   "id": "fc496401",
   "metadata": {},
   "source": [
    "* isinstance(object, class)\n",
    "  * 첫 번째 인수는 인스턴스, 두 번째 인수는 클래스명\n",
    "  * 인스턴스가 클래스의 인스턴스인 경우 True, 아닌 경우 False 반환    "
   ]
  },
  {
   "cell_type": "code",
   "execution_count": null,
   "id": "89acf24c",
   "metadata": {},
   "outputs": [],
   "source": [
    "# 예제) isinstance 예제 : True\n",
    "# 설명문1) 아무 일도 하지 않는 Person class 생성\n",
    "#         Person class로부터 인스턴스 p 생성 \n",
    "#         p가 Person의 인스턴스인지 확인\n",
    "\n",
    "class Person:\n",
    "    pass\n",
    "\n",
    "p = Person()\n",
    "print(isinstance(p, Person))"
   ]
  },
  {
   "cell_type": "code",
   "execution_count": null,
   "id": "6ccc5716",
   "metadata": {},
   "outputs": [],
   "source": [
    "# 예제) isinstance 예제 : False\n",
    "# 설명문2) a에 10의 값 대입\n",
    "#          a가 Person의 인스턴스인지 확인\n",
    "\n",
    "a = 10\n",
    "print(isinstance(a, Person))"
   ]
  },
  {
   "cell_type": "markdown",
   "id": "c86d2096",
   "metadata": {},
   "source": [
    "* len(s) : 입력값 s의 길이(요소의 전체 갯수)를 반환하는 함수"
   ]
  },
  {
   "cell_type": "code",
   "execution_count": null,
   "id": "0332ed00",
   "metadata": {},
   "outputs": [],
   "source": [
    "# 예제) len 예제 : 문자열 길이, 요소 갯수\n",
    "# 설명문) \"hello\"의 길이 출력\n",
    "#         리스트 [1, 2, 3, 4, 5]의 요소 갯수 출력\n",
    "\n",
    "print(len(\"hello\"))\n",
    "print(len([1, 2, 3, 4, 5]))"
   ]
  },
  {
   "cell_type": "markdown",
   "id": "5dbd5658",
   "metadata": {},
   "source": [
    "# [실습 3 : 8p]"
   ]
  },
  {
   "cell_type": "markdown",
   "id": "26bb1591",
   "metadata": {},
   "source": [
    "* list(s) : 반복 가능한 자료형 s를 받아 리스트로 반환하는 함수"
   ]
  },
  {
   "cell_type": "code",
   "execution_count": null,
   "id": "15b4bb3d",
   "metadata": {},
   "outputs": [],
   "source": [
    "# 설명문) \"hello\"를 리스트로 반환하여 출력\n",
    "#         튜플 (1, 2, 3, 4, 5)를 리스트로 반환하여 출력\n",
    "#         list함수 활용하여 빈 리스트 a 생성\n",
    "#         a값 출력\n",
    "\n",
    "print(list(\"hello\"))\n",
    "print(list((1, 2, 3, 4, 5)))\n",
    "a = list()\n",
    "print(a)"
   ]
  },
  {
   "cell_type": "markdown",
   "id": "3eaa2774",
   "metadata": {},
   "source": [
    "* map(f, iterable)\n",
    "  * 함수(f), 반복 가능한 iterable 자료형 인자로 받음\n",
    "  * 입력받은 자료형의 각 요소를 순서대로 함수 f에 대입하여 수행하고 각 결과를 묶어서 반환    "
   ]
  },
  {
   "cell_type": "code",
   "execution_count": null,
   "id": "ce9d7fd9",
   "metadata": {},
   "outputs": [],
   "source": [
    "# 예제) map 예제 : map 미사용(리스트 요소에 2를 곱한 결과를 리스트로 저장)\n",
    "# 설명문1) two_times 함수 생성\n",
    "#         result 변수에는 빈 리스트 생성\n",
    "#         for 문 사용하여 매개변수의 요소들을 반복변수에 대임\n",
    "#         반복변수값에 2를 곱한 값을 result 리스트에 추가(append)\n",
    "#         result 반환\n",
    "\n",
    "def two_times(values):\n",
    "    result = []\n",
    "    for value in values:\n",
    "        result.append(value * 2)\n",
    "    return result\n",
    "\n",
    "# 설명문2) two_times 함수에 [1, 2, -3, 4, -5, 6, 7, -8] 대입하여 호출하여 출력\n",
    "\n",
    "print(two_times([1, 2, -3, 4, -5, 6, 7, -8]))"
   ]
  },
  {
   "cell_type": "code",
   "execution_count": null,
   "id": "3822ecad",
   "metadata": {},
   "outputs": [],
   "source": [
    "# 예제) map을 활용한 예제\n",
    "# 설명문1) two_times 함수 생성 (매개변수 1개)\n",
    "#         매개변수 값 * 2 를 반환\n",
    "\n",
    "def two_times(value):\n",
    "    return value * 2\n",
    "\n",
    "# 설명문2) map함수 활용하여 첫번째 인자에 two_times 함수를\n",
    "#         두번째 인자에 [1, 2, -3, 4, -5, 6, 7, -8] 대입하여 출력\n",
    "#         map 객체를 list로 변환 후 출력\n",
    "\n",
    "print(map(two_times, [1, 2, -3, 4, -5, 6, 7, -8]))\n",
    "print(list(map(two_times, [1, 2, -3, 4, -5, 6, 7, -8])))"
   ]
  },
  {
   "cell_type": "code",
   "execution_count": null,
   "id": "dcbfd29f",
   "metadata": {},
   "outputs": [],
   "source": [
    "# 예제) map 활용한 예제 (lambda 포함)\n",
    "# 설명문) 첫 번째 인자에 two_times 함수 대신 lambda 함수 활용\n",
    "\n",
    "print(list(map(lambda x: x * 2, [1, 2, -3, 4, -5, 6, 7, -8])))"
   ]
  },
  {
   "cell_type": "markdown",
   "id": "f641516b",
   "metadata": {},
   "source": [
    "* max(iterable) : 인수로 반복 가능한 자료형을 입력받아 최대값 반환하는 함수"
   ]
  },
  {
   "cell_type": "code",
   "execution_count": null,
   "id": "2b0ae221",
   "metadata": {},
   "outputs": [],
   "source": [
    "# 설명문) [1, 2, -3, 4, -5, 6, 7, -8] 의 최대값 출력\n",
    "#         \"hello\"의 최대값 출력\n",
    "\n",
    "print(max([1, 2, -3, 4, -5, 6, 7, -8] ))\n",
    "print(max(\"hello\"))"
   ]
  },
  {
   "cell_type": "markdown",
   "id": "02fa2d00",
   "metadata": {},
   "source": [
    "* min(iterable) : 인수로 반복 가능한 자료형을 입력받아 최소값 반환하는 함수"
   ]
  },
  {
   "cell_type": "code",
   "execution_count": null,
   "id": "0419070f",
   "metadata": {},
   "outputs": [],
   "source": [
    "# 설명문) [1, 2, -3, 4, -5, 6, 7, -8] 의 최소값 출력\n",
    "#         \"hello\"의 최소값 출력\n",
    "\n",
    "print(min([1, 2, -3, 4, -5, 6, 7, -8] ))\n",
    "print(min(\"hello\"))"
   ]
  },
  {
   "cell_type": "markdown",
   "id": "ece4d2fa",
   "metadata": {},
   "source": [
    "* ord(c) : 문자의 유니코드 값을 반환하는 함수 (chr과 대응되는 함수)"
   ]
  },
  {
   "cell_type": "code",
   "execution_count": null,
   "id": "230c26d4",
   "metadata": {},
   "outputs": [],
   "source": [
    "# 예제) ord 활용한 예제\n",
    "# 설명문) 'a'의 유니코드 값 출력\n",
    "#         '가'의 유니코드 값 출력\n",
    "\n",
    "print(ord('a'))\n",
    "print(ord('가'))"
   ]
  },
  {
   "cell_type": "markdown",
   "id": "f080f733",
   "metadata": {},
   "source": [
    "* pow(x, y) : x의 y 제곱한 결과값을 반환하는 함수"
   ]
  },
  {
   "cell_type": "code",
   "execution_count": null,
   "id": "6d7f0b2a",
   "metadata": {},
   "outputs": [],
   "source": [
    "# 예제) pow 활용한 예제\n",
    "# 설명문) 2 * 2 * 2 * 2 를 pow 함수 활용하여 출력\n",
    "#        ** 연산자를 활용하여 2의 4제곱 출력\n",
    "\n",
    "print(pow(2,4))\n",
    "print(2**4)"
   ]
  },
  {
   "cell_type": "markdown",
   "id": "2aa0afec",
   "metadata": {},
   "source": [
    "# [실습 4 : 9p]"
   ]
  },
  {
   "cell_type": "markdown",
   "id": "bf92914f",
   "metadata": {},
   "source": [
    "* range([start,] stop [,step]) 함수\n",
    "  * 입력받은 숫자에 해당하는 범위 값을 반복 가능한 객체로 반환\n",
    "  * for문과 함께 자주 사용하는 함수\n",
    "  * 인자가 1개인 경우 : 0부터 시작하여 인자를 포함하지 않는 숫자까지의 범위를 반환\n",
    "  * 인자가 2개인 경우 : 앞 인자를 포함하는 숫자부터 뒤 인자를 포함하지 않는 숫자까지의 범위를 반환\n",
    "  * 인자가 3개인 경우 : 첫번째 인자랄 포함하는 숫자부터 두번째 인자를 포함하지 않는 숫자까지의 범위를 가짐   \n",
    "   &nbsp;&nbsp;&nbsp;&nbsp;&nbsp;&nbsp;&nbsp;&nbsp;&nbsp;&nbsp;&nbsp;&nbsp;&nbsp;&nbsp;&nbsp;&nbsp;&nbsp;&nbsp;&nbsp;&nbsp;&nbsp;&nbsp;&nbsp;&nbsp;&nbsp;&nbsp;&nbsp;&nbsp;&nbsp;&nbsp;&nbsp;(세번째 인자는 간격을 의미)"
   ]
  },
  {
   "cell_type": "code",
   "execution_count": null,
   "id": "33fbc749",
   "metadata": {},
   "outputs": [],
   "source": [
    "# 예제) range 활용한 예제 (stop 인자만 포함)\n",
    "# 설명문) 인자 1개만을 활용하여 0 ~ 4 까지의 숫자를 리스트로 출력\n",
    "\n",
    "print(list(range(5)))"
   ]
  },
  {
   "cell_type": "code",
   "execution_count": null,
   "id": "5dd24aaa",
   "metadata": {},
   "outputs": [],
   "source": [
    "# 예제) range 활용한 예제 (start, stop 인자만 포함)\n",
    "# 설명문) 인자 2개를 활용하여 5 ~ 10 까지의 숫자를 리스트로 출력\n",
    "\n",
    "print(list(range(5, 11)))"
   ]
  },
  {
   "cell_type": "code",
   "execution_count": null,
   "id": "cea544e4",
   "metadata": {},
   "outputs": [],
   "source": [
    "# 예제) range 활용한 예제 (start, stop, step 인자 모두 포함)\n",
    "# 설명문) 인자 2개를 활용하여 1 ~ 10 까지의 숫자를 2의 간격으로 리스트로 출력\n",
    "\n",
    "print(list(range(1, 11, 2)))"
   ]
  },
  {
   "cell_type": "code",
   "execution_count": null,
   "id": "c204de19",
   "metadata": {},
   "outputs": [],
   "source": [
    "# 예제) range 활용한 예제 (start, stop, step 인자 모두 포함 포함)\n",
    "# 설명문) 인자 2개를 활용하여  1 ~ -9 까지의 숫자를 1의 간격으로 리스트로 출력\n",
    "\n",
    "print(list(range(1, -10, -1)))"
   ]
  },
  {
   "cell_type": "markdown",
   "id": "4b786f75",
   "metadata": {},
   "source": [
    "* round(number, [ndigits]) : 숫자를 입력받아 반올림해 주는 함수"
   ]
  },
  {
   "cell_type": "code",
   "execution_count": null,
   "id": "dc6ce873",
   "metadata": {},
   "outputs": [],
   "source": [
    "# 예제) round 예제\n",
    "# 설명문1) 하나의 인자로 5.56 반올림하여 출력\n",
    "\n",
    "print(round(5.56))"
   ]
  },
  {
   "cell_type": "code",
   "execution_count": null,
   "id": "aab99b89",
   "metadata": {},
   "outputs": [],
   "source": [
    "# 설명문2) 소숫점 2째자리에서 반올림 : 소숫점 첫째자리까지 표현하여 출력\n",
    "\n",
    "print(round(5.56, 1))"
   ]
  },
  {
   "cell_type": "markdown",
   "id": "5bee28fe",
   "metadata": {},
   "source": [
    "* sorted(iterable) : 입력값을 정렬한 후 그 결과를 리스트로 반환, 값 변화 없음"
   ]
  },
  {
   "cell_type": "code",
   "execution_count": null,
   "id": "e67286d5",
   "metadata": {},
   "outputs": [],
   "source": [
    "# 설명문1) 1, 3, 2 의 요소를 갖는 리스트를 sorted 함수를 이용해 정렬하여 출력\n",
    "\n",
    "print(sorted([1, 3, 2]))"
   ]
  },
  {
   "cell_type": "code",
   "execution_count": null,
   "id": "951be933",
   "metadata": {},
   "outputs": [],
   "source": [
    "# 설명문2) \"hello\"를 sorted 함수를 이용해 정렬하여 출력\n",
    "\n",
    "print(sorted(\"hello\"))"
   ]
  },
  {
   "cell_type": "markdown",
   "id": "190a6efc",
   "metadata": {},
   "source": [
    "* str(object) : 문자열 형태로 객체를 변환하는 함수"
   ]
  },
  {
   "cell_type": "code",
   "execution_count": null,
   "id": "8bc5533b",
   "metadata": {},
   "outputs": [],
   "source": [
    "# 설명문1) 숫자 3을 문자열로 변환하여 출력하고, type 확인\n",
    "\n",
    "print(str(3))\n",
    "print(type(str(3)))"
   ]
  },
  {
   "cell_type": "code",
   "execution_count": null,
   "id": "b6ac01e4",
   "metadata": {},
   "outputs": [],
   "source": [
    "# 설명문2) 리스트 1, 2, 3 을 문자열로 변환하여 출력하고, type 확인\n",
    "\n",
    "print(str([1, 2, 3]))\n",
    "print(type(str([1, 2, 3])))\n",
    "str([1, 2, 3])"
   ]
  },
  {
   "cell_type": "markdown",
   "id": "17a0f8da",
   "metadata": {},
   "source": [
    "* sum(iterable) : 입력받은 리스트나 튜플의 모든 요소의 합을 반환하는 함수"
   ]
  },
  {
   "cell_type": "code",
   "execution_count": null,
   "id": "498ede0f",
   "metadata": {},
   "outputs": [],
   "source": [
    "# 예제) sum 예제\n",
    "# 설명문) 1, 2, 3 의 값을 갖는 리스트 요소의 합 출력하기\n",
    "#         4, 5, 6 의 값을 갖는 튜플 요소의 합 출력하기\n",
    "#         7, 8, 9 의 값을 갖는 집합 요소의 합 출력하기\n",
    "\n",
    "print(sum([1, 2, 3]))\n",
    "print(sum((4, 5, 6)))\n",
    "print(sum({7, 8, 9}))"
   ]
  },
  {
   "cell_type": "markdown",
   "id": "f1a7ac61",
   "metadata": {},
   "source": [
    "* tuple(iteralble) : 반복 가능한 자료형을 입력받아 튜플 형태로 전환하는 함수"
   ]
  },
  {
   "cell_type": "code",
   "execution_count": null,
   "id": "2fec163c",
   "metadata": {},
   "outputs": [],
   "source": [
    "# 예제) tuple 예제\n",
    "# 설명문) 1, 2, 3 의 값을 갖는 리스트를 튜플로 변경하여 출력하기\n",
    "#         \"hello\"를 튜플로 변경하여 출력하기\n",
    "\n",
    "print(tuple([1, 2, 3]))\n",
    "print(tuple(\"hello\"))"
   ]
  },
  {
   "cell_type": "markdown",
   "id": "0ed4b80d",
   "metadata": {},
   "source": [
    "* zip(iterable) : 동일한 갯수로 이루어진 자료형을 묶어 주는 역할을 하는 함수"
   ]
  },
  {
   "cell_type": "code",
   "execution_count": null,
   "id": "615380f8",
   "metadata": {},
   "outputs": [],
   "source": [
    "# 설명문1) [1, 2, 3], [4, 5, 6]을 zip 함수를 이용하여 list로 변환하여 출력\n",
    "\n",
    "print(list(zip([1, 2, 3], [4, 5, 6])))"
   ]
  },
  {
   "cell_type": "code",
   "execution_count": null,
   "id": "bba491f0",
   "metadata": {},
   "outputs": [],
   "source": [
    "# 설명문2) [1, 2, 3], [4, 5, 6], [7, 8, 9]를 zip 함수를 이용하여 list로 변환하여 출력\n",
    "\n",
    "print(list(zip([1, 2, 3], [4, 5, 6], [7, 8, 9])))"
   ]
  },
  {
   "cell_type": "code",
   "execution_count": null,
   "id": "9474a9e8",
   "metadata": {},
   "outputs": [],
   "source": [
    "# 설명문3) 'abc\", \"def\"를 zip 함수를 이용하여 list로 변환하여 출력\n",
    "\n",
    "print(list(zip(\"abc\", \"def\")))"
   ]
  }
 ],
 "metadata": {
  "kernelspec": {
   "display_name": "Python 3 (ipykernel)",
   "language": "python",
   "name": "python3"
  },
  "language_info": {
   "codemirror_mode": {
    "name": "ipython",
    "version": 3
   },
   "file_extension": ".py",
   "mimetype": "text/x-python",
   "name": "python",
   "nbconvert_exporter": "python",
   "pygments_lexer": "ipython3",
   "version": "3.9.10"
  }
 },
 "nbformat": 4,
 "nbformat_minor": 5
}
