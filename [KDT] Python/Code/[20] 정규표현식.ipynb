{
 "cells": [
  {
   "cell_type": "markdown",
   "metadata": {},
   "source": [
    "# [실습 1 : 5 ~ 10p]\n",
    "\n",
    "\n",
    "## 1. 정규표현식 모듈 함수"
   ]
  },
  {
   "cell_type": "code",
   "execution_count": null,
   "metadata": {},
   "outputs": [],
   "source": [
    "import re"
   ]
  },
  {
   "cell_type": "markdown",
   "metadata": {},
   "source": [
    "### 1) search & 메타문자"
   ]
  },
  {
   "cell_type": "markdown",
   "metadata": {},
   "source": [
    "* . : 1개문자 대체(\\n 제외)"
   ]
  },
  {
   "cell_type": "code",
   "execution_count": null,
   "metadata": {},
   "outputs": [],
   "source": [
    "# 매치되는 경우\n",
    "print(re.search(\"app.e\", \"orange apple banana\"))\n",
    "\n",
    "# 매치되지 않는 경우\n",
    "print(re.search(\"app.e\", \"orange banana\"))"
   ]
  },
  {
   "cell_type": "markdown",
   "metadata": {},
   "source": [
    "* ^ : 문자열 시작"
   ]
  },
  {
   "cell_type": "code",
   "execution_count": null,
   "metadata": {},
   "outputs": [],
   "source": [
    "print(re.search(\"^ora\", \"orange apple banana\"))"
   ]
  },
  {
   "cell_type": "markdown",
   "metadata": {},
   "source": [
    "* $ : 문자열 종료"
   ]
  },
  {
   "cell_type": "code",
   "execution_count": null,
   "metadata": {},
   "outputs": [],
   "source": [
    "print(re.search(\"ana$\", \"orange apple banana\"))"
   ]
  },
  {
   "cell_type": "markdown",
   "metadata": {},
   "source": [
    "* [] 문자 집합 표현"
   ]
  },
  {
   "cell_type": "code",
   "execution_count": null,
   "metadata": {},
   "outputs": [],
   "source": [
    "# 특정문자 포함\n",
    "print(re.search(\"app[jklmn]e\", \"orange apple banana\"))\n",
    "\n",
    "# 알파벳 소문자 포함\n",
    "print(re.search(\"app[a-z]e\", \"orange apple banana\"))\n",
    "\n",
    "# 알파벳 대문자 포함\n",
    "print(re.search(\"app[A-Z]e\", \"orange apple banana\"))\n",
    "\n",
    "# 알파벳 포함\n",
    "print(re.search(\"app[A-Za-z]e\", \"orange apple banana\"))\n",
    "\n",
    "# 숫자 포함\n",
    "print(re.search(\"[0-9][0-9]th\", \"apple 30th\"))\n",
    "print(re.search(\"[0-9]*th\", \"apple 30th\"))\n",
    "\n",
    "# [^] not의 의미\n",
    "print(re.search(\"[^a-z]*th\", \"apple 30th\"))"
   ]
  },
  {
   "cell_type": "markdown",
   "metadata": {},
   "source": [
    "* | : OR과 같은 역할"
   ]
  },
  {
   "cell_type": "code",
   "execution_count": null,
   "metadata": {},
   "outputs": [],
   "source": [
    "print(re.search(\"app.e | aple\", \"orange apple banana\"))"
   ]
  },
  {
   "cell_type": "markdown",
   "metadata": {},
   "source": [
    "* () : 괄호안 정규식을 그룹으로 만듬"
   ]
  },
  {
   "cell_type": "code",
   "execution_count": null,
   "metadata": {},
   "outputs": [],
   "source": [
    "print(re.search(\"(\\d{3})-(\\d{4})-(\\d{4})\",\"phone number : 010-1111-2222\"))"
   ]
  },
  {
   "cell_type": "markdown",
   "metadata": {},
   "source": [
    "* \\* : 문자가 0회 이상 반복"
   ]
  },
  {
   "cell_type": "code",
   "execution_count": null,
   "metadata": {},
   "outputs": [],
   "source": [
    "# p* : p가 없거나 ,1개 이상인 경우 전체\n",
    "print(re.search(\"ap*le\", \"orange apple banana\"))\n",
    "\n",
    "# a* : a가 없어도 매칭됨\n",
    "print(re.search(\"appa*le\", \"orange apple banana\"))"
   ]
  },
  {
   "cell_type": "markdown",
   "metadata": {},
   "source": [
    "* \\+ : 문자가 1회 이상 반복"
   ]
  },
  {
   "cell_type": "code",
   "execution_count": null,
   "metadata": {},
   "outputs": [],
   "source": [
    "# p+ : p가 1개 이상인 경우 전체\n",
    "print(re.search(\"ap*le\", \"orange apple banana\"))\n",
    "\n",
    "# a+ : a가 없는 경우 매칭 안됨\n",
    "print(re.search(\"appa+le\", \"orange apple banana\"))"
   ]
  },
  {
   "cell_type": "markdown",
   "metadata": {},
   "source": [
    "* ? : 문자가 0회 또는 1회 반복"
   ]
  },
  {
   "cell_type": "code",
   "execution_count": null,
   "metadata": {},
   "outputs": [],
   "source": [
    "# p가 1개 있는 경우 매칭\n",
    "print(re.search(\"app?le\", \"orange apple banana\"))\n",
    "\n",
    "# a가 없는 경우 매칭\n",
    "print(re.search(\"appa?le\", \"orange apple banana\"))"
   ]
  },
  {
   "cell_type": "markdown",
   "metadata": {},
   "source": [
    "* {m} : 문자가 m회 반복"
   ]
  },
  {
   "cell_type": "code",
   "execution_count": null,
   "metadata": {},
   "outputs": [],
   "source": [
    "# {2} : 2번인 경우 매칭됨\n",
    "print(re.search(\"ap{2}le\", \"orange apple banana\"))\n",
    "\n",
    "# {3} 3번인 경우 매칭 안됨\n",
    "print(re.search(\"ap{3}le\", \"orange apple banana\"))"
   ]
  },
  {
   "cell_type": "markdown",
   "metadata": {},
   "source": [
    "* {m, n} 문자가 m회부터 n회까지 반복"
   ]
  },
  {
   "cell_type": "code",
   "execution_count": null,
   "metadata": {},
   "outputs": [],
   "source": [
    "# {1,2} : 1번 또는 2번인 경우 매칭됨\n",
    "print(re.search(\"ap{1,2}le\", \"orange apple banana\"))"
   ]
  },
  {
   "cell_type": "markdown",
   "metadata": {},
   "source": [
    "* {m,} : 문자가 m회부터 무한 반복"
   ]
  },
  {
   "cell_type": "code",
   "execution_count": null,
   "metadata": {},
   "outputs": [],
   "source": [
    "# {1,} : 1번이상인 경우 매칭됨\n",
    "print(re.search(\"ap{1,}le\", \"orange apple banana\"))"
   ]
  },
  {
   "cell_type": "markdown",
   "metadata": {},
   "source": [
    "* \\w : 숫자, 밑줄 포함 모든 언어의 표현 가능 문자"
   ]
  },
  {
   "cell_type": "code",
   "execution_count": null,
   "metadata": {},
   "outputs": [],
   "source": [
    "print(re.search(\"a\\w{3}e\", \"orange apple banana\"))"
   ]
  },
  {
   "cell_type": "markdown",
   "metadata": {},
   "source": [
    "* \\d : [0-9]를 포함하는 모든 숫자"
   ]
  },
  {
   "cell_type": "code",
   "execution_count": null,
   "metadata": {},
   "outputs": [],
   "source": [
    "print(re.search(\"\\d{3}-\\d{4}-\\d{4}\", \"phone number : 010-1111-2222\"))"
   ]
  },
  {
   "cell_type": "markdown",
   "metadata": {},
   "source": [
    "* \\s : 공백 문자(space) 포함 매칭"
   ]
  },
  {
   "cell_type": "code",
   "execution_count": null,
   "metadata": {},
   "outputs": [],
   "source": [
    "print(re.search(\"\\sapple\\s\", \"orange apple banana\"))"
   ]
  },
  {
   "cell_type": "markdown",
   "metadata": {},
   "source": [
    "* \\b : 단어의 시작과 끝의 빈 공백(blank), 공백문자 제외 매칭"
   ]
  },
  {
   "cell_type": "code",
   "execution_count": null,
   "metadata": {},
   "outputs": [],
   "source": [
    "# r 을 문자열 앞에 반드시 붙여줘야 함\n",
    "print(re.search(r\"\\bapple\\b\", \"orange apple banana\"))"
   ]
  },
  {
   "cell_type": "markdown",
   "metadata": {},
   "source": [
    "* \\\\\\ 역슬래시 문자 자체를 의미"
   ]
  },
  {
   "cell_type": "code",
   "execution_count": null,
   "metadata": {},
   "outputs": [],
   "source": [
    "# r 을 문자열 앞에 반드시 붙여줘야 함\n",
    "print(re.search(r\"\\\\python\\\\\", \"c:\\python\\sample\"))"
   ]
  },
  {
   "cell_type": "markdown",
   "metadata": {},
   "source": [
    "### 2) match"
   ]
  },
  {
   "cell_type": "code",
   "execution_count": null,
   "metadata": {},
   "outputs": [],
   "source": [
    "r = re.match(\"app.e\", \"apple orange banana\")\n",
    "print(r)\n",
    "\n",
    "r = re.match(\"app.e\", \"orange banana\")\n",
    "print(r)"
   ]
  },
  {
   "cell_type": "markdown",
   "metadata": {},
   "source": [
    "# [실습 2 : 11 ~ 12p]"
   ]
  },
  {
   "cell_type": "markdown",
   "metadata": {},
   "source": [
    "### 3) compile"
   ]
  },
  {
   "cell_type": "code",
   "execution_count": null,
   "metadata": {},
   "outputs": [],
   "source": [
    "import re\n",
    "c = re.compile(\"ap*le\")"
   ]
  },
  {
   "cell_type": "markdown",
   "metadata": {},
   "source": [
    "### 4) split"
   ]
  },
  {
   "cell_type": "code",
   "execution_count": null,
   "metadata": {},
   "outputs": [],
   "source": [
    "# \\s : 공백문자로 분리하기\n",
    "print(re.split(\"\\s\", \"apple orange banana\"))"
   ]
  },
  {
   "cell_type": "markdown",
   "metadata": {},
   "source": [
    "### 5) sub"
   ]
  },
  {
   "cell_type": "code",
   "execution_count": null,
   "metadata": {},
   "outputs": [],
   "source": [
    "# app.e 매칭되는 문자열을 kiwi로 모두 바꾸기\n",
    "print(re.sub(\"app.e\", \"kiwi\", \"orange apple banana apple\"))\n",
    "\n",
    "# app.e 매칭되는 문자열을 kiwi로 1개만 바꾸기\n",
    "print(re.sub(\"app.e\", \"kiwi\", \"orange apple banana apple\", 1))"
   ]
  },
  {
   "cell_type": "markdown",
   "metadata": {},
   "source": [
    "# [실습3 : 13 ~ 15p]\n",
    "\n",
    "## 2. 정규 표현식 객체"
   ]
  },
  {
   "cell_type": "markdown",
   "metadata": {},
   "source": [
    "* search"
   ]
  },
  {
   "cell_type": "code",
   "execution_count": null,
   "metadata": {},
   "outputs": [],
   "source": [
    "c = re.compile(\"app.e\")\n",
    "\n",
    "# 매칭되는 경우\n",
    "print(c.search(\"orange apple banana\"))\n",
    "\n",
    "# 매칭되지 않는 경우\n",
    "print(c.search(\"orange banana\"))"
   ]
  },
  {
   "cell_type": "markdown",
   "metadata": {},
   "source": [
    "* match"
   ]
  },
  {
   "cell_type": "code",
   "execution_count": null,
   "metadata": {},
   "outputs": [],
   "source": [
    "# 매칭되는 경우\n",
    "print(c.match(\"apple orange banana\"))\n",
    "\n",
    "# 매칭되지 않는 경우\n",
    "print(c.match(\"orange apple banana\"))"
   ]
  },
  {
   "cell_type": "markdown",
   "metadata": {},
   "source": [
    "* findall"
   ]
  },
  {
   "cell_type": "code",
   "execution_count": null,
   "metadata": {},
   "outputs": [],
   "source": [
    "p = re.compile(\"[a-z]+\")\n",
    "print(p.findall(\"python is very powerful\"))"
   ]
  },
  {
   "cell_type": "markdown",
   "metadata": {},
   "source": [
    " * finditer"
   ]
  },
  {
   "cell_type": "code",
   "execution_count": null,
   "metadata": {},
   "outputs": [],
   "source": [
    "c = re.compile(\"[a-z]+\")\n",
    "rs = c.finditer(\"python is very powerful\")\n",
    "print(rs)\n",
    "\n",
    "for r in rs:\n",
    "    print(r)"
   ]
  },
  {
   "cell_type": "markdown",
   "metadata": {},
   "source": [
    "# [실습4 : 16 ~ 17p]"
   ]
  },
  {
   "cell_type": "markdown",
   "metadata": {},
   "source": [
    "## 3. match 객체의 메서드"
   ]
  },
  {
   "cell_type": "markdown",
   "metadata": {},
   "source": [
    "* group(index) : 매치된 문자열 반환, index위치에 해당하는 문자열 반환"
   ]
  },
  {
   "cell_type": "code",
   "execution_count": null,
   "metadata": {},
   "outputs": [],
   "source": [
    "a = \"phone number : 010-1111-2222\"\n",
    "c = re.compile(\"(\\d{3})-(\\d{4})-(\\d{4})\")\n",
    "r = c.search(a)\n",
    "print(r.group())\n",
    "print(r.group(0))\n",
    "print(r.group(1))\n",
    "print(r.group(2))"
   ]
  },
  {
   "cell_type": "markdown",
   "metadata": {},
   "source": [
    "* groups() : 그룹핑한 데이터 튜플로 반환"
   ]
  },
  {
   "cell_type": "code",
   "execution_count": null,
   "metadata": {},
   "outputs": [],
   "source": [
    "print(r.groups())"
   ]
  },
  {
   "cell_type": "markdown",
   "metadata": {},
   "source": [
    "* start() : 매치된 문자열의 시작 위치 반환"
   ]
  },
  {
   "cell_type": "code",
   "execution_count": null,
   "metadata": {},
   "outputs": [],
   "source": [
    "print(r.start())"
   ]
  },
  {
   "cell_type": "markdown",
   "metadata": {},
   "source": [
    "* end() : 매치된 문자열의 끝 위치 반환"
   ]
  },
  {
   "cell_type": "code",
   "execution_count": null,
   "metadata": {},
   "outputs": [],
   "source": [
    "print(r.end())"
   ]
  },
  {
   "cell_type": "markdown",
   "metadata": {},
   "source": [
    "## 4. compile 옵션"
   ]
  },
  {
   "cell_type": "markdown",
   "metadata": {},
   "source": [
    "* S (DOTALL) : Dot 문자(.) 매치 시 줄바꿈문자 포함"
   ]
  },
  {
   "cell_type": "code",
   "execution_count": null,
   "metadata": {},
   "outputs": [],
   "source": [
    "a = \"apple\\norange\\nbanana\"\n",
    "c = re.compile(\"apple\\nora\", re.S)\n",
    "r = c.search(a)\n",
    "print(r)"
   ]
  },
  {
   "cell_type": "markdown",
   "metadata": {},
   "source": [
    "* I (IGNORECASE) : 대소문자 상관없이 매치"
   ]
  },
  {
   "cell_type": "code",
   "execution_count": null,
   "metadata": {},
   "outputs": [],
   "source": [
    "a = \"Apple apple Orange orange Banana banana\"\n",
    "c = re.compile(\"apple\", re.I)\n",
    "r = c.findall(a)\n",
    "print(r)"
   ]
  },
  {
   "cell_type": "markdown",
   "metadata": {},
   "source": [
    "* M (MULTILINE) : 여러 줄과 매치"
   ]
  },
  {
   "cell_type": "code",
   "execution_count": null,
   "metadata": {},
   "outputs": [],
   "source": [
    "a = \"\"\"python is powerful\n",
    "hello python\n",
    "apple orange banana\n",
    "python simple too\n",
    "\"\"\"\n",
    "\n",
    "# 각 라인 매칭함\n",
    "p = re.compile(\"^python\\s\\w+\", re.M)\n",
    "r = p.findall(a)\n",
    "print(r)\n",
    "\n",
    "# 첫 라인만 매칭함\n",
    "p = re.compile(\"^python\\s\\w+\")\n",
    "r = p.findall(a)\n",
    "print(r)"
   ]
  },
  {
   "cell_type": "markdown",
   "metadata": {},
   "source": [
    "* X (VERBOSE) : 정규식을 보기 좋게 만들고 주석 포함 가능"
   ]
  },
  {
   "cell_type": "code",
   "execution_count": null,
   "metadata": {},
   "outputs": [],
   "source": [
    "# c = re.compile(\"[0-9]+.[0-9]+.[0-9]+\")\n",
    "\n",
    "a = \"phone number : 010-1234-4344, tel number : 02.333.4444\"\n",
    "c = re.compile(r\"\"\"\n",
    "[0-9]+           # 숫자 \\n\n",
    ".\n",
    "[0-9]+           # 숫자 \n",
    ".\n",
    "[0-9]+           # 숫자\n",
    "\"\"\", re.X)\n",
    "\n",
    "r = c.findall(a)\n",
    "print(r)\n",
    "\n",
    "# r : Raw String (순수하게 입력된 내용 출력)\n",
    "print(\"c:\\test\")\n",
    "print(r\"c:\\test\")\n",
    "print(r\"c:\\test is test directory \\n c:\\windows\")"
   ]
  }
 ],
 "metadata": {
  "kernelspec": {
   "display_name": "Python 3 (ipykernel)",
   "language": "python",
   "name": "python3"
  },
  "language_info": {
   "codemirror_mode": {
    "name": "ipython",
    "version": 3
   },
   "file_extension": ".py",
   "mimetype": "text/x-python",
   "name": "python",
   "nbconvert_exporter": "python",
   "pygments_lexer": "ipython3",
   "version": "3.9.10"
  }
 },
 "nbformat": 4,
 "nbformat_minor": 2
}
